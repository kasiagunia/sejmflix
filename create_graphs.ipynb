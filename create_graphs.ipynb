{
 "cells": [
  {
   "cell_type": "code",
   "execution_count": 1,
   "id": "7cc9095b",
   "metadata": {},
   "outputs": [],
   "source": [
    "import pandas as pd\n",
    "import numpy as np\n",
    "import preprocessing as pre\n",
    "import time"
   ]
  },
  {
   "cell_type": "markdown",
   "id": "20be6071",
   "metadata": {},
   "source": [
    "## 3 tenure: 1997 - 2001"
   ]
  },
  {
   "cell_type": "code",
   "execution_count": 2,
   "id": "3788e67d",
   "metadata": {},
   "outputs": [],
   "source": [
    "k = 3\n",
    "xml_file_path = '.\\Sejm-20240316T162344Z-001\\Sejm\\GLO3k1p119p_i\\GLO3k1p119p_i.xml'\n",
    "csv_file = 'GLO3k1p119p_i.csv'"
   ]
  },
  {
   "cell_type": "code",
   "execution_count": 3,
   "id": "6928d5bf",
   "metadata": {},
   "outputs": [],
   "source": [
    "t1 = time.time()\n",
    "df_all = pre.save_xml_as_csv(xml_file_path, csv_file)\n",
    "t2 = time.time()"
   ]
  },
  {
   "cell_type": "code",
   "execution_count": 4,
   "id": "79068249",
   "metadata": {},
   "outputs": [
    {
     "name": "stdout",
     "output_type": "stream",
     "text": [
      "1.67 min\n"
     ]
    }
   ],
   "source": [
    "print(f'{(t2 - t1)/60:.2f} min')"
   ]
  },
  {
   "cell_type": "code",
   "execution_count": 5,
   "id": "ef589aba",
   "metadata": {},
   "outputs": [
    {
     "data": {
      "text/html": [
       "<div>\n",
       "<style scoped>\n",
       "    .dataframe tbody tr th:only-of-type {\n",
       "        vertical-align: middle;\n",
       "    }\n",
       "\n",
       "    .dataframe tbody tr th {\n",
       "        vertical-align: top;\n",
       "    }\n",
       "\n",
       "    .dataframe thead th {\n",
       "        text-align: right;\n",
       "    }\n",
       "</style>\n",
       "<table border=\"1\" class=\"dataframe\">\n",
       "  <thead>\n",
       "    <tr style=\"text-align: right;\">\n",
       "      <th></th>\n",
       "      <th>vote_id</th>\n",
       "      <th>data_godzina</th>\n",
       "      <th>Nrleg</th>\n",
       "      <th>NazwiskoImie</th>\n",
       "      <th>Glos</th>\n",
       "      <th>Klub</th>\n",
       "    </tr>\n",
       "  </thead>\n",
       "  <tbody>\n",
       "    <tr>\n",
       "      <th>0</th>\n",
       "      <td>3001001</td>\n",
       "      <td>1997-10-20 12:51:54</td>\n",
       "      <td>1</td>\n",
       "      <td>Adamczyk Franciszek</td>\n",
       "      <td>Za</td>\n",
       "      <td>AWS</td>\n",
       "    </tr>\n",
       "    <tr>\n",
       "      <th>1</th>\n",
       "      <td>3001001</td>\n",
       "      <td>1997-10-20 12:51:54</td>\n",
       "      <td>2</td>\n",
       "      <td>Adamska-Wedler Elżbieta</td>\n",
       "      <td>Za</td>\n",
       "      <td>AWS</td>\n",
       "    </tr>\n",
       "    <tr>\n",
       "      <th>2</th>\n",
       "      <td>3001001</td>\n",
       "      <td>1997-10-20 12:51:54</td>\n",
       "      <td>3</td>\n",
       "      <td>Adamski Władysław</td>\n",
       "      <td>Za</td>\n",
       "      <td>SLD</td>\n",
       "    </tr>\n",
       "    <tr>\n",
       "      <th>3</th>\n",
       "      <td>3001001</td>\n",
       "      <td>1997-10-20 12:51:54</td>\n",
       "      <td>4</td>\n",
       "      <td>Ajchler Romuald</td>\n",
       "      <td>Za</td>\n",
       "      <td>SLD</td>\n",
       "    </tr>\n",
       "    <tr>\n",
       "      <th>4</th>\n",
       "      <td>3001001</td>\n",
       "      <td>1997-10-20 12:51:54</td>\n",
       "      <td>5</td>\n",
       "      <td>Anusz Andrzej</td>\n",
       "      <td>Za</td>\n",
       "      <td>AWS</td>\n",
       "    </tr>\n",
       "  </tbody>\n",
       "</table>\n",
       "</div>"
      ],
      "text/plain": [
       "   vote_id        data_godzina  Nrleg             NazwiskoImie Glos Klub\n",
       "0  3001001 1997-10-20 12:51:54      1      Adamczyk Franciszek   Za  AWS\n",
       "1  3001001 1997-10-20 12:51:54      2  Adamska-Wedler Elżbieta   Za  AWS\n",
       "2  3001001 1997-10-20 12:51:54      3        Adamski Władysław   Za  SLD\n",
       "3  3001001 1997-10-20 12:51:54      4          Ajchler Romuald   Za  SLD\n",
       "4  3001001 1997-10-20 12:51:54      5            Anusz Andrzej   Za  AWS"
      ]
     },
     "execution_count": 5,
     "metadata": {},
     "output_type": "execute_result"
    }
   ],
   "source": [
    "df_all.head()"
   ]
  },
  {
   "cell_type": "code",
   "execution_count": 6,
   "id": "b8972f83",
   "metadata": {},
   "outputs": [],
   "source": [
    "assert np.all(df_all.dtypes.values == [np.dtype('int32'), np.dtype('<M8[ns]'), np.dtype('int32'), np.dtype('O'), np.dtype('O'), np.dtype('O')])\n",
    "assert df_all.isnull().sum().sum() == 0\n",
    "assert df_all[df_all.duplicated()].size == 0"
   ]
  },
  {
   "cell_type": "code",
   "execution_count": 7,
   "id": "92387ebe",
   "metadata": {},
   "outputs": [
    {
     "data": {
      "text/plain": [
       "(Timestamp('1997-10-20 12:51:54'), Timestamp('2001-09-18 16:26:05'))"
      ]
     },
     "execution_count": 7,
     "metadata": {},
     "output_type": "execute_result"
    }
   ],
   "source": [
    "df_all['data_godzina'].min(), df_all['data_godzina'].max()"
   ]
  },
  {
   "cell_type": "code",
   "execution_count": 8,
   "id": "d55efdaf",
   "metadata": {},
   "outputs": [],
   "source": [
    "y_m_list = pd.date_range(df_all['data_godzina'].min(), df_all['data_godzina'].max(), \n",
    "              freq='M').strftime(\"%Y-%m\").tolist()\n",
    "\n",
    "y_m_list.append(df_all['data_godzina'].max().strftime(\"%Y-%m\"))"
   ]
  },
  {
   "cell_type": "code",
   "execution_count": 9,
   "id": "67bd2701",
   "metadata": {},
   "outputs": [
    {
     "data": {
      "text/plain": [
       "('1997-10', '2001-09')"
      ]
     },
     "execution_count": 9,
     "metadata": {},
     "output_type": "execute_result"
    }
   ],
   "source": [
    "y_m_list[0], y_m_list[-1]"
   ]
  },
  {
   "cell_type": "code",
   "execution_count": 10,
   "id": "f58cacd4",
   "metadata": {},
   "outputs": [],
   "source": [
    "y_m_list = [x.split('-') for x in y_m_list]"
   ]
  },
  {
   "cell_type": "code",
   "execution_count": 11,
   "id": "df89b0d4",
   "metadata": {},
   "outputs": [],
   "source": [
    "t1 = time.time()\n",
    "df_deputies = pre.assign_node_ids(df_all)\n",
    "t2 = time.time()"
   ]
  },
  {
   "cell_type": "code",
   "execution_count": 12,
   "id": "a9d74b21",
   "metadata": {},
   "outputs": [
    {
     "name": "stdout",
     "output_type": "stream",
     "text": [
      "1.07 min\n"
     ]
    }
   ],
   "source": [
    "print(f'{(t2 - t1)/60:.2f} min')"
   ]
  },
  {
   "cell_type": "markdown",
   "id": "6ffbfede",
   "metadata": {},
   "source": [
    "### Monthly grahps"
   ]
  },
  {
   "cell_type": "code",
   "execution_count": 13,
   "id": "bd50d2ba",
   "metadata": {},
   "outputs": [
    {
     "name": "stderr",
     "output_type": "stream",
     "text": [
      "100%|██████████████████████████████████████████████████████████████████████████████████| 33/33 [00:01<00:00, 17.08it/s]\n",
      "100%|██████████████████████████████████████████████████████████████████████████████████| 33/33 [00:02<00:00, 15.68it/s]\n",
      "100%|██████████████████████████████████████████████████████████████████████████████████| 87/87 [00:05<00:00, 16.16it/s]\n",
      "100%|██████████████████████████████████████████████████████████████████████████████████| 72/72 [00:04<00:00, 16.14it/s]\n",
      "100%|██████████████████████████████████████████████████████████████████████████████████| 42/42 [00:02<00:00, 17.43it/s]\n",
      "100%|██████████████████████████████████████████████████████████████████████████████████| 31/31 [00:01<00:00, 16.59it/s]\n",
      "100%|██████████████████████████████████████████████████████████████████████████████████| 34/34 [00:01<00:00, 17.54it/s]\n",
      "100%|████████████████████████████████████████████████████████████████████████████████| 169/169 [00:13<00:00, 12.50it/s]\n",
      "100%|████████████████████████████████████████████████████████████████████████████████| 245/245 [00:22<00:00, 11.04it/s]\n",
      "100%|████████████████████████████████████████████████████████████████████████████████| 493/493 [00:59<00:00,  8.34it/s]\n",
      "100%|██████████████████████████████████████████████████████████████████████████████████| 29/29 [00:01<00:00, 20.83it/s]\n",
      "100%|████████████████████████████████████████████████████████████████████████████████| 198/198 [00:15<00:00, 12.96it/s]\n",
      "100%|██████████████████████████████████████████████████████████████████████████████████| 55/55 [00:02<00:00, 19.77it/s]\n",
      "100%|████████████████████████████████████████████████████████████████████████████████| 468/468 [00:51<00:00,  9.10it/s]\n",
      "100%|████████████████████████████████████████████████████████████████████████████████| 292/292 [00:27<00:00, 10.72it/s]\n",
      "100%|████████████████████████████████████████████████████████████████████████████████| 241/241 [00:21<00:00, 11.14it/s]\n",
      "100%|██████████████████████████████████████████████████████████████████████████████████| 66/66 [00:04<00:00, 14.32it/s]\n",
      "100%|████████████████████████████████████████████████████████████████████████████████| 143/143 [00:10<00:00, 13.17it/s]\n",
      "100%|████████████████████████████████████████████████████████████████████████████████| 143/143 [00:12<00:00, 11.13it/s]\n",
      "100%|████████████████████████████████████████████████████████████████████████████████| 170/170 [00:19<00:00,  8.87it/s]\n",
      "100%|██████████████████████████████████████████████████████████████████████████████████| 99/99 [00:07<00:00, 14.06it/s]\n",
      "100%|████████████████████████████████████████████████████████████████████████████████| 159/159 [00:12<00:00, 13.08it/s]\n"
     ]
    },
    {
     "name": "stdout",
     "output_type": "stream",
     "text": [
      "1999 08 no votings\n"
     ]
    },
    {
     "name": "stderr",
     "output_type": "stream",
     "text": [
      "100%|████████████████████████████████████████████████████████████████████████████████| 156/156 [00:12<00:00, 12.76it/s]\n",
      "100%|██████████████████████████████████████████████████████████████████████████████████| 99/99 [00:06<00:00, 14.91it/s]\n",
      "100%|████████████████████████████████████████████████████████████████████████████████| 192/192 [00:14<00:00, 13.40it/s]\n",
      "100%|████████████████████████████████████████████████████████████████████████████████| 279/279 [00:26<00:00, 10.66it/s]\n",
      "100%|████████████████████████████████████████████████████████████████████████████████| 270/270 [00:25<00:00, 10.39it/s]\n",
      "100%|████████████████████████████████████████████████████████████████████████████████| 120/120 [00:09<00:00, 12.57it/s]\n",
      "100%|████████████████████████████████████████████████████████████████████████████████| 289/289 [00:29<00:00,  9.93it/s]\n",
      "100%|████████████████████████████████████████████████████████████████████████████████| 154/154 [00:13<00:00, 11.72it/s]\n",
      "100%|████████████████████████████████████████████████████████████████████████████████| 167/167 [00:14<00:00, 11.53it/s]\n",
      "100%|████████████████████████████████████████████████████████████████████████████████| 230/230 [00:21<00:00, 10.47it/s]\n",
      "100%|████████████████████████████████████████████████████████████████████████████████| 301/301 [00:29<00:00, 10.06it/s]\n"
     ]
    },
    {
     "name": "stdout",
     "output_type": "stream",
     "text": [
      "2000 08 no votings\n"
     ]
    },
    {
     "name": "stderr",
     "output_type": "stream",
     "text": [
      "100%|████████████████████████████████████████████████████████████████████████████████| 341/341 [00:33<00:00, 10.06it/s]\n",
      "100%|████████████████████████████████████████████████████████████████████████████████| 319/319 [00:30<00:00, 10.58it/s]\n",
      "100%|████████████████████████████████████████████████████████████████████████████████| 304/304 [00:29<00:00, 10.16it/s]\n",
      "100%|████████████████████████████████████████████████████████████████████████████████| 480/480 [00:58<00:00,  8.23it/s]\n",
      "100%|████████████████████████████████████████████████████████████████████████████████| 126/126 [00:09<00:00, 12.64it/s]\n",
      "100%|████████████████████████████████████████████████████████████████████████████████| 391/391 [00:45<00:00,  8.68it/s]\n",
      "100%|████████████████████████████████████████████████████████████████████████████████| 639/639 [01:32<00:00,  6.94it/s]\n",
      "100%|████████████████████████████████████████████████████████████████████████████████| 613/613 [01:26<00:00,  7.06it/s]\n",
      "100%|████████████████████████████████████████████████████████████████████████████████| 315/315 [00:29<00:00, 10.72it/s]\n",
      "100%|████████████████████████████████████████████████████████████████████████████████| 731/731 [01:50<00:00,  6.64it/s]\n",
      "100%|██████████████████████████████████████████████████████████████████████████████| 1171/1171 [03:51<00:00,  5.06it/s]\n",
      "100%|████████████████████████████████████████████████████████████████████████████████| 564/564 [01:07<00:00,  8.38it/s]\n",
      "100%|████████████████████████████████████████████████████████████████████████████████| 248/248 [00:19<00:00, 12.47it/s]\n"
     ]
    }
   ],
   "source": [
    "for year, month in y_m_list:\n",
    "    df_m = df_all[(df_all['data_godzina'].dt.month == int(month)) & (df_all['data_godzina'].dt.year == int(year))]\n",
    "    \n",
    "    if len(df_m) == 0:\n",
    "        print(year, month, 'no votings')\n",
    "        continue\n",
    "    \n",
    "    df_m = pd.merge(df_m[['vote_id', 'data_godzina', 'Nrleg', 'NazwiskoImie', 'Glos', 'Klub']], df_deputies[['Nrleg', 'NazwiskoImie', 'node_id']], on=['Nrleg', 'NazwiskoImie'], how='left')\n",
    "    df_node_atr = pre.assign_attributes(df_m)\n",
    "    \n",
    "    edge_matrix = pre.egde_weights(df_m)\n",
    "    \n",
    "    pre.create_graph(edge_matrix, df_node_atr, file_name=f\"graphs/G_{k}_{year}_{month}\")"
   ]
  },
  {
   "cell_type": "code",
   "execution_count": 14,
   "id": "5385e93d",
   "metadata": {},
   "outputs": [],
   "source": [
    "t3 = time.time()"
   ]
  },
  {
   "cell_type": "code",
   "execution_count": 15,
   "id": "e0c4f5b6",
   "metadata": {},
   "outputs": [
    {
     "name": "stdout",
     "output_type": "stream",
     "text": [
      "23.53 min\n"
     ]
    }
   ],
   "source": [
    "print(f'{(t3 - t2)/60:.2f} min')"
   ]
  },
  {
   "cell_type": "markdown",
   "id": "7cbf19f0",
   "metadata": {},
   "source": [
    "### 4 years graph - whole tenure"
   ]
  },
  {
   "cell_type": "code",
   "execution_count": null,
   "id": "ce6ea3a6",
   "metadata": {},
   "outputs": [
    {
     "name": "stderr",
     "output_type": "stream",
     "text": [
      " 25%|██████████████████▍                                                      | 2988/11801 [1:15:05<3:41:30,  1.51s/it]"
     ]
    }
   ],
   "source": [
    "df_all = pd.merge(df_all, df_deputies[['Nrleg', 'NazwiskoImie', 'node_id']], on=['Nrleg', 'NazwiskoImie'], how='left')\n",
    "df_node_atr = pre.assign_attributes(df_all)\n",
    "\n",
    "edge_matrix = pre.egde_weights(df_all)\n",
    "\n",
    "pre.create_graph(edge_matrix, df_node_atr, file_name=f\"graphs/G_{k}\")\n",
    "t4 = time.time()"
   ]
  },
  {
   "cell_type": "code",
   "execution_count": null,
   "id": "abab24b3",
   "metadata": {},
   "outputs": [],
   "source": [
    "print(f'{(t4 - t3)/60:.2f} min')"
   ]
  },
  {
   "cell_type": "code",
   "execution_count": null,
   "id": "4509627d",
   "metadata": {},
   "outputs": [],
   "source": [
    "# G = pickle.load(open('filename.pickle', 'rb'))"
   ]
  }
 ],
 "metadata": {
  "kernelspec": {
   "display_name": "Python 3",
   "language": "python",
   "name": "python3"
  },
  "language_info": {
   "codemirror_mode": {
    "name": "ipython",
    "version": 3
   },
   "file_extension": ".py",
   "mimetype": "text/x-python",
   "name": "python",
   "nbconvert_exporter": "python",
   "pygments_lexer": "ipython3",
   "version": "3.9.5"
  }
 },
 "nbformat": 4,
 "nbformat_minor": 5
}
