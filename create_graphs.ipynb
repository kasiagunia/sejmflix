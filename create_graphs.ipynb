{
 "cells": [
  {
   "cell_type": "code",
   "execution_count": 1,
   "id": "7cc9095b",
   "metadata": {},
   "outputs": [
    {
     "name": "stderr",
     "output_type": "stream",
     "text": [
      "c:\\users\\kasia\\appdata\\local\\programs\\python\\python39\\lib\\site-packages\\scipy\\__init__.py:177: UserWarning: A NumPy version >=1.18.5 and <1.26.0 is required for this version of SciPy (detected version 1.26.4\n",
      "  warnings.warn(f\"A NumPy version >={np_minversion} and <{np_maxversion}\"\n"
     ]
    }
   ],
   "source": [
    "import pandas as pd\n",
    "import numpy as np\n",
    "import preprocessing as pre\n",
    "import time\n",
    "import matplotlib.pyplot as plt\n",
    "import seaborn as sns\n",
    "import networkx as nx"
   ]
  },
  {
   "cell_type": "markdown",
   "id": "20be6071",
   "metadata": {},
   "source": [
    "## 3rd term: 1997 - 2001"
   ]
  },
  {
   "cell_type": "code",
   "execution_count": 32,
   "id": "3788e67d",
   "metadata": {},
   "outputs": [],
   "source": [
    "k = 3\n",
    "xml_file_path = '.\\Sejm-20240316T162344Z-001\\Sejm\\GLO3k1p119p_i\\GLO3k1p119p_i.xml'\n",
    "csv_file = 'data\\GLO3k1p119p_i.csv'"
   ]
  },
  {
   "cell_type": "code",
   "execution_count": 33,
   "id": "6928d5bf",
   "metadata": {},
   "outputs": [],
   "source": [
    "t1 = time.time()\n",
    "df_all = pre.save_xml_as_csv(xml_file_path, csv_file)\n",
    "t2 = time.time()"
   ]
  },
  {
   "cell_type": "code",
   "execution_count": 34,
   "id": "29f57b8f",
   "metadata": {},
   "outputs": [
    {
     "name": "stdout",
     "output_type": "stream",
     "text": [
      "1.84 min\n"
     ]
    }
   ],
   "source": [
    "print(f'{(t2 - t1)/60:.2f} min')"
   ]
  },
  {
   "cell_type": "code",
   "execution_count": 35,
   "id": "ef589aba",
   "metadata": {},
   "outputs": [
    {
     "data": {
      "text/html": [
       "<div>\n",
       "<style scoped>\n",
       "    .dataframe tbody tr th:only-of-type {\n",
       "        vertical-align: middle;\n",
       "    }\n",
       "\n",
       "    .dataframe tbody tr th {\n",
       "        vertical-align: top;\n",
       "    }\n",
       "\n",
       "    .dataframe thead th {\n",
       "        text-align: right;\n",
       "    }\n",
       "</style>\n",
       "<table border=\"1\" class=\"dataframe\">\n",
       "  <thead>\n",
       "    <tr style=\"text-align: right;\">\n",
       "      <th></th>\n",
       "      <th>vote_id</th>\n",
       "      <th>data_godzina</th>\n",
       "      <th>Nrleg</th>\n",
       "      <th>NazwiskoImie</th>\n",
       "      <th>Glos</th>\n",
       "      <th>Klub</th>\n",
       "    </tr>\n",
       "  </thead>\n",
       "  <tbody>\n",
       "    <tr>\n",
       "      <th>0</th>\n",
       "      <td>3001001</td>\n",
       "      <td>1997-10-20 12:51:54</td>\n",
       "      <td>1</td>\n",
       "      <td>Adamczyk Franciszek</td>\n",
       "      <td>Za</td>\n",
       "      <td>AWS</td>\n",
       "    </tr>\n",
       "    <tr>\n",
       "      <th>1</th>\n",
       "      <td>3001001</td>\n",
       "      <td>1997-10-20 12:51:54</td>\n",
       "      <td>2</td>\n",
       "      <td>Adamska-Wedler Elżbieta</td>\n",
       "      <td>Za</td>\n",
       "      <td>AWS</td>\n",
       "    </tr>\n",
       "    <tr>\n",
       "      <th>2</th>\n",
       "      <td>3001001</td>\n",
       "      <td>1997-10-20 12:51:54</td>\n",
       "      <td>3</td>\n",
       "      <td>Adamski Władysław</td>\n",
       "      <td>Za</td>\n",
       "      <td>SLD</td>\n",
       "    </tr>\n",
       "    <tr>\n",
       "      <th>3</th>\n",
       "      <td>3001001</td>\n",
       "      <td>1997-10-20 12:51:54</td>\n",
       "      <td>4</td>\n",
       "      <td>Ajchler Romuald</td>\n",
       "      <td>Za</td>\n",
       "      <td>SLD</td>\n",
       "    </tr>\n",
       "    <tr>\n",
       "      <th>4</th>\n",
       "      <td>3001001</td>\n",
       "      <td>1997-10-20 12:51:54</td>\n",
       "      <td>5</td>\n",
       "      <td>Anusz Andrzej</td>\n",
       "      <td>Za</td>\n",
       "      <td>AWS</td>\n",
       "    </tr>\n",
       "  </tbody>\n",
       "</table>\n",
       "</div>"
      ],
      "text/plain": [
       "   vote_id        data_godzina  Nrleg             NazwiskoImie Glos Klub\n",
       "0  3001001 1997-10-20 12:51:54      1      Adamczyk Franciszek   Za  AWS\n",
       "1  3001001 1997-10-20 12:51:54      2  Adamska-Wedler Elżbieta   Za  AWS\n",
       "2  3001001 1997-10-20 12:51:54      3        Adamski Władysław   Za  SLD\n",
       "3  3001001 1997-10-20 12:51:54      4          Ajchler Romuald   Za  SLD\n",
       "4  3001001 1997-10-20 12:51:54      5            Anusz Andrzej   Za  AWS"
      ]
     },
     "execution_count": 35,
     "metadata": {},
     "output_type": "execute_result"
    }
   ],
   "source": [
    "df_all.head()"
   ]
  },
  {
   "cell_type": "code",
   "execution_count": 36,
   "id": "b8972f83",
   "metadata": {},
   "outputs": [],
   "source": [
    "assert np.all(df_all.dtypes.values == [np.dtype('int32'), np.dtype('<M8[ns]'), np.dtype('int32'), np.dtype('O'), np.dtype('O'), np.dtype('O')])\n",
    "assert df_all.isnull().sum().sum() == 0\n",
    "assert df_all[df_all.duplicated()].size == 0"
   ]
  },
  {
   "cell_type": "code",
   "execution_count": 37,
   "id": "95050769",
   "metadata": {},
   "outputs": [
    {
     "data": {
      "image/png": "[encoded data removed]",
      "text/plain": [
       "<Figure size 576x288 with 1 Axes>"
      ]
     },
     "metadata": {
      "needs_background": "light"
     },
     "output_type": "display_data"
    }
   ],
   "source": [
    "plt.figure(figsize=(8, 4))\n",
    "sns.histplot(data=df_all, x='Glos', discrete=True)\n",
    "plt.xticks(rotation=45)\n",
    "plt.show()"
   ]
  },
  {
   "cell_type": "code",
   "execution_count": 38,
   "id": "92387ebe",
   "metadata": {},
   "outputs": [
    {
     "data": {
      "text/plain": [
       "(Timestamp('1997-10-20 12:51:54'), Timestamp('2001-09-18 16:26:05'))"
      ]
     },
     "execution_count": 38,
     "metadata": {},
     "output_type": "execute_result"
    }
   ],
   "source": [
    "df_all['data_godzina'].min(), df_all['data_godzina'].max()"
   ]
  },
  {
   "cell_type": "code",
   "execution_count": 39,
   "id": "d55efdaf",
   "metadata": {},
   "outputs": [],
   "source": [
    "y_m_list = pd.date_range(df_all['data_godzina'].min(), df_all['data_godzina'].max(), \n",
    "              freq='M').strftime(\"%Y-%m\").tolist()\n",
    "\n",
    "y_m_list.append(df_all['data_godzina'].max().strftime(\"%Y-%m\"))"
   ]
  },
  {
   "cell_type": "code",
   "execution_count": 40,
   "id": "67bd2701",
   "metadata": {},
   "outputs": [
    {
     "data": {
      "text/plain": [
       "('1997-10', '2001-09')"
      ]
     },
     "execution_count": 40,
     "metadata": {},
     "output_type": "execute_result"
    }
   ],
   "source": [
    "y_m_list[0], y_m_list[-1]"
   ]
  },
  {
   "cell_type": "code",
   "execution_count": 41,
   "id": "f58cacd4",
   "metadata": {},
   "outputs": [],
   "source": [
    "y_m_list = [x.split('-') for x in y_m_list]"
   ]
  },
  {
   "cell_type": "code",
   "execution_count": 42,
   "id": "df89b0d4",
   "metadata": {},
   "outputs": [],
   "source": [
    "t1 = time.time()\n",
    "df_deputies = pre.assign_node_ids(df_all)\n",
    "t2 = time.time()"
   ]
  },
  {
   "cell_type": "code",
   "execution_count": 43,
   "id": "9254f7fa",
   "metadata": {},
   "outputs": [
    {
     "name": "stdout",
     "output_type": "stream",
     "text": [
      "0.93 min\n"
     ]
    }
   ],
   "source": [
    "print(f'{(t2 - t1)/60:.2f} min')"
   ]
  },
  {
   "cell_type": "markdown",
   "id": "6d8aa95f",
   "metadata": {},
   "source": [
    "### Monthly grahps"
   ]
  },
  {
   "cell_type": "code",
   "execution_count": 14,
   "id": "bd50d2ba",
   "metadata": {
    "scrolled": true
   },
   "outputs": [
    {
     "name": "stderr",
     "output_type": "stream",
     "text": [
      "100%|██████████████████████████████████████████████████████████████████████████████████| 33/33 [00:01<00:00, 17.25it/s]\n",
      "100%|██████████████████████████████████████████████████████████████████████████████████| 33/33 [00:02<00:00, 16.04it/s]\n",
      "100%|██████████████████████████████████████████████████████████████████████████████████| 87/87 [00:05<00:00, 15.99it/s]\n",
      "100%|██████████████████████████████████████████████████████████████████████████████████| 72/72 [00:04<00:00, 16.74it/s]\n",
      "100%|██████████████████████████████████████████████████████████████████████████████████| 42/42 [00:02<00:00, 17.61it/s]\n",
      "100%|██████████████████████████████████████████████████████████████████████████████████| 31/31 [00:01<00:00, 18.24it/s]\n",
      "100%|██████████████████████████████████████████████████████████████████████████████████| 34/34 [00:01<00:00, 18.84it/s]\n",
      "100%|████████████████████████████████████████████████████████████████████████████████| 169/169 [00:13<00:00, 12.29it/s]\n",
      "100%|████████████████████████████████████████████████████████████████████████████████| 245/245 [00:22<00:00, 10.74it/s]\n",
      "100%|████████████████████████████████████████████████████████████████████████████████| 493/493 [01:01<00:00,  7.98it/s]\n",
      "100%|██████████████████████████████████████████████████████████████████████████████████| 29/29 [00:01<00:00, 20.98it/s]\n"
     ]
    },
    {
     "name": "stdout",
     "output_type": "stream",
     "text": [
      "252 G_3_1998_08\n"
     ]
    },
    {
     "name": "stderr",
     "output_type": "stream",
     "text": [
      "100%|████████████████████████████████████████████████████████████████████████████████| 198/198 [00:15<00:00, 12.67it/s]\n",
      "100%|██████████████████████████████████████████████████████████████████████████████████| 55/55 [00:02<00:00, 19.89it/s]\n",
      "100%|████████████████████████████████████████████████████████████████████████████████| 468/468 [00:53<00:00,  8.80it/s]\n",
      "100%|████████████████████████████████████████████████████████████████████████████████| 292/292 [00:27<00:00, 10.51it/s]\n",
      "100%|████████████████████████████████████████████████████████████████████████████████| 241/241 [00:22<00:00, 10.89it/s]\n",
      "100%|██████████████████████████████████████████████████████████████████████████████████| 66/66 [00:04<00:00, 14.30it/s]\n",
      "100%|████████████████████████████████████████████████████████████████████████████████| 143/143 [00:10<00:00, 13.22it/s]\n",
      "100%|████████████████████████████████████████████████████████████████████████████████| 143/143 [00:10<00:00, 13.35it/s]\n",
      "100%|████████████████████████████████████████████████████████████████████████████████| 170/170 [00:14<00:00, 12.08it/s]\n",
      "100%|██████████████████████████████████████████████████████████████████████████████████| 99/99 [00:07<00:00, 13.91it/s]\n",
      "100%|████████████████████████████████████████████████████████████████████████████████| 159/159 [00:11<00:00, 13.43it/s]\n"
     ]
    },
    {
     "name": "stdout",
     "output_type": "stream",
     "text": [
      "1999 08 no votings\n"
     ]
    },
    {
     "name": "stderr",
     "output_type": "stream",
     "text": [
      "100%|████████████████████████████████████████████████████████████████████████████████| 156/156 [00:12<00:00, 12.53it/s]\n",
      "100%|██████████████████████████████████████████████████████████████████████████████████| 99/99 [00:06<00:00, 14.55it/s]\n",
      "100%|████████████████████████████████████████████████████████████████████████████████| 192/192 [00:14<00:00, 13.01it/s]\n",
      "100%|████████████████████████████████████████████████████████████████████████████████| 279/279 [00:26<00:00, 10.67it/s]\n",
      "100%|████████████████████████████████████████████████████████████████████████████████| 270/270 [00:25<00:00, 10.44it/s]\n",
      "100%|████████████████████████████████████████████████████████████████████████████████| 120/120 [00:09<00:00, 12.42it/s]\n"
     ]
    },
    {
     "name": "stdout",
     "output_type": "stream",
     "text": [
      "441 G_3_2000_02\n"
     ]
    },
    {
     "name": "stderr",
     "output_type": "stream",
     "text": [
      "100%|████████████████████████████████████████████████████████████████████████████████| 289/289 [00:29<00:00,  9.89it/s]\n",
      "100%|████████████████████████████████████████████████████████████████████████████████| 154/154 [00:13<00:00, 11.55it/s]\n",
      "100%|████████████████████████████████████████████████████████████████████████████████| 167/167 [00:14<00:00, 11.58it/s]\n",
      "100%|████████████████████████████████████████████████████████████████████████████████| 230/230 [00:21<00:00, 10.93it/s]\n",
      "100%|████████████████████████████████████████████████████████████████████████████████| 301/301 [00:30<00:00, 10.03it/s]\n"
     ]
    },
    {
     "name": "stdout",
     "output_type": "stream",
     "text": [
      "2000 08 no votings\n"
     ]
    },
    {
     "name": "stderr",
     "output_type": "stream",
     "text": [
      "100%|████████████████████████████████████████████████████████████████████████████████| 341/341 [00:33<00:00, 10.12it/s]\n",
      "100%|████████████████████████████████████████████████████████████████████████████████| 319/319 [00:30<00:00, 10.42it/s]\n",
      "100%|████████████████████████████████████████████████████████████████████████████████| 304/304 [00:30<00:00, 10.05it/s]\n",
      "100%|████████████████████████████████████████████████████████████████████████████████| 480/480 [01:00<00:00,  7.98it/s]\n",
      "100%|████████████████████████████████████████████████████████████████████████████████| 126/126 [00:10<00:00, 12.52it/s]\n",
      "100%|████████████████████████████████████████████████████████████████████████████████| 391/391 [00:45<00:00,  8.52it/s]\n",
      "100%|████████████████████████████████████████████████████████████████████████████████| 639/639 [01:36<00:00,  6.65it/s]\n",
      "100%|████████████████████████████████████████████████████████████████████████████████| 613/613 [01:32<00:00,  6.65it/s]\n",
      "100%|████████████████████████████████████████████████████████████████████████████████| 315/315 [00:30<00:00, 10.50it/s]\n",
      "100%|████████████████████████████████████████████████████████████████████████████████| 731/731 [01:48<00:00,  6.74it/s]\n",
      "100%|██████████████████████████████████████████████████████████████████████████████| 1171/1171 [04:10<00:00,  4.68it/s]\n",
      "100%|████████████████████████████████████████████████████████████████████████████████| 564/564 [01:10<00:00,  8.00it/s]\n",
      "100%|████████████████████████████████████████████████████████████████████████████████| 248/248 [00:20<00:00, 11.94it/s]\n"
     ]
    }
   ],
   "source": [
    "for year, month in y_m_list:\n",
    "    df_m = df_all[(df_all['data_godzina'].dt.month == int(month)) & (df_all['data_godzina'].dt.year == int(year))]\n",
    "    \n",
    "    if len(df_m) == 0:\n",
    "        print(year, month, 'no votings')\n",
    "        continue\n",
    "    \n",
    "    df_m = pd.merge(df_m[['vote_id', 'data_godzina', 'Nrleg', 'NazwiskoImie', 'Glos', 'Klub']], df_deputies[['Nrleg', 'NazwiskoImie', 'node_id']], on=['Nrleg', 'NazwiskoImie'], how='left')\n",
    "    df_node_atr = pre.assign_attributes(df_m)\n",
    "    df_node_atr.to_csv(f'df_node_atr/monthly/G_{k}_{year}_{month}.csv', index=False)\n",
    "    \n",
    "    edge_matrix = pre.egde_weights(df_m)\n",
    "    \n",
    "    G = pre.create_graph(edge_matrix, df_node_atr, file_name=f\"G_{k}_{year}_{month}\", monthly=True)"
   ]
  },
  {
   "cell_type": "code",
   "execution_count": 15,
   "id": "08fcc639",
   "metadata": {},
   "outputs": [],
   "source": [
    "t3 = time.time()"
   ]
  },
  {
   "cell_type": "code",
   "execution_count": 16,
   "id": "ca71a3ee",
   "metadata": {},
   "outputs": [
    {
     "name": "stdout",
     "output_type": "stream",
     "text": [
      "25.53 min\n"
     ]
    }
   ],
   "source": [
    "print(f'{(t3 - t2)/60:.2f} min')"
   ]
  },
  {
   "cell_type": "markdown",
   "id": "4b47021b",
   "metadata": {},
   "source": [
    "### 4 years graph - whole tenure"
   ]
  },
  {
   "cell_type": "code",
   "execution_count": 17,
   "id": "39f0b4e1",
   "metadata": {},
   "outputs": [
    {
     "name": "stderr",
     "output_type": "stream",
     "text": [
      "100%|██████████████████████████████████████████████████████████████████████████| 11801/11801 [5:32:15<00:00,  1.69s/it]\n"
     ]
    }
   ],
   "source": [
    "df_all = pd.merge(df_all, df_deputies[['Nrleg', 'NazwiskoImie', 'node_id']], on=['Nrleg', 'NazwiskoImie'], how='left')\n",
    "df_node_atr = pre.assign_attributes(df_all)\n",
    "df_node_atr.to_csv(f'df_node_atr/G_{k}.csv', index=False)\n",
    "\n",
    "edge_matrix = pre.egde_weights(df_all)\n",
    "\n",
    "pre.create_graph(edge_matrix, df_node_atr, file_name=f\"G_{k}\", monthly=False)\n",
    "t4 = time.time()"
   ]
  },
  {
   "cell_type": "code",
   "execution_count": 18,
   "id": "abab24b3",
   "metadata": {},
   "outputs": [
    {
     "name": "stdout",
     "output_type": "stream",
     "text": [
      "332.41 min\n"
     ]
    }
   ],
   "source": [
    "print(f'{(t4 - t3)/60:.2f} min')"
   ]
  },
  {
   "cell_type": "code",
   "execution_count": 19,
   "id": "44314f83",
   "metadata": {},
   "outputs": [
    {
     "name": "stdout",
     "output_type": "stream",
     "text": [
      "5.54 h\n"
     ]
    }
   ],
   "source": [
    "print(f'{(t4 - t3)/60/60:.2f} h')"
   ]
  },
  {
   "cell_type": "markdown",
   "id": "a127d011",
   "metadata": {},
   "source": [
    "### Yearly graphs"
   ]
  },
  {
   "cell_type": "code",
   "execution_count": 44,
   "id": "65e13e68",
   "metadata": {},
   "outputs": [],
   "source": [
    "start = df_all['data_godzina'].min()\n",
    "end_1 = pd.date_range(start=df_all['data_godzina'].min(), periods=12, freq='M')[-1]\n",
    "end_2 = pd.date_range(start=end_1, periods=13, freq='M')[-1]\n",
    "end_3 = pd.date_range(start=end_2, periods=13, freq='M')[-1]\n",
    "end_4 = df_all['data_godzina'].max()\n",
    "\n",
    "start_end_dates = [start, end_1, end_2, end_3, end_4]"
   ]
  },
  {
   "cell_type": "code",
   "execution_count": 45,
   "id": "dc389e4c",
   "metadata": {},
   "outputs": [
    {
     "data": {
      "text/plain": [
       "[Timestamp('1997-10-20 12:51:54'),\n",
       " Timestamp('1998-09-30 12:51:54', freq='M'),\n",
       " Timestamp('1999-09-30 12:51:54', freq='M'),\n",
       " Timestamp('2000-09-30 12:51:54', freq='M'),\n",
       " Timestamp('2001-09-18 16:26:05')]"
      ]
     },
     "execution_count": 45,
     "metadata": {},
     "output_type": "execute_result"
    }
   ],
   "source": [
    "start_end_dates"
   ]
  },
  {
   "cell_type": "code",
   "execution_count": 46,
   "id": "6ed9c14f",
   "metadata": {},
   "outputs": [
    {
     "name": "stderr",
     "output_type": "stream",
     "text": [
      "100%|██████████████████████████████████████████████████████████████████████████████| 1466/1466 [08:21<00:00,  2.92it/s]\n",
      "100%|██████████████████████████████████████████████████████████████████████████████| 1992/1992 [13:21<00:00,  2.49it/s]\n",
      "100%|██████████████████████████████████████████████████████████████████████████████| 2442/2442 [19:16<00:00,  2.11it/s]\n",
      "100%|████████████████████████████████████████████████████████████████████████████| 5900/5900 [1:34:13<00:00,  1.04it/s]\n"
     ]
    }
   ],
   "source": [
    "for i in range(1, len(start_end_dates)):\n",
    "    start_dt = start_end_dates[i-1]\n",
    "    end_dt = start_end_dates[i]\n",
    "    df_y = df_all[(df_all['data_godzina'] >= start_dt) & (df_all['data_godzina'] < end_dt)]\n",
    "    \n",
    "    df_y = pd.merge(df_y[['vote_id', 'data_godzina', 'Nrleg', 'NazwiskoImie', 'Glos', 'Klub']], df_deputies[['Nrleg', 'NazwiskoImie', 'node_id']], on=['Nrleg', 'NazwiskoImie'], how='left')\n",
    "    df_node_atr = pre.assign_attributes(df_y)\n",
    "    df_node_atr.to_csv(f'df_node_atr/yearly/G_{k}_y{i}.csv', index=False)\n",
    "    \n",
    "    edge_matrix = pre.egde_weights(df_y)\n",
    "    \n",
    "    G = pre.create_graph(edge_matrix, df_node_atr, file_name=f\"yearly/G_{k}_y{i}\", monthly=False)"
   ]
  },
  {
   "cell_type": "code",
   "execution_count": 20,
   "id": "4509627d",
   "metadata": {},
   "outputs": [],
   "source": [
    "# G = pickle.load(open('filename.pickle', 'rb')) # nx\n",
    "# G = nx.read_graphml()\n",
    "# G = Graph.Read_GraphML(\"zachary.graphml\") # igraph"
   ]
  },
  {
   "cell_type": "markdown",
   "id": "518469ac",
   "metadata": {},
   "source": [
    "## 4th term: 2001 - 2005"
   ]
  },
  {
   "cell_type": "code",
   "execution_count": 48,
   "id": "b81ed889",
   "metadata": {},
   "outputs": [
    {
     "data": {
      "text/html": [
       "<div>\n",
       "<style scoped>\n",
       "    .dataframe tbody tr th:only-of-type {\n",
       "        vertical-align: middle;\n",
       "    }\n",
       "\n",
       "    .dataframe tbody tr th {\n",
       "        vertical-align: top;\n",
       "    }\n",
       "\n",
       "    .dataframe thead th {\n",
       "        text-align: right;\n",
       "    }\n",
       "</style>\n",
       "<table border=\"1\" class=\"dataframe\">\n",
       "  <thead>\n",
       "    <tr style=\"text-align: right;\">\n",
       "      <th></th>\n",
       "      <th>vote_id</th>\n",
       "      <th>data_godzina</th>\n",
       "      <th>Nrleg</th>\n",
       "      <th>NazwiskoImie</th>\n",
       "      <th>Glos</th>\n",
       "      <th>Klub</th>\n",
       "    </tr>\n",
       "  </thead>\n",
       "  <tbody>\n",
       "    <tr>\n",
       "      <th>0</th>\n",
       "      <td>4001002</td>\n",
       "      <td>2001-10-19 12:29:00</td>\n",
       "      <td>1</td>\n",
       "      <td>Abgarowicz Łukasz</td>\n",
       "      <td>Za</td>\n",
       "      <td>PO</td>\n",
       "    </tr>\n",
       "    <tr>\n",
       "      <th>1</th>\n",
       "      <td>4001002</td>\n",
       "      <td>2001-10-19 12:29:00</td>\n",
       "      <td>2</td>\n",
       "      <td>Ajchler Romuald</td>\n",
       "      <td>Za</td>\n",
       "      <td>SLD</td>\n",
       "    </tr>\n",
       "    <tr>\n",
       "      <th>2</th>\n",
       "      <td>4001002</td>\n",
       "      <td>2001-10-19 12:29:00</td>\n",
       "      <td>3</td>\n",
       "      <td>Antochowski Jan</td>\n",
       "      <td>Za</td>\n",
       "      <td>SLD</td>\n",
       "    </tr>\n",
       "    <tr>\n",
       "      <th>3</th>\n",
       "      <td>4001002</td>\n",
       "      <td>2001-10-19 12:29:00</td>\n",
       "      <td>4</td>\n",
       "      <td>Arciszewska-Mielewczyk Dorota</td>\n",
       "      <td>Za</td>\n",
       "      <td>PO</td>\n",
       "    </tr>\n",
       "    <tr>\n",
       "      <th>4</th>\n",
       "      <td>4001002</td>\n",
       "      <td>2001-10-19 12:29:00</td>\n",
       "      <td>5</td>\n",
       "      <td>Aszkiełowicz Mieczysław</td>\n",
       "      <td>Za</td>\n",
       "      <td>Samoobrona</td>\n",
       "    </tr>\n",
       "  </tbody>\n",
       "</table>\n",
       "</div>"
      ],
      "text/plain": [
       "   vote_id        data_godzina  Nrleg                   NazwiskoImie Glos  \\\n",
       "0  4001002 2001-10-19 12:29:00      1              Abgarowicz Łukasz   Za   \n",
       "1  4001002 2001-10-19 12:29:00      2                Ajchler Romuald   Za   \n",
       "2  4001002 2001-10-19 12:29:00      3                Antochowski Jan   Za   \n",
       "3  4001002 2001-10-19 12:29:00      4  Arciszewska-Mielewczyk Dorota   Za   \n",
       "4  4001002 2001-10-19 12:29:00      5        Aszkiełowicz Mieczysław   Za   \n",
       "\n",
       "         Klub  \n",
       "0          PO  \n",
       "1         SLD  \n",
       "2         SLD  \n",
       "3          PO  \n",
       "4  Samoobrona  "
      ]
     },
     "metadata": {},
     "output_type": "display_data"
    },
    {
     "data": {
      "image/png": "[encoded data removed]",
      "text/plain": [
       "<Figure size 576x288 with 1 Axes>"
      ]
     },
     "metadata": {
      "needs_background": "light"
     },
     "output_type": "display_data"
    },
    {
     "name": "stdout",
     "output_type": "stream",
     "text": [
      "2001-10-19 12:29:00 2005-08-29 19:35:07\n",
      "2001-10 2005-08\n",
      "Nrleg                        468\n",
      "NazwiskoImie    Zdrojewski Jacek\n",
      "Klub                [SLD, niez.]\n",
      "Name: 467, dtype: object\n"
     ]
    }
   ],
   "source": [
    "k = 4\n",
    "xml_file_path = '.\\Sejm-20240316T162344Z-001\\Sejm\\GLO4k1p109p_i\\GLO4k1p109p_i.xml'\n",
    "csv_file = 'data\\GLO4k1p109p_i.csv'\n",
    "\n",
    "df_all = pre.save_xml_as_csv(xml_file_path, csv_file)\n",
    "\n",
    "display(df_all.head())\n",
    "\n",
    "assert np.all(df_all.dtypes.values == [np.dtype('int32'), np.dtype('<M8[ns]'), np.dtype('int32'), np.dtype('O'), np.dtype('O'), np.dtype('O')])\n",
    "assert df_all.isnull().sum().sum() == 0\n",
    "assert df_all[df_all.duplicated()].size == 0\n",
    "\n",
    "plt.figure(figsize=(8, 4))\n",
    "sns.histplot(data=df_all, x='Glos', discrete=True)\n",
    "plt.xticks(rotation=45)\n",
    "plt.show()\n",
    "\n",
    "print(df_all['data_godzina'].min(), df_all['data_godzina'].max())\n",
    "y_m_list = pd.date_range(df_all['data_godzina'].min(), df_all['data_godzina'].max(), \n",
    "              freq='M').strftime(\"%Y-%m\").tolist()\n",
    "\n",
    "y_m_list.append(df_all['data_godzina'].max().strftime(\"%Y-%m\"))\n",
    "print(y_m_list[0], y_m_list[-1])\n",
    "y_m_list = [x.split('-') for x in y_m_list]\n",
    "\n",
    "# df_deputies = pre.assign_node_ids(df_all)\n",
    "\n",
    "df_deputies = pre.create_deputy_df(df_all)\n",
    "print(df_deputies.loc[467])\n",
    "df_deputies.loc[467] = np.array([468, 'Zdrojewski Jacek', np.array(['SLD', 'niez.', 'UP'], dtype=object)], dtype=object)\n",
    "# party doesn't match, but this is the only posibility (228 (UP) -> 468 ('SLD', 'niez.'))\n",
    "    \n",
    "vote_ids = sorted(df_all['vote_id'].unique())\n",
    "deputy_ids_per_vote = [df_all[df_all['vote_id'] == vote_id]['Nrleg'].unique() for vote_id in vote_ids]\n",
    "\n",
    "removed_ids, new_ids = pre.make_queues(df_deputies, vote_ids, deputy_ids_per_vote)\n",
    "node_id_dict = pre.find_pairs(removed_ids, new_ids)\n",
    "\n",
    "node_id_dict_func = lambda x: node_id_dict[x]\n",
    "node_id_dict_func = np.vectorize(node_id_dict_func)\n",
    "\n",
    "df_deputies['node_id'] = node_id_dict_func(df_deputies['Nrleg'])\n",
    "df_deputies['node_id'] = df_deputies['node_id'] - 1"
   ]
  },
  {
   "cell_type": "code",
   "execution_count": 22,
   "id": "64b6431e",
   "metadata": {
    "scrolled": true
   },
   "outputs": [
    {
     "name": "stderr",
     "output_type": "stream",
     "text": [
      "100%|██████████████████████████████████████████████████████████████████████████████████| 24/24 [00:01<00:00, 16.18it/s]\n",
      "100%|████████████████████████████████████████████████████████████████████████████████| 177/177 [00:17<00:00,  9.86it/s]\n",
      "100%|████████████████████████████████████████████████████████████████████████████████| 280/280 [00:32<00:00,  8.51it/s]\n",
      "100%|████████████████████████████████████████████████████████████████████████████████| 135/135 [00:11<00:00, 11.53it/s]\n",
      "100%|████████████████████████████████████████████████████████████████████████████████| 207/207 [00:21<00:00,  9.60it/s]\n",
      "100%|████████████████████████████████████████████████████████████████████████████████| 192/192 [00:19<00:00,  9.65it/s]\n",
      "100%|██████████████████████████████████████████████████████████████████████████████████| 92/92 [00:06<00:00, 13.94it/s]\n",
      "100%|████████████████████████████████████████████████████████████████████████████████| 327/327 [00:41<00:00,  7.86it/s]\n",
      "100%|████████████████████████████████████████████████████████████████████████████████| 297/297 [00:33<00:00,  8.88it/s]\n",
      "100%|████████████████████████████████████████████████████████████████████████████████| 580/580 [01:36<00:00,  6.01it/s]\n",
      "100%|████████████████████████████████████████████████████████████████████████████████| 153/153 [00:12<00:00, 12.06it/s]\n",
      "100%|████████████████████████████████████████████████████████████████████████████████| 224/224 [00:22<00:00,  9.94it/s]\n",
      "100%|████████████████████████████████████████████████████████████████████████████████| 149/149 [00:13<00:00, 11.40it/s]\n",
      "100%|████████████████████████████████████████████████████████████████████████████████| 389/389 [00:49<00:00,  7.85it/s]\n",
      "100%|████████████████████████████████████████████████████████████████████████████████| 374/374 [00:49<00:00,  7.52it/s]\n",
      "100%|████████████████████████████████████████████████████████████████████████████████| 211/211 [00:22<00:00,  9.48it/s]\n",
      "100%|████████████████████████████████████████████████████████████████████████████████| 547/547 [01:23<00:00,  6.58it/s]\n",
      "100%|████████████████████████████████████████████████████████████████████████████████| 286/286 [00:35<00:00,  8.06it/s]\n",
      "100%|████████████████████████████████████████████████████████████████████████████████| 345/345 [00:43<00:00,  7.85it/s]\n",
      "100%|████████████████████████████████████████████████████████████████████████████████| 681/681 [01:52<00:00,  6.05it/s]\n",
      "100%|████████████████████████████████████████████████████████████████████████████████| 290/290 [00:30<00:00,  9.64it/s]\n",
      "100%|████████████████████████████████████████████████████████████████████████████████| 325/325 [00:34<00:00,  9.52it/s]\n",
      "100%|████████████████████████████████████████████████████████████████████████████████| 129/129 [00:10<00:00, 11.73it/s]\n",
      "100%|██████████████████████████████████████████████████████████████████████████████████| 89/89 [00:06<00:00, 12.91it/s]\n",
      "100%|████████████████████████████████████████████████████████████████████████████████| 468/468 [00:59<00:00,  7.90it/s]\n",
      "100%|████████████████████████████████████████████████████████████████████████████████| 516/516 [01:08<00:00,  7.49it/s]\n",
      "100%|████████████████████████████████████████████████████████████████████████████████| 432/432 [00:51<00:00,  8.36it/s]\n",
      "100%|████████████████████████████████████████████████████████████████████████████████| 302/302 [00:31<00:00,  9.48it/s]\n",
      "100%|████████████████████████████████████████████████████████████████████████████████| 176/176 [00:15<00:00, 11.67it/s]\n",
      "100%|████████████████████████████████████████████████████████████████████████████████| 579/579 [01:19<00:00,  7.31it/s]\n",
      "100%|████████████████████████████████████████████████████████████████████████████████| 687/687 [01:49<00:00,  6.29it/s]\n",
      "100%|████████████████████████████████████████████████████████████████████████████████| 134/134 [00:12<00:00, 10.63it/s]\n",
      "100%|████████████████████████████████████████████████████████████████████████████████| 143/143 [00:11<00:00, 12.24it/s]\n",
      "100%|████████████████████████████████████████████████████████████████████████████████| 388/388 [00:47<00:00,  8.12it/s]\n",
      "100%|████████████████████████████████████████████████████████████████████████████████| 112/112 [00:08<00:00, 12.77it/s]\n",
      "100%|████████████████████████████████████████████████████████████████████████████████| 105/105 [00:07<00:00, 13.62it/s]\n",
      "100%|██████████████████████████████████████████████████████████████████████████████████| 98/98 [00:07<00:00, 12.91it/s]\n",
      "100%|████████████████████████████████████████████████████████████████████████████████| 401/401 [00:45<00:00,  8.73it/s]\n",
      "100%|████████████████████████████████████████████████████████████████████████████████| 189/189 [00:16<00:00, 11.45it/s]\n",
      "100%|████████████████████████████████████████████████████████████████████████████████| 155/155 [00:14<00:00, 10.94it/s]\n",
      "100%|██████████████████████████████████████████████████████████████████████████████████| 66/66 [00:04<00:00, 14.74it/s]\n",
      "100%|████████████████████████████████████████████████████████████████████████████████| 194/194 [00:17<00:00, 11.03it/s]\n",
      "100%|████████████████████████████████████████████████████████████████████████████████| 169/169 [00:15<00:00, 10.86it/s]\n",
      "100%|████████████████████████████████████████████████████████████████████████████████| 227/227 [00:21<00:00, 10.74it/s]\n",
      "100%|████████████████████████████████████████████████████████████████████████████████| 457/457 [00:53<00:00,  8.51it/s]\n",
      "100%|██████████████████████████████████████████████████████████████████████████████| 1031/1031 [03:19<00:00,  5.16it/s]\n",
      "100%|████████████████████████████████████████████████████████████████████████████████████| 3/3 [00:00<00:00, 17.49it/s]\n"
     ]
    }
   ],
   "source": [
    "for year, month in y_m_list:\n",
    "    df_m = df_all[(df_all['data_godzina'].dt.month == int(month)) & (df_all['data_godzina'].dt.year == int(year))]\n",
    "    \n",
    "    if len(df_m) == 0:\n",
    "        print(year, month, 'no votings')\n",
    "        continue\n",
    "    \n",
    "    df_m = pd.merge(df_m[['vote_id', 'data_godzina', 'Nrleg', 'NazwiskoImie', 'Glos', 'Klub']], df_deputies[['Nrleg', 'NazwiskoImie', 'node_id']], on=['Nrleg', 'NazwiskoImie'], how='left')\n",
    "    df_node_atr = pre.assign_attributes(df_m)\n",
    "    df_node_atr.to_csv(f'df_node_atr/monthly/G_{k}_{year}_{month}.csv', index=False)\n",
    "    \n",
    "    edge_matrix = pre.egde_weights(df_m)\n",
    "    \n",
    "    G = pre.create_graph(edge_matrix, df_node_atr, file_name=f\"G_{k}_{year}_{month}\", monthly=True)"
   ]
  },
  {
   "cell_type": "code",
   "execution_count": 23,
   "id": "390ba3e5",
   "metadata": {},
   "outputs": [
    {
     "name": "stderr",
     "output_type": "stream",
     "text": [
      "100%|██████████████████████████████████████████████████████████████████████████| 13535/13535 [7:47:56<00:00,  2.07s/it]\n"
     ]
    },
    {
     "data": {
      "text/plain": [
       "<networkx.classes.graph.Graph at 0x20ac65a8910>"
      ]
     },
     "execution_count": 23,
     "metadata": {},
     "output_type": "execute_result"
    }
   ],
   "source": [
    "df_all = pd.merge(df_all, df_deputies[['Nrleg', 'NazwiskoImie', 'node_id']], on=['Nrleg', 'NazwiskoImie'], how='left')\n",
    "df_node_atr = pre.assign_attributes(df_all)\n",
    "df_node_atr.to_csv(f'df_node_atr/G_{k}.csv', index=False)\n",
    "\n",
    "edge_matrix = pre.egde_weights(df_all)\n",
    "\n",
    "pre.create_graph(edge_matrix, df_node_atr, file_name=f\"G_{k}\", monthly=False)"
   ]
  },
  {
   "cell_type": "code",
   "execution_count": 49,
   "id": "ba20c424",
   "metadata": {},
   "outputs": [
    {
     "name": "stdout",
     "output_type": "stream",
     "text": [
      "[Timestamp('2001-10-19 12:29:00'), Timestamp('2002-09-30 12:29:00', freq='M'), Timestamp('2003-09-30 12:29:00', freq='M'), Timestamp('2004-09-30 12:29:00', freq='M'), Timestamp('2005-08-29 19:35:07')]\n"
     ]
    },
    {
     "name": "stderr",
     "output_type": "stream",
     "text": [
      "100%|██████████████████████████████████████████████████████████████████████████████| 2688/2688 [26:53<00:00,  1.67it/s]\n",
      "100%|██████████████████████████████████████████████████████████████████████████████| 3815/3815 [50:15<00:00,  1.26it/s]\n",
      "100%|██████████████████████████████████████████████████████████████████████████████| 4042/4042 [39:17<00:00,  1.71it/s]\n",
      "100%|██████████████████████████████████████████████████████████████████████████████| 2989/2989 [26:37<00:00,  1.87it/s]\n"
     ]
    }
   ],
   "source": [
    "start = df_all['data_godzina'].min()\n",
    "end_1 = pd.date_range(start=df_all['data_godzina'].min(), periods=12, freq='M')[-1]\n",
    "end_2 = pd.date_range(start=end_1, periods=13, freq='M')[-1]\n",
    "end_3 = pd.date_range(start=end_2, periods=13, freq='M')[-1]\n",
    "end_4 = df_all['data_godzina'].max()\n",
    "\n",
    "start_end_dates = [start, end_1, end_2, end_3, end_4]\n",
    "print(start_end_dates)\n",
    "\n",
    "for i in range(1, len(start_end_dates)):\n",
    "    start_dt = start_end_dates[i-1]\n",
    "    end_dt = start_end_dates[i]\n",
    "    df_y = df_all[(df_all['data_godzina'] >= start_dt) & (df_all['data_godzina'] < end_dt)]\n",
    "    \n",
    "    df_y = pd.merge(df_y[['vote_id', 'data_godzina', 'Nrleg', 'NazwiskoImie', 'Glos', 'Klub']], df_deputies[['Nrleg', 'NazwiskoImie', 'node_id']], on=['Nrleg', 'NazwiskoImie'], how='left')\n",
    "    df_node_atr = pre.assign_attributes(df_y)\n",
    "    df_node_atr.to_csv(f'df_node_atr/yearly/G_{k}_y{i}.csv', index=False)\n",
    "    \n",
    "    edge_matrix = pre.egde_weights(df_y)\n",
    "    \n",
    "    G = pre.create_graph(edge_matrix, df_node_atr, file_name=f\"yearly/G_{k}_y{i}\", monthly=False)"
   ]
  },
  {
   "cell_type": "markdown",
   "id": "8652c90d",
   "metadata": {},
   "source": [
    "## 5th term: 2005 - 2007"
   ]
  },
  {
   "cell_type": "code",
   "execution_count": 50,
   "id": "8abe767b",
   "metadata": {},
   "outputs": [
    {
     "data": {
      "text/html": [
       "<div>\n",
       "<style scoped>\n",
       "    .dataframe tbody tr th:only-of-type {\n",
       "        vertical-align: middle;\n",
       "    }\n",
       "\n",
       "    .dataframe tbody tr th {\n",
       "        vertical-align: top;\n",
       "    }\n",
       "\n",
       "    .dataframe thead th {\n",
       "        text-align: right;\n",
       "    }\n",
       "</style>\n",
       "<table border=\"1\" class=\"dataframe\">\n",
       "  <thead>\n",
       "    <tr style=\"text-align: right;\">\n",
       "      <th></th>\n",
       "      <th>vote_id</th>\n",
       "      <th>data_godzina</th>\n",
       "      <th>Nrleg</th>\n",
       "      <th>NazwiskoImie</th>\n",
       "      <th>Glos</th>\n",
       "      <th>Klub</th>\n",
       "    </tr>\n",
       "  </thead>\n",
       "  <tbody>\n",
       "    <tr>\n",
       "      <th>0</th>\n",
       "      <td>5001001</td>\n",
       "      <td>2005-10-19 12:26:49</td>\n",
       "      <td>1</td>\n",
       "      <td>Abgarowicz Łukasz Maria</td>\n",
       "      <td>Przeciw</td>\n",
       "      <td>PO</td>\n",
       "    </tr>\n",
       "    <tr>\n",
       "      <th>1</th>\n",
       "      <td>5001001</td>\n",
       "      <td>2005-10-19 12:26:49</td>\n",
       "      <td>2</td>\n",
       "      <td>Adamczyk Andrzej</td>\n",
       "      <td>Za</td>\n",
       "      <td>PiS</td>\n",
       "    </tr>\n",
       "    <tr>\n",
       "      <th>2</th>\n",
       "      <td>5001001</td>\n",
       "      <td>2005-10-19 12:26:49</td>\n",
       "      <td>3</td>\n",
       "      <td>Ambroziewicz Robert</td>\n",
       "      <td>Przeciw</td>\n",
       "      <td>PO</td>\n",
       "    </tr>\n",
       "    <tr>\n",
       "      <th>3</th>\n",
       "      <td>5001001</td>\n",
       "      <td>2005-10-19 12:26:49</td>\n",
       "      <td>4</td>\n",
       "      <td>Andrejuk Przemysław</td>\n",
       "      <td>Przeciw</td>\n",
       "      <td>LPR</td>\n",
       "    </tr>\n",
       "    <tr>\n",
       "      <th>4</th>\n",
       "      <td>5001001</td>\n",
       "      <td>2005-10-19 12:26:49</td>\n",
       "      <td>5</td>\n",
       "      <td>Andzel Waldemar</td>\n",
       "      <td>Za</td>\n",
       "      <td>PiS</td>\n",
       "    </tr>\n",
       "  </tbody>\n",
       "</table>\n",
       "</div>"
      ],
      "text/plain": [
       "   vote_id        data_godzina  Nrleg             NazwiskoImie     Glos Klub\n",
       "0  5001001 2005-10-19 12:26:49      1  Abgarowicz Łukasz Maria  Przeciw   PO\n",
       "1  5001001 2005-10-19 12:26:49      2         Adamczyk Andrzej       Za  PiS\n",
       "2  5001001 2005-10-19 12:26:49      3      Ambroziewicz Robert  Przeciw   PO\n",
       "3  5001001 2005-10-19 12:26:49      4      Andrejuk Przemysław  Przeciw  LPR\n",
       "4  5001001 2005-10-19 12:26:49      5          Andzel Waldemar       Za  PiS"
      ]
     },
     "metadata": {},
     "output_type": "display_data"
    },
    {
     "data": {
      "image/png": "[encoded data removed]",
      "text/plain": [
       "<Figure size 576x288 with 1 Axes>"
      ]
     },
     "metadata": {
      "needs_background": "light"
     },
     "output_type": "display_data"
    },
    {
     "name": "stdout",
     "output_type": "stream",
     "text": [
      "2005-10-19 12:26:49 2007-09-19 14:30:43\n",
      "2005-10 2007-09\n"
     ]
    }
   ],
   "source": [
    "k = 5\n",
    "xml_file_path = '.\\Sejm-20240316T162344Z-001\\Sejm\\GLO5k1p48p_i\\GLO5k1p48p_i.xml'\n",
    "csv_file = 'data\\GLO5k1p48p_i.csv'\n",
    "\n",
    "df_all = pre.save_xml_as_csv(xml_file_path, csv_file)\n",
    "\n",
    "display(df_all.head())\n",
    "\n",
    "assert np.all(df_all.dtypes.values == [np.dtype('int32'), np.dtype('<M8[ns]'), np.dtype('int32'), np.dtype('O'), np.dtype('O'), np.dtype('O')])\n",
    "assert df_all.isnull().sum().sum() == 0\n",
    "assert df_all[df_all.duplicated()].size == 0\n",
    "\n",
    "plt.figure(figsize=(8, 4))\n",
    "sns.histplot(data=df_all, x='Glos', discrete=True)\n",
    "plt.xticks(rotation=45)\n",
    "plt.show()\n",
    "\n",
    "print(df_all['data_godzina'].min(), df_all['data_godzina'].max())\n",
    "y_m_list = pd.date_range(df_all['data_godzina'].min(), df_all['data_godzina'].max(), \n",
    "              freq='M').strftime(\"%Y-%m\").tolist()\n",
    "\n",
    "y_m_list.append(df_all['data_godzina'].max().strftime(\"%Y-%m\"))\n",
    "print(y_m_list[0], y_m_list[-1])\n",
    "y_m_list = [x.split('-') for x in y_m_list]\n",
    "\n",
    "df_deputies = pre.assign_node_ids(df_all)"
   ]
  },
  {
   "cell_type": "code",
   "execution_count": 25,
   "id": "cb0d9a8f",
   "metadata": {
    "scrolled": true
   },
   "outputs": [
    {
     "name": "stderr",
     "output_type": "stream",
     "text": [
      "100%|████████████████████████████████████████████████████████████████████████████████████| 2/2 [00:00<00:00, 18.28it/s]\n",
      "100%|██████████████████████████████████████████████████████████████████████████████████| 21/21 [00:01<00:00, 14.00it/s]\n",
      "100%|████████████████████████████████████████████████████████████████████████████████| 113/113 [00:09<00:00, 12.05it/s]\n",
      "100%|████████████████████████████████████████████████████████████████████████████████| 195/195 [00:21<00:00,  9.07it/s]\n",
      "100%|██████████████████████████████████████████████████████████████████████████████████| 83/83 [00:06<00:00, 12.07it/s]\n",
      "100%|████████████████████████████████████████████████████████████████████████████████| 112/112 [00:08<00:00, 12.48it/s]\n",
      "100%|████████████████████████████████████████████████████████████████████████████████| 116/116 [00:11<00:00, 10.35it/s]\n",
      "100%|██████████████████████████████████████████████████████████████████████████████████| 75/75 [00:05<00:00, 14.32it/s]\n",
      "100%|██████████████████████████████████████████████████████████████████████████████████| 64/64 [00:04<00:00, 13.79it/s]\n",
      "100%|████████████████████████████████████████████████████████████████████████████████| 237/237 [00:25<00:00,  9.35it/s]\n",
      "100%|████████████████████████████████████████████████████████████████████████████████| 111/111 [00:08<00:00, 12.55it/s]\n",
      "100%|██████████████████████████████████████████████████████████████████████████████████| 98/98 [00:07<00:00, 13.72it/s]\n",
      "100%|████████████████████████████████████████████████████████████████████████████████| 255/255 [00:27<00:00,  9.22it/s]\n",
      "100%|██████████████████████████████████████████████████████████████████████████████████| 88/88 [00:06<00:00, 12.75it/s]\n",
      "100%|████████████████████████████████████████████████████████████████████████████████| 272/272 [00:29<00:00,  9.11it/s]\n",
      "100%|████████████████████████████████████████████████████████████████████████████████| 186/186 [00:17<00:00, 10.51it/s]\n",
      "100%|████████████████████████████████████████████████████████████████████████████████| 129/129 [00:11<00:00, 11.68it/s]\n",
      "100%|████████████████████████████████████████████████████████████████████████████████| 270/270 [00:27<00:00,  9.81it/s]\n",
      "100%|████████████████████████████████████████████████████████████████████████████████| 111/111 [00:09<00:00, 12.04it/s]\n",
      "100%|████████████████████████████████████████████████████████████████████████████████| 258/258 [00:25<00:00, 10.18it/s]\n",
      "100%|████████████████████████████████████████████████████████████████████████████████| 240/240 [00:23<00:00, 10.07it/s]\n",
      "100%|██████████████████████████████████████████████████████████████████████████████████| 97/97 [00:06<00:00, 14.40it/s]\n",
      "100%|████████████████████████████████████████████████████████████████████████████████| 119/119 [00:10<00:00, 11.55it/s]\n",
      "100%|████████████████████████████████████████████████████████████████████████████████| 160/160 [00:14<00:00, 11.12it/s]\n"
     ]
    }
   ],
   "source": [
    "for year, month in y_m_list:\n",
    "    df_m = df_all[(df_all['data_godzina'].dt.month == int(month)) & (df_all['data_godzina'].dt.year == int(year))]\n",
    "    \n",
    "    if len(df_m) == 0:\n",
    "        print(year, month, 'no votings')\n",
    "        continue\n",
    "    \n",
    "    df_m = pd.merge(df_m[['vote_id', 'data_godzina', 'Nrleg', 'NazwiskoImie', 'Glos', 'Klub']], df_deputies[['Nrleg', 'NazwiskoImie', 'node_id']], on=['Nrleg', 'NazwiskoImie'], how='left')\n",
    "    df_node_atr = pre.assign_attributes(df_m)\n",
    "    df_node_atr.to_csv(f'df_node_atr/monthly/G_{k}_{year}_{month}.csv', index=False)\n",
    "    \n",
    "    edge_matrix = pre.egde_weights(df_m)\n",
    "    \n",
    "    G = pre.create_graph(edge_matrix, df_node_atr, file_name=f\"G_{k}_{year}_{month}\", monthly=True)"
   ]
  },
  {
   "cell_type": "code",
   "execution_count": 26,
   "id": "e6a699a0",
   "metadata": {},
   "outputs": [
    {
     "name": "stderr",
     "output_type": "stream",
     "text": [
      "100%|██████████████████████████████████████████████████████████████████████████████| 3412/3412 [41:15<00:00,  1.38it/s]\n"
     ]
    },
    {
     "data": {
      "text/plain": [
       "<networkx.classes.graph.Graph at 0x20b7975ba30>"
      ]
     },
     "execution_count": 26,
     "metadata": {},
     "output_type": "execute_result"
    }
   ],
   "source": [
    "df_all = pd.merge(df_all, df_deputies[['Nrleg', 'NazwiskoImie', 'node_id']], on=['Nrleg', 'NazwiskoImie'], how='left')\n",
    "df_node_atr = pre.assign_attributes(df_all)\n",
    "df_node_atr.to_csv(f'df_node_atr/G_{k}.csv', index=False)\n",
    "\n",
    "edge_matrix = pre.egde_weights(df_all)\n",
    "\n",
    "pre.create_graph(edge_matrix, df_node_atr, file_name=f\"G_{k}\", monthly=False)"
   ]
  },
  {
   "cell_type": "code",
   "execution_count": 51,
   "id": "87c61023",
   "metadata": {},
   "outputs": [
    {
     "name": "stdout",
     "output_type": "stream",
     "text": [
      "[Timestamp('2005-10-19 12:26:49'), Timestamp('2006-09-30 12:26:49', freq='M'), Timestamp('2007-09-19 14:30:43')]\n"
     ]
    },
    {
     "name": "stderr",
     "output_type": "stream",
     "text": [
      "100%|██████████████████████████████████████████████████████████████████████████████| 1227/1227 [07:50<00:00,  2.61it/s]\n",
      "100%|██████████████████████████████████████████████████████████████████████████████| 2184/2184 [20:52<00:00,  1.74it/s]\n"
     ]
    }
   ],
   "source": [
    "start = df_all['data_godzina'].min()\n",
    "end_1 = pd.date_range(start=df_all['data_godzina'].min(), periods=12, freq='M')[-1]\n",
    "end_4 = df_all['data_godzina'].max()\n",
    "\n",
    "start_end_dates = [start, end_1, end_4]\n",
    "print(start_end_dates)\n",
    "\n",
    "for i in range(1, len(start_end_dates)):\n",
    "    start_dt = start_end_dates[i-1]\n",
    "    end_dt = start_end_dates[i]\n",
    "    df_y = df_all[(df_all['data_godzina'] >= start_dt) & (df_all['data_godzina'] < end_dt)]\n",
    "    \n",
    "    df_y = pd.merge(df_y[['vote_id', 'data_godzina', 'Nrleg', 'NazwiskoImie', 'Glos', 'Klub']], df_deputies[['Nrleg', 'NazwiskoImie', 'node_id']], on=['Nrleg', 'NazwiskoImie'], how='left')\n",
    "    df_node_atr = pre.assign_attributes(df_y)\n",
    "    df_node_atr.to_csv(f'df_node_atr/yearly/G_{k}_y{i}.csv', index=False)\n",
    "    \n",
    "    edge_matrix = pre.egde_weights(df_y)\n",
    "    \n",
    "    G = pre.create_graph(edge_matrix, df_node_atr, file_name=f\"yearly/G_{k}_y{i}\", monthly=False)"
   ]
  },
  {
   "cell_type": "markdown",
   "id": "7365a206",
   "metadata": {},
   "source": [
    "## 6th term: 2007 - 2011"
   ]
  },
  {
   "cell_type": "code",
   "execution_count": 52,
   "id": "405d0b86",
   "metadata": {},
   "outputs": [
    {
     "data": {
      "text/html": [
       "<div>\n",
       "<style scoped>\n",
       "    .dataframe tbody tr th:only-of-type {\n",
       "        vertical-align: middle;\n",
       "    }\n",
       "\n",
       "    .dataframe tbody tr th {\n",
       "        vertical-align: top;\n",
       "    }\n",
       "\n",
       "    .dataframe thead th {\n",
       "        text-align: right;\n",
       "    }\n",
       "</style>\n",
       "<table border=\"1\" class=\"dataframe\">\n",
       "  <thead>\n",
       "    <tr style=\"text-align: right;\">\n",
       "      <th></th>\n",
       "      <th>vote_id</th>\n",
       "      <th>data_godzina</th>\n",
       "      <th>Nrleg</th>\n",
       "      <th>NazwiskoImie</th>\n",
       "      <th>Glos</th>\n",
       "      <th>Klub</th>\n",
       "    </tr>\n",
       "  </thead>\n",
       "  <tbody>\n",
       "    <tr>\n",
       "      <th>0</th>\n",
       "      <td>6001002</td>\n",
       "      <td>2007-11-05 19:20:54</td>\n",
       "      <td>1</td>\n",
       "      <td>Abramowicz Adam</td>\n",
       "      <td>Za</td>\n",
       "      <td>PiS</td>\n",
       "    </tr>\n",
       "    <tr>\n",
       "      <th>1</th>\n",
       "      <td>6001002</td>\n",
       "      <td>2007-11-05 19:20:54</td>\n",
       "      <td>2</td>\n",
       "      <td>Adamczyk Andrzej</td>\n",
       "      <td>Za</td>\n",
       "      <td>PiS</td>\n",
       "    </tr>\n",
       "    <tr>\n",
       "      <th>2</th>\n",
       "      <td>6001002</td>\n",
       "      <td>2007-11-05 19:20:54</td>\n",
       "      <td>3</td>\n",
       "      <td>Ajchler Romuald</td>\n",
       "      <td>Za</td>\n",
       "      <td>LiD</td>\n",
       "    </tr>\n",
       "    <tr>\n",
       "      <th>3</th>\n",
       "      <td>6001002</td>\n",
       "      <td>2007-11-05 19:20:54</td>\n",
       "      <td>4</td>\n",
       "      <td>Aleksandrzak Leszek</td>\n",
       "      <td>Za</td>\n",
       "      <td>LiD</td>\n",
       "    </tr>\n",
       "    <tr>\n",
       "      <th>4</th>\n",
       "      <td>6001002</td>\n",
       "      <td>2007-11-05 19:20:54</td>\n",
       "      <td>5</td>\n",
       "      <td>Andzel Waldemar</td>\n",
       "      <td>Za</td>\n",
       "      <td>PiS</td>\n",
       "    </tr>\n",
       "  </tbody>\n",
       "</table>\n",
       "</div>"
      ],
      "text/plain": [
       "   vote_id        data_godzina  Nrleg         NazwiskoImie Glos Klub\n",
       "0  6001002 2007-11-05 19:20:54      1      Abramowicz Adam   Za  PiS\n",
       "1  6001002 2007-11-05 19:20:54      2     Adamczyk Andrzej   Za  PiS\n",
       "2  6001002 2007-11-05 19:20:54      3      Ajchler Romuald   Za  LiD\n",
       "3  6001002 2007-11-05 19:20:54      4  Aleksandrzak Leszek   Za  LiD\n",
       "4  6001002 2007-11-05 19:20:54      5      Andzel Waldemar   Za  PiS"
      ]
     },
     "metadata": {},
     "output_type": "display_data"
    },
    {
     "data": {
      "image/png": "[encoded data removed]",
      "text/plain": [
       "<Figure size 576x288 with 1 Axes>"
      ]
     },
     "metadata": {
      "needs_background": "light"
     },
     "output_type": "display_data"
    },
    {
     "name": "stdout",
     "output_type": "stream",
     "text": [
      "2007-11-05 19:20:54 2011-09-16 21:24:42\n",
      "2007-11 2011-09\n"
     ]
    }
   ],
   "source": [
    "k = 6\n",
    "xml_file_path = '.\\Sejm-20240316T162344Z-001\\Sejm\\GLO6k1p100p_i\\GLO6k1p100p_i.xml'\n",
    "csv_file = 'data\\GLO6k1p100p_i.csv'\n",
    "\n",
    "df_all = pre.save_xml_as_csv(xml_file_path, csv_file)\n",
    "\n",
    "display(df_all.head())\n",
    "\n",
    "assert np.all(df_all.dtypes.values == [np.dtype('int32'), np.dtype('<M8[ns]'), np.dtype('int32'), np.dtype('O'), np.dtype('O'), np.dtype('O')])\n",
    "assert df_all.isnull().sum().sum() == 0\n",
    "assert df_all[df_all.duplicated()].size == 0\n",
    "\n",
    "plt.figure(figsize=(8, 4))\n",
    "sns.histplot(data=df_all, x='Glos', discrete=True)\n",
    "plt.xticks(rotation=45)\n",
    "plt.show()\n",
    "\n",
    "print(df_all['data_godzina'].min(), df_all['data_godzina'].max())\n",
    "y_m_list = pd.date_range(df_all['data_godzina'].min(), df_all['data_godzina'].max(), \n",
    "              freq='M').strftime(\"%Y-%m\").tolist()\n",
    "\n",
    "y_m_list.append(df_all['data_godzina'].max().strftime(\"%Y-%m\"))\n",
    "print(y_m_list[0], y_m_list[-1])\n",
    "y_m_list = [x.split('-') for x in y_m_list]\n",
    "\n",
    "# df_deputies = pre.assign_node_ids(df_all)"
   ]
  },
  {
   "cell_type": "code",
   "execution_count": 28,
   "id": "1604b96a",
   "metadata": {},
   "outputs": [],
   "source": [
    "# katastrofa Smoleńska"
   ]
  },
  {
   "cell_type": "code",
   "execution_count": 53,
   "id": "c71af6f0",
   "metadata": {},
   "outputs": [],
   "source": [
    "df_deputies = pre.create_deputy_df(df_all)\n",
    "    \n",
    "vote_ids = sorted(df_all['vote_id'].unique())\n",
    "deputy_ids_per_vote = [df_all[df_all['vote_id'] == vote_id]['Nrleg'].unique() for vote_id in vote_ids]\n",
    "\n",
    "removed_ids, new_ids = pre.make_queues(df_deputies, vote_ids, deputy_ids_per_vote)\n",
    "\n",
    "removed_ids.remove((446, ['LiD', 'Lewica'], 6043001))\n",
    "removed_ids.remove((339, ['LiD', 'Lewica'], 6043001))\n",
    "removed_ids.remove((437, ['PiS', 'niez.'], 6043001))\n",
    "removed_ids.remove((279, ['PO', 'niez.'], 6083001))\n",
    "removed_ids.remove((382, ['LiD', 'Lewica'], 6065001))\n",
    "removed_ids.remove((257, ['PO'], 6043001))\n",
    "removed_ids.remove((64, ['PO'], 6065001))\n",
    "removed_ids.remove((146, ['PO'], 6065001))\n",
    "removed_ids.remove((326, ['PO'], 6065001))\n",
    "removed_ids.remove((45, ['PO'], 6097001))\n",
    "\n",
    "\n",
    "new_ids.remove((474, ['niez.', 'SDPL'], 6044001))\n",
    "new_ids.remove((481, ['niez.', 'SLD'], 6044001))\n",
    "new_ids.remove((483, ['PiS'], 6044001))\n",
    "new_ids.remove((518, ['PJN'], 6084002))\n",
    "new_ids.remove((489, ['Lewica', 'SLD'], 6066001))\n",
    "new_ids.remove((472, ['niez.'], 6044001))\n",
    "new_ids.remove((500, ['PO'], 6067002))\n",
    "new_ids.remove((494, ['PO'], 6066001))\n",
    "new_ids.remove((490, ['PO'], 6066001))\n",
    "new_ids.remove((520, ['niez.', 'PiS'], 6099001))\n",
    "\n",
    "node_id_dict = pre.find_pairs(removed_ids, new_ids)\n",
    "\n",
    "node_id_dict[474] = 446\n",
    "node_id_dict[481] = 339\n",
    "node_id_dict[483] = 437\n",
    "node_id_dict[518] = 279\n",
    "node_id_dict[489] = 382\n",
    "node_id_dict[472] = 257\n",
    "node_id_dict[500] = 64\n",
    "node_id_dict[494] = 146\n",
    "node_id_dict[490] = 326\n",
    "node_id_dict[520] = 45\n",
    "node_id_dict[507] = 407\n",
    "\n",
    "\n",
    "node_id_dict_func = lambda x: node_id_dict[x]\n",
    "node_id_dict_func = np.vectorize(node_id_dict_func)\n",
    "\n",
    "df_deputies['node_id'] = node_id_dict_func(df_deputies['Nrleg'])\n",
    "df_deputies['node_id'] = df_deputies['node_id'] - 1"
   ]
  },
  {
   "cell_type": "code",
   "execution_count": 19,
   "id": "914578ca",
   "metadata": {
    "scrolled": true
   },
   "outputs": [
    {
     "name": "stderr",
     "output_type": "stream",
     "text": [
      "100%|██████████████████████████████████████████████████████████████████████████████████| 25/25 [00:01<00:00, 13.88it/s]\n",
      "100%|████████████████████████████████████████████████████████████████████████████████| 228/228 [00:20<00:00, 11.33it/s]\n",
      "100%|██████████████████████████████████████████████████████████████████████████████████| 53/53 [00:04<00:00, 12.41it/s]\n",
      "100%|██████████████████████████████████████████████████████████████████████████████████| 10/10 [00:00<00:00, 15.15it/s]\n",
      "100%|████████████████████████████████████████████████████████████████████████████████| 100/100 [00:08<00:00, 11.58it/s]\n",
      "100%|██████████████████████████████████████████████████████████████████████████████████| 63/63 [00:04<00:00, 12.71it/s]\n",
      "100%|██████████████████████████████████████████████████████████████████████████████████| 74/74 [00:05<00:00, 12.47it/s]\n",
      "100%|████████████████████████████████████████████████████████████████████████████████| 104/104 [00:06<00:00, 14.96it/s]\n",
      "100%|████████████████████████████████████████████████████████████████████████████████| 147/147 [00:13<00:00, 10.50it/s]\n"
     ]
    },
    {
     "name": "stdout",
     "output_type": "stream",
     "text": [
      "2008 08 no votings\n"
     ]
    },
    {
     "name": "stderr",
     "output_type": "stream",
     "text": [
      "100%|████████████████████████████████████████████████████████████████████████████████| 133/133 [00:12<00:00, 10.59it/s]\n",
      "100%|████████████████████████████████████████████████████████████████████████████████| 567/567 [01:30<00:00,  6.27it/s]\n",
      "100%|████████████████████████████████████████████████████████████████████████████████| 322/322 [00:36<00:00,  8.86it/s]\n",
      "100%|████████████████████████████████████████████████████████████████████████████████| 606/606 [01:33<00:00,  6.49it/s]\n",
      "100%|████████████████████████████████████████████████████████████████████████████████| 173/173 [00:15<00:00, 10.92it/s]\n",
      "100%|████████████████████████████████████████████████████████████████████████████████| 157/157 [00:13<00:00, 11.57it/s]\n",
      "100%|██████████████████████████████████████████████████████████████████████████████████| 99/99 [00:08<00:00, 12.16it/s]\n",
      "100%|████████████████████████████████████████████████████████████████████████████████| 244/244 [00:26<00:00,  9.35it/s]\n",
      "100%|████████████████████████████████████████████████████████████████████████████████| 166/166 [00:15<00:00, 11.03it/s]\n",
      "100%|████████████████████████████████████████████████████████████████████████████████| 166/166 [00:14<00:00, 11.26it/s]\n",
      "100%|████████████████████████████████████████████████████████████████████████████████| 250/250 [00:24<00:00, 10.06it/s]\n",
      "100%|██████████████████████████████████████████████████████████████████████████████████| 75/75 [00:06<00:00, 11.04it/s]\n",
      "100%|████████████████████████████████████████████████████████████████████████████████| 138/138 [00:10<00:00, 13.01it/s]\n",
      "100%|██████████████████████████████████████████████████████████████████████████████████| 66/66 [00:05<00:00, 12.74it/s]\n",
      "100%|████████████████████████████████████████████████████████████████████████████████| 170/170 [00:14<00:00, 11.52it/s]\n",
      "100%|████████████████████████████████████████████████████████████████████████████████| 218/218 [00:18<00:00, 12.00it/s]\n",
      "100%|████████████████████████████████████████████████████████████████████████████████| 121/121 [00:10<00:00, 11.25it/s]\n",
      "100%|████████████████████████████████████████████████████████████████████████████████| 110/110 [00:08<00:00, 12.62it/s]\n",
      "100%|████████████████████████████████████████████████████████████████████████████████| 147/147 [00:12<00:00, 11.60it/s]\n",
      "100%|████████████████████████████████████████████████████████████████████████████████| 225/225 [00:20<00:00, 11.02it/s]\n",
      "100%|████████████████████████████████████████████████████████████████████████████████| 158/158 [00:12<00:00, 12.77it/s]\n",
      "100%|████████████████████████████████████████████████████████████████████████████████| 132/132 [00:12<00:00, 10.40it/s]\n",
      "100%|████████████████████████████████████████████████████████████████████████████████| 119/119 [00:11<00:00, 10.14it/s]\n"
     ]
    },
    {
     "name": "stdout",
     "output_type": "stream",
     "text": [
      "166 G_6_2010_07\n"
     ]
    },
    {
     "name": "stderr",
     "output_type": "stream",
     "text": [
      "100%|████████████████████████████████████████████████████████████████████████████████| 133/133 [00:10<00:00, 13.15it/s]\n",
      "100%|██████████████████████████████████████████████████████████████████████████████████| 75/75 [00:06<00:00, 12.00it/s]\n",
      "100%|████████████████████████████████████████████████████████████████████████████████| 161/161 [00:12<00:00, 12.63it/s]\n",
      "100%|████████████████████████████████████████████████████████████████████████████████| 107/107 [00:07<00:00, 15.03it/s]\n",
      "100%|████████████████████████████████████████████████████████████████████████████████| 311/311 [00:30<00:00, 10.13it/s]\n",
      "100%|████████████████████████████████████████████████████████████████████████████████| 285/285 [00:32<00:00,  8.71it/s]\n",
      "100%|████████████████████████████████████████████████████████████████████████████████| 178/178 [00:15<00:00, 11.67it/s]\n",
      "100%|████████████████████████████████████████████████████████████████████████████████| 271/271 [00:27<00:00,  9.96it/s]\n",
      "100%|████████████████████████████████████████████████████████████████████████████████| 284/284 [00:27<00:00, 10.17it/s]\n",
      "100%|████████████████████████████████████████████████████████████████████████████████| 211/211 [00:20<00:00, 10.35it/s]\n",
      "100%|████████████████████████████████████████████████████████████████████████████████| 176/176 [00:16<00:00, 10.90it/s]\n",
      "100%|████████████████████████████████████████████████████████████████████████████████| 257/257 [00:24<00:00, 10.35it/s]\n",
      "100%|████████████████████████████████████████████████████████████████████████████████| 459/459 [00:55<00:00,  8.25it/s]\n",
      "100%|████████████████████████████████████████████████████████████████████████████████| 129/129 [00:10<00:00, 12.48it/s]\n"
     ]
    }
   ],
   "source": [
    "for year, month in y_m_list:\n",
    "    df_m = df_all[(df_all['data_godzina'].dt.month == int(month)) & (df_all['data_godzina'].dt.year == int(year))]\n",
    "    \n",
    "    if len(df_m) == 0:\n",
    "        print(year, month, 'no votings')\n",
    "        continue\n",
    "    \n",
    "    df_m = pd.merge(df_m[['vote_id', 'data_godzina', 'Nrleg', 'NazwiskoImie', 'Glos', 'Klub']], df_deputies[['Nrleg', 'NazwiskoImie', 'node_id']], on=['Nrleg', 'NazwiskoImie'], how='left')\n",
    "    df_node_atr = pre.assign_attributes(df_m)\n",
    "    df_node_atr.to_csv(f'df_node_atr/monthly/G_{k}_{year}_{month}.csv', index=False)\n",
    "    \n",
    "    edge_matrix = pre.egde_weights(df_m)\n",
    "    \n",
    "    G = pre.create_graph(edge_matrix, df_node_atr, file_name=f\"G_{k}_{year}_{month}\", monthly=True)"
   ]
  },
  {
   "cell_type": "code",
   "execution_count": 20,
   "id": "85f9f7a5",
   "metadata": {},
   "outputs": [
    {
     "name": "stderr",
     "output_type": "stream",
     "text": [
      "100%|████████████████████████████████████████████████████████████████████████████| 8403/8403 [3:00:56<00:00,  1.29s/it]\n"
     ]
    },
    {
     "data": {
      "text/plain": [
       "<networkx.classes.graph.Graph at 0x1a480957c70>"
      ]
     },
     "execution_count": 20,
     "metadata": {},
     "output_type": "execute_result"
    }
   ],
   "source": [
    "df_all = pd.merge(df_all, df_deputies[['Nrleg', 'NazwiskoImie', 'node_id']], on=['Nrleg', 'NazwiskoImie'], how='left')\n",
    "df_node_atr = pre.assign_attributes(df_all)\n",
    "df_node_atr.to_csv(f'df_node_atr/G_{k}.csv', index=False)\n",
    "\n",
    "edge_matrix = pre.egde_weights(df_all)\n",
    "\n",
    "pre.create_graph(edge_matrix, df_node_atr, file_name=f\"G_{k}\", monthly=False)"
   ]
  },
  {
   "cell_type": "code",
   "execution_count": 54,
   "id": "ef3199d0",
   "metadata": {},
   "outputs": [
    {
     "name": "stdout",
     "output_type": "stream",
     "text": [
      "[Timestamp('2007-11-05 19:20:54'), Timestamp('2008-10-31 19:20:54', freq='M'), Timestamp('2009-10-31 19:20:54', freq='M'), Timestamp('2010-10-31 19:20:54', freq='M'), Timestamp('2011-09-16 21:24:42')]\n"
     ]
    },
    {
     "name": "stderr",
     "output_type": "stream",
     "text": [
      "100%|██████████████████████████████████████████████████████████████████████████████| 1504/1504 [10:22<00:00,  2.42it/s]\n",
      "100%|██████████████████████████████████████████████████████████████████████████████| 2462/2462 [25:09<00:00,  1.63it/s]\n",
      "100%|██████████████████████████████████████████████████████████████████████████████| 1769/1769 [13:02<00:00,  2.26it/s]\n",
      "100%|██████████████████████████████████████████████████████████████████████████████| 2667/2667 [26:10<00:00,  1.70it/s]\n"
     ]
    }
   ],
   "source": [
    "start = df_all['data_godzina'].min()\n",
    "end_1 = pd.date_range(start=df_all['data_godzina'].min(), periods=12, freq='M')[-1]\n",
    "end_2 = pd.date_range(start=end_1, periods=13, freq='M')[-1]\n",
    "end_3 = pd.date_range(start=end_2, periods=13, freq='M')[-1]\n",
    "end_4 = df_all['data_godzina'].max()\n",
    "\n",
    "start_end_dates = [start, end_1, end_2, end_3, end_4]\n",
    "print(start_end_dates)\n",
    "\n",
    "for i in range(1, len(start_end_dates)):\n",
    "    start_dt = start_end_dates[i-1]\n",
    "    end_dt = start_end_dates[i]\n",
    "    df_y = df_all[(df_all['data_godzina'] >= start_dt) & (df_all['data_godzina'] < end_dt)]\n",
    "    \n",
    "    df_y = pd.merge(df_y[['vote_id', 'data_godzina', 'Nrleg', 'NazwiskoImie', 'Glos', 'Klub']], df_deputies[['Nrleg', 'NazwiskoImie', 'node_id']], on=['Nrleg', 'NazwiskoImie'], how='left')\n",
    "    df_node_atr = pre.assign_attributes(df_y)\n",
    "    df_node_atr.to_csv(f'df_node_atr/yearly/G_{k}_y{i}.csv', index=False)\n",
    "    \n",
    "    edge_matrix = pre.egde_weights(df_y)\n",
    "    \n",
    "    G = pre.create_graph(edge_matrix, df_node_atr, file_name=f\"yearly/G_{k}_y{i}\", monthly=False)"
   ]
  },
  {
   "cell_type": "markdown",
   "id": "978d50b7",
   "metadata": {},
   "source": [
    "## 7th term: 2011 - 2015"
   ]
  },
  {
   "cell_type": "code",
   "execution_count": 55,
   "id": "b7ffca11",
   "metadata": {},
   "outputs": [
    {
     "data": {
      "text/html": [
       "<div>\n",
       "<style scoped>\n",
       "    .dataframe tbody tr th:only-of-type {\n",
       "        vertical-align: middle;\n",
       "    }\n",
       "\n",
       "    .dataframe tbody tr th {\n",
       "        vertical-align: top;\n",
       "    }\n",
       "\n",
       "    .dataframe thead th {\n",
       "        text-align: right;\n",
       "    }\n",
       "</style>\n",
       "<table border=\"1\" class=\"dataframe\">\n",
       "  <thead>\n",
       "    <tr style=\"text-align: right;\">\n",
       "      <th></th>\n",
       "      <th>vote_id</th>\n",
       "      <th>data_godzina</th>\n",
       "      <th>Nrleg</th>\n",
       "      <th>NazwiskoImie</th>\n",
       "      <th>Glos</th>\n",
       "      <th>Klub</th>\n",
       "    </tr>\n",
       "  </thead>\n",
       "  <tbody>\n",
       "    <tr>\n",
       "      <th>0</th>\n",
       "      <td>7001001</td>\n",
       "      <td>2011-11-08 13:09:45</td>\n",
       "      <td>1</td>\n",
       "      <td>Abramowicz Adam</td>\n",
       "      <td>Za</td>\n",
       "      <td>PiS</td>\n",
       "    </tr>\n",
       "    <tr>\n",
       "      <th>1</th>\n",
       "      <td>7001001</td>\n",
       "      <td>2011-11-08 13:09:45</td>\n",
       "      <td>2</td>\n",
       "      <td>Adamczak Małgorzata</td>\n",
       "      <td>Przeciw</td>\n",
       "      <td>PO</td>\n",
       "    </tr>\n",
       "    <tr>\n",
       "      <th>2</th>\n",
       "      <td>7001001</td>\n",
       "      <td>2011-11-08 13:09:45</td>\n",
       "      <td>3</td>\n",
       "      <td>Adamczyk Andrzej</td>\n",
       "      <td>Za</td>\n",
       "      <td>PiS</td>\n",
       "    </tr>\n",
       "    <tr>\n",
       "      <th>3</th>\n",
       "      <td>7001001</td>\n",
       "      <td>2011-11-08 13:09:45</td>\n",
       "      <td>4</td>\n",
       "      <td>Ajchler Romuald</td>\n",
       "      <td>Przeciw</td>\n",
       "      <td>SLD</td>\n",
       "    </tr>\n",
       "    <tr>\n",
       "      <th>4</th>\n",
       "      <td>7001001</td>\n",
       "      <td>2011-11-08 13:09:45</td>\n",
       "      <td>5</td>\n",
       "      <td>Aleksandrzak Leszek</td>\n",
       "      <td>Przeciw</td>\n",
       "      <td>SLD</td>\n",
       "    </tr>\n",
       "  </tbody>\n",
       "</table>\n",
       "</div>"
      ],
      "text/plain": [
       "   vote_id        data_godzina  Nrleg         NazwiskoImie     Glos Klub\n",
       "0  7001001 2011-11-08 13:09:45      1      Abramowicz Adam       Za  PiS\n",
       "1  7001001 2011-11-08 13:09:45      2  Adamczak Małgorzata  Przeciw   PO\n",
       "2  7001001 2011-11-08 13:09:45      3     Adamczyk Andrzej       Za  PiS\n",
       "3  7001001 2011-11-08 13:09:45      4      Ajchler Romuald  Przeciw  SLD\n",
       "4  7001001 2011-11-08 13:09:45      5  Aleksandrzak Leszek  Przeciw  SLD"
      ]
     },
     "metadata": {},
     "output_type": "display_data"
    },
    {
     "data": {
      "image/png": "[encoded data removed]",
      "text/plain": [
       "<Figure size 576x288 with 1 Axes>"
      ]
     },
     "metadata": {
      "needs_background": "light"
     },
     "output_type": "display_data"
    },
    {
     "name": "stdout",
     "output_type": "stream",
     "text": [
      "2011-11-08 13:09:45 2015-10-09 10:24:58\n",
      "2011-11 2015-10\n"
     ]
    }
   ],
   "source": [
    "k = 7\n",
    "xml_file_path = '.\\Sejm-20240316T162344Z-001\\Sejm\\GLO7k1p102p_i\\GLO7k1p102p_i.xml'\n",
    "csv_file = 'data\\GLO7k1p102p_i.csv'\n",
    "\n",
    "df_all = pre.save_xml_as_csv(xml_file_path, csv_file)\n",
    "\n",
    "display(df_all.head())\n",
    "\n",
    "assert np.all(df_all.dtypes.values == [np.dtype('int32'), np.dtype('<M8[ns]'), np.dtype('int32'), np.dtype('O'), np.dtype('O'), np.dtype('O')])\n",
    "assert df_all.isnull().sum().sum() == 0\n",
    "assert df_all[df_all.duplicated()].size == 0\n",
    "\n",
    "plt.figure(figsize=(8, 4))\n",
    "sns.histplot(data=df_all, x='Glos', discrete=True)\n",
    "plt.xticks(rotation=45)\n",
    "plt.show()\n",
    "\n",
    "print(df_all['data_godzina'].min(), df_all['data_godzina'].max())\n",
    "y_m_list = pd.date_range(df_all['data_godzina'].min(), df_all['data_godzina'].max(), \n",
    "              freq='M').strftime(\"%Y-%m\").tolist()\n",
    "\n",
    "y_m_list.append(df_all['data_godzina'].max().strftime(\"%Y-%m\"))\n",
    "print(y_m_list[0], y_m_list[-1])\n",
    "y_m_list = [x.split('-') for x in y_m_list]\n",
    "\n",
    "# df_deputies = pre.assign_node_ids(df_all)"
   ]
  },
  {
   "cell_type": "code",
   "execution_count": 56,
   "id": "0e2f5999",
   "metadata": {},
   "outputs": [],
   "source": [
    "df_all = df_all.replace({461: 21, 462:127, 459:142, 460:393}) \n",
    "df_all = df_all.replace({463:459, 464:460})\n",
    "\n",
    "df_deputies = pre.create_deputy_df(df_all)\n",
    "    \n",
    "vote_ids = sorted(df_all['vote_id'].unique())\n",
    "deputy_ids_per_vote = [df_all[df_all['vote_id'] == vote_id]['Nrleg'].unique() for vote_id in vote_ids]\n",
    "\n",
    "removed_ids, new_ids = pre.make_queues(df_deputies, vote_ids, deputy_ids_per_vote)\n",
    "\n",
    "removed_ids.remove((285, ['RP', 'TR', 'niez.'], 7101001))\n",
    "removed_ids.remove((27, ['RP', 'TR'], 7083001))\n",
    "\n",
    "\n",
    "# new_ids.remove((460, ['niez.'], 7001011))\n",
    "# new_ids.remove((459, ['SP', 'PSL', 'niez.', 'KPSP', 'ZP'], 7001011))\n",
    "new_ids.remove((517, ['RP'], 7101001))\n",
    "new_ids.remove((502, ['PiS'], 7083168))\n",
    "\n",
    "node_id_dict = pre.find_pairs(removed_ids, new_ids)\n",
    "\n",
    "node_id_dict[517] = 285\n",
    "node_id_dict[502] = 27\n",
    "node_id_dict[499] = 336\n",
    "\n",
    "\n",
    "node_id_dict_func = lambda x: node_id_dict[x]\n",
    "node_id_dict_func = np.vectorize(node_id_dict_func)\n",
    "\n",
    "df_deputies['node_id'] = node_id_dict_func(df_deputies['Nrleg'])\n",
    "df_deputies['node_id'] = df_deputies['node_id'] - 1"
   ]
  },
  {
   "cell_type": "code",
   "execution_count": 34,
   "id": "e663cb15",
   "metadata": {
    "scrolled": true
   },
   "outputs": [
    {
     "name": "stderr",
     "output_type": "stream",
     "text": [
      "100%|██████████████████████████████████████████████████████████████████████████████████| 38/38 [00:03<00:00, 11.78it/s]\n",
      "100%|██████████████████████████████████████████████████████████████████████████████████| 38/38 [00:02<00:00, 16.91it/s]\n",
      "100%|████████████████████████████████████████████████████████████████████████████████| 249/249 [00:23<00:00, 10.43it/s]\n",
      "100%|████████████████████████████████████████████████████████████████████████████████████| 6/6 [00:00<00:00, 22.58it/s]\n",
      "100%|████████████████████████████████████████████████████████████████████████████████| 124/124 [00:09<00:00, 13.38it/s]\n",
      "100%|██████████████████████████████████████████████████████████████████████████████████| 71/71 [00:05<00:00, 13.25it/s]\n",
      "100%|████████████████████████████████████████████████████████████████████████████████| 127/127 [00:10<00:00, 11.88it/s]\n",
      "100%|██████████████████████████████████████████████████████████████████████████████████| 78/78 [00:05<00:00, 14.22it/s]\n",
      "100%|██████████████████████████████████████████████████████████████████████████████████| 62/62 [00:04<00:00, 14.12it/s]\n",
      "100%|██████████████████████████████████████████████████████████████████████████████████| 20/20 [00:01<00:00, 11.85it/s]\n",
      "100%|██████████████████████████████████████████████████████████████████████████████████| 42/42 [00:02<00:00, 16.19it/s]\n",
      "100%|████████████████████████████████████████████████████████████████████████████████| 119/119 [00:09<00:00, 12.21it/s]\n",
      "100%|████████████████████████████████████████████████████████████████████████████████| 139/139 [00:11<00:00, 12.42it/s]\n",
      "100%|████████████████████████████████████████████████████████████████████████████████| 360/360 [00:45<00:00,  7.91it/s]\n",
      "100%|██████████████████████████████████████████████████████████████████████████████████| 71/71 [00:05<00:00, 12.91it/s]\n",
      "100%|██████████████████████████████████████████████████████████████████████████████████| 32/32 [00:02<00:00, 15.52it/s]\n",
      "100%|██████████████████████████████████████████████████████████████████████████████████| 88/88 [00:06<00:00, 12.86it/s]\n",
      "100%|████████████████████████████████████████████████████████████████████████████████| 146/146 [00:12<00:00, 11.48it/s]\n",
      "100%|██████████████████████████████████████████████████████████████████████████████████| 88/88 [00:07<00:00, 11.41it/s]\n",
      "100%|████████████████████████████████████████████████████████████████████████████████| 143/143 [00:13<00:00, 10.75it/s]\n",
      "100%|████████████████████████████████████████████████████████████████████████████████| 154/154 [00:15<00:00,  9.97it/s]\n",
      "100%|██████████████████████████████████████████████████████████████████████████████████| 85/85 [00:06<00:00, 13.20it/s]\n"
     ]
    },
    {
     "name": "stdout",
     "output_type": "stream",
     "text": [
      "246 G_7_2013_08\n"
     ]
    },
    {
     "name": "stderr",
     "output_type": "stream",
     "text": [
      "100%|████████████████████████████████████████████████████████████████████████████████| 119/119 [00:08<00:00, 13.49it/s]\n",
      "100%|████████████████████████████████████████████████████████████████████████████████| 110/110 [00:09<00:00, 11.84it/s]\n",
      "100%|████████████████████████████████████████████████████████████████████████████████| 119/119 [00:10<00:00, 11.30it/s]\n",
      "100%|████████████████████████████████████████████████████████████████████████████████| 262/262 [00:28<00:00,  9.20it/s]\n",
      "100%|████████████████████████████████████████████████████████████████████████████████| 111/111 [00:09<00:00, 12.07it/s]\n",
      "100%|██████████████████████████████████████████████████████████████████████████████████| 69/69 [00:04<00:00, 14.86it/s]\n",
      "100%|████████████████████████████████████████████████████████████████████████████████| 110/110 [00:09<00:00, 11.93it/s]\n",
      "100%|████████████████████████████████████████████████████████████████████████████████| 120/120 [00:10<00:00, 11.65it/s]\n",
      "100%|████████████████████████████████████████████████████████████████████████████████| 131/131 [00:11<00:00, 11.06it/s]\n",
      "100%|████████████████████████████████████████████████████████████████████████████████| 137/137 [00:12<00:00, 11.23it/s]\n",
      "100%|████████████████████████████████████████████████████████████████████████████████| 208/208 [00:19<00:00, 10.67it/s]\n",
      "100%|██████████████████████████████████████████████████████████████████████████████████| 89/89 [00:07<00:00, 11.55it/s]\n",
      "100%|██████████████████████████████████████████████████████████████████████████████████| 58/58 [00:04<00:00, 12.84it/s]\n"
     ]
    },
    {
     "name": "stdout",
     "output_type": "stream",
     "text": [
      "330 G_7_2014_09\n"
     ]
    },
    {
     "name": "stderr",
     "output_type": "stream",
     "text": [
      "100%|██████████████████████████████████████████████████████████████████████████████████| 96/96 [00:07<00:00, 12.49it/s]\n",
      "100%|████████████████████████████████████████████████████████████████████████████████| 171/171 [00:16<00:00, 10.24it/s]\n",
      "100%|████████████████████████████████████████████████████████████████████████████████| 255/255 [00:26<00:00,  9.46it/s]\n"
     ]
    },
    {
     "name": "stdout",
     "output_type": "stream",
     "text": [
      "421 G_7_2014_12\n"
     ]
    },
    {
     "name": "stderr",
     "output_type": "stream",
     "text": [
      "100%|████████████████████████████████████████████████████████████████████████████████| 218/218 [00:22<00:00,  9.86it/s]\n"
     ]
    },
    {
     "name": "stdout",
     "output_type": "stream",
     "text": [
      "263 G_7_2015_01\n"
     ]
    },
    {
     "name": "stderr",
     "output_type": "stream",
     "text": [
      "100%|████████████████████████████████████████████████████████████████████████████████| 186/186 [00:17<00:00, 10.51it/s]\n",
      "100%|██████████████████████████████████████████████████████████████████████████████████| 87/87 [00:06<00:00, 13.71it/s]\n",
      "100%|████████████████████████████████████████████████████████████████████████████████| 132/132 [00:11<00:00, 11.63it/s]\n",
      "100%|████████████████████████████████████████████████████████████████████████████████| 273/273 [00:27<00:00, 10.01it/s]\n",
      "100%|████████████████████████████████████████████████████████████████████████████████| 196/196 [00:18<00:00, 10.43it/s]\n",
      "100%|████████████████████████████████████████████████████████████████████████████████| 289/289 [00:33<00:00,  8.52it/s]\n",
      "100%|████████████████████████████████████████████████████████████████████████████████| 142/142 [00:12<00:00, 11.52it/s]\n",
      "100%|████████████████████████████████████████████████████████████████████████████████| 243/243 [00:24<00:00,  9.80it/s]\n",
      "100%|██████████████████████████████████████████████████████████████████████████████████| 80/80 [00:06<00:00, 12.40it/s]\n"
     ]
    }
   ],
   "source": [
    "for year, month in y_m_list:\n",
    "    df_m = df_all[(df_all['data_godzina'].dt.month == int(month)) & (df_all['data_godzina'].dt.year == int(year))]\n",
    "    \n",
    "    if len(df_m) == 0:\n",
    "        print(year, month, 'no votings')\n",
    "        continue\n",
    "    \n",
    "    df_m = pd.merge(df_m[['vote_id', 'data_godzina', 'Nrleg', 'NazwiskoImie', 'Glos', 'Klub']], df_deputies[['Nrleg', 'NazwiskoImie', 'node_id']], on=['Nrleg', 'NazwiskoImie'], how='left')\n",
    "    df_node_atr = pre.assign_attributes(df_m)\n",
    "    df_node_atr.to_csv(f'df_node_atr/monthly/G_{k}_{year}_{month}.csv', index=False)\n",
    "    \n",
    "    edge_matrix = pre.egde_weights(df_m)\n",
    "    \n",
    "    G = pre.create_graph(edge_matrix, df_node_atr, file_name=f\"G_{k}_{year}_{month}\", monthly=True)"
   ]
  },
  {
   "cell_type": "code",
   "execution_count": 35,
   "id": "87a6a4ce",
   "metadata": {},
   "outputs": [
    {
     "name": "stderr",
     "output_type": "stream",
     "text": [
      "100%|████████████████████████████████████████████████████████████████████████████| 6291/6291 [2:12:28<00:00,  1.26s/it]\n"
     ]
    },
    {
     "data": {
      "text/plain": [
       "<networkx.classes.graph.Graph at 0x20b0a39a6a0>"
      ]
     },
     "execution_count": 35,
     "metadata": {},
     "output_type": "execute_result"
    }
   ],
   "source": [
    "df_all = pd.merge(df_all, df_deputies[['Nrleg', 'NazwiskoImie', 'node_id']], on=['Nrleg', 'NazwiskoImie'], how='left')\n",
    "df_node_atr = pre.assign_attributes(df_all)\n",
    "df_node_atr.to_csv(f'df_node_atr/G_{k}.csv', index=False)\n",
    "\n",
    "edge_matrix = pre.egde_weights(df_all)\n",
    "\n",
    "pre.create_graph(edge_matrix, df_node_atr, file_name=f\"G_{k}\", monthly=False)"
   ]
  },
  {
   "cell_type": "code",
   "execution_count": 57,
   "id": "69f08858",
   "metadata": {},
   "outputs": [
    {
     "name": "stdout",
     "output_type": "stream",
     "text": [
      "[Timestamp('2011-11-08 13:09:45'), Timestamp('2012-10-31 13:09:45', freq='M'), Timestamp('2013-10-31 13:09:45', freq='M'), Timestamp('2014-10-31 13:09:45', freq='M'), Timestamp('2015-10-09 10:24:58')]\n"
     ]
    },
    {
     "name": "stderr",
     "output_type": "stream",
     "text": [
      "100%|████████████████████████████████████████████████████████████████████████████████| 974/974 [04:22<00:00,  3.71it/s]\n",
      "100%|██████████████████████████████████████████████████████████████████████████████| 1535/1535 [09:18<00:00,  2.75it/s]\n",
      "100%|██████████████████████████████████████████████████████████████████████████████| 1510/1510 [08:47<00:00,  2.86it/s]\n",
      "100%|██████████████████████████████████████████████████████████████████████████████| 2271/2271 [17:17<00:00,  2.19it/s]\n"
     ]
    }
   ],
   "source": [
    "start = df_all['data_godzina'].min()\n",
    "end_1 = pd.date_range(start=df_all['data_godzina'].min(), periods=12, freq='M')[-1]\n",
    "end_2 = pd.date_range(start=end_1, periods=13, freq='M')[-1]\n",
    "end_3 = pd.date_range(start=end_2, periods=13, freq='M')[-1]\n",
    "end_4 = df_all['data_godzina'].max()\n",
    "\n",
    "start_end_dates = [start, end_1, end_2, end_3, end_4]\n",
    "print(start_end_dates)\n",
    "\n",
    "for i in range(1, len(start_end_dates)):\n",
    "    start_dt = start_end_dates[i-1]\n",
    "    end_dt = start_end_dates[i]\n",
    "    df_y = df_all[(df_all['data_godzina'] >= start_dt) & (df_all['data_godzina'] < end_dt)]\n",
    "    \n",
    "    df_y = pd.merge(df_y[['vote_id', 'data_godzina', 'Nrleg', 'NazwiskoImie', 'Glos', 'Klub']], df_deputies[['Nrleg', 'NazwiskoImie', 'node_id']], on=['Nrleg', 'NazwiskoImie'], how='left')\n",
    "    df_node_atr = pre.assign_attributes(df_y)\n",
    "    df_node_atr.to_csv(f'df_node_atr/yearly/G_{k}_y{i}.csv', index=False)\n",
    "    \n",
    "    edge_matrix = pre.egde_weights(df_y)\n",
    "    \n",
    "    G = pre.create_graph(edge_matrix, df_node_atr, file_name=f\"yearly/G_{k}_y{i}\", monthly=False)"
   ]
  },
  {
   "cell_type": "markdown",
   "id": "ca0f1cb3",
   "metadata": {},
   "source": [
    "## 8th term: 2015 - 2019"
   ]
  },
  {
   "cell_type": "code",
   "execution_count": 58,
   "id": "fbd475a1",
   "metadata": {},
   "outputs": [
    {
     "data": {
      "text/html": [
       "<div>\n",
       "<style scoped>\n",
       "    .dataframe tbody tr th:only-of-type {\n",
       "        vertical-align: middle;\n",
       "    }\n",
       "\n",
       "    .dataframe tbody tr th {\n",
       "        vertical-align: top;\n",
       "    }\n",
       "\n",
       "    .dataframe thead th {\n",
       "        text-align: right;\n",
       "    }\n",
       "</style>\n",
       "<table border=\"1\" class=\"dataframe\">\n",
       "  <thead>\n",
       "    <tr style=\"text-align: right;\">\n",
       "      <th></th>\n",
       "      <th>vote_id</th>\n",
       "      <th>data_godzina</th>\n",
       "      <th>Nrleg</th>\n",
       "      <th>NazwiskoImie</th>\n",
       "      <th>Glos</th>\n",
       "      <th>Klub</th>\n",
       "    </tr>\n",
       "  </thead>\n",
       "  <tbody>\n",
       "    <tr>\n",
       "      <th>0</th>\n",
       "      <td>8001002</td>\n",
       "      <td>2015-11-12 18:18:06</td>\n",
       "      <td>1</td>\n",
       "      <td>Abramowicz Adam</td>\n",
       "      <td>Przeciw</td>\n",
       "      <td>PiS</td>\n",
       "    </tr>\n",
       "    <tr>\n",
       "      <th>1</th>\n",
       "      <td>8001002</td>\n",
       "      <td>2015-11-12 18:18:06</td>\n",
       "      <td>2</td>\n",
       "      <td>Adamczyk Andrzej</td>\n",
       "      <td>Przeciw</td>\n",
       "      <td>PiS</td>\n",
       "    </tr>\n",
       "    <tr>\n",
       "      <th>2</th>\n",
       "      <td>8001002</td>\n",
       "      <td>2015-11-12 18:18:06</td>\n",
       "      <td>3</td>\n",
       "      <td>Ajchler Zbigniew</td>\n",
       "      <td>Nieobecny</td>\n",
       "      <td>PO</td>\n",
       "    </tr>\n",
       "    <tr>\n",
       "      <th>3</th>\n",
       "      <td>8001002</td>\n",
       "      <td>2015-11-12 18:18:06</td>\n",
       "      <td>4</td>\n",
       "      <td>Andruszkiewicz Adam</td>\n",
       "      <td>Wstrzymał się</td>\n",
       "      <td>Kukiz15</td>\n",
       "    </tr>\n",
       "    <tr>\n",
       "      <th>4</th>\n",
       "      <td>8001002</td>\n",
       "      <td>2015-11-12 18:18:06</td>\n",
       "      <td>5</td>\n",
       "      <td>Andzel Waldemar</td>\n",
       "      <td>Przeciw</td>\n",
       "      <td>PiS</td>\n",
       "    </tr>\n",
       "  </tbody>\n",
       "</table>\n",
       "</div>"
      ],
      "text/plain": [
       "   vote_id        data_godzina  Nrleg         NazwiskoImie           Glos  \\\n",
       "0  8001002 2015-11-12 18:18:06      1      Abramowicz Adam        Przeciw   \n",
       "1  8001002 2015-11-12 18:18:06      2     Adamczyk Andrzej        Przeciw   \n",
       "2  8001002 2015-11-12 18:18:06      3     Ajchler Zbigniew      Nieobecny   \n",
       "3  8001002 2015-11-12 18:18:06      4  Andruszkiewicz Adam  Wstrzymał się   \n",
       "4  8001002 2015-11-12 18:18:06      5      Andzel Waldemar        Przeciw   \n",
       "\n",
       "      Klub  \n",
       "0      PiS  \n",
       "1      PiS  \n",
       "2       PO  \n",
       "3  Kukiz15  \n",
       "4      PiS  "
      ]
     },
     "metadata": {},
     "output_type": "display_data"
    },
    {
     "data": {
      "image/png": "[encoded data removed]",
      "text/plain": [
       "<Figure size 576x288 with 1 Axes>"
      ]
     },
     "metadata": {
      "needs_background": "light"
     },
     "output_type": "display_data"
    },
    {
     "name": "stdout",
     "output_type": "stream",
     "text": [
      "2015-11-12 18:18:06 2019-10-16 18:37:05\n",
      "2015-11 2019-10\n"
     ]
    }
   ],
   "source": [
    "k = 8\n",
    "xml_file_path = '.\\Sejm-20240316T162344Z-001\\Sejm\\GLO8k1p86p_i\\GLO8k1p86p_i.xml'\n",
    "csv_file = 'data\\GLO8k1p86p_i.csv'\n",
    "\n",
    "df_all = pre.save_xml_as_csv(xml_file_path, csv_file)\n",
    "\n",
    "display(df_all.head())\n",
    "\n",
    "assert np.all(df_all.dtypes.values == [np.dtype('int32'), np.dtype('<M8[ns]'), np.dtype('int32'), np.dtype('O'), np.dtype('O'), np.dtype('O')])\n",
    "assert df_all.isnull().sum().sum() == 0\n",
    "assert df_all[df_all.duplicated()].size == 0\n",
    "\n",
    "plt.figure(figsize=(8, 4))\n",
    "sns.histplot(data=df_all, x='Glos', discrete=True)\n",
    "plt.xticks(rotation=45)\n",
    "plt.show()\n",
    "\n",
    "print(df_all['data_godzina'].min(), df_all['data_godzina'].max())\n",
    "y_m_list = pd.date_range(df_all['data_godzina'].min(), df_all['data_godzina'].max(), \n",
    "              freq='M').strftime(\"%Y-%m\").tolist()\n",
    "\n",
    "y_m_list.append(df_all['data_godzina'].max().strftime(\"%Y-%m\"))\n",
    "print(y_m_list[0], y_m_list[-1])\n",
    "y_m_list = [x.split('-') for x in y_m_list]"
   ]
  },
  {
   "cell_type": "code",
   "execution_count": 59,
   "id": "9fc7ede9",
   "metadata": {},
   "outputs": [],
   "source": [
    "df_all = df_all.replace({461:202})\n",
    "df_deputies = pre.create_deputy_df(df_all)\n",
    "    \n",
    "vote_ids = sorted(df_all['vote_id'].unique())\n",
    "deputy_ids_per_vote = [df_all[df_all['vote_id'] == vote_id]['Nrleg'].unique() for vote_id in vote_ids]\n",
    "\n",
    "removed_ids, new_ids = pre.make_queues(df_deputies, vote_ids, deputy_ids_per_vote)\n",
    "\n",
    "removed_ids.remove((436, ['Kukiz15'], 8034001))\n",
    "removed_ids.remove((19, ['Kukiz15'], 8071001))\n",
    "removed_ids.remove((169, ['PO', 'PO-KO'], 8082001))\n",
    "removed_ids.remove((259, ['PSL', 'niez.', 'PiS'], 8082001))\n",
    "\n",
    "\n",
    "new_ids.remove((471, ['niez.', 'Republikanie', 'PiS'], 8035001))\n",
    "new_ids.remove((478, ['niez.', 'Konfederacja'], 8072001))\n",
    "new_ids.remove((493, ['niez.', 'PSL-UED', 'PSL-KP'], 8082001))\n",
    "new_ids.remove((500, ['PSL-UED', 'PSL-KP'], 8082001))\n",
    "\n",
    "node_id_dict = pre.find_pairs(removed_ids, new_ids)\n",
    "\n",
    "node_id_dict[471] = 436\n",
    "node_id_dict[478] = 19\n",
    "node_id_dict[493] = 169\n",
    "node_id_dict[500] = 259\n",
    "node_id_dict[476] = 460\n",
    "\n",
    "\n",
    "node_id_dict_func = lambda x: node_id_dict[x]\n",
    "node_id_dict_func = np.vectorize(node_id_dict_func)\n",
    "\n",
    "df_deputies['node_id'] = node_id_dict_func(df_deputies['Nrleg'])\n",
    "df_deputies['node_id'] = df_deputies['node_id'] - 1"
   ]
  },
  {
   "cell_type": "code",
   "execution_count": 5,
   "id": "347b7a65",
   "metadata": {
    "scrolled": true
   },
   "outputs": [
    {
     "name": "stderr",
     "output_type": "stream",
     "text": [
      "100%|████████████████████████████████████████████████████████████████████████████████| 106/106 [00:08<00:00, 12.98it/s]\n",
      "100%|████████████████████████████████████████████████████████████████████████████████| 213/213 [00:17<00:00, 11.89it/s]\n",
      "100%|████████████████████████████████████████████████████████████████████████████████| 396/396 [00:40<00:00,  9.81it/s]\n",
      "100%|██████████████████████████████████████████████████████████████████████████████████| 78/78 [00:05<00:00, 13.17it/s]\n",
      "100%|████████████████████████████████████████████████████████████████████████████████| 221/221 [00:20<00:00, 10.95it/s]\n",
      "100%|████████████████████████████████████████████████████████████████████████████████| 122/122 [00:11<00:00, 10.93it/s]\n",
      "100%|████████████████████████████████████████████████████████████████████████████████| 177/177 [00:14<00:00, 12.16it/s]\n",
      "100%|████████████████████████████████████████████████████████████████████████████████| 302/302 [00:31<00:00,  9.66it/s]\n",
      "100%|████████████████████████████████████████████████████████████████████████████████| 219/219 [00:19<00:00, 11.43it/s]\n"
     ]
    },
    {
     "name": "stdout",
     "output_type": "stream",
     "text": [
      "2016 08 no votings\n"
     ]
    },
    {
     "name": "stderr",
     "output_type": "stream",
     "text": [
      "100%|██████████████████████████████████████████████████████████████████████████████████| 76/76 [00:05<00:00, 12.77it/s]\n",
      "100%|████████████████████████████████████████████████████████████████████████████████| 107/107 [00:07<00:00, 14.03it/s]\n",
      "100%|████████████████████████████████████████████████████████████████████████████████| 294/294 [00:28<00:00, 10.29it/s]\n",
      "100%|████████████████████████████████████████████████████████████████████████████████| 268/268 [00:24<00:00, 11.14it/s]\n",
      "100%|██████████████████████████████████████████████████████████████████████████████████| 28/28 [00:01<00:00, 17.75it/s]\n"
     ]
    },
    {
     "name": "stdout",
     "output_type": "stream",
     "text": [
      "434 G_8_2017_01\n"
     ]
    },
    {
     "name": "stderr",
     "output_type": "stream",
     "text": [
      "100%|████████████████████████████████████████████████████████████████████████████████| 111/111 [00:07<00:00, 14.36it/s]\n",
      "100%|████████████████████████████████████████████████████████████████████████████████| 118/118 [00:09<00:00, 12.55it/s]\n",
      "100%|████████████████████████████████████████████████████████████████████████████████| 135/135 [00:10<00:00, 13.35it/s]\n",
      "100%|████████████████████████████████████████████████████████████████████████████████| 120/120 [00:09<00:00, 13.17it/s]\n",
      "100%|████████████████████████████████████████████████████████████████████████████████| 134/134 [00:09<00:00, 13.73it/s]\n",
      "100%|████████████████████████████████████████████████████████████████████████████████| 358/358 [00:33<00:00, 10.81it/s]\n"
     ]
    },
    {
     "name": "stdout",
     "output_type": "stream",
     "text": [
      "2017 08 no votings\n"
     ]
    },
    {
     "name": "stderr",
     "output_type": "stream",
     "text": [
      "100%|████████████████████████████████████████████████████████████████████████████████| 112/112 [00:07<00:00, 14.34it/s]\n",
      "100%|████████████████████████████████████████████████████████████████████████████████| 129/129 [00:09<00:00, 13.45it/s]\n",
      "100%|████████████████████████████████████████████████████████████████████████████████| 216/216 [00:17<00:00, 12.27it/s]\n",
      "100%|████████████████████████████████████████████████████████████████████████████████| 287/287 [00:24<00:00, 11.57it/s]\n",
      "100%|████████████████████████████████████████████████████████████████████████████████| 582/582 [01:13<00:00,  7.97it/s]\n",
      "100%|██████████████████████████████████████████████████████████████████████████████████| 83/83 [00:05<00:00, 14.67it/s]\n",
      "100%|████████████████████████████████████████████████████████████████████████████████| 199/199 [00:18<00:00, 11.04it/s]\n",
      "100%|██████████████████████████████████████████████████████████████████████████████████| 78/78 [00:04<00:00, 15.98it/s]\n",
      "100%|████████████████████████████████████████████████████████████████████████████████| 113/113 [00:08<00:00, 12.99it/s]\n",
      "100%|████████████████████████████████████████████████████████████████████████████████| 195/195 [00:16<00:00, 11.63it/s]\n",
      "100%|████████████████████████████████████████████████████████████████████████████████| 512/512 [01:03<00:00,  8.06it/s]\n"
     ]
    },
    {
     "name": "stdout",
     "output_type": "stream",
     "text": [
      "2018 08 no votings\n"
     ]
    },
    {
     "name": "stderr",
     "output_type": "stream",
     "text": [
      "100%|██████████████████████████████████████████████████████████████████████████████████| 35/35 [00:01<00:00, 18.82it/s]\n",
      "100%|████████████████████████████████████████████████████████████████████████████████| 145/145 [00:10<00:00, 13.71it/s]\n",
      "100%|████████████████████████████████████████████████████████████████████████████████| 197/197 [00:16<00:00, 11.82it/s]\n"
     ]
    },
    {
     "name": "stdout",
     "output_type": "stream",
     "text": [
      "405 G_8_2018_11\n"
     ]
    },
    {
     "name": "stderr",
     "output_type": "stream",
     "text": [
      "100%|████████████████████████████████████████████████████████████████████████████████| 139/139 [00:10<00:00, 13.06it/s]\n",
      "100%|████████████████████████████████████████████████████████████████████████████████| 495/495 [00:52<00:00,  9.44it/s]\n",
      "100%|████████████████████████████████████████████████████████████████████████████████| 133/133 [00:09<00:00, 13.44it/s]\n",
      "100%|██████████████████████████████████████████████████████████████████████████████████| 70/70 [00:04<00:00, 16.10it/s]\n",
      "100%|████████████████████████████████████████████████████████████████████████████████| 130/130 [00:09<00:00, 14.03it/s]\n",
      "100%|██████████████████████████████████████████████████████████████████████████████████| 98/98 [00:06<00:00, 16.16it/s]\n",
      "100%|████████████████████████████████████████████████████████████████████████████████| 132/132 [00:09<00:00, 13.50it/s]\n"
     ]
    },
    {
     "name": "stdout",
     "output_type": "stream",
     "text": [
      "117 G_8_2019_06\n"
     ]
    },
    {
     "name": "stderr",
     "output_type": "stream",
     "text": [
      "100%|████████████████████████████████████████████████████████████████████████████████| 318/318 [00:31<00:00, 10.16it/s]\n",
      "100%|██████████████████████████████████████████████████████████████████████████████████| 47/47 [00:03<00:00, 13.31it/s]\n",
      "100%|██████████████████████████████████████████████████████████████████████████████████| 88/88 [00:05<00:00, 15.34it/s]\n",
      "100%|██████████████████████████████████████████████████████████████████████████████████| 38/38 [00:02<00:00, 13.74it/s]\n"
     ]
    },
    {
     "name": "stdout",
     "output_type": "stream",
     "text": [
      "388 G_8_2019_10\n"
     ]
    }
   ],
   "source": [
    "for year, month in y_m_list:\n",
    "    df_m = df_all[(df_all['data_godzina'].dt.month == int(month)) & (df_all['data_godzina'].dt.year == int(year))]\n",
    "    \n",
    "    if len(df_m) == 0:\n",
    "        print(year, month, 'no votings')\n",
    "        continue\n",
    "    \n",
    "    df_m = pd.merge(df_m[['vote_id', 'data_godzina', 'Nrleg', 'NazwiskoImie', 'Glos', 'Klub']], df_deputies[['Nrleg', 'NazwiskoImie', 'node_id']], on=['Nrleg', 'NazwiskoImie'], how='left')\n",
    "    df_node_atr = pre.assign_attributes(df_m)\n",
    "    df_node_atr.to_csv(f'df_node_atr/monthly/G_{k}_{year}_{month}.csv', index=False)\n",
    "    \n",
    "    edge_matrix = pre.egde_weights(df_m)\n",
    "    \n",
    "    G = pre.create_graph(edge_matrix, df_node_atr, file_name=f\"G_{k}_{year}_{month}\", monthly=True)"
   ]
  },
  {
   "cell_type": "code",
   "execution_count": 6,
   "id": "01c08217",
   "metadata": {},
   "outputs": [
    {
     "name": "stderr",
     "output_type": "stream",
     "text": [
      "100%|████████████████████████████████████████████████████████████████████████████| 8154/8154 [2:23:40<00:00,  1.06s/it]\n"
     ]
    },
    {
     "data": {
      "text/plain": [
       "<networkx.classes.graph.Graph at 0x1db02fefca0>"
      ]
     },
     "execution_count": 6,
     "metadata": {},
     "output_type": "execute_result"
    }
   ],
   "source": [
    "df_all = pd.merge(df_all, df_deputies[['Nrleg', 'NazwiskoImie', 'node_id']], on=['Nrleg', 'NazwiskoImie'], how='left')\n",
    "df_node_atr = pre.assign_attributes(df_all)\n",
    "df_node_atr.to_csv(f'df_node_atr/G_{k}.csv', index=False)\n",
    "\n",
    "edge_matrix = pre.egde_weights(df_all)\n",
    "\n",
    "pre.create_graph(edge_matrix, df_node_atr, file_name=f\"G_{k}\", monthly=False)"
   ]
  },
  {
   "cell_type": "code",
   "execution_count": 60,
   "id": "58f3cebf",
   "metadata": {},
   "outputs": [
    {
     "name": "stdout",
     "output_type": "stream",
     "text": [
      "[Timestamp('2015-11-12 18:18:06'), Timestamp('2016-10-31 18:18:06', freq='M'), Timestamp('2017-10-31 18:18:06', freq='M'), Timestamp('2018-10-31 18:18:06', freq='M'), Timestamp('2019-10-16 18:37:05')]\n"
     ]
    },
    {
     "name": "stderr",
     "output_type": "stream",
     "text": [
      "100%|██████████████████████████████████████████████████████████████████████████████| 2017/2017 [15:28<00:00,  2.17it/s]\n",
      "100%|██████████████████████████████████████████████████████████████████████████████| 1807/1807 [12:02<00:00,  2.50it/s]\n",
      "100%|██████████████████████████████████████████████████████████████████████████████| 2445/2445 [20:43<00:00,  1.97it/s]\n",
      "100%|██████████████████████████████████████████████████████████████████████████████| 1884/1884 [11:23<00:00,  2.76it/s]\n"
     ]
    }
   ],
   "source": [
    "start = df_all['data_godzina'].min()\n",
    "end_1 = pd.date_range(start=df_all['data_godzina'].min(), periods=12, freq='M')[-1]\n",
    "end_2 = pd.date_range(start=end_1, periods=13, freq='M')[-1]\n",
    "end_3 = pd.date_range(start=end_2, periods=13, freq='M')[-1]\n",
    "end_4 = df_all['data_godzina'].max()\n",
    "\n",
    "start_end_dates = [start, end_1, end_2, end_3, end_4]\n",
    "print(start_end_dates)\n",
    "\n",
    "for i in range(1, len(start_end_dates)):\n",
    "    start_dt = start_end_dates[i-1]\n",
    "    end_dt = start_end_dates[i]\n",
    "    df_y = df_all[(df_all['data_godzina'] >= start_dt) & (df_all['data_godzina'] < end_dt)]\n",
    "    \n",
    "    df_y = pd.merge(df_y[['vote_id', 'data_godzina', 'Nrleg', 'NazwiskoImie', 'Glos', 'Klub']], df_deputies[['Nrleg', 'NazwiskoImie', 'node_id']], on=['Nrleg', 'NazwiskoImie'], how='left')\n",
    "    df_node_atr = pre.assign_attributes(df_y)\n",
    "    df_node_atr.to_csv(f'df_node_atr/yearly/G_{k}_y{i}.csv', index=False)\n",
    "    \n",
    "    edge_matrix = pre.egde_weights(df_y)\n",
    "    \n",
    "    G = pre.create_graph(edge_matrix, df_node_atr, file_name=f\"yearly/G_{k}_y{i}\", monthly=False)"
   ]
  },
  {
   "cell_type": "markdown",
   "id": "4a2402fa",
   "metadata": {},
   "source": [
    "## 9th term: 2021 - 2023"
   ]
  },
  {
   "cell_type": "code",
   "execution_count": 61,
   "id": "c9fecd24",
   "metadata": {},
   "outputs": [
    {
     "data": {
      "text/html": [
       "<div>\n",
       "<style scoped>\n",
       "    .dataframe tbody tr th:only-of-type {\n",
       "        vertical-align: middle;\n",
       "    }\n",
       "\n",
       "    .dataframe tbody tr th {\n",
       "        vertical-align: top;\n",
       "    }\n",
       "\n",
       "    .dataframe thead th {\n",
       "        text-align: right;\n",
       "    }\n",
       "</style>\n",
       "<table border=\"1\" class=\"dataframe\">\n",
       "  <thead>\n",
       "    <tr style=\"text-align: right;\">\n",
       "      <th></th>\n",
       "      <th>data_godzina</th>\n",
       "      <th>term</th>\n",
       "      <th>sitting</th>\n",
       "      <th>votingNumber</th>\n",
       "      <th>Nrleg</th>\n",
       "      <th>Klub</th>\n",
       "      <th>firstName</th>\n",
       "      <th>lastName</th>\n",
       "      <th>Glos</th>\n",
       "      <th>vote_id</th>\n",
       "      <th>NazwiskoImie</th>\n",
       "    </tr>\n",
       "  </thead>\n",
       "  <tbody>\n",
       "    <tr>\n",
       "      <th>0</th>\n",
       "      <td>2019-11-12 15:26:06</td>\n",
       "      <td>9</td>\n",
       "      <td>1</td>\n",
       "      <td>1</td>\n",
       "      <td>1</td>\n",
       "      <td>PiS</td>\n",
       "      <td>Andrzej</td>\n",
       "      <td>Adamczyk</td>\n",
       "      <td>Za</td>\n",
       "      <td>9001001</td>\n",
       "      <td>Adamczyk Andrzej</td>\n",
       "    </tr>\n",
       "    <tr>\n",
       "      <th>1</th>\n",
       "      <td>2019-11-12 15:26:06</td>\n",
       "      <td>9</td>\n",
       "      <td>1</td>\n",
       "      <td>1</td>\n",
       "      <td>2</td>\n",
       "      <td>SLD</td>\n",
       "      <td>Rafał</td>\n",
       "      <td>Adamczyk</td>\n",
       "      <td>Za</td>\n",
       "      <td>9001001</td>\n",
       "      <td>Adamczyk Rafał</td>\n",
       "    </tr>\n",
       "    <tr>\n",
       "      <th>2</th>\n",
       "      <td>2019-11-12 15:26:06</td>\n",
       "      <td>9</td>\n",
       "      <td>1</td>\n",
       "      <td>1</td>\n",
       "      <td>3</td>\n",
       "      <td>KO</td>\n",
       "      <td>Piotr</td>\n",
       "      <td>Adamowicz</td>\n",
       "      <td>Wstrzymał się</td>\n",
       "      <td>9001001</td>\n",
       "      <td>Adamowicz Piotr</td>\n",
       "    </tr>\n",
       "    <tr>\n",
       "      <th>3</th>\n",
       "      <td>2019-11-12 15:26:06</td>\n",
       "      <td>9</td>\n",
       "      <td>1</td>\n",
       "      <td>1</td>\n",
       "      <td>4</td>\n",
       "      <td>SLD</td>\n",
       "      <td>Romuald</td>\n",
       "      <td>Ajchler</td>\n",
       "      <td>Za</td>\n",
       "      <td>9001001</td>\n",
       "      <td>Ajchler Romuald</td>\n",
       "    </tr>\n",
       "    <tr>\n",
       "      <th>4</th>\n",
       "      <td>2019-11-12 15:26:06</td>\n",
       "      <td>9</td>\n",
       "      <td>1</td>\n",
       "      <td>1</td>\n",
       "      <td>5</td>\n",
       "      <td>PiS</td>\n",
       "      <td>Adam</td>\n",
       "      <td>Andruszkiewicz</td>\n",
       "      <td>Za</td>\n",
       "      <td>9001001</td>\n",
       "      <td>Andruszkiewicz Adam</td>\n",
       "    </tr>\n",
       "  </tbody>\n",
       "</table>\n",
       "</div>"
      ],
      "text/plain": [
       "          data_godzina  term  sitting  votingNumber  Nrleg Klub firstName  \\\n",
       "0  2019-11-12 15:26:06     9        1             1      1  PiS   Andrzej   \n",
       "1  2019-11-12 15:26:06     9        1             1      2  SLD     Rafał   \n",
       "2  2019-11-12 15:26:06     9        1             1      3   KO     Piotr   \n",
       "3  2019-11-12 15:26:06     9        1             1      4  SLD   Romuald   \n",
       "4  2019-11-12 15:26:06     9        1             1      5  PiS      Adam   \n",
       "\n",
       "         lastName           Glos  vote_id         NazwiskoImie  \n",
       "0        Adamczyk             Za  9001001     Adamczyk Andrzej  \n",
       "1        Adamczyk             Za  9001001       Adamczyk Rafał  \n",
       "2       Adamowicz  Wstrzymał się  9001001      Adamowicz Piotr  \n",
       "3         Ajchler             Za  9001001      Ajchler Romuald  \n",
       "4  Andruszkiewicz             Za  9001001  Andruszkiewicz Adam  "
      ]
     },
     "execution_count": 61,
     "metadata": {},
     "output_type": "execute_result"
    }
   ],
   "source": [
    "k = 9\n",
    "df_all = pd.read_csv('data/API/GLO9k1p81p_i.csv')\n",
    "df_all['NazwiskoImie'] = df_all['lastName'] + ' ' + df_all['firstName']\n",
    "\n",
    "df_all = df_all.rename(columns={\"date\": \"data_godzina\",\n",
    "                                \"vote\": \"Glos\",\n",
    "                                \"club\": \"Klub\",\n",
    "                                \"MP\": \"Nrleg\"                               \n",
    "                               })\n",
    "\n",
    "df_all['Nrleg'] = df_all['Nrleg'].astype(int)\n",
    "df_all['Glos'] = df_all['Glos'].map({'YES': 'Za', \n",
    "                                     'NO': 'Przeciw',\n",
    "                                     'ABSTAIN': 'Wstrzymał się',\n",
    "                                     'ABSENT': 'Nieobecny'\n",
    "                                    })\n",
    "\n",
    "df_all.head()"
   ]
  },
  {
   "cell_type": "code",
   "execution_count": 62,
   "id": "bacd9d60",
   "metadata": {},
   "outputs": [
    {
     "data": {
      "text/plain": [
       "data_godzina    datetime64[ns]\n",
       "term                     int64\n",
       "sitting                  int64\n",
       "votingNumber             int64\n",
       "Nrleg                    int32\n",
       "Klub                    object\n",
       "firstName               object\n",
       "lastName                object\n",
       "Glos                    object\n",
       "vote_id                  int64\n",
       "NazwiskoImie            object\n",
       "dtype: object"
      ]
     },
     "execution_count": 62,
     "metadata": {},
     "output_type": "execute_result"
    }
   ],
   "source": [
    "df_all = df_all.astype({'data_godzina': 'datetime64[ns]'})\n",
    "df_all.dtypes"
   ]
  },
  {
   "cell_type": "code",
   "execution_count": 63,
   "id": "b87469b3",
   "metadata": {},
   "outputs": [],
   "source": [
    "df_all = df_all[['vote_id', 'data_godzina', 'Nrleg', 'NazwiskoImie', 'Glos', 'Klub']]\n",
    "df_all = df_all.sort_values(['vote_id', 'Nrleg'])"
   ]
  },
  {
   "cell_type": "code",
   "execution_count": 64,
   "id": "ca5ec7ca",
   "metadata": {},
   "outputs": [
    {
     "data": {
      "image/png": "[encoded data removed]",
      "text/plain": [
       "<Figure size 576x288 with 1 Axes>"
      ]
     },
     "metadata": {
      "needs_background": "light"
     },
     "output_type": "display_data"
    },
    {
     "name": "stdout",
     "output_type": "stream",
     "text": [
      "2019-11-12 15:26:06 2023-08-30 19:15:03\n",
      "2019-11 2023-08\n"
     ]
    }
   ],
   "source": [
    "assert df_all.isnull().sum().sum() == 0\n",
    "assert df_all[df_all.duplicated()].size == 0\n",
    "\n",
    "plt.figure(figsize=(8, 4))\n",
    "sns.histplot(data=df_all, x='Glos', discrete=True)\n",
    "plt.xticks(rotation=45)\n",
    "plt.show()\n",
    "\n",
    "print(df_all['data_godzina'].min(), df_all['data_godzina'].max())\n",
    "y_m_list = pd.date_range(df_all['data_godzina'].min(), df_all['data_godzina'].max(), \n",
    "              freq='M').strftime(\"%Y-%m\").tolist()\n",
    "\n",
    "y_m_list.append(df_all['data_godzina'].max().strftime(\"%Y-%m\"))\n",
    "print(y_m_list[0], y_m_list[-1])\n",
    "y_m_list = [x.split('-') for x in y_m_list]"
   ]
  },
  {
   "cell_type": "code",
   "execution_count": 65,
   "id": "763548f9",
   "metadata": {},
   "outputs": [],
   "source": [
    "df_all = df_all.drop(df_all[df_all['vote_id'] == 9001053].index)\n",
    "df_all = df_all.drop(df_all[df_all['vote_id'] == 9047126].index)\n",
    "df_all = df_all.drop(df_all[df_all['vote_id'] == 9031018].index)\n",
    "df_all = df_all.drop(df_all[df_all['vote_id'] == 9034001].index)\n",
    "df_all = df_all.drop(df_all[df_all['vote_id'] == 9061141].index)\n",
    "df_all = df_all.drop(df_all[df_all['vote_id'] == 9063060].index)"
   ]
  },
  {
   "cell_type": "code",
   "execution_count": 66,
   "id": "42494030",
   "metadata": {},
   "outputs": [],
   "source": [
    "df_all.to_csv('data/GLO9k1p81p_i.csv', index=False)"
   ]
  },
  {
   "cell_type": "code",
   "execution_count": 67,
   "id": "dbba87c7",
   "metadata": {},
   "outputs": [],
   "source": [
    "df_deputies = pre.create_deputy_df(df_all)\n",
    "    \n",
    "vote_ids = sorted(df_all['vote_id'].unique())\n",
    "deputy_ids_per_vote = [df_all[df_all['vote_id'] == vote_id]['Nrleg'].unique() for vote_id in vote_ids]"
   ]
  },
  {
   "cell_type": "code",
   "execution_count": 68,
   "id": "bb40149c",
   "metadata": {},
   "outputs": [],
   "source": [
    "removed_ids, new_ids = pre.make_queues(df_deputies, vote_ids, deputy_ids_per_vote)\n",
    "\n",
    "removed_ids.remove((81, ['PSL', 'PSL-Kukiz15', 'KP'], 9025001))\n",
    "removed_ids.remove((258, ['KO'], 9031001))\n",
    "\n",
    "new_ids.remove((466, ['niez.'], 9027001))\n",
    "new_ids.remove((469, ['niez.'], 9031001))\n",
    "\n",
    "node_id_dict = pre.find_pairs(removed_ids, new_ids)\n",
    "\n",
    "node_id_dict[466] = 81\n",
    "node_id_dict[469] = 258\n",
    "\n",
    "node_id_dict_func = lambda x: node_id_dict[x]\n",
    "node_id_dict_func = np.vectorize(node_id_dict_func)\n",
    "\n",
    "df_deputies['node_id'] = node_id_dict_func(df_deputies['Nrleg'])\n",
    "df_deputies['node_id'] = df_deputies['node_id'] - 1"
   ]
  },
  {
   "cell_type": "code",
   "execution_count": 121,
   "id": "72ae772f",
   "metadata": {
    "scrolled": true
   },
   "outputs": [
    {
     "name": "stderr",
     "output_type": "stream",
     "text": [
      "100%|██████████████████████████████████████████████████████████████████████████████████| 50/50 [00:03<00:00, 16.44it/s]\n",
      "100%|████████████████████████████████████████████████████████████████████████████████| 155/155 [00:10<00:00, 15.46it/s]\n",
      "100%|██████████████████████████████████████████████████████████████████████████████████| 99/99 [00:06<00:00, 15.91it/s]\n",
      "100%|████████████████████████████████████████████████████████████████████████████████| 709/709 [01:14<00:00,  9.49it/s]\n",
      "100%|██████████████████████████████████████████████████████████████████████████████████| 83/83 [00:04<00:00, 18.40it/s]\n",
      "100%|████████████████████████████████████████████████████████████████████████████████| 188/188 [00:12<00:00, 14.56it/s]\n",
      "100%|████████████████████████████████████████████████████████████████████████████████| 123/123 [00:08<00:00, 14.53it/s]\n",
      "100%|████████████████████████████████████████████████████████████████████████████████| 228/228 [00:16<00:00, 13.85it/s]\n",
      "100%|████████████████████████████████████████████████████████████████████████████████| 184/184 [00:13<00:00, 13.56it/s]\n",
      "100%|██████████████████████████████████████████████████████████████████████████████████| 97/97 [00:07<00:00, 13.64it/s]\n",
      "100%|████████████████████████████████████████████████████████████████████████████████| 132/132 [00:10<00:00, 12.60it/s]\n",
      "100%|████████████████████████████████████████████████████████████████████████████████| 326/326 [00:27<00:00, 12.07it/s]\n",
      "100%|████████████████████████████████████████████████████████████████████████████████| 219/219 [00:18<00:00, 12.08it/s]\n",
      "100%|████████████████████████████████████████████████████████████████████████████████| 279/279 [00:24<00:00, 11.54it/s]\n",
      "100%|████████████████████████████████████████████████████████████████████████████████| 198/198 [00:15<00:00, 13.14it/s]\n"
     ]
    },
    {
     "name": "stdout",
     "output_type": "stream",
     "text": [
      "79 G_9_2021_01\n"
     ]
    },
    {
     "name": "stderr",
     "output_type": "stream",
     "text": [
      "100%|██████████████████████████████████████████████████████████████████████████████████| 94/94 [00:06<00:00, 15.02it/s]\n"
     ]
    },
    {
     "name": "stdout",
     "output_type": "stream",
     "text": [
      "79 G_9_2021_02\n"
     ]
    },
    {
     "name": "stderr",
     "output_type": "stream",
     "text": [
      "100%|██████████████████████████████████████████████████████████████████████████████████| 90/90 [00:06<00:00, 14.39it/s]\n",
      "100%|████████████████████████████████████████████████████████████████████████████████| 173/173 [00:12<00:00, 14.21it/s]\n"
     ]
    },
    {
     "name": "stdout",
     "output_type": "stream",
     "text": [
      "413 G_9_2021_04\n"
     ]
    },
    {
     "name": "stderr",
     "output_type": "stream",
     "text": [
      "100%|████████████████████████████████████████████████████████████████████████████████| 177/177 [00:12<00:00, 13.82it/s]\n",
      "100%|████████████████████████████████████████████████████████████████████████████████| 129/129 [00:08<00:00, 14.42it/s]\n",
      "100%|████████████████████████████████████████████████████████████████████████████████| 179/179 [00:12<00:00, 14.60it/s]\n",
      "100%|████████████████████████████████████████████████████████████████████████████████| 159/159 [00:11<00:00, 14.43it/s]\n",
      "100%|████████████████████████████████████████████████████████████████████████████████| 130/130 [00:08<00:00, 15.36it/s]\n",
      "100%|████████████████████████████████████████████████████████████████████████████████| 397/397 [00:35<00:00, 11.04it/s]\n",
      "100%|████████████████████████████████████████████████████████████████████████████████| 164/164 [00:11<00:00, 14.63it/s]\n",
      "100%|████████████████████████████████████████████████████████████████████████████████| 311/311 [00:26<00:00, 11.75it/s]\n",
      "100%|████████████████████████████████████████████████████████████████████████████████| 194/194 [00:13<00:00, 13.96it/s]\n",
      "100%|████████████████████████████████████████████████████████████████████████████████| 102/102 [00:06<00:00, 14.60it/s]\n",
      "100%|████████████████████████████████████████████████████████████████████████████████| 273/273 [00:22<00:00, 12.12it/s]\n",
      "100%|████████████████████████████████████████████████████████████████████████████████| 198/198 [00:15<00:00, 12.81it/s]\n",
      "100%|████████████████████████████████████████████████████████████████████████████████| 143/143 [00:10<00:00, 13.70it/s]\n",
      "100%|████████████████████████████████████████████████████████████████████████████████| 193/193 [00:14<00:00, 13.68it/s]\n",
      "100%|████████████████████████████████████████████████████████████████████████████████| 264/264 [00:20<00:00, 12.84it/s]\n",
      "100%|██████████████████████████████████████████████████████████████████████████████████| 97/97 [00:07<00:00, 12.22it/s]\n",
      "100%|████████████████████████████████████████████████████████████████████████████████| 248/248 [00:19<00:00, 12.51it/s]\n",
      "100%|████████████████████████████████████████████████████████████████████████████████| 281/281 [00:21<00:00, 13.17it/s]\n",
      "100%|████████████████████████████████████████████████████████████████████████████████| 181/181 [00:12<00:00, 14.10it/s]\n",
      "100%|████████████████████████████████████████████████████████████████████████████████| 244/244 [00:19<00:00, 12.58it/s]\n",
      "100%|████████████████████████████████████████████████████████████████████████████████| 349/349 [00:29<00:00, 11.83it/s]\n",
      "100%|██████████████████████████████████████████████████████████████████████████████████| 97/97 [00:06<00:00, 14.49it/s]\n",
      "100%|████████████████████████████████████████████████████████████████████████████████| 222/222 [00:17<00:00, 12.88it/s]\n",
      "100%|████████████████████████████████████████████████████████████████████████████████| 144/144 [00:09<00:00, 14.67it/s]\n",
      "100%|████████████████████████████████████████████████████████████████████████████████| 198/198 [00:15<00:00, 12.57it/s]\n",
      "100%|████████████████████████████████████████████████████████████████████████████████| 162/162 [00:10<00:00, 14.94it/s]\n",
      "100%|████████████████████████████████████████████████████████████████████████████████| 537/537 [00:53<00:00, 10.00it/s]\n",
      "100%|████████████████████████████████████████████████████████████████████████████████| 183/183 [00:14<00:00, 12.76it/s]\n"
     ]
    }
   ],
   "source": [
    "for year, month in y_m_list:\n",
    "    df_m = df_all[(df_all['data_godzina'].dt.month == int(month)) & (df_all['data_godzina'].dt.year == int(year))]\n",
    "    \n",
    "    if len(df_m) == 0:\n",
    "        print(year, month, 'no votings')\n",
    "        continue\n",
    "    \n",
    "    df_m = pd.merge(df_m[['vote_id', 'data_godzina', 'Nrleg', 'NazwiskoImie', 'Glos', 'Klub']], df_deputies[['Nrleg', 'NazwiskoImie', 'node_id']], on=['Nrleg', 'NazwiskoImie'], how='left')\n",
    "    df_node_atr = pre.assign_attributes(df_m)\n",
    "    df_node_atr.to_csv(f'df_node_atr/monthly/G_{k}_{year}_{month}.csv', index=False)\n",
    "    \n",
    "    edge_matrix = pre.egde_weights(df_m)\n",
    "    \n",
    "    G = pre.create_graph(edge_matrix, df_node_atr, file_name=f\"G_{k}_{year}_{month}\", monthly=True)"
   ]
  },
  {
   "cell_type": "code",
   "execution_count": 10,
   "id": "531cc657",
   "metadata": {},
   "outputs": [
    {
     "name": "stderr",
     "output_type": "stream",
     "text": [
      "100%|████████████████████████████████████████████████████████████████████████████| 9383/9383 [3:36:25<00:00,  1.38s/it]\n"
     ]
    },
    {
     "data": {
      "text/plain": [
       "<networkx.classes.graph.Graph at 0x1a495f5ea90>"
      ]
     },
     "execution_count": 10,
     "metadata": {},
     "output_type": "execute_result"
    }
   ],
   "source": [
    "df_all = pd.merge(df_all, df_deputies[['Nrleg', 'NazwiskoImie', 'node_id']], on=['Nrleg', 'NazwiskoImie'], how='left')\n",
    "df_node_atr = pre.assign_attributes(df_all)\n",
    "df_node_atr.to_csv(f'df_node_atr/G_{k}.csv', index=False)\n",
    "\n",
    "edge_matrix = pre.egde_weights(df_all)\n",
    "\n",
    "pre.create_graph(edge_matrix, df_node_atr, file_name=f\"G_{k}\", monthly=False)"
   ]
  },
  {
   "cell_type": "code",
   "execution_count": 69,
   "id": "5849599b",
   "metadata": {},
   "outputs": [
    {
     "name": "stdout",
     "output_type": "stream",
     "text": [
      "[Timestamp('2019-11-12 15:26:06'), Timestamp('2020-10-31 15:26:06', freq='M'), Timestamp('2021-10-31 15:26:06', freq='M'), Timestamp('2022-10-31 15:26:06', freq='M'), Timestamp('2023-08-30 19:15:03')]\n"
     ]
    },
    {
     "name": "stderr",
     "output_type": "stream",
     "text": [
      "100%|██████████████████████████████████████████████████████████████████████████████| 2374/2374 [09:21<00:00,  4.23it/s]\n",
      "100%|██████████████████████████████████████████████████████████████████████████████| 2224/2224 [08:19<00:00,  4.45it/s]\n",
      "100%|██████████████████████████████████████████████████████████████████████████████| 2468/2468 [10:17<00:00,  4.00it/s]\n",
      "100%|██████████████████████████████████████████████████████████████████████████████| 2316/2316 [09:26<00:00,  4.09it/s]\n"
     ]
    }
   ],
   "source": [
    "start = df_all['data_godzina'].min()\n",
    "end_1 = pd.date_range(start=df_all['data_godzina'].min(), periods=12, freq='M')[-1]\n",
    "end_2 = pd.date_range(start=end_1, periods=13, freq='M')[-1]\n",
    "end_3 = pd.date_range(start=end_2, periods=13, freq='M')[-1]\n",
    "end_4 = df_all['data_godzina'].max()\n",
    "\n",
    "start_end_dates = [start, end_1, end_2, end_3, end_4]\n",
    "print(start_end_dates)\n",
    "\n",
    "for i in range(1, len(start_end_dates)):\n",
    "    start_dt = start_end_dates[i-1]\n",
    "    end_dt = start_end_dates[i]\n",
    "    df_y = df_all[(df_all['data_godzina'] >= start_dt) & (df_all['data_godzina'] < end_dt)]\n",
    "    \n",
    "    df_y = pd.merge(df_y[['vote_id', 'data_godzina', 'Nrleg', 'NazwiskoImie', 'Glos', 'Klub']], df_deputies[['Nrleg', 'NazwiskoImie', 'node_id']], on=['Nrleg', 'NazwiskoImie'], how='left')\n",
    "    df_node_atr = pre.assign_attributes(df_y)\n",
    "    df_node_atr.to_csv(f'df_node_atr/yearly/G_{k}_y{i}.csv', index=False)\n",
    "    \n",
    "    edge_matrix = pre.egde_weights(df_y)\n",
    "    \n",
    "    G = pre.create_graph(edge_matrix, df_node_atr, file_name=f\"yearly/G_{k}_y{i}\", monthly=False)"
   ]
  },
  {
   "cell_type": "markdown",
   "id": "f45b2d9e",
   "metadata": {},
   "source": [
    "## 10th term: 2023 - 2024 April"
   ]
  },
  {
   "cell_type": "code",
   "execution_count": 11,
   "id": "56cd8fff",
   "metadata": {},
   "outputs": [
    {
     "data": {
      "text/html": [
       "<div>\n",
       "<style scoped>\n",
       "    .dataframe tbody tr th:only-of-type {\n",
       "        vertical-align: middle;\n",
       "    }\n",
       "\n",
       "    .dataframe tbody tr th {\n",
       "        vertical-align: top;\n",
       "    }\n",
       "\n",
       "    .dataframe thead th {\n",
       "        text-align: right;\n",
       "    }\n",
       "</style>\n",
       "<table border=\"1\" class=\"dataframe\">\n",
       "  <thead>\n",
       "    <tr style=\"text-align: right;\">\n",
       "      <th></th>\n",
       "      <th>data_godzina</th>\n",
       "      <th>term</th>\n",
       "      <th>sitting</th>\n",
       "      <th>votingNumber</th>\n",
       "      <th>Nrleg</th>\n",
       "      <th>Klub</th>\n",
       "      <th>firstName</th>\n",
       "      <th>lastName</th>\n",
       "      <th>Glos</th>\n",
       "      <th>vote_id</th>\n",
       "      <th>NazwiskoImie</th>\n",
       "    </tr>\n",
       "  </thead>\n",
       "  <tbody>\n",
       "    <tr>\n",
       "      <th>0</th>\n",
       "      <td>2023-11-13 15:17:22</td>\n",
       "      <td>10</td>\n",
       "      <td>1</td>\n",
       "      <td>1</td>\n",
       "      <td>234</td>\n",
       "      <td>PiS</td>\n",
       "      <td>Dariusz</td>\n",
       "      <td>Matecki</td>\n",
       "      <td>Nieobecny</td>\n",
       "      <td>10001001</td>\n",
       "      <td>Matecki Dariusz</td>\n",
       "    </tr>\n",
       "    <tr>\n",
       "      <th>1</th>\n",
       "      <td>2023-11-13 18:02:12</td>\n",
       "      <td>10</td>\n",
       "      <td>1</td>\n",
       "      <td>2</td>\n",
       "      <td>1</td>\n",
       "      <td>PiS</td>\n",
       "      <td>Andrzej</td>\n",
       "      <td>Adamczyk</td>\n",
       "      <td>Za</td>\n",
       "      <td>10001002</td>\n",
       "      <td>Adamczyk Andrzej</td>\n",
       "    </tr>\n",
       "    <tr>\n",
       "      <th>2</th>\n",
       "      <td>2023-11-13 18:02:12</td>\n",
       "      <td>10</td>\n",
       "      <td>1</td>\n",
       "      <td>2</td>\n",
       "      <td>2</td>\n",
       "      <td>KO</td>\n",
       "      <td>Piotr</td>\n",
       "      <td>Adamowicz</td>\n",
       "      <td>Za</td>\n",
       "      <td>10001002</td>\n",
       "      <td>Adamowicz Piotr</td>\n",
       "    </tr>\n",
       "    <tr>\n",
       "      <th>3</th>\n",
       "      <td>2023-11-13 18:02:12</td>\n",
       "      <td>10</td>\n",
       "      <td>1</td>\n",
       "      <td>2</td>\n",
       "      <td>3</td>\n",
       "      <td>PiS</td>\n",
       "      <td>Adam</td>\n",
       "      <td>Andruszkiewicz</td>\n",
       "      <td>Za</td>\n",
       "      <td>10001002</td>\n",
       "      <td>Andruszkiewicz Adam</td>\n",
       "    </tr>\n",
       "    <tr>\n",
       "      <th>4</th>\n",
       "      <td>2023-11-13 18:02:12</td>\n",
       "      <td>10</td>\n",
       "      <td>1</td>\n",
       "      <td>2</td>\n",
       "      <td>4</td>\n",
       "      <td>PiS</td>\n",
       "      <td>Waldemar</td>\n",
       "      <td>Andzel</td>\n",
       "      <td>Za</td>\n",
       "      <td>10001002</td>\n",
       "      <td>Andzel Waldemar</td>\n",
       "    </tr>\n",
       "  </tbody>\n",
       "</table>\n",
       "</div>"
      ],
      "text/plain": [
       "          data_godzina  term  sitting  votingNumber  Nrleg Klub firstName  \\\n",
       "0  2023-11-13 15:17:22    10        1             1    234  PiS   Dariusz   \n",
       "1  2023-11-13 18:02:12    10        1             2      1  PiS   Andrzej   \n",
       "2  2023-11-13 18:02:12    10        1             2      2   KO     Piotr   \n",
       "3  2023-11-13 18:02:12    10        1             2      3  PiS      Adam   \n",
       "4  2023-11-13 18:02:12    10        1             2      4  PiS  Waldemar   \n",
       "\n",
       "         lastName       Glos   vote_id         NazwiskoImie  \n",
       "0         Matecki  Nieobecny  10001001      Matecki Dariusz  \n",
       "1        Adamczyk         Za  10001002     Adamczyk Andrzej  \n",
       "2       Adamowicz         Za  10001002      Adamowicz Piotr  \n",
       "3  Andruszkiewicz         Za  10001002  Andruszkiewicz Adam  \n",
       "4          Andzel         Za  10001002      Andzel Waldemar  "
      ]
     },
     "metadata": {},
     "output_type": "display_data"
    },
    {
     "data": {
      "image/png": "[encoded data removed]",
      "text/plain": [
       "<Figure size 576x288 with 1 Axes>"
      ]
     },
     "metadata": {
      "needs_background": "light"
     },
     "output_type": "display_data"
    },
    {
     "name": "stdout",
     "output_type": "stream",
     "text": [
      "2023-11-13 15:17:22 2024-04-26 11:30:28\n",
      "2023-11 2024-04\n"
     ]
    }
   ],
   "source": [
    "k = 10\n",
    "df_all = pd.read_csv('data/API/GLO10k1p10p_i.csv')\n",
    "df_all['NazwiskoImie'] = df_all['lastName'] + ' ' + df_all['firstName']\n",
    "\n",
    "df_all = df_all.rename(columns={\"date\": \"data_godzina\",\n",
    "                                \"vote\": \"Glos\",\n",
    "                                \"club\": \"Klub\",\n",
    "                                \"MP\": \"Nrleg\"                               \n",
    "                               })\n",
    "\n",
    "df_all['Nrleg'] = df_all['Nrleg'].astype(int)\n",
    "df_all['Glos'] = df_all['Glos'].map({'YES': 'Za', \n",
    "                                     'NO': 'Przeciw',\n",
    "                                     'ABSTAIN': 'Wstrzymał się',\n",
    "                                     'ABSENT': 'Nieobecny'\n",
    "                                    })\n",
    "\n",
    "display(df_all.head())\n",
    "\n",
    "df_all = df_all.astype({'data_godzina': 'datetime64[ns]'})\n",
    "\n",
    "df_all = df_all[['vote_id', 'data_godzina', 'Nrleg', 'NazwiskoImie', 'Glos', 'Klub']]\n",
    "df_all = df_all.sort_values(['vote_id', 'Nrleg'])\n",
    "\n",
    "assert df_all.isnull().sum().sum() == 0\n",
    "assert df_all[df_all.duplicated()].size == 0\n",
    "\n",
    "plt.figure(figsize=(8, 4))\n",
    "sns.histplot(data=df_all, x='Glos', discrete=True)\n",
    "plt.xticks(rotation=45)\n",
    "plt.show()\n",
    "\n",
    "print(df_all['data_godzina'].min(), df_all['data_godzina'].max())\n",
    "y_m_list = pd.date_range(df_all['data_godzina'].min(), df_all['data_godzina'].max(), \n",
    "              freq='ME').strftime(\"%Y-%m\").tolist()\n",
    "\n",
    "y_m_list.append(df_all['data_godzina'].max().strftime(\"%Y-%m\"))\n",
    "print(y_m_list[0], y_m_list[-1])\n",
    "y_m_list = [x.split('-') for x in y_m_list]"
   ]
  },
  {
   "cell_type": "code",
   "execution_count": 12,
   "id": "86bcb9af",
   "metadata": {},
   "outputs": [],
   "source": [
    "df_all = df_all.drop(df_all[df_all['vote_id'] == 10001001].index)\n",
    "df_all = df_all.drop(df_all[df_all['vote_id'] == 10001013].index)\n",
    "df_all = df_all.drop(df_all[df_all['vote_id'] == 10002011].index)"
   ]
  },
  {
   "cell_type": "code",
   "execution_count": 13,
   "id": "7a472823",
   "metadata": {},
   "outputs": [],
   "source": [
    "df_all.to_csv('data/GLO10k1p10p_i.csv', index=False)"
   ]
  },
  {
   "cell_type": "code",
   "execution_count": 14,
   "id": "6e3d5f37",
   "metadata": {},
   "outputs": [],
   "source": [
    "df_deputies = pre.create_deputy_df(df_all)\n",
    "    \n",
    "vote_ids = sorted(df_all['vote_id'].unique())\n",
    "deputy_ids_per_vote = [df_all[df_all['vote_id'] == vote_id]['Nrleg'].unique() for vote_id in vote_ids]"
   ]
  },
  {
   "cell_type": "code",
   "execution_count": 15,
   "id": "af34e7a0",
   "metadata": {},
   "outputs": [],
   "source": [
    "removed_ids, new_ids = pre.make_queues(df_deputies, vote_ids, deputy_ids_per_vote)\n",
    "\n",
    "removed_ids.remove((152, ['PiS'], 10002001))\n",
    "\n",
    "new_ids.remove((463, ['niez.'], 10007001))\n",
    "\n",
    "node_id_dict = pre.find_pairs(removed_ids, new_ids)\n",
    "\n",
    "node_id_dict[463] = 152\n",
    "\n",
    "node_id_dict_func = lambda x: node_id_dict[x]\n",
    "node_id_dict_func = np.vectorize(node_id_dict_func)\n",
    "\n",
    "df_deputies['node_id'] = node_id_dict_func(df_deputies['Nrleg'])\n",
    "df_deputies['node_id'] = df_deputies['node_id'] - 1"
   ]
  },
  {
   "cell_type": "code",
   "execution_count": 162,
   "id": "f423b3ba",
   "metadata": {},
   "outputs": [
    {
     "name": "stderr",
     "output_type": "stream",
     "text": [
      "100%|██████████████████████████████████████████████████████████████████████████████████| 52/52 [00:03<00:00, 16.88it/s]\n",
      "100%|██████████████████████████████████████████████████████████████████████████████████| 93/93 [00:05<00:00, 17.94it/s]\n",
      "100%|██████████████████████████████████████████████████████████████████████████████████| 49/49 [00:03<00:00, 15.63it/s]\n"
     ]
    },
    {
     "name": "stdout",
     "output_type": "stream",
     "text": [
      "150 G_10_2024_01\n",
      "411 G_10_2024_01\n"
     ]
    },
    {
     "name": "stderr",
     "output_type": "stream",
     "text": [
      "100%|██████████████████████████████████████████████████████████████████████████████████| 48/48 [00:03<00:00, 13.55it/s]\n"
     ]
    },
    {
     "name": "stdout",
     "output_type": "stream",
     "text": [
      "150 G_10_2024_02\n",
      "411 G_10_2024_02\n"
     ]
    },
    {
     "name": "stderr",
     "output_type": "stream",
     "text": [
      "100%|██████████████████████████████████████████████████████████████████████████████████| 43/43 [00:02<00:00, 15.68it/s]\n"
     ]
    },
    {
     "name": "stdout",
     "output_type": "stream",
     "text": [
      "411 G_10_2024_03\n"
     ]
    },
    {
     "name": "stderr",
     "output_type": "stream",
     "text": [
      "100%|██████████████████████████████████████████████████████████████████████████████████| 66/66 [00:04<00:00, 13.85it/s]\n"
     ]
    },
    {
     "name": "stdout",
     "output_type": "stream",
     "text": [
      "411 G_10_2024_04\n"
     ]
    }
   ],
   "source": [
    "for year, month in y_m_list:\n",
    "    df_m = df_all[(df_all['data_godzina'].dt.month == int(month)) & (df_all['data_godzina'].dt.year == int(year))]\n",
    "    \n",
    "    if len(df_m) == 0:\n",
    "        print(year, month, 'no votings')\n",
    "        continue\n",
    "    \n",
    "    df_m = pd.merge(df_m[['vote_id', 'data_godzina', 'Nrleg', 'NazwiskoImie', 'Glos', 'Klub']], df_deputies[['Nrleg', 'NazwiskoImie', 'node_id']], on=['Nrleg', 'NazwiskoImie'], how='left')\n",
    "    df_node_atr = pre.assign_attributes(df_m)\n",
    "    df_node_atr.to_csv(f'df_node_atr/monthly/G_{k}_{year}_{month}.csv', index=False)\n",
    "    \n",
    "    edge_matrix = pre.egde_weights(df_m)\n",
    "    \n",
    "    G = pre.create_graph(edge_matrix, df_node_atr, file_name=f\"G_{k}_{year}_{month}\", monthly=True)"
   ]
  },
  {
   "cell_type": "code",
   "execution_count": 16,
   "id": "28e0968f",
   "metadata": {},
   "outputs": [
    {
     "name": "stderr",
     "output_type": "stream",
     "text": [
      "100%|████████████████████████████████████████████████████████████████████████████████| 351/351 [00:36<00:00,  9.54it/s]\n"
     ]
    },
    {
     "data": {
      "text/plain": [
       "<networkx.classes.graph.Graph at 0x1a495f5c760>"
      ]
     },
     "execution_count": 16,
     "metadata": {},
     "output_type": "execute_result"
    }
   ],
   "source": [
    "df_all = pd.merge(df_all, df_deputies[['Nrleg', 'NazwiskoImie', 'node_id']], on=['Nrleg', 'NazwiskoImie'], how='left')\n",
    "df_node_atr = pre.assign_attributes(df_all)\n",
    "df_node_atr.to_csv(f'df_node_atr/G_{k}.csv', index=False)\n",
    "\n",
    "edge_matrix = pre.egde_weights(df_all)\n",
    "\n",
    "pre.create_graph(edge_matrix, df_node_atr, file_name=f\"G_{k}\", monthly=False)"
   ]
  }
 ],
 "metadata": {
  "kernelspec": {
   "display_name": "Python 3",
   "language": "python",
   "name": "python3"
  },
  "language_info": {
   "codemirror_mode": {
    "name": "ipython",
    "version": 3
   },
   "file_extension": ".py",
   "mimetype": "text/x-python",
   "name": "python",
   "nbconvert_exporter": "python",
   "pygments_lexer": "ipython3",
   "version": "3.9.5"
  }
 },
 "nbformat": 4,
 "nbformat_minor": 5
}
