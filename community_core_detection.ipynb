{
 "cells": [
  {
   "cell_type": "code",
   "execution_count": 79,
   "id": "3421a64e",
   "metadata": {},
   "outputs": [],
   "source": [
    "import pickle\n",
    "import networkx as nx\n",
    "import numpy as np\n",
    "import os\n",
    "from tqdm import tqdm\n",
    "import matplotlib.pyplot as plt\n",
    "import seaborn as sns\n",
    "import pandas as pd\n",
    "import itertools"
   ]
  },
  {
   "cell_type": "code",
   "execution_count": 80,
   "id": "1ef8aa0b",
   "metadata": {},
   "outputs": [],
   "source": [
    "# plt.style.use('seaborn-v0_8-white')\n",
    "sns.set_style(\"whitegrid\")\n",
    "plt.rc('text', usetex=True)\n",
    "plt.rc('font', family='serif')"
   ]
  },
  {
   "cell_type": "code",
   "execution_count": 81,
   "id": "f491eb05",
   "metadata": {},
   "outputs": [],
   "source": [
    "def community_and_core(G, filename=None, seed=9):\n",
    "    opt_coms = nx.community.louvain_communities(G, seed=seed)\n",
    "    opt_mod = nx.community.modularity(G, opt_coms)\n",
    "    dQ = pd.DataFrame()\n",
    "    for i in range(len(opt_coms)):\n",
    "        opt_c = opt_coms.copy()\n",
    "        com = list(opt_c.pop(i))\n",
    "        oth_coms = opt_c\n",
    "        for j in tqdm(range(len(com))):\n",
    "            elem = com.pop(j)\n",
    "            mods = []\n",
    "            for k in range(len(oth_coms)):\n",
    "                oth_com = oth_coms[k]\n",
    "                oth_com.add(elem)\n",
    "                mod = nx.community.modularity(G, [set(com), *oth_coms])\n",
    "                mods.append(mod - opt_mod)\n",
    "                oth_com.remove(elem)\n",
    "            df = pd.DataFrame({'node_id': elem, 'party': G.nodes(data='party')[elem], 'community': i, 'min_dQ': [np.min(mods)], 'max_dQ': [np.max(mods)]})\n",
    "            dQ = pd.concat([dQ, df], ignore_index=True) \n",
    "            com.insert(k, elem)\n",
    "    dQ['min_dQ'] = dQ['min_dQ'].abs() * 10000\n",
    "    dQ['max_dQ'] = dQ['max_dQ'].abs() * 10000\n",
    "    if filename:\n",
    "        dQ.to_csv(filename, index=False)\n",
    "    return dQ\n",
    "    "
   ]
  },
  {
   "cell_type": "markdown",
   "id": "9ae01756",
   "metadata": {},
   "source": [
    "# 3rd term"
   ]
  },
  {
   "cell_type": "code",
   "execution_count": 82,
   "id": "72ba5cc4",
   "metadata": {},
   "outputs": [],
   "source": [
    "k = '3'\n",
    "save_to_file = f\"dQ/dQ_{k}.csv\"\n",
    "save_to_file_mon = f\"dQ/monthly/dQ_{k}.csv\""
   ]
  },
  {
   "cell_type": "code",
   "execution_count": 83,
   "id": "27ed5739",
   "metadata": {},
   "outputs": [
    {
     "data": {
      "text/plain": [
       "['PiS',\n",
       " 'UW',\n",
       " 'AWS',\n",
       " 'PP',\n",
       " 'Alternatyw',\n",
       " 'ROP',\n",
       " 'SLD',\n",
       " 'PSL',\n",
       " 'KdP',\n",
       " 'KPN-OP',\n",
       " 'ROP-PC',\n",
       " 'niez.',\n",
       " 'SKL']"
      ]
     },
     "execution_count": 83,
     "metadata": {},
     "output_type": "execute_result"
    }
   ],
   "source": [
    "G = pickle.load(open(f'graphs/G_{k}.pickle', 'rb'))\n",
    "unique_parties = list(set(dict(G.nodes(data='party')).values()))\n",
    "unique_parties # unique party in the whole tenure"
   ]
  },
  {
   "cell_type": "code",
   "execution_count": 84,
   "id": "ec7be551",
   "metadata": {},
   "outputs": [
    {
     "name": "stderr",
     "output_type": "stream",
     "text": [
      "100%|████████████████████████████████████████████████████████████████████████████████| 268/268 [00:22<00:00, 11.82it/s]\n",
      "100%|████████████████████████████████████████████████████████████████████████████████| 192/192 [00:16<00:00, 11.91it/s]\n"
     ]
    }
   ],
   "source": [
    "df_dQ = community_and_core(G, save_to_file)"
   ]
  },
  {
   "cell_type": "code",
   "execution_count": 85,
   "id": "2631520b",
   "metadata": {},
   "outputs": [],
   "source": [
    "df_dQ = df_dQ.replace('Alternatyw', 'ARS')"
   ]
  },
  {
   "cell_type": "code",
   "execution_count": 86,
   "id": "d987358c",
   "metadata": {},
   "outputs": [
    {
     "data": {
      "text/html": [
       "<div>\n",
       "<style scoped>\n",
       "    .dataframe tbody tr th:only-of-type {\n",
       "        vertical-align: middle;\n",
       "    }\n",
       "\n",
       "    .dataframe tbody tr th {\n",
       "        vertical-align: top;\n",
       "    }\n",
       "\n",
       "    .dataframe thead th {\n",
       "        text-align: right;\n",
       "    }\n",
       "</style>\n",
       "<table border=\"1\" class=\"dataframe\">\n",
       "  <thead>\n",
       "    <tr style=\"text-align: right;\">\n",
       "      <th></th>\n",
       "      <th>node_id</th>\n",
       "      <th>party</th>\n",
       "      <th>community</th>\n",
       "      <th>min_dQ</th>\n",
       "      <th>max_dQ</th>\n",
       "    </tr>\n",
       "  </thead>\n",
       "  <tbody>\n",
       "    <tr>\n",
       "      <th>0</th>\n",
       "      <td>0</td>\n",
       "      <td>AWS</td>\n",
       "      <td>0</td>\n",
       "      <td>5.203942</td>\n",
       "      <td>5.203942</td>\n",
       "    </tr>\n",
       "    <tr>\n",
       "      <th>1</th>\n",
       "      <td>1</td>\n",
       "      <td>KPN-OP</td>\n",
       "      <td>0</td>\n",
       "      <td>3.667501</td>\n",
       "      <td>3.667501</td>\n",
       "    </tr>\n",
       "    <tr>\n",
       "      <th>2</th>\n",
       "      <td>4</td>\n",
       "      <td>AWS</td>\n",
       "      <td>0</td>\n",
       "      <td>6.667857</td>\n",
       "      <td>6.667857</td>\n",
       "    </tr>\n",
       "    <tr>\n",
       "      <th>3</th>\n",
       "      <td>5</td>\n",
       "      <td>AWS</td>\n",
       "      <td>0</td>\n",
       "      <td>6.639529</td>\n",
       "      <td>6.639529</td>\n",
       "    </tr>\n",
       "    <tr>\n",
       "      <th>4</th>\n",
       "      <td>6</td>\n",
       "      <td>SKL</td>\n",
       "      <td>0</td>\n",
       "      <td>5.637174</td>\n",
       "      <td>5.637174</td>\n",
       "    </tr>\n",
       "    <tr>\n",
       "      <th>...</th>\n",
       "      <td>...</td>\n",
       "      <td>...</td>\n",
       "      <td>...</td>\n",
       "      <td>...</td>\n",
       "      <td>...</td>\n",
       "    </tr>\n",
       "    <tr>\n",
       "      <th>455</th>\n",
       "      <td>449</td>\n",
       "      <td>SLD</td>\n",
       "      <td>1</td>\n",
       "      <td>5.612366</td>\n",
       "      <td>5.612366</td>\n",
       "    </tr>\n",
       "    <tr>\n",
       "      <th>456</th>\n",
       "      <td>450</td>\n",
       "      <td>SLD</td>\n",
       "      <td>1</td>\n",
       "      <td>7.756188</td>\n",
       "      <td>7.756188</td>\n",
       "    </tr>\n",
       "    <tr>\n",
       "      <th>457</th>\n",
       "      <td>454</td>\n",
       "      <td>PSL</td>\n",
       "      <td>1</td>\n",
       "      <td>2.206047</td>\n",
       "      <td>2.206047</td>\n",
       "    </tr>\n",
       "    <tr>\n",
       "      <th>458</th>\n",
       "      <td>456</td>\n",
       "      <td>SLD</td>\n",
       "      <td>1</td>\n",
       "      <td>4.987781</td>\n",
       "      <td>4.987781</td>\n",
       "    </tr>\n",
       "    <tr>\n",
       "      <th>459</th>\n",
       "      <td>457</td>\n",
       "      <td>PSL</td>\n",
       "      <td>1</td>\n",
       "      <td>3.972879</td>\n",
       "      <td>3.972879</td>\n",
       "    </tr>\n",
       "  </tbody>\n",
       "</table>\n",
       "<p>460 rows × 5 columns</p>\n",
       "</div>"
      ],
      "text/plain": [
       "     node_id   party  community    min_dQ    max_dQ\n",
       "0          0     AWS          0  5.203942  5.203942\n",
       "1          1  KPN-OP          0  3.667501  3.667501\n",
       "2          4     AWS          0  6.667857  6.667857\n",
       "3          5     AWS          0  6.639529  6.639529\n",
       "4          6     SKL          0  5.637174  5.637174\n",
       "..       ...     ...        ...       ...       ...\n",
       "455      449     SLD          1  5.612366  5.612366\n",
       "456      450     SLD          1  7.756188  7.756188\n",
       "457      454     PSL          1  2.206047  2.206047\n",
       "458      456     SLD          1  4.987781  4.987781\n",
       "459      457     PSL          1  3.972879  3.972879\n",
       "\n",
       "[460 rows x 5 columns]"
      ]
     },
     "execution_count": 86,
     "metadata": {},
     "output_type": "execute_result"
    }
   ],
   "source": [
    "df_dQ"
   ]
  },
  {
   "cell_type": "code",
   "execution_count": 87,
   "id": "2e9b4024",
   "metadata": {},
   "outputs": [
    {
     "data": {
      "text/plain": [
       "community\n",
       "0    268\n",
       "1    192\n",
       "dtype: int64"
      ]
     },
     "execution_count": 87,
     "metadata": {},
     "output_type": "execute_result"
    }
   ],
   "source": [
    "df_dQ.groupby('community').size()"
   ]
  },
  {
   "cell_type": "code",
   "execution_count": 88,
   "id": "428651b9",
   "metadata": {},
   "outputs": [
    {
     "data": {
      "text/plain": [
       "community  party \n",
       "0          ARS         4\n",
       "           AWS       133\n",
       "           KPN-OP      1\n",
       "           KdP         1\n",
       "           PP          6\n",
       "           PiS        18\n",
       "           ROP         1\n",
       "           ROP-PC      2\n",
       "           SKL        18\n",
       "           UW         47\n",
       "           niez.      37\n",
       "1          KdP         1\n",
       "           PSL        26\n",
       "           SLD       159\n",
       "           niez.       6\n",
       "dtype: int64"
      ]
     },
     "execution_count": 88,
     "metadata": {},
     "output_type": "execute_result"
    }
   ],
   "source": [
    "df_dQ.groupby(['community', 'party']).size()"
   ]
  },
  {
   "attachments": {
    "image.png": {
     "image/png": "[encoded data removed]"
    }
   },
   "cell_type": "markdown",
   "id": "cbcf033a",
   "metadata": {},
   "source": [
    "![image.png](attachment:image.png)"
   ]
  },
  {
   "cell_type": "markdown",
   "id": "ca2ca41f",
   "metadata": {},
   "source": [
    "## Stacked histogram of dQ for government and opposition"
   ]
  },
  {
   "cell_type": "markdown",
   "id": "53a376b5",
   "metadata": {},
   "source": [
    "### All clubs"
   ]
  },
  {
   "cell_type": "code",
   "execution_count": 89,
   "id": "d3054e90",
   "metadata": {},
   "outputs": [],
   "source": [
    "gov = ['AWS', 'UW']  # UW wyszła z koalicji z AWS, ale przez większość kadencji była w koalicji rządzącej\n",
    "opp = list(set(unique_parties).difference(set(gov)))"
   ]
  },
  {
   "cell_type": "code",
   "execution_count": 90,
   "id": "3519de0f",
   "metadata": {},
   "outputs": [
    {
     "data": {
      "text/plain": [
       "Text(0.5, 1.0, 'Opposition')"
      ]
     },
     "execution_count": 90,
     "metadata": {},
     "output_type": "execute_result"
    },
    {
     "data": {
      "image/png": "[encoded data removed]",
      "text/plain": [
       "<Figure size 720x288 with 2 Axes>"
      ]
     },
     "metadata": {},
     "output_type": "display_data"
    }
   ],
   "source": [
    "fig, ax = plt.subplots(1, 2, sharex=True, sharey=True, figsize=(10, 4))\n",
    "palette = itertools.cycle(sns.color_palette())\n",
    "\n",
    "sns.histplot(data=df_dQ[df_dQ['party'].isin(gov)], x='min_dQ', hue='party', multiple='stack', ax=ax[0], palette=palette)\n",
    "ax[0].set_xlabel(r'$|dQ| \\times 10^4$')\n",
    "ax[0].set_ylabel('Number of deputies')\n",
    "ax[0].set_title('Goverment')\n",
    "\n",
    "\n",
    "sns.histplot(data=df_dQ[df_dQ['party'].isin(opp)], x='min_dQ', hue='party', multiple='stack', ax=ax[1], palette=palette)\n",
    "ax[1].set_xlabel(r'$|dQ| \\times 10^4$')\n",
    "ax[1].set_ylabel('Number of deputies')\n",
    "ax[1].set_title('Opposition')"
   ]
  },
  {
   "cell_type": "markdown",
   "id": "766c9b86",
   "metadata": {},
   "source": [
    "### Only the biggest clubs"
   ]
  },
  {
   "cell_type": "code",
   "execution_count": 91,
   "id": "b8fc0db5",
   "metadata": {},
   "outputs": [],
   "source": [
    "opp = ['SLD', 'PSL', 'niez.']"
   ]
  },
  {
   "cell_type": "code",
   "execution_count": 92,
   "id": "115926a0",
   "metadata": {},
   "outputs": [
    {
     "data": {
      "text/plain": [
       "Text(0.5, 1.0, 'Opposition')"
      ]
     },
     "execution_count": 92,
     "metadata": {},
     "output_type": "execute_result"
    },
    {
     "data": {
      "image/png": "[encoded data removed]",
      "text/plain": [
       "<Figure size 720x288 with 2 Axes>"
      ]
     },
     "metadata": {},
     "output_type": "display_data"
    }
   ],
   "source": [
    "fig, ax = plt.subplots(1, 2, sharex=True, sharey=True, figsize=(10, 4))\n",
    "palette = itertools.cycle(sns.color_palette())\n",
    "\n",
    "sns.histplot(data=df_dQ[df_dQ['party'].isin(gov)], x='min_dQ', hue='party', multiple='stack', ax=ax[0], palette=palette)\n",
    "ax[0].set_xlabel(r'$|dQ| \\times 10^4$')\n",
    "ax[0].set_ylabel('Number of deputies')\n",
    "ax[0].set_title('Goverment')\n",
    "\n",
    "\n",
    "sns.histplot(data=df_dQ[df_dQ['party'].isin(opp)], x='min_dQ', hue='party', multiple='stack', ax=ax[1], palette=palette)\n",
    "ax[1].set_xlabel(r'$|dQ| \\times 10^4$')\n",
    "ax[1].set_ylabel('Number of deputies')\n",
    "ax[1].set_title('Opposition')"
   ]
  },
  {
   "cell_type": "code",
   "execution_count": 93,
   "id": "62bc8f1f",
   "metadata": {},
   "outputs": [
    {
     "data": {
      "text/plain": [
       "Text(0.5, 1.0, 'Opposition (2nd community)')"
      ]
     },
     "execution_count": 93,
     "metadata": {},
     "output_type": "execute_result"
    },
    {
     "data": {
      "image/png": "[encoded data removed]",
      "text/plain": [
       "<Figure size 720x288 with 2 Axes>"
      ]
     },
     "metadata": {},
     "output_type": "display_data"
    }
   ],
   "source": [
    "fig, ax = plt.subplots(1, 2, sharex=True, sharey=True, figsize=(10, 4))\n",
    "palette = itertools.cycle(sns.color_palette())\n",
    "\n",
    "sns.histplot(data=df_dQ[df_dQ['community'] == 0], x='min_dQ', hue='party', multiple='stack', ax=ax[0], palette=palette)\n",
    "ax[0].set_xlabel(r'$|dQ| \\times 10^4$')\n",
    "ax[0].set_ylabel('Number of deputies')\n",
    "ax[0].set_title('Goverment (1st community)')\n",
    "\n",
    "\n",
    "sns.histplot(data=df_dQ[df_dQ['community'] == 1], x='min_dQ', hue='party', multiple='stack', ax=ax[1], palette=palette)\n",
    "ax[1].set_xlabel(r'$|dQ| \\times 10^4$')\n",
    "ax[1].set_ylabel('Number of deputies')\n",
    "ax[1].set_title('Opposition (2nd community)')"
   ]
  },
  {
   "cell_type": "markdown",
   "id": "af811130",
   "metadata": {},
   "source": [
    "## dQ based on party affilliation"
   ]
  },
  {
   "cell_type": "code",
   "execution_count": 69,
   "id": "34311aa1",
   "metadata": {},
   "outputs": [],
   "source": [
    "def party_and_coreness(G):\n",
    "    unique_parties = list(set(dict(G.nodes(data='party')).values()))\n",
    "    \n",
    "    coms = []\n",
    "    for party in unique_parties:\n",
    "        nodes_party = []\n",
    "        for node_id, node_party in dict(G.nodes(data='party')).items():\n",
    "            if party == node_party:\n",
    "                nodes_party.append(node_id)\n",
    "        coms.append(set(nodes_party))\n",
    "    \n",
    "    opt_coms = coms\n",
    "    opt_mod = nx.community.modularity(G, opt_coms)\n",
    "    dQ = pd.DataFrame()\n",
    "    for i in range(len(opt_coms)):\n",
    "        opt_c = opt_coms.copy()\n",
    "        com = list(opt_c.pop(i))\n",
    "        oth_coms = opt_c\n",
    "        for j in tqdm(range(len(com))):\n",
    "            elem = com.pop(j)\n",
    "            mods = []\n",
    "            for k in range(len(oth_coms)):\n",
    "                oth_com = oth_coms[k]\n",
    "                oth_com.add(elem)\n",
    "                mod = nx.community.modularity(G, [set(com), *oth_coms])\n",
    "                mods.append(mod - opt_mod)\n",
    "                oth_com.remove(elem)\n",
    "            df = pd.DataFrame({'node_id': elem, 'party': G.nodes(data='party')[elem], 'community': i, 'min_dQ': [np.min(mods)], 'max_dQ': [np.max(mods)]})\n",
    "            dQ = pd.concat([dQ, df], ignore_index=True) \n",
    "            com.insert(k, elem)\n",
    "    return dQ"
   ]
  },
  {
   "cell_type": "code",
   "execution_count": 70,
   "id": "c961ba15",
   "metadata": {},
   "outputs": [
    {
     "name": "stderr",
     "output_type": "stream",
     "text": [
      "100%|██████████████████████████████████████████████████████████████████████████████████| 18/18 [00:21<00:00,  1.18s/it]\n",
      "100%|██████████████████████████████████████████████████████████████████████████████████| 47/47 [00:57<00:00,  1.22s/it]\n",
      "100%|████████████████████████████████████████████████████████████████████████████████| 133/133 [02:40<00:00,  1.21s/it]\n",
      "100%|████████████████████████████████████████████████████████████████████████████████████| 6/6 [00:07<00:00,  1.19s/it]\n",
      "100%|████████████████████████████████████████████████████████████████████████████████████| 4/4 [00:04<00:00,  1.18s/it]\n",
      "100%|████████████████████████████████████████████████████████████████████████████████████| 1/1 [00:01<00:00,  1.17s/it]\n",
      "100%|████████████████████████████████████████████████████████████████████████████████| 159/159 [03:10<00:00,  1.20s/it]\n",
      "100%|██████████████████████████████████████████████████████████████████████████████████| 26/26 [00:30<00:00,  1.18s/it]\n",
      "100%|████████████████████████████████████████████████████████████████████████████████████| 2/2 [00:02<00:00,  1.18s/it]\n",
      "100%|████████████████████████████████████████████████████████████████████████████████████| 1/1 [00:01<00:00,  1.16s/it]\n",
      "100%|████████████████████████████████████████████████████████████████████████████████████| 2/2 [00:02<00:00,  1.19s/it]\n",
      "100%|██████████████████████████████████████████████████████████████████████████████████| 43/43 [00:51<00:00,  1.20s/it]\n",
      "100%|██████████████████████████████████████████████████████████████████████████████████| 18/18 [00:21<00:00,  1.19s/it]\n"
     ]
    }
   ],
   "source": [
    "dQ_party = party_and_coreness(G)"
   ]
  },
  {
   "cell_type": "code",
   "execution_count": 74,
   "id": "52e0b7ce",
   "metadata": {},
   "outputs": [],
   "source": [
    "dQ_party['min_dQ'] =  - dQ_party['min_dQ'] * 10000\n",
    "dQ_party['max_dQ'] =  - dQ_party['max_dQ'] * 10000"
   ]
  },
  {
   "cell_type": "markdown",
   "id": "79ee3f9f",
   "metadata": {},
   "source": [
    "#### min -> minimum variation in modularity, i.e. modularity was compared against a setup in which each node was moved, one per time, to its closest community"
   ]
  },
  {
   "cell_type": "code",
   "execution_count": 75,
   "id": "a806cdaf",
   "metadata": {},
   "outputs": [
    {
     "data": {
      "text/plain": [
       "Text(0.5, 1.0, 'Opposition')"
      ]
     },
     "execution_count": 75,
     "metadata": {},
     "output_type": "execute_result"
    },
    {
     "data": {
      "image/png": "[encoded data removed]",
      "text/plain": [
       "<Figure size 720x288 with 2 Axes>"
      ]
     },
     "metadata": {
      "needs_background": "light"
     },
     "output_type": "display_data"
    }
   ],
   "source": [
    "fig, ax = plt.subplots(1, 2, sharex=True, sharey=True, figsize=(10, 4))\n",
    "palette = itertools.cycle(sns.color_palette())\n",
    "\n",
    "sns.histplot(data=dQ_party[dQ_party['party'].isin(gov)], x='min_dQ', hue='party', multiple='stack', ax=ax[0], palette=palette)\n",
    "ax[0].set_xlabel(r'$|dQ| \\times 10^4$')\n",
    "ax[0].set_ylabel('Number of deputies')\n",
    "ax[0].set_title('Goverment')\n",
    "\n",
    "\n",
    "sns.histplot(data=dQ_party[dQ_party['party'].isin(opp)], x='min_dQ', hue='party', multiple='stack', ax=ax[1], palette=palette)\n",
    "ax[1].set_xlabel(r'$|dQ| \\times 10^4$')\n",
    "ax[1].set_ylabel('Number of deputies')\n",
    "ax[1].set_title('Opposition')"
   ]
  },
  {
   "cell_type": "markdown",
   "id": "43e09ef6",
   "metadata": {},
   "source": [
    "#### max -> farthest community"
   ]
  },
  {
   "cell_type": "code",
   "execution_count": 76,
   "id": "8ee0672c",
   "metadata": {},
   "outputs": [
    {
     "data": {
      "text/plain": [
       "Text(0.5, 1.0, 'Opposition')"
      ]
     },
     "execution_count": 76,
     "metadata": {},
     "output_type": "execute_result"
    },
    {
     "data": {
      "image/png": "[encoded data removed]",
      "text/plain": [
       "<Figure size 720x288 with 2 Axes>"
      ]
     },
     "metadata": {
      "needs_background": "light"
     },
     "output_type": "display_data"
    }
   ],
   "source": [
    "fig, ax = plt.subplots(1, 2, sharex=True, sharey=True, figsize=(10, 4))\n",
    "palette = itertools.cycle(sns.color_palette())\n",
    "\n",
    "sns.histplot(data=dQ_party[dQ_party['party'].isin(gov)], x='max_dQ', hue='party', multiple='stack', ax=ax[0], palette=palette)\n",
    "ax[0].set_xlabel(r'$|dQ| \\times 10^4$')\n",
    "ax[0].set_ylabel('Number of deputies')\n",
    "ax[0].set_title('Goverment')\n",
    "\n",
    "\n",
    "sns.histplot(data=dQ_party[dQ_party['party'].isin(opp)], x='max_dQ', hue='party', multiple='stack', ax=ax[1], palette=palette)\n",
    "ax[1].set_xlabel(r'$|dQ| \\times 10^4$')\n",
    "ax[1].set_ylabel('Number of deputies')\n",
    "ax[1].set_title('Opposition')"
   ]
  },
  {
   "cell_type": "code",
   "execution_count": 78,
   "id": "623b3b16",
   "metadata": {},
   "outputs": [
    {
     "data": {
      "text/html": [
       "<div>\n",
       "<style scoped>\n",
       "    .dataframe tbody tr th:only-of-type {\n",
       "        vertical-align: middle;\n",
       "    }\n",
       "\n",
       "    .dataframe tbody tr th {\n",
       "        vertical-align: top;\n",
       "    }\n",
       "\n",
       "    .dataframe thead th {\n",
       "        text-align: right;\n",
       "    }\n",
       "</style>\n",
       "<table border=\"1\" class=\"dataframe\">\n",
       "  <thead>\n",
       "    <tr style=\"text-align: right;\">\n",
       "      <th></th>\n",
       "      <th>node_id</th>\n",
       "      <th>party</th>\n",
       "      <th>community</th>\n",
       "      <th>min_dQ</th>\n",
       "      <th>max_dQ</th>\n",
       "    </tr>\n",
       "  </thead>\n",
       "  <tbody>\n",
       "    <tr>\n",
       "      <th>0</th>\n",
       "      <td>228</td>\n",
       "      <td>PiS</td>\n",
       "      <td>0</td>\n",
       "      <td>3.288688</td>\n",
       "      <td>-1.917821</td>\n",
       "    </tr>\n",
       "    <tr>\n",
       "      <th>1</th>\n",
       "      <td>73</td>\n",
       "      <td>PiS</td>\n",
       "      <td>0</td>\n",
       "      <td>2.235626</td>\n",
       "      <td>-1.240781</td>\n",
       "    </tr>\n",
       "    <tr>\n",
       "      <th>2</th>\n",
       "      <td>360</td>\n",
       "      <td>PiS</td>\n",
       "      <td>0</td>\n",
       "      <td>3.081429</td>\n",
       "      <td>-1.741725</td>\n",
       "    </tr>\n",
       "    <tr>\n",
       "      <th>3</th>\n",
       "      <td>174</td>\n",
       "      <td>PiS</td>\n",
       "      <td>0</td>\n",
       "      <td>2.871481</td>\n",
       "      <td>-1.715215</td>\n",
       "    </tr>\n",
       "    <tr>\n",
       "      <th>4</th>\n",
       "      <td>145</td>\n",
       "      <td>PiS</td>\n",
       "      <td>0</td>\n",
       "      <td>2.273899</td>\n",
       "      <td>-1.331690</td>\n",
       "    </tr>\n",
       "    <tr>\n",
       "      <th>...</th>\n",
       "      <td>...</td>\n",
       "      <td>...</td>\n",
       "      <td>...</td>\n",
       "      <td>...</td>\n",
       "      <td>...</td>\n",
       "    </tr>\n",
       "    <tr>\n",
       "      <th>455</th>\n",
       "      <td>318</td>\n",
       "      <td>SKL</td>\n",
       "      <td>12</td>\n",
       "      <td>2.594621</td>\n",
       "      <td>-1.307995</td>\n",
       "    </tr>\n",
       "    <tr>\n",
       "      <th>456</th>\n",
       "      <td>226</td>\n",
       "      <td>SKL</td>\n",
       "      <td>12</td>\n",
       "      <td>3.022346</td>\n",
       "      <td>-1.784432</td>\n",
       "    </tr>\n",
       "    <tr>\n",
       "      <th>457</th>\n",
       "      <td>239</td>\n",
       "      <td>SKL</td>\n",
       "      <td>12</td>\n",
       "      <td>3.030347</td>\n",
       "      <td>-1.611832</td>\n",
       "    </tr>\n",
       "    <tr>\n",
       "      <th>458</th>\n",
       "      <td>112</td>\n",
       "      <td>SKL</td>\n",
       "      <td>12</td>\n",
       "      <td>3.039066</td>\n",
       "      <td>-1.628605</td>\n",
       "    </tr>\n",
       "    <tr>\n",
       "      <th>459</th>\n",
       "      <td>249</td>\n",
       "      <td>SKL</td>\n",
       "      <td>12</td>\n",
       "      <td>3.213881</td>\n",
       "      <td>-1.768094</td>\n",
       "    </tr>\n",
       "  </tbody>\n",
       "</table>\n",
       "<p>460 rows × 5 columns</p>\n",
       "</div>"
      ],
      "text/plain": [
       "     node_id party  community    min_dQ    max_dQ\n",
       "0        228   PiS          0  3.288688 -1.917821\n",
       "1         73   PiS          0  2.235626 -1.240781\n",
       "2        360   PiS          0  3.081429 -1.741725\n",
       "3        174   PiS          0  2.871481 -1.715215\n",
       "4        145   PiS          0  2.273899 -1.331690\n",
       "..       ...   ...        ...       ...       ...\n",
       "455      318   SKL         12  2.594621 -1.307995\n",
       "456      226   SKL         12  3.022346 -1.784432\n",
       "457      239   SKL         12  3.030347 -1.611832\n",
       "458      112   SKL         12  3.039066 -1.628605\n",
       "459      249   SKL         12  3.213881 -1.768094\n",
       "\n",
       "[460 rows x 5 columns]"
      ]
     },
     "execution_count": 78,
     "metadata": {},
     "output_type": "execute_result"
    }
   ],
   "source": [
    "dQ_party"
   ]
  },
  {
   "cell_type": "code",
   "execution_count": null,
   "id": "48b73062",
   "metadata": {},
   "outputs": [],
   "source": []
  }
 ],
 "metadata": {
  "kernelspec": {
   "display_name": "Python 3",
   "language": "python",
   "name": "python3"
  },
  "language_info": {
   "codemirror_mode": {
    "name": "ipython",
    "version": 3
   },
   "file_extension": ".py",
   "mimetype": "text/x-python",
   "name": "python",
   "nbconvert_exporter": "python",
   "pygments_lexer": "ipython3",
   "version": "3.9.5"
  }
 },
 "nbformat": 4,
 "nbformat_minor": 5
}
