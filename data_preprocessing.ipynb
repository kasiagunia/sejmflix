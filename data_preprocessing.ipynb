{
 "cells": [
  {
   "cell_type": "code",
   "execution_count": 1,
   "id": "57ab5db4",
   "metadata": {},
   "outputs": [],
   "source": [
    "import pandas as pd\n",
    "import numpy as np\n",
    "from tqdm import tqdm\n",
    "import networkx as nx"
   ]
  },
  {
   "cell_type": "code",
   "execution_count": 7,
   "id": "3041c24e",
   "metadata": {},
   "outputs": [],
   "source": [
    "file = 'GLO3k1p119p_i.csv'\n",
    "df = pd.read_csv(file, low_memory=False)"
   ]
  },
  {
   "cell_type": "code",
   "execution_count": 8,
   "id": "4fbfd9e0",
   "metadata": {},
   "outputs": [
    {
     "data": {
      "text/html": [
       "<div>\n",
       "<style scoped>\n",
       "    .dataframe tbody tr th:only-of-type {\n",
       "        vertical-align: middle;\n",
       "    }\n",
       "\n",
       "    .dataframe tbody tr th {\n",
       "        vertical-align: top;\n",
       "    }\n",
       "\n",
       "    .dataframe thead th {\n",
       "        text-align: right;\n",
       "    }\n",
       "</style>\n",
       "<table border=\"1\" class=\"dataframe\">\n",
       "  <thead>\n",
       "    <tr style=\"text-align: right;\">\n",
       "      <th></th>\n",
       "      <th>vote_id</th>\n",
       "      <th>Nrleg</th>\n",
       "      <th>NazwiskoImie</th>\n",
       "      <th>Glos</th>\n",
       "      <th>Klub</th>\n",
       "    </tr>\n",
       "  </thead>\n",
       "  <tbody>\n",
       "    <tr>\n",
       "      <th>0</th>\n",
       "      <td>3001001</td>\n",
       "      <td>1</td>\n",
       "      <td>Adamczyk Franciszek</td>\n",
       "      <td>Za</td>\n",
       "      <td>AWS</td>\n",
       "    </tr>\n",
       "    <tr>\n",
       "      <th>1</th>\n",
       "      <td>3001001</td>\n",
       "      <td>2</td>\n",
       "      <td>Adamska-Wedler Elżbieta</td>\n",
       "      <td>Za</td>\n",
       "      <td>AWS</td>\n",
       "    </tr>\n",
       "    <tr>\n",
       "      <th>2</th>\n",
       "      <td>3001001</td>\n",
       "      <td>3</td>\n",
       "      <td>Adamski Władysław</td>\n",
       "      <td>Za</td>\n",
       "      <td>SLD</td>\n",
       "    </tr>\n",
       "    <tr>\n",
       "      <th>3</th>\n",
       "      <td>3001001</td>\n",
       "      <td>4</td>\n",
       "      <td>Ajchler Romuald</td>\n",
       "      <td>Za</td>\n",
       "      <td>SLD</td>\n",
       "    </tr>\n",
       "    <tr>\n",
       "      <th>4</th>\n",
       "      <td>3001001</td>\n",
       "      <td>5</td>\n",
       "      <td>Anusz Andrzej</td>\n",
       "      <td>Za</td>\n",
       "      <td>AWS</td>\n",
       "    </tr>\n",
       "    <tr>\n",
       "      <th>...</th>\n",
       "      <td>...</td>\n",
       "      <td>...</td>\n",
       "      <td>...</td>\n",
       "      <td>...</td>\n",
       "      <td>...</td>\n",
       "    </tr>\n",
       "    <tr>\n",
       "      <th>5427086</th>\n",
       "      <td>3119055</td>\n",
       "      <td>456</td>\n",
       "      <td>Żak Piotr</td>\n",
       "      <td>Za</td>\n",
       "      <td>niez.</td>\n",
       "    </tr>\n",
       "    <tr>\n",
       "      <th>5427087</th>\n",
       "      <td>3119055</td>\n",
       "      <td>457</td>\n",
       "      <td>Żelazowski Andrzej</td>\n",
       "      <td>Za</td>\n",
       "      <td>SLD</td>\n",
       "    </tr>\n",
       "    <tr>\n",
       "      <th>5427088</th>\n",
       "      <td>3119055</td>\n",
       "      <td>458</td>\n",
       "      <td>Żelichowski Stanisław</td>\n",
       "      <td>Nieobecny</td>\n",
       "      <td>PSL</td>\n",
       "    </tr>\n",
       "    <tr>\n",
       "      <th>5427089</th>\n",
       "      <td>3119055</td>\n",
       "      <td>460</td>\n",
       "      <td>Żyliński Adam Jacek</td>\n",
       "      <td>Nieobecny</td>\n",
       "      <td>UW</td>\n",
       "    </tr>\n",
       "    <tr>\n",
       "      <th>5427090</th>\n",
       "      <td>3119055</td>\n",
       "      <td>475</td>\n",
       "      <td>Żymełka Zygmunt</td>\n",
       "      <td>Za</td>\n",
       "      <td>niez.</td>\n",
       "    </tr>\n",
       "  </tbody>\n",
       "</table>\n",
       "<p>5427091 rows × 5 columns</p>\n",
       "</div>"
      ],
      "text/plain": [
       "         vote_id  Nrleg             NazwiskoImie       Glos   Klub\n",
       "0        3001001      1      Adamczyk Franciszek         Za    AWS\n",
       "1        3001001      2  Adamska-Wedler Elżbieta         Za    AWS\n",
       "2        3001001      3        Adamski Władysław         Za    SLD\n",
       "3        3001001      4          Ajchler Romuald         Za    SLD\n",
       "4        3001001      5            Anusz Andrzej         Za    AWS\n",
       "...          ...    ...                      ...        ...    ...\n",
       "5427086  3119055    456                Żak Piotr         Za  niez.\n",
       "5427087  3119055    457       Żelazowski Andrzej         Za    SLD\n",
       "5427088  3119055    458    Żelichowski Stanisław  Nieobecny    PSL\n",
       "5427089  3119055    460      Żyliński Adam Jacek  Nieobecny     UW\n",
       "5427090  3119055    475          Żymełka Zygmunt         Za  niez.\n",
       "\n",
       "[5427091 rows x 5 columns]"
      ]
     },
     "execution_count": 8,
     "metadata": {},
     "output_type": "execute_result"
    }
   ],
   "source": [
    "df"
   ]
  },
  {
   "cell_type": "markdown",
   "id": "c5399f3e",
   "metadata": {},
   "source": [
    "## Simple data validation"
   ]
  },
  {
   "cell_type": "code",
   "execution_count": 27,
   "id": "3c634e01",
   "metadata": {},
   "outputs": [],
   "source": [
    "assert np.all(df.dtypes.values == [np.dtype('int64'), np.dtype('int64'), np.dtype('O'), np.dtype('O'), np.dtype('O')])"
   ]
  },
  {
   "cell_type": "code",
   "execution_count": 17,
   "id": "2094365e",
   "metadata": {},
   "outputs": [],
   "source": [
    "assert df.isnull().sum().sum() == 0"
   ]
  },
  {
   "cell_type": "code",
   "execution_count": 18,
   "id": "f92c4adf",
   "metadata": {},
   "outputs": [],
   "source": [
    "assert df[df.duplicated()].size == 0"
   ]
  },
  {
   "cell_type": "markdown",
   "id": "95c05770",
   "metadata": {},
   "source": [
    "## Assign node ID \n",
    "### Handling deputies swaps"
   ]
  },
  {
   "cell_type": "code",
   "execution_count": 37,
   "id": "f74690eb",
   "metadata": {},
   "outputs": [],
   "source": [
    "# helper functions\n",
    "\n",
    "def create_deputy_df(df):\n",
    "    df_deputies = df[['Nrleg', 'NazwiskoImie', 'Klub']]\n",
    "    df_deputies = df_deputies.groupby(['Nrleg', 'NazwiskoImie'])['Klub'].agg(['unique']).reset_index().rename(columns={\"unique\": \"Klub\"})\n",
    "    return df_deputies\n",
    "\n",
    "def make_queues(df_deputies, vote_ids, deputy_ids_per_vote):\n",
    "    removed_ids = []\n",
    "    new_ids = []\n",
    "\n",
    "    for i in range(1, len(vote_ids)):\n",
    "        ids_0 = deputy_ids_per_vote[i-1]\n",
    "        ids_1 = deputy_ids_per_vote[i]\n",
    "\n",
    "        removed = set(ids_0).difference(ids_1)\n",
    "        new = set(ids_1).difference(ids_0)\n",
    "\n",
    "        if len(removed) > 0:\n",
    "            for idd in removed:\n",
    "                r = (idd, list(df_deputies[df_deputies['Nrleg'] == idd]['Klub'].values[0]), vote_ids[i])\n",
    "                removed_ids.append(r)\n",
    "        if len(new) > 0:\n",
    "            for idd in new:\n",
    "                n = (idd, list(df_deputies[df_deputies['Nrleg'] == idd]['Klub'].values[0]), vote_ids[i])\n",
    "                new_ids.append(n)\n",
    "    return removed_ids, new_ids\n",
    "\n",
    "def find_pairs(removed_ids, new_ids):\n",
    "    ids_pairs = []\n",
    "    node_id_dict = {i:i for i in range(1, 461)}\n",
    "\n",
    "    while len(removed_ids) > 0:\n",
    "        r_id, r_c, r_v_id = removed_ids.pop(0)\n",
    "        search = 1\n",
    "        i = 0\n",
    "        while search and i < len(new_ids):\n",
    "            n_id, n_c, n_v_id = new_ids[i]\n",
    "            if len(set(r_c).intersection(set(n_c))) > 0 and r_v_id <= n_v_id:\n",
    "                ids_pairs.append((r_id, n_id))\n",
    "                node_id_dict[n_id] = r_id\n",
    "                new_ids.pop(i)\n",
    "                search = 0\n",
    "            i += 1\n",
    "    return node_id_dict"
   ]
  },
  {
   "cell_type": "code",
   "execution_count": 38,
   "id": "1361682c",
   "metadata": {},
   "outputs": [],
   "source": [
    "def assign_node_ids(df):\n",
    "    df_deputies = create_deputy_df(df)\n",
    "    \n",
    "    vote_ids = sorted(df['vote_id'].unique())\n",
    "    deputy_ids_per_vote = [df[df['vote_id'] == vote_id]['Nrleg'].unique() for vote_id in vote_ids]\n",
    "    \n",
    "    removed_ids, new_ids = make_queues(df_deputies, vote_ids, deputy_ids_per_vote)\n",
    "    node_id_dict = find_pairs(removed_ids, new_ids)\n",
    "    \n",
    "    node_id_dict_func = lambda x: node_id_dict[x]\n",
    "    node_id_dict_func = np.vectorize(node_id_dict_func)\n",
    "    \n",
    "    df_deputies['node_id'] = node_id_dict_func(df_deputies['Nrleg'])\n",
    "    \n",
    "    df_node_id = pd.merge(df[['vote_id', 'Nrleg', 'NazwiskoImie', 'Glos']], df_deputies, on=['Nrleg', 'NazwiskoImie'], how='left')\n",
    "    df_node_id['node_id'] = df_node_id['node_id'] - 1\n",
    "    return df_node_id"
   ]
  },
  {
   "cell_type": "code",
   "execution_count": 41,
   "id": "14f6a838",
   "metadata": {},
   "outputs": [],
   "source": [
    "df = assign_node_ids(df)"
   ]
  },
  {
   "cell_type": "code",
   "execution_count": 42,
   "id": "820ff137",
   "metadata": {},
   "outputs": [
    {
     "data": {
      "text/html": [
       "<div>\n",
       "<style scoped>\n",
       "    .dataframe tbody tr th:only-of-type {\n",
       "        vertical-align: middle;\n",
       "    }\n",
       "\n",
       "    .dataframe tbody tr th {\n",
       "        vertical-align: top;\n",
       "    }\n",
       "\n",
       "    .dataframe thead th {\n",
       "        text-align: right;\n",
       "    }\n",
       "</style>\n",
       "<table border=\"1\" class=\"dataframe\">\n",
       "  <thead>\n",
       "    <tr style=\"text-align: right;\">\n",
       "      <th></th>\n",
       "      <th>vote_id</th>\n",
       "      <th>Nrleg</th>\n",
       "      <th>NazwiskoImie</th>\n",
       "      <th>Glos</th>\n",
       "      <th>Klub</th>\n",
       "      <th>node_id</th>\n",
       "    </tr>\n",
       "  </thead>\n",
       "  <tbody>\n",
       "    <tr>\n",
       "      <th>0</th>\n",
       "      <td>3001001</td>\n",
       "      <td>1</td>\n",
       "      <td>Adamczyk Franciszek</td>\n",
       "      <td>Za</td>\n",
       "      <td>[AWS]</td>\n",
       "      <td>1</td>\n",
       "    </tr>\n",
       "    <tr>\n",
       "      <th>1</th>\n",
       "      <td>3001001</td>\n",
       "      <td>2</td>\n",
       "      <td>Adamska-Wedler Elżbieta</td>\n",
       "      <td>Za</td>\n",
       "      <td>[AWS, KPN-OP]</td>\n",
       "      <td>2</td>\n",
       "    </tr>\n",
       "    <tr>\n",
       "      <th>2</th>\n",
       "      <td>3001001</td>\n",
       "      <td>3</td>\n",
       "      <td>Adamski Władysław</td>\n",
       "      <td>Za</td>\n",
       "      <td>[SLD]</td>\n",
       "      <td>3</td>\n",
       "    </tr>\n",
       "    <tr>\n",
       "      <th>3</th>\n",
       "      <td>3001001</td>\n",
       "      <td>4</td>\n",
       "      <td>Ajchler Romuald</td>\n",
       "      <td>Za</td>\n",
       "      <td>[SLD]</td>\n",
       "      <td>4</td>\n",
       "    </tr>\n",
       "    <tr>\n",
       "      <th>4</th>\n",
       "      <td>3001001</td>\n",
       "      <td>5</td>\n",
       "      <td>Anusz Andrzej</td>\n",
       "      <td>Za</td>\n",
       "      <td>[AWS]</td>\n",
       "      <td>5</td>\n",
       "    </tr>\n",
       "    <tr>\n",
       "      <th>...</th>\n",
       "      <td>...</td>\n",
       "      <td>...</td>\n",
       "      <td>...</td>\n",
       "      <td>...</td>\n",
       "      <td>...</td>\n",
       "      <td>...</td>\n",
       "    </tr>\n",
       "    <tr>\n",
       "      <th>5427086</th>\n",
       "      <td>3119055</td>\n",
       "      <td>456</td>\n",
       "      <td>Żak Piotr</td>\n",
       "      <td>Za</td>\n",
       "      <td>[AWS, niez.]</td>\n",
       "      <td>456</td>\n",
       "    </tr>\n",
       "    <tr>\n",
       "      <th>5427087</th>\n",
       "      <td>3119055</td>\n",
       "      <td>457</td>\n",
       "      <td>Żelazowski Andrzej</td>\n",
       "      <td>Za</td>\n",
       "      <td>[SLD]</td>\n",
       "      <td>457</td>\n",
       "    </tr>\n",
       "    <tr>\n",
       "      <th>5427088</th>\n",
       "      <td>3119055</td>\n",
       "      <td>458</td>\n",
       "      <td>Żelichowski Stanisław</td>\n",
       "      <td>Nieobecny</td>\n",
       "      <td>[PSL]</td>\n",
       "      <td>458</td>\n",
       "    </tr>\n",
       "    <tr>\n",
       "      <th>5427089</th>\n",
       "      <td>3119055</td>\n",
       "      <td>460</td>\n",
       "      <td>Żyliński Adam Jacek</td>\n",
       "      <td>Nieobecny</td>\n",
       "      <td>[UW]</td>\n",
       "      <td>460</td>\n",
       "    </tr>\n",
       "    <tr>\n",
       "      <th>5427090</th>\n",
       "      <td>3119055</td>\n",
       "      <td>475</td>\n",
       "      <td>Żymełka Zygmunt</td>\n",
       "      <td>Za</td>\n",
       "      <td>[UW, niez.]</td>\n",
       "      <td>11</td>\n",
       "    </tr>\n",
       "  </tbody>\n",
       "</table>\n",
       "<p>5427091 rows × 6 columns</p>\n",
       "</div>"
      ],
      "text/plain": [
       "         vote_id  Nrleg             NazwiskoImie       Glos           Klub  \\\n",
       "0        3001001      1      Adamczyk Franciszek         Za          [AWS]   \n",
       "1        3001001      2  Adamska-Wedler Elżbieta         Za  [AWS, KPN-OP]   \n",
       "2        3001001      3        Adamski Władysław         Za          [SLD]   \n",
       "3        3001001      4          Ajchler Romuald         Za          [SLD]   \n",
       "4        3001001      5            Anusz Andrzej         Za          [AWS]   \n",
       "...          ...    ...                      ...        ...            ...   \n",
       "5427086  3119055    456                Żak Piotr         Za   [AWS, niez.]   \n",
       "5427087  3119055    457       Żelazowski Andrzej         Za          [SLD]   \n",
       "5427088  3119055    458    Żelichowski Stanisław  Nieobecny          [PSL]   \n",
       "5427089  3119055    460      Żyliński Adam Jacek  Nieobecny           [UW]   \n",
       "5427090  3119055    475          Żymełka Zygmunt         Za    [UW, niez.]   \n",
       "\n",
       "         node_id  \n",
       "0              1  \n",
       "1              2  \n",
       "2              3  \n",
       "3              4  \n",
       "4              5  \n",
       "...          ...  \n",
       "5427086      456  \n",
       "5427087      457  \n",
       "5427088      458  \n",
       "5427089      460  \n",
       "5427090       11  \n",
       "\n",
       "[5427091 rows x 6 columns]"
      ]
     },
     "execution_count": 42,
     "metadata": {},
     "output_type": "execute_result"
    }
   ],
   "source": [
    "df"
   ]
  },
  {
   "cell_type": "markdown",
   "id": "7e0c693c",
   "metadata": {},
   "source": [
    "## Calulating edge weights"
   ]
  },
  {
   "cell_type": "markdown",
   "id": "b35c37f8",
   "metadata": {},
   "source": [
    "\"As the first step in our methodology we construct a graph where **each node represents one of the deputies** and **edges are drawn every time two deputies display the same voting behavior (i.e. both vote in favor, against or abstain from vote. No edges are drawn for absent deputies)**. We then normalize edges by the total number of votes in the reference period in order to obtain a weighted graph where weights are . Full weight is given to two deputies  if they participated in all sessions and voted exactly the same way in all of sessions. When a deputy quits the parliament, because of incompatibility, resignation etc., and his or her seat is taken by a new person, we consider the two deputies as being just one node (we check whether this transition leads to some votes in which none of the two deputies had their chairs without finding any discontinuity).\""
   ]
  },
  {
   "cell_type": "code",
   "execution_count": 85,
   "id": "657160a8",
   "metadata": {},
   "outputs": [
    {
     "data": {
      "text/plain": [
       "array(['Za', 'Nieobecny', 'Nie oddał głosu', 'Wstrzymał się', 'Przeciw'],\n",
       "      dtype=object)"
      ]
     },
     "execution_count": 85,
     "metadata": {},
     "output_type": "execute_result"
    }
   ],
   "source": [
    "# czym się różni 'Nie oddał głosu' od 'Wstrzymał się' ?!\n",
    "df['Glos'].unique()"
   ]
  },
  {
   "cell_type": "code",
   "execution_count": 125,
   "id": "92d91895",
   "metadata": {},
   "outputs": [],
   "source": [
    "def egde_weights(df):\n",
    "    \"\"\"Returns matrix with edge values.\"\"\"\n",
    "    common_votes = np.zeros((460, 460))\n",
    "    vote_ids = df['vote_id'].unique()\n",
    "    \n",
    "    for vote_id in tqdm(vote_ids):\n",
    "        dep_yes = df[(df['vote_id'] == vote_id) & (df['Glos'] == 'Za')]['node_id'].values\n",
    "        dep_no = df[(df['vote_id'] == vote_id) & (df['Glos'] == 'Przeciw')]['node_id'].values\n",
    "        dep_abstain = df[(df['vote_id'] == vote_id) & ((df['Glos'] == 'Wstrzymał się') | (df['Glos'] == 'Nie oddał głosu'))]['node_id'].values\n",
    "        # dep_absent = df[(df['vote_id'] == vote_id) & (df['Glos'] == 'Nieobecny')]['node_id'].values\n",
    "\n",
    "        # votes in favor\n",
    "        for i in range(len(dep_yes)):\n",
    "            for j in range(i+1, len(dep_yes)):\n",
    "                common_votes[dep_yes[i], dep_yes[j]] += 1\n",
    "                # common_votes[dep_yes[j], dep_yes[i]] += 1\n",
    "\n",
    "        # votes in against\n",
    "        for i in range(len(dep_no)):\n",
    "            for j in range(i+1, len(dep_no)):\n",
    "                common_votes[dep_no[i], dep_no[j]] += 1\n",
    "                # common_votes[dep_no[j], dep_no[i]] += 1\n",
    "\n",
    "        # abstain from vote\n",
    "        for i in range(len(dep_abstain)):\n",
    "            for j in range(i+1, len(dep_abstain)):\n",
    "                common_votes[dep_abstain[i], dep_abstain[j]] += 1\n",
    "                # common_votes[dep_abstain[j], dep_abstain[i]] += 1\n",
    "\n",
    "    return common_votes / len(vote_ids)"
   ]
  },
  {
   "cell_type": "code",
   "execution_count": null,
   "id": "8e3b5b28",
   "metadata": {},
   "outputs": [
    {
     "name": "stderr",
     "output_type": "stream",
     "text": [
      " 14%|██████████▊                                                                | 1704/11801 [27:00<2:37:31,  1.07it/s]"
     ]
    }
   ],
   "source": [
    "edge_matrix = egde_weights(df)"
   ]
  },
  {
   "cell_type": "code",
   "execution_count": 126,
   "id": "873fcb39",
   "metadata": {},
   "outputs": [],
   "source": [
    "np.allclose(edge_matrix, np.triu(edge_matrix)) # upper triangular matrix"
   ]
  },
  {
   "cell_type": "markdown",
   "id": "77c5ce63",
   "metadata": {},
   "source": [
    "## Create graph"
   ]
  },
  {
   "cell_type": "code",
   "execution_count": null,
   "id": "80591487",
   "metadata": {},
   "outputs": [],
   "source": [
    "G = nx.from_numpy_matrix(A, create_using=nx.Graph())\n",
    "G.edges()"
   ]
  },
  {
   "cell_type": "markdown",
   "id": "48a44360",
   "metadata": {},
   "source": [
    "TO DO:\n",
    "- save matrix\n",
    "- add date to df\n",
    "- add atributes to the graph\n",
    "- deputy changing party? detection? calculate graph each time? take last party?\n",
    "- split data by month\n",
    "- calculate monthly matices"
   ]
  },
  {
   "cell_type": "code",
   "execution_count": null,
   "id": "fb0e53ab",
   "metadata": {},
   "outputs": [],
   "source": []
  }
 ],
 "metadata": {
  "kernelspec": {
   "display_name": "Python 3",
   "language": "python",
   "name": "python3"
  },
  "language_info": {
   "codemirror_mode": {
    "name": "ipython",
    "version": 3
   },
   "file_extension": ".py",
   "mimetype": "text/x-python",
   "name": "python",
   "nbconvert_exporter": "python",
   "pygments_lexer": "ipython3",
   "version": "3.9.5"
  }
 },
 "nbformat": 4,
 "nbformat_minor": 5
}
