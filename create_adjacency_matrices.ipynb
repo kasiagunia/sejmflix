{
 "cells": [
  {
   "cell_type": "code",
   "execution_count": 6,
   "id": "7cc9095b",
   "metadata": {},
   "outputs": [],
   "source": [
    "import pandas as pd\n",
    "import numpy as np\n",
    "import preprocessing as pre"
   ]
  },
  {
   "cell_type": "markdown",
   "id": "20be6071",
   "metadata": {},
   "source": [
    "## 3 kadencja: 1997 - 2001"
   ]
  },
  {
   "cell_type": "code",
   "execution_count": 2,
   "id": "3788e67d",
   "metadata": {},
   "outputs": [],
   "source": [
    "xml_file_path = '.\\Sejm-20240316T162344Z-001\\Sejm\\GLO3k1p119p_i\\GLO3k1p119p_i.xml'\n",
    "csv_file = 'GLO3k1p119p_i.csv'"
   ]
  },
  {
   "cell_type": "code",
   "execution_count": 3,
   "id": "6928d5bf",
   "metadata": {},
   "outputs": [],
   "source": [
    "df_all = pre.save_xml_as_csv(xml_file_path, csv_file)"
   ]
  },
  {
   "cell_type": "code",
   "execution_count": 4,
   "id": "ef589aba",
   "metadata": {},
   "outputs": [
    {
     "data": {
      "text/html": [
       "<div>\n",
       "<style scoped>\n",
       "    .dataframe tbody tr th:only-of-type {\n",
       "        vertical-align: middle;\n",
       "    }\n",
       "\n",
       "    .dataframe tbody tr th {\n",
       "        vertical-align: top;\n",
       "    }\n",
       "\n",
       "    .dataframe thead th {\n",
       "        text-align: right;\n",
       "    }\n",
       "</style>\n",
       "<table border=\"1\" class=\"dataframe\">\n",
       "  <thead>\n",
       "    <tr style=\"text-align: right;\">\n",
       "      <th></th>\n",
       "      <th>vote_id</th>\n",
       "      <th>data_godzina</th>\n",
       "      <th>Nrleg</th>\n",
       "      <th>NazwiskoImie</th>\n",
       "      <th>Glos</th>\n",
       "      <th>Klub</th>\n",
       "    </tr>\n",
       "  </thead>\n",
       "  <tbody>\n",
       "    <tr>\n",
       "      <th>0</th>\n",
       "      <td>3001001</td>\n",
       "      <td>1997-10-20 12:51:54</td>\n",
       "      <td>1</td>\n",
       "      <td>Adamczyk Franciszek</td>\n",
       "      <td>Za</td>\n",
       "      <td>AWS</td>\n",
       "    </tr>\n",
       "    <tr>\n",
       "      <th>1</th>\n",
       "      <td>3001001</td>\n",
       "      <td>1997-10-20 12:51:54</td>\n",
       "      <td>2</td>\n",
       "      <td>Adamska-Wedler Elżbieta</td>\n",
       "      <td>Za</td>\n",
       "      <td>AWS</td>\n",
       "    </tr>\n",
       "    <tr>\n",
       "      <th>2</th>\n",
       "      <td>3001001</td>\n",
       "      <td>1997-10-20 12:51:54</td>\n",
       "      <td>3</td>\n",
       "      <td>Adamski Władysław</td>\n",
       "      <td>Za</td>\n",
       "      <td>SLD</td>\n",
       "    </tr>\n",
       "    <tr>\n",
       "      <th>3</th>\n",
       "      <td>3001001</td>\n",
       "      <td>1997-10-20 12:51:54</td>\n",
       "      <td>4</td>\n",
       "      <td>Ajchler Romuald</td>\n",
       "      <td>Za</td>\n",
       "      <td>SLD</td>\n",
       "    </tr>\n",
       "    <tr>\n",
       "      <th>4</th>\n",
       "      <td>3001001</td>\n",
       "      <td>1997-10-20 12:51:54</td>\n",
       "      <td>5</td>\n",
       "      <td>Anusz Andrzej</td>\n",
       "      <td>Za</td>\n",
       "      <td>AWS</td>\n",
       "    </tr>\n",
       "  </tbody>\n",
       "</table>\n",
       "</div>"
      ],
      "text/plain": [
       "   vote_id        data_godzina  Nrleg             NazwiskoImie Glos Klub\n",
       "0  3001001 1997-10-20 12:51:54      1      Adamczyk Franciszek   Za  AWS\n",
       "1  3001001 1997-10-20 12:51:54      2  Adamska-Wedler Elżbieta   Za  AWS\n",
       "2  3001001 1997-10-20 12:51:54      3        Adamski Władysław   Za  SLD\n",
       "3  3001001 1997-10-20 12:51:54      4          Ajchler Romuald   Za  SLD\n",
       "4  3001001 1997-10-20 12:51:54      5            Anusz Andrzej   Za  AWS"
      ]
     },
     "execution_count": 4,
     "metadata": {},
     "output_type": "execute_result"
    }
   ],
   "source": [
    "df_all.head()"
   ]
  },
  {
   "cell_type": "code",
   "execution_count": 7,
   "id": "b8972f83",
   "metadata": {},
   "outputs": [],
   "source": [
    "assert np.all(df_all.dtypes.values == [np.dtype('int32'), np.dtype('<M8[ns]'), np.dtype('int32'), np.dtype('O'), np.dtype('O'), np.dtype('O')])\n",
    "assert df_all.isnull().sum().sum() == 0\n",
    "assert df_all[df_all.duplicated()].size == 0"
   ]
  },
  {
   "cell_type": "code",
   "execution_count": 8,
   "id": "92387ebe",
   "metadata": {},
   "outputs": [
    {
     "data": {
      "text/plain": [
       "(Timestamp('1997-10-20 12:51:54'), Timestamp('2001-09-18 16:26:05'))"
      ]
     },
     "execution_count": 8,
     "metadata": {},
     "output_type": "execute_result"
    }
   ],
   "source": [
    "df_all['data_godzina'].min(), df_all['data_godzina'].max()"
   ]
  },
  {
   "cell_type": "code",
   "execution_count": 9,
   "id": "d55efdaf",
   "metadata": {},
   "outputs": [],
   "source": [
    "y_m_list = pd.date_range(df_all['data_godzina'].min(), df_all['data_godzina'].max(), \n",
    "              freq='M').strftime(\"%Y-%m\").tolist()\n",
    "\n",
    "y_m_list.append(df_all['data_godzina'].max().strftime(\"%Y-%m\"))"
   ]
  },
  {
   "cell_type": "code",
   "execution_count": 10,
   "id": "67bd2701",
   "metadata": {},
   "outputs": [
    {
     "data": {
      "text/plain": [
       "('1997-10', '2001-09')"
      ]
     },
     "execution_count": 10,
     "metadata": {},
     "output_type": "execute_result"
    }
   ],
   "source": [
    "y_m_list[0], y_m_list[-1]"
   ]
  },
  {
   "cell_type": "code",
   "execution_count": 11,
   "id": "f58cacd4",
   "metadata": {},
   "outputs": [],
   "source": [
    "y_m_list = [x.split('-') for x in y_m_list]"
   ]
  },
  {
   "cell_type": "code",
   "execution_count": 12,
   "id": "df89b0d4",
   "metadata": {},
   "outputs": [],
   "source": [
    "df_deputies = pre.assign_node_ids(df_all)"
   ]
  },
  {
   "cell_type": "code",
   "execution_count": 13,
   "id": "bd50d2ba",
   "metadata": {},
   "outputs": [
    {
     "name": "stderr",
     "output_type": "stream",
     "text": [
      "100%|██████████████████████████████████████████████████████████████████████████████████| 33/33 [00:02<00:00, 15.67it/s]\n",
      "100%|██████████████████████████████████████████████████████████████████████████████████| 33/33 [00:02<00:00, 12.94it/s]\n",
      "100%|██████████████████████████████████████████████████████████████████████████████████| 87/87 [00:07<00:00, 12.39it/s]\n",
      "100%|██████████████████████████████████████████████████████████████████████████████████| 72/72 [00:05<00:00, 13.61it/s]\n",
      "100%|██████████████████████████████████████████████████████████████████████████████████| 42/42 [00:03<00:00, 13.75it/s]\n",
      "100%|██████████████████████████████████████████████████████████████████████████████████| 31/31 [00:02<00:00, 13.98it/s]\n",
      "100%|██████████████████████████████████████████████████████████████████████████████████| 34/34 [00:02<00:00, 15.18it/s]\n",
      "100%|████████████████████████████████████████████████████████████████████████████████| 169/169 [00:18<00:00,  9.05it/s]\n",
      "100%|████████████████████████████████████████████████████████████████████████████████| 245/245 [00:25<00:00,  9.46it/s]\n",
      "100%|████████████████████████████████████████████████████████████████████████████████| 493/493 [01:09<00:00,  7.05it/s]\n",
      "100%|██████████████████████████████████████████████████████████████████████████████████| 29/29 [00:01<00:00, 19.51it/s]\n",
      "100%|████████████████████████████████████████████████████████████████████████████████| 198/198 [00:16<00:00, 11.65it/s]\n",
      "100%|██████████████████████████████████████████████████████████████████████████████████| 55/55 [00:02<00:00, 18.63it/s]\n",
      "100%|████████████████████████████████████████████████████████████████████████████████| 468/468 [01:01<00:00,  7.58it/s]\n",
      "100%|████████████████████████████████████████████████████████████████████████████████| 292/292 [00:30<00:00,  9.72it/s]\n",
      "100%|████████████████████████████████████████████████████████████████████████████████| 241/241 [00:24<00:00, 10.00it/s]\n",
      "100%|██████████████████████████████████████████████████████████████████████████████████| 66/66 [00:04<00:00, 13.48it/s]\n",
      "100%|████████████████████████████████████████████████████████████████████████████████| 143/143 [00:12<00:00, 11.73it/s]\n",
      "100%|████████████████████████████████████████████████████████████████████████████████| 143/143 [00:11<00:00, 12.65it/s]\n",
      "100%|████████████████████████████████████████████████████████████████████████████████| 170/170 [00:14<00:00, 11.36it/s]\n",
      "100%|██████████████████████████████████████████████████████████████████████████████████| 99/99 [00:07<00:00, 13.57it/s]\n",
      "100%|████████████████████████████████████████████████████████████████████████████████| 159/159 [00:12<00:00, 12.65it/s]\n",
      "0it [00:00, ?it/s]\n",
      "C:\\Users\\Kasia\\Desktop\\magisterka\\preprocessing.py:168: RuntimeWarning: invalid value encountered in divide\n",
      "  return common_votes / len(vote_ids)\n",
      "100%|████████████████████████████████████████████████████████████████████████████████| 156/156 [00:13<00:00, 11.79it/s]\n",
      "100%|██████████████████████████████████████████████████████████████████████████████████| 99/99 [00:07<00:00, 13.90it/s]\n",
      "100%|████████████████████████████████████████████████████████████████████████████████| 192/192 [00:15<00:00, 12.30it/s]\n",
      "100%|████████████████████████████████████████████████████████████████████████████████| 279/279 [00:28<00:00,  9.66it/s]\n",
      "100%|████████████████████████████████████████████████████████████████████████████████| 270/270 [00:28<00:00,  9.44it/s]\n",
      "100%|████████████████████████████████████████████████████████████████████████████████| 120/120 [00:10<00:00, 11.68it/s]\n",
      "100%|████████████████████████████████████████████████████████████████████████████████| 289/289 [00:32<00:00,  9.00it/s]\n",
      "100%|████████████████████████████████████████████████████████████████████████████████| 154/154 [00:14<00:00, 10.94it/s]\n",
      "100%|████████████████████████████████████████████████████████████████████████████████| 167/167 [00:15<00:00, 10.88it/s]\n",
      "100%|████████████████████████████████████████████████████████████████████████████████| 230/230 [00:23<00:00,  9.94it/s]\n",
      "100%|████████████████████████████████████████████████████████████████████████████████| 301/301 [00:33<00:00,  9.01it/s]\n",
      "0it [00:00, ?it/s]\n",
      "C:\\Users\\Kasia\\Desktop\\magisterka\\preprocessing.py:168: RuntimeWarning: invalid value encountered in divide\n",
      "  return common_votes / len(vote_ids)\n",
      "100%|████████████████████████████████████████████████████████████████████████████████| 341/341 [00:37<00:00,  8.99it/s]\n",
      "100%|████████████████████████████████████████████████████████████████████████████████| 319/319 [00:34<00:00,  9.36it/s]\n",
      "100%|████████████████████████████████████████████████████████████████████████████████| 304/304 [00:33<00:00,  9.03it/s]\n",
      "100%|████████████████████████████████████████████████████████████████████████████████| 480/480 [01:06<00:00,  7.17it/s]\n",
      "100%|████████████████████████████████████████████████████████████████████████████████| 126/126 [00:10<00:00, 11.58it/s]\n",
      "100%|████████████████████████████████████████████████████████████████████████████████| 391/391 [00:50<00:00,  7.76it/s]\n",
      "100%|████████████████████████████████████████████████████████████████████████████████| 639/639 [01:48<00:00,  5.92it/s]\n",
      "100%|████████████████████████████████████████████████████████████████████████████████| 613/613 [01:37<00:00,  6.27it/s]\n",
      "100%|████████████████████████████████████████████████████████████████████████████████| 315/315 [00:32<00:00,  9.73it/s]\n",
      "100%|████████████████████████████████████████████████████████████████████████████████| 731/731 [02:04<00:00,  5.89it/s]\n",
      "100%|██████████████████████████████████████████████████████████████████████████████| 1171/1171 [04:33<00:00,  4.29it/s]\n",
      "100%|████████████████████████████████████████████████████████████████████████████████| 564/564 [01:20<00:00,  7.01it/s]\n",
      "100%|████████████████████████████████████████████████████████████████████████████████| 248/248 [00:22<00:00, 11.21it/s]\n"
     ]
    }
   ],
   "source": [
    "for year, month in y_m_list:\n",
    "    df_m = df_all[(df_all['data_godzina'].dt.month == int(month)) & (df_all['data_godzina'].dt.year == int(year))]\n",
    "    \n",
    "    if len(df_m) == 0:\n",
    "        print(year, month, 'no votings')\n",
    "        continue\n",
    "    \n",
    "    df_m = pd.merge(df_m[['vote_id', 'data_godzina', 'Nrleg', 'NazwiskoImie', 'Glos', 'Klub']], df_deputies[['Nrleg', 'NazwiskoImie', 'node_id']], on=['Nrleg', 'NazwiskoImie'], how='left')\n",
    "    df_node_atr = pre.assign_attributes(df_m)\n",
    "    \n",
    "    edge_matrix = pre.egde_weights(df_m)\n",
    "    \n",
    "    np.savetxt(f\"adjacency_matrices/matrix_{year}_{month}.csv\", edge_matrix, delimiter=\",\")"
   ]
  },
  {
   "cell_type": "code",
   "execution_count": 16,
   "id": "abab24b3",
   "metadata": {},
   "outputs": [
    {
     "name": "stdout",
     "output_type": "stream",
     "text": [
      "1999 08\n",
      "2000 08\n"
     ]
    }
   ],
   "source": [
    "for year, month in y_m_list:\n",
    "    df_m = df_all[(df_all['data_godzina'].dt.month == int(month)) & (df_all['data_godzina'].dt.year == int(year))]\n",
    "    if len(df_m) == 0:\n",
    "        print(year, month)"
   ]
  },
  {
   "cell_type": "code",
   "execution_count": null,
   "id": "4509627d",
   "metadata": {},
   "outputs": [],
   "source": []
  }
 ],
 "metadata": {
  "kernelspec": {
   "display_name": "Python 3",
   "language": "python",
   "name": "python3"
  },
  "language_info": {
   "codemirror_mode": {
    "name": "ipython",
    "version": 3
   },
   "file_extension": ".py",
   "mimetype": "text/x-python",
   "name": "python",
   "nbconvert_exporter": "python",
   "pygments_lexer": "ipython3",
   "version": "3.9.5"
  }
 },
 "nbformat": 4,
 "nbformat_minor": 5
}
