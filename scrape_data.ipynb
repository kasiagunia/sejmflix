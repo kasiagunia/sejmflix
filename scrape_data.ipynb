{
 "cells": [
  {
   "cell_type": "code",
   "execution_count": 17,
   "id": "39c3a6fb",
   "metadata": {},
   "outputs": [],
   "source": [
    "import requests\n",
    "from bs4 import BeautifulSoup\n",
    "from tqdm import tqdm\n",
    "import re\n",
    "import fitz\n",
    "from io import BytesIO\n",
    "import string\n",
    "import pandas as pd\n",
    "import pickle\n",
    "import time"
   ]
  },
  {
   "cell_type": "code",
   "execution_count": 18,
   "id": "48d554ff",
   "metadata": {},
   "outputs": [],
   "source": [
    "k = 10"
   ]
  },
  {
   "cell_type": "code",
   "execution_count": 21,
   "id": "0365130a",
   "metadata": {},
   "outputs": [],
   "source": [
    "url = \"https://www.sejm.gov.pl/Sejm10.nsf/agent.xsp?symbol=posglos&NrKadencji=10\"\n",
    "\n",
    "# Send a GET request to the URL\n",
    "response = requests.get(url)\n",
    "\n",
    "# Parse the HTML content of the webpage\n",
    "soup = BeautifulSoup(response.content, \"html.parser\")\n",
    "\n",
    "# Find all links containing \"IdDnia\" in the href attribute\n",
    "links = soup.find_all(\"a\", href=lambda href: href and \"IdDnia\" in href)\n",
    "\n",
    "\n",
    "clean_links = []\n",
    "for link in links:\n",
    "    clean_links.append('https://www.sejm.gov.pl/sejm9.nsf/' + link['href'])"
   ]
  },
  {
   "cell_type": "code",
   "execution_count": 22,
   "id": "d1300aef",
   "metadata": {},
   "outputs": [
    {
     "data": {
      "text/plain": [
       "['https://www.sejm.gov.pl/sejm9.nsf/agent.xsp?symbol=listaglos&IdDnia=2003',\n",
       " 'https://www.sejm.gov.pl/sejm9.nsf/agent.xsp?symbol=listaglos&IdDnia=2005',\n",
       " 'https://www.sejm.gov.pl/sejm9.nsf/agent.xsp?symbol=listaglos&IdDnia=2001',\n",
       " 'https://www.sejm.gov.pl/sejm9.nsf/agent.xsp?symbol=listaglos&IdDnia=1998',\n",
       " 'https://www.sejm.gov.pl/sejm9.nsf/agent.xsp?symbol=listaglos&IdDnia=1999',\n",
       " 'https://www.sejm.gov.pl/sejm9.nsf/agent.xsp?symbol=listaglos&IdDnia=1995',\n",
       " 'https://www.sejm.gov.pl/sejm9.nsf/agent.xsp?symbol=listaglos&IdDnia=1996',\n",
       " 'https://www.sejm.gov.pl/sejm9.nsf/agent.xsp?symbol=listaglos&IdDnia=1992',\n",
       " 'https://www.sejm.gov.pl/sejm9.nsf/agent.xsp?symbol=listaglos&IdDnia=1993',\n",
       " 'https://www.sejm.gov.pl/sejm9.nsf/agent.xsp?symbol=listaglos&IdDnia=1994',\n",
       " 'https://www.sejm.gov.pl/sejm9.nsf/agent.xsp?symbol=listaglos&IdDnia=1990',\n",
       " 'https://www.sejm.gov.pl/sejm9.nsf/agent.xsp?symbol=listaglos&IdDnia=1991',\n",
       " 'https://www.sejm.gov.pl/sejm9.nsf/agent.xsp?symbol=listaglos&IdDnia=1989',\n",
       " 'https://www.sejm.gov.pl/sejm9.nsf/agent.xsp?symbol=listaglos&IdDnia=1986',\n",
       " 'https://www.sejm.gov.pl/sejm9.nsf/agent.xsp?symbol=listaglos&IdDnia=1987',\n",
       " 'https://www.sejm.gov.pl/sejm9.nsf/agent.xsp?symbol=listaglos&IdDnia=1973',\n",
       " 'https://www.sejm.gov.pl/sejm9.nsf/agent.xsp?symbol=listaglos&IdDnia=1974',\n",
       " 'https://www.sejm.gov.pl/sejm9.nsf/agent.xsp?symbol=listaglos&IdDnia=1975',\n",
       " 'https://www.sejm.gov.pl/sejm9.nsf/agent.xsp?symbol=listaglos&IdDnia=1977',\n",
       " 'https://www.sejm.gov.pl/sejm9.nsf/agent.xsp?symbol=listaglos&IdDnia=1978',\n",
       " 'https://www.sejm.gov.pl/sejm9.nsf/agent.xsp?symbol=listaglos&IdDnia=1979',\n",
       " 'https://www.sejm.gov.pl/sejm9.nsf/agent.xsp?symbol=listaglos&IdDnia=1980',\n",
       " 'https://www.sejm.gov.pl/sejm9.nsf/agent.xsp?symbol=listaglos&IdDnia=1981',\n",
       " 'https://www.sejm.gov.pl/sejm9.nsf/agent.xsp?symbol=listaglos&IdDnia=1982',\n",
       " 'https://www.sejm.gov.pl/sejm9.nsf/agent.xsp?symbol=listaglos&IdDnia=1983',\n",
       " 'https://www.sejm.gov.pl/sejm9.nsf/agent.xsp?symbol=listaglos&IdDnia=1984',\n",
       " 'https://www.sejm.gov.pl/sejm9.nsf/agent.xsp?symbol=listaglos&IdDnia=1985']"
      ]
     },
     "execution_count": 22,
     "metadata": {},
     "output_type": "execute_result"
    }
   ],
   "source": [
    "clean_links"
   ]
  },
  {
   "cell_type": "code",
   "execution_count": 23,
   "id": "4995d706",
   "metadata": {},
   "outputs": [],
   "source": [
    "clean_links_1 = []\n",
    "for url in clean_links:    \n",
    "    response = requests.get(url)\n",
    "    soup = BeautifulSoup(response.content, \"html.parser\")\n",
    "    links = soup.find_all(\"a\", href=lambda href: href and \"NrGlosowania\" in href)\n",
    "\n",
    "    for link in links:\n",
    "        clean_links_1.append('https://www.sejm.gov.pl/sejm9.nsf/' + link['href'])\n",
    "\n",
    "clean_links_1 = list(set(clean_links_1))  "
   ]
  },
  {
   "cell_type": "code",
   "execution_count": 24,
   "id": "12c8c0d8",
   "metadata": {},
   "outputs": [
    {
     "data": {
      "text/plain": [
       "['https://www.sejm.gov.pl/sejm9.nsf/agent.xsp?symbol=glosowania&NrKadencji=10&NrPosiedzenia=1&NrGlosowania=132',\n",
       " 'https://www.sejm.gov.pl/sejm9.nsf/agent.xsp?symbol=glosowania&NrKadencji=10&NrPosiedzenia=3&NrGlosowania=10',\n",
       " 'https://www.sejm.gov.pl/sejm9.nsf/agent.xsp?symbol=glosowania&NrKadencji=10&NrPosiedzenia=2&NrGlosowania=26',\n",
       " 'https://www.sejm.gov.pl/sejm9.nsf/agent.xsp?symbol=glosowania&NrKadencji=10&NrPosiedzenia=2&NrGlosowania=18',\n",
       " 'https://www.sejm.gov.pl/sejm9.nsf/agent.xsp?symbol=glosowania&NrKadencji=10&NrPosiedzenia=8&NrGlosowania=15',\n",
       " 'https://www.sejm.gov.pl/sejm9.nsf/agent.xsp?symbol=glosowania&NrKadencji=10&NrPosiedzenia=1&NrGlosowania=104',\n",
       " 'https://www.sejm.gov.pl/sejm9.nsf/agent.xsp?symbol=glosowania&NrKadencji=10&NrPosiedzenia=1&NrGlosowania=16',\n",
       " 'https://www.sejm.gov.pl/sejm9.nsf/agent.xsp?symbol=glosowania&NrKadencji=10&NrPosiedzenia=2&NrGlosowania=3',\n",
       " 'https://www.sejm.gov.pl/sejm9.nsf/agent.xsp?symbol=glosowania&NrKadencji=10&NrPosiedzenia=5&NrGlosowania=4',\n",
       " 'https://www.sejm.gov.pl/sejm9.nsf/agent.xsp?symbol=glosowania&NrKadencji=10&NrPosiedzenia=8&NrGlosowania=12',\n",
       " 'https://www.sejm.gov.pl/sejm9.nsf/agent.xsp?symbol=glosowania&NrKadencji=10&NrPosiedzenia=6&NrGlosowania=18',\n",
       " 'https://www.sejm.gov.pl/sejm9.nsf/agent.xsp?symbol=glosowania&NrKadencji=10&NrPosiedzenia=2&NrGlosowania=23',\n",
       " 'https://www.sejm.gov.pl/sejm9.nsf/agent.xsp?symbol=glosowania&NrKadencji=10&NrPosiedzenia=1&NrGlosowania=135',\n",
       " 'https://www.sejm.gov.pl/sejm9.nsf/agent.xsp?symbol=glosowania&NrKadencji=10&NrPosiedzenia=7&NrGlosowania=6',\n",
       " 'https://www.sejm.gov.pl/sejm9.nsf/agent.xsp?symbol=glosowania&NrKadencji=10&NrPosiedzenia=2&NrGlosowania=4',\n",
       " 'https://www.sejm.gov.pl/sejm9.nsf/agent.xsp?symbol=glosowania&NrKadencji=10&NrPosiedzenia=6&NrGlosowania=17',\n",
       " 'https://www.sejm.gov.pl/sejm9.nsf/agent.xsp?symbol=glosowania&NrKadencji=10&NrPosiedzenia=7&NrGlosowania=5',\n",
       " 'https://www.sejm.gov.pl/sejm9.nsf/agent.xsp?symbol=glosowania&NrKadencji=10&NrPosiedzenia=1&NrGlosowania=137',\n",
       " 'https://www.sejm.gov.pl/sejm9.nsf/agent.xsp?symbol=glosowania&NrKadencji=10&NrPosiedzenia=8&NrGlosowania=10',\n",
       " 'https://www.sejm.gov.pl/sejm9.nsf/agent.xsp?symbol=glosowania&NrKadencji=10&NrPosiedzenia=1&NrGlosowania=134',\n",
       " 'https://www.sejm.gov.pl/sejm9.nsf/agent.xsp?symbol=glosowania&NrKadencji=10&NrPosiedzenia=9&NrGlosowania=3',\n",
       " 'https://www.sejm.gov.pl/sejm9.nsf/agent.xsp?symbol=glosowania&NrKadencji=10&NrPosiedzenia=6&NrGlosowania=3',\n",
       " 'https://www.sejm.gov.pl/sejm9.nsf/agent.xsp?symbol=glosowania&NrKadencji=10&NrPosiedzenia=9&NrGlosowania=28',\n",
       " 'https://www.sejm.gov.pl/sejm9.nsf/agent.xsp?symbol=glosowania&NrKadencji=10&NrPosiedzenia=9&NrGlosowania=36',\n",
       " 'https://www.sejm.gov.pl/sejm9.nsf/agent.xsp?symbol=glosowania&NrKadencji=10&NrPosiedzenia=6&NrGlosowania=7',\n",
       " 'https://www.sejm.gov.pl/sejm9.nsf/agent.xsp?symbol=glosowania&NrKadencji=10&NrPosiedzenia=8&NrGlosowania=4',\n",
       " 'https://www.sejm.gov.pl/sejm9.nsf/agent.xsp?symbol=glosowania&NrKadencji=10&NrPosiedzenia=1&NrGlosowania=19',\n",
       " 'https://www.sejm.gov.pl/sejm9.nsf/agent.xsp?symbol=glosowania&NrKadencji=10&NrPosiedzenia=1&NrGlosowania=118',\n",
       " 'https://www.sejm.gov.pl/sejm9.nsf/agent.xsp?symbol=glosowania&NrKadencji=10&NrPosiedzenia=6&NrGlosowania=11',\n",
       " 'https://www.sejm.gov.pl/sejm9.nsf/agent.xsp?symbol=glosowania&NrKadencji=10&NrPosiedzenia=1&NrGlosowania=30',\n",
       " 'https://www.sejm.gov.pl/sejm9.nsf/agent.xsp?symbol=glosowania&NrKadencji=10&NrPosiedzenia=9&NrGlosowania=12',\n",
       " 'https://www.sejm.gov.pl/sejm9.nsf/agent.xsp?symbol=glosowania&NrKadencji=10&NrPosiedzenia=9&NrGlosowania=24',\n",
       " 'https://www.sejm.gov.pl/sejm9.nsf/agent.xsp?symbol=glosowania&NrKadencji=10&NrPosiedzenia=2&NrGlosowania=7',\n",
       " 'https://www.sejm.gov.pl/sejm9.nsf/agent.xsp?symbol=glosowania&NrKadencji=10&NrPosiedzenia=1&NrGlosowania=97',\n",
       " 'https://www.sejm.gov.pl/sejm9.nsf/agent.xsp?symbol=glosowania&NrKadencji=10&NrPosiedzenia=1&NrGlosowania=84',\n",
       " 'https://www.sejm.gov.pl/sejm9.nsf/agent.xsp?symbol=glosowania&NrKadencji=10&NrPosiedzenia=7&NrGlosowania=14',\n",
       " 'https://www.sejm.gov.pl/sejm9.nsf/agent.xsp?symbol=glosowania&NrKadencji=10&NrPosiedzenia=1&NrGlosowania=8',\n",
       " 'https://www.sejm.gov.pl/sejm9.nsf/agent.xsp?symbol=glosowania&NrKadencji=10&NrPosiedzenia=5&NrGlosowania=20',\n",
       " 'https://www.sejm.gov.pl/sejm9.nsf/agent.xsp?symbol=glosowania&NrKadencji=10&NrPosiedzenia=1&NrGlosowania=4',\n",
       " 'https://www.sejm.gov.pl/sejm9.nsf/agent.xsp?symbol=glosowania&NrKadencji=10&NrPosiedzenia=1&NrGlosowania=122',\n",
       " 'https://www.sejm.gov.pl/sejm9.nsf/agent.xsp?symbol=glosowania&NrKadencji=10&NrPosiedzenia=5&NrGlosowania=24',\n",
       " 'https://www.sejm.gov.pl/sejm9.nsf/agent.xsp?symbol=glosowania&NrKadencji=10&NrPosiedzenia=1&NrGlosowania=110',\n",
       " 'https://www.sejm.gov.pl/sejm9.nsf/agent.xsp?symbol=glosowania&NrKadencji=10&NrPosiedzenia=7&NrGlosowania=18',\n",
       " 'https://www.sejm.gov.pl/sejm9.nsf/agent.xsp?symbol=glosowania&NrKadencji=10&NrPosiedzenia=7&NrGlosowania=16',\n",
       " 'https://www.sejm.gov.pl/sejm9.nsf/agent.xsp?symbol=glosowania&NrKadencji=10&NrPosiedzenia=8&NrGlosowania=14',\n",
       " 'https://www.sejm.gov.pl/sejm9.nsf/agent.xsp?symbol=glosowania&NrKadencji=10&NrPosiedzenia=9&NrGlosowania=27',\n",
       " 'https://www.sejm.gov.pl/sejm9.nsf/agent.xsp?symbol=glosowania&NrKadencji=10&NrPosiedzenia=1&NrGlosowania=129',\n",
       " 'https://www.sejm.gov.pl/sejm9.nsf/agent.xsp?symbol=glosowania&NrKadencji=10&NrPosiedzenia=6&NrGlosowania=10',\n",
       " 'https://www.sejm.gov.pl/sejm9.nsf/agent.xsp?symbol=glosowania&NrKadencji=10&NrPosiedzenia=3&NrGlosowania=6',\n",
       " 'https://www.sejm.gov.pl/sejm9.nsf/agent.xsp?symbol=glosowania&NrKadencji=10&NrPosiedzenia=1&NrGlosowania=6',\n",
       " 'https://www.sejm.gov.pl/sejm9.nsf/agent.xsp?symbol=glosowania&NrKadencji=10&NrPosiedzenia=1&NrGlosowania=81',\n",
       " 'https://www.sejm.gov.pl/sejm9.nsf/agent.xsp?symbol=glosowania&NrKadencji=10&NrPosiedzenia=5&NrGlosowania=14',\n",
       " 'https://www.sejm.gov.pl/sejm9.nsf/agent.xsp?symbol=glosowania&NrKadencji=10&NrPosiedzenia=4&NrGlosowania=1',\n",
       " 'https://www.sejm.gov.pl/sejm9.nsf/agent.xsp?symbol=glosowania&NrKadencji=10&NrPosiedzenia=2&NrGlosowania=6',\n",
       " 'https://www.sejm.gov.pl/sejm9.nsf/agent.xsp?symbol=glosowania&NrKadencji=10&NrPosiedzenia=5&NrGlosowania=11',\n",
       " 'https://www.sejm.gov.pl/sejm9.nsf/agent.xsp?symbol=glosowania&NrKadencji=10&NrPosiedzenia=9&NrGlosowania=7',\n",
       " 'https://www.sejm.gov.pl/sejm9.nsf/agent.xsp?symbol=glosowania&NrKadencji=10&NrPosiedzenia=6&NrGlosowania=9',\n",
       " 'https://www.sejm.gov.pl/sejm9.nsf/agent.xsp?symbol=glosowania&NrKadencji=10&NrPosiedzenia=9&NrGlosowania=33',\n",
       " 'https://www.sejm.gov.pl/sejm9.nsf/agent.xsp?symbol=glosowania&NrKadencji=10&NrPosiedzenia=9&NrGlosowania=19',\n",
       " 'https://www.sejm.gov.pl/sejm9.nsf/agent.xsp?symbol=glosowania&NrKadencji=10&NrPosiedzenia=7&NrGlosowania=21',\n",
       " 'https://www.sejm.gov.pl/sejm9.nsf/agent.xsp?symbol=glosowania&NrKadencji=10&NrPosiedzenia=1&NrGlosowania=86',\n",
       " 'https://www.sejm.gov.pl/sejm9.nsf/agent.xsp?symbol=glosowania&NrKadencji=10&NrPosiedzenia=1&NrGlosowania=142',\n",
       " 'https://www.sejm.gov.pl/sejm9.nsf/agent.xsp?symbol=glosowania&NrKadencji=10&NrPosiedzenia=8&NrGlosowania=17',\n",
       " 'https://www.sejm.gov.pl/sejm9.nsf/agent.xsp?symbol=glosowania&NrKadencji=10&NrPosiedzenia=1&NrGlosowania=42',\n",
       " 'https://www.sejm.gov.pl/sejm9.nsf/agent.xsp?symbol=glosowania&NrKadencji=10&NrPosiedzenia=7&NrGlosowania=10',\n",
       " 'https://www.sejm.gov.pl/sejm9.nsf/agent.xsp?symbol=glosowania&NrKadencji=10&NrPosiedzenia=1&NrGlosowania=57',\n",
       " 'https://www.sejm.gov.pl/sejm9.nsf/agent.xsp?symbol=glosowania&NrKadencji=10&NrPosiedzenia=1&NrGlosowania=40',\n",
       " 'https://www.sejm.gov.pl/sejm9.nsf/agent.xsp?symbol=glosowania&NrKadencji=10&NrPosiedzenia=1&NrGlosowania=12',\n",
       " 'https://www.sejm.gov.pl/sejm9.nsf/agent.xsp?symbol=glosowania&NrKadencji=10&NrPosiedzenia=1&NrGlosowania=36',\n",
       " 'https://www.sejm.gov.pl/sejm9.nsf/agent.xsp?symbol=glosowania&NrKadencji=10&NrPosiedzenia=1&NrGlosowania=74',\n",
       " 'https://www.sejm.gov.pl/sejm9.nsf/agent.xsp?symbol=glosowania&NrKadencji=10&NrPosiedzenia=1&NrGlosowania=115',\n",
       " 'https://www.sejm.gov.pl/sejm9.nsf/agent.xsp?symbol=glosowania&NrKadencji=10&NrPosiedzenia=6&NrGlosowania=14',\n",
       " 'https://www.sejm.gov.pl/sejm9.nsf/agent.xsp?symbol=glosowania&NrKadencji=10&NrPosiedzenia=8&NrGlosowania=3',\n",
       " 'https://www.sejm.gov.pl/sejm9.nsf/agent.xsp?symbol=glosowania&NrKadencji=10&NrPosiedzenia=5&NrGlosowania=9',\n",
       " 'https://www.sejm.gov.pl/sejm9.nsf/agent.xsp?symbol=glosowania&NrKadencji=10&NrPosiedzenia=2&NrGlosowania=14',\n",
       " 'https://www.sejm.gov.pl/sejm9.nsf/agent.xsp?symbol=glosowania&NrKadencji=10&NrPosiedzenia=1&NrGlosowania=121',\n",
       " 'https://www.sejm.gov.pl/sejm9.nsf/agent.xsp?symbol=glosowania&NrKadencji=10&NrPosiedzenia=1&NrGlosowania=18',\n",
       " 'https://www.sejm.gov.pl/sejm9.nsf/agent.xsp?symbol=glosowania&NrKadencji=10&NrPosiedzenia=4&NrGlosowania=6',\n",
       " 'https://www.sejm.gov.pl/sejm9.nsf/agent.xsp?symbol=glosowania&NrKadencji=10&NrPosiedzenia=2&NrGlosowania=22',\n",
       " 'https://www.sejm.gov.pl/sejm9.nsf/agent.xsp?symbol=glosowania&NrKadencji=10&NrPosiedzenia=6&NrGlosowania=4',\n",
       " 'https://www.sejm.gov.pl/sejm9.nsf/agent.xsp?symbol=glosowania&NrKadencji=10&NrPosiedzenia=6&NrGlosowania=8',\n",
       " 'https://www.sejm.gov.pl/sejm9.nsf/agent.xsp?symbol=glosowania&NrKadencji=10&NrPosiedzenia=1&NrGlosowania=5',\n",
       " 'https://www.sejm.gov.pl/sejm9.nsf/agent.xsp?symbol=glosowania&NrKadencji=10&NrPosiedzenia=9&NrGlosowania=6',\n",
       " 'https://www.sejm.gov.pl/sejm9.nsf/agent.xsp?symbol=glosowania&NrKadencji=10&NrPosiedzenia=1&NrGlosowania=48',\n",
       " 'https://www.sejm.gov.pl/sejm9.nsf/agent.xsp?symbol=glosowania&NrKadencji=10&NrPosiedzenia=5&NrGlosowania=22',\n",
       " 'https://www.sejm.gov.pl/sejm9.nsf/agent.xsp?symbol=glosowania&NrKadencji=10&NrPosiedzenia=3&NrGlosowania=4',\n",
       " 'https://www.sejm.gov.pl/sejm9.nsf/agent.xsp?symbol=glosowania&NrKadencji=10&NrPosiedzenia=3&NrGlosowania=7',\n",
       " 'https://www.sejm.gov.pl/sejm9.nsf/agent.xsp?symbol=glosowania&NrKadencji=10&NrPosiedzenia=1&NrGlosowania=2',\n",
       " 'https://www.sejm.gov.pl/sejm9.nsf/agent.xsp?symbol=glosowania&NrKadencji=10&NrPosiedzenia=1&NrGlosowania=146',\n",
       " 'https://www.sejm.gov.pl/sejm9.nsf/agent.xsp?symbol=glosowania&NrKadencji=10&NrPosiedzenia=1&NrGlosowania=147',\n",
       " 'https://www.sejm.gov.pl/sejm9.nsf/agent.xsp?symbol=glosowania&NrKadencji=10&NrPosiedzenia=1&NrGlosowania=128',\n",
       " 'https://www.sejm.gov.pl/sejm9.nsf/agent.xsp?symbol=glosowania&NrKadencji=10&NrPosiedzenia=2&NrGlosowania=12',\n",
       " 'https://www.sejm.gov.pl/sejm9.nsf/agent.xsp?symbol=glosowania&NrKadencji=10&NrPosiedzenia=7&NrGlosowania=9',\n",
       " 'https://www.sejm.gov.pl/sejm9.nsf/agent.xsp?symbol=glosowania&NrKadencji=10&NrPosiedzenia=9&NrGlosowania=2',\n",
       " 'https://www.sejm.gov.pl/sejm9.nsf/agent.xsp?symbol=glosowania&NrKadencji=10&NrPosiedzenia=1&NrGlosowania=9',\n",
       " 'https://www.sejm.gov.pl/sejm9.nsf/agent.xsp?symbol=glosowania&NrKadencji=10&NrPosiedzenia=1&NrGlosowania=7',\n",
       " 'https://www.sejm.gov.pl/sejm9.nsf/agent.xsp?symbol=glosowania&NrKadencji=10&NrPosiedzenia=2&NrGlosowania=1',\n",
       " 'https://www.sejm.gov.pl/sejm9.nsf/agent.xsp?symbol=glosowania&NrKadencji=10&NrPosiedzenia=8&NrGlosowania=20',\n",
       " 'https://www.sejm.gov.pl/sejm9.nsf/agent.xsp?symbol=glosowania&NrKadencji=10&NrPosiedzenia=1&NrGlosowania=29',\n",
       " 'https://www.sejm.gov.pl/sejm9.nsf/agent.xsp?symbol=glosowania&NrKadencji=10&NrPosiedzenia=3&NrGlosowania=15',\n",
       " 'https://www.sejm.gov.pl/sejm9.nsf/agent.xsp?symbol=glosowania&NrKadencji=10&NrPosiedzenia=5&NrGlosowania=3',\n",
       " 'https://www.sejm.gov.pl/sejm9.nsf/agent.xsp?symbol=glosowania&NrKadencji=10&NrPosiedzenia=9&NrGlosowania=17',\n",
       " 'https://www.sejm.gov.pl/sejm9.nsf/agent.xsp?symbol=glosowania&NrKadencji=10&NrPosiedzenia=1&NrGlosowania=55',\n",
       " 'https://www.sejm.gov.pl/sejm9.nsf/agent.xsp?symbol=glosowania&NrKadencji=10&NrPosiedzenia=2&NrGlosowania=10',\n",
       " 'https://www.sejm.gov.pl/sejm9.nsf/agent.xsp?symbol=glosowania&NrKadencji=10&NrPosiedzenia=8&NrGlosowania=9',\n",
       " 'https://www.sejm.gov.pl/sejm9.nsf/agent.xsp?symbol=glosowania&NrKadencji=10&NrPosiedzenia=2&NrGlosowania=27',\n",
       " 'https://www.sejm.gov.pl/sejm9.nsf/agent.xsp?symbol=glosowania&NrKadencji=10&NrPosiedzenia=1&NrGlosowania=94',\n",
       " 'https://www.sejm.gov.pl/sejm9.nsf/agent.xsp?symbol=glosowania&NrKadencji=10&NrPosiedzenia=5&NrGlosowania=21',\n",
       " 'https://www.sejm.gov.pl/sejm9.nsf/agent.xsp?symbol=glosowania&NrKadencji=10&NrPosiedzenia=9&NrGlosowania=25',\n",
       " 'https://www.sejm.gov.pl/sejm9.nsf/agent.xsp?symbol=glosowania&NrKadencji=10&NrPosiedzenia=1&NrGlosowania=114',\n",
       " 'https://www.sejm.gov.pl/sejm9.nsf/agent.xsp?symbol=glosowania&NrKadencji=10&NrPosiedzenia=3&NrGlosowania=8',\n",
       " 'https://www.sejm.gov.pl/sejm9.nsf/agent.xsp?symbol=glosowania&NrKadencji=10&NrPosiedzenia=1&NrGlosowania=65',\n",
       " 'https://www.sejm.gov.pl/sejm9.nsf/agent.xsp?symbol=glosowania&NrKadencji=10&NrPosiedzenia=5&NrGlosowania=29',\n",
       " 'https://www.sejm.gov.pl/sejm9.nsf/agent.xsp?symbol=glosowania&NrKadencji=10&NrPosiedzenia=1&NrGlosowania=136',\n",
       " 'https://www.sejm.gov.pl/sejm9.nsf/agent.xsp?symbol=glosowania&NrKadencji=10&NrPosiedzenia=1&NrGlosowania=98',\n",
       " 'https://www.sejm.gov.pl/sejm9.nsf/agent.xsp?symbol=glosowania&NrKadencji=10&NrPosiedzenia=1&NrGlosowania=87',\n",
       " 'https://www.sejm.gov.pl/sejm9.nsf/agent.xsp?symbol=glosowania&NrKadencji=10&NrPosiedzenia=1&NrGlosowania=111',\n",
       " 'https://www.sejm.gov.pl/sejm9.nsf/agent.xsp?symbol=glosowania&NrKadencji=10&NrPosiedzenia=6&NrGlosowania=5',\n",
       " 'https://www.sejm.gov.pl/sejm9.nsf/agent.xsp?symbol=glosowania&NrKadencji=10&NrPosiedzenia=1&NrGlosowania=77',\n",
       " 'https://www.sejm.gov.pl/sejm9.nsf/agent.xsp?symbol=glosowania&NrKadencji=10&NrPosiedzenia=1&NrGlosowania=3',\n",
       " 'https://www.sejm.gov.pl/sejm9.nsf/agent.xsp?symbol=glosowania&NrKadencji=10&NrPosiedzenia=1&NrGlosowania=17',\n",
       " 'https://www.sejm.gov.pl/sejm9.nsf/agent.xsp?symbol=glosowania&NrKadencji=10&NrPosiedzenia=3&NrGlosowania=12',\n",
       " 'https://www.sejm.gov.pl/sejm9.nsf/agent.xsp?symbol=glosowania&NrKadencji=10&NrPosiedzenia=1&NrGlosowania=72',\n",
       " 'https://www.sejm.gov.pl/sejm9.nsf/agent.xsp?symbol=glosowania&NrKadencji=10&NrPosiedzenia=1&NrGlosowania=73',\n",
       " 'https://www.sejm.gov.pl/sejm9.nsf/agent.xsp?symbol=glosowania&NrKadencji=10&NrPosiedzenia=1&NrGlosowania=119',\n",
       " 'https://www.sejm.gov.pl/sejm9.nsf/agent.xsp?symbol=glosowania&NrKadencji=10&NrPosiedzenia=1&NrGlosowania=54',\n",
       " 'https://www.sejm.gov.pl/sejm9.nsf/agent.xsp?symbol=glosowania&NrKadencji=10&NrPosiedzenia=2&NrGlosowania=19',\n",
       " 'https://www.sejm.gov.pl/sejm9.nsf/agent.xsp?symbol=glosowania&NrKadencji=10&NrPosiedzenia=9&NrGlosowania=22',\n",
       " 'https://www.sejm.gov.pl/sejm9.nsf/agent.xsp?symbol=glosowania&NrKadencji=10&NrPosiedzenia=9&NrGlosowania=34',\n",
       " 'https://www.sejm.gov.pl/sejm9.nsf/agent.xsp?symbol=glosowania&NrKadencji=10&NrPosiedzenia=1&NrGlosowania=93',\n",
       " 'https://www.sejm.gov.pl/sejm9.nsf/agent.xsp?symbol=glosowania&NrKadencji=10&NrPosiedzenia=1&NrGlosowania=59',\n",
       " 'https://www.sejm.gov.pl/sejm9.nsf/agent.xsp?symbol=glosowania&NrKadencji=10&NrPosiedzenia=5&NrGlosowania=25',\n",
       " 'https://www.sejm.gov.pl/sejm9.nsf/agent.xsp?symbol=glosowania&NrKadencji=10&NrPosiedzenia=1&NrGlosowania=120',\n",
       " 'https://www.sejm.gov.pl/sejm9.nsf/agent.xsp?symbol=glosowania&NrKadencji=10&NrPosiedzenia=1&NrGlosowania=60',\n",
       " 'https://www.sejm.gov.pl/sejm9.nsf/agent.xsp?symbol=glosowania&NrKadencji=10&NrPosiedzenia=1&NrGlosowania=103',\n",
       " 'https://www.sejm.gov.pl/sejm9.nsf/agent.xsp?symbol=glosowania&NrKadencji=10&NrPosiedzenia=9&NrGlosowania=11',\n",
       " 'https://www.sejm.gov.pl/sejm9.nsf/agent.xsp?symbol=glosowania&NrKadencji=10&NrPosiedzenia=1&NrGlosowania=126',\n",
       " 'https://www.sejm.gov.pl/sejm9.nsf/agent.xsp?symbol=glosowania&NrKadencji=10&NrPosiedzenia=1&NrGlosowania=28',\n",
       " 'https://www.sejm.gov.pl/sejm9.nsf/agent.xsp?symbol=glosowania&NrKadencji=10&NrPosiedzenia=1&NrGlosowania=31',\n",
       " 'https://www.sejm.gov.pl/sejm9.nsf/agent.xsp?symbol=glosowania&NrKadencji=10&NrPosiedzenia=2&NrGlosowania=24',\n",
       " 'https://www.sejm.gov.pl/sejm9.nsf/agent.xsp?symbol=glosowania&NrKadencji=10&NrPosiedzenia=2&NrGlosowania=5',\n",
       " 'https://www.sejm.gov.pl/sejm9.nsf/agent.xsp?symbol=glosowania&NrKadencji=10&NrPosiedzenia=1&NrGlosowania=76',\n",
       " 'https://www.sejm.gov.pl/sejm9.nsf/agent.xsp?symbol=glosowania&NrKadencji=10&NrPosiedzenia=1&NrGlosowania=70',\n",
       " 'https://www.sejm.gov.pl/sejm9.nsf/agent.xsp?symbol=glosowania&NrKadencji=10&NrPosiedzenia=7&NrGlosowania=13',\n",
       " 'https://www.sejm.gov.pl/sejm9.nsf/agent.xsp?symbol=glosowania&NrKadencji=10&NrPosiedzenia=1&NrGlosowania=88',\n",
       " 'https://www.sejm.gov.pl/sejm9.nsf/agent.xsp?symbol=glosowania&NrKadencji=10&NrPosiedzenia=9&NrGlosowania=20',\n",
       " 'https://www.sejm.gov.pl/sejm9.nsf/agent.xsp?symbol=glosowania&NrKadencji=10&NrPosiedzenia=9&NrGlosowania=16',\n",
       " 'https://www.sejm.gov.pl/sejm9.nsf/agent.xsp?symbol=glosowania&NrKadencji=10&NrPosiedzenia=1&NrGlosowania=117',\n",
       " 'https://www.sejm.gov.pl/sejm9.nsf/agent.xsp?symbol=glosowania&NrKadencji=10&NrPosiedzenia=4&NrGlosowania=3',\n",
       " 'https://www.sejm.gov.pl/sejm9.nsf/agent.xsp?symbol=glosowania&NrKadencji=10&NrPosiedzenia=1&NrGlosowania=80',\n",
       " 'https://www.sejm.gov.pl/sejm9.nsf/agent.xsp?symbol=glosowania&NrKadencji=10&NrPosiedzenia=1&NrGlosowania=32',\n",
       " 'https://www.sejm.gov.pl/sejm9.nsf/agent.xsp?symbol=glosowania&NrKadencji=10&NrPosiedzenia=1&NrGlosowania=143',\n",
       " 'https://www.sejm.gov.pl/sejm9.nsf/agent.xsp?symbol=glosowania&NrKadencji=10&NrPosiedzenia=1&NrGlosowania=46',\n",
       " 'https://www.sejm.gov.pl/sejm9.nsf/agent.xsp?symbol=glosowania&NrKadencji=10&NrPosiedzenia=1&NrGlosowania=38',\n",
       " 'https://www.sejm.gov.pl/sejm9.nsf/agent.xsp?symbol=glosowania&NrKadencji=10&NrPosiedzenia=8&NrGlosowania=5',\n",
       " 'https://www.sejm.gov.pl/sejm9.nsf/agent.xsp?symbol=glosowania&NrKadencji=10&NrPosiedzenia=1&NrGlosowania=41',\n",
       " 'https://www.sejm.gov.pl/sejm9.nsf/agent.xsp?symbol=glosowania&NrKadencji=10&NrPosiedzenia=6&NrGlosowania=1',\n",
       " 'https://www.sejm.gov.pl/sejm9.nsf/agent.xsp?symbol=glosowania&NrKadencji=10&NrPosiedzenia=2&NrGlosowania=21',\n",
       " 'https://www.sejm.gov.pl/sejm9.nsf/agent.xsp?symbol=glosowania&NrKadencji=10&NrPosiedzenia=4&NrGlosowania=2',\n",
       " 'https://www.sejm.gov.pl/sejm9.nsf/agent.xsp?symbol=glosowania&NrKadencji=10&NrPosiedzenia=7&NrGlosowania=12',\n",
       " 'https://www.sejm.gov.pl/sejm9.nsf/agent.xsp?symbol=glosowania&NrKadencji=10&NrPosiedzenia=5&NrGlosowania=18',\n",
       " 'https://www.sejm.gov.pl/sejm9.nsf/agent.xsp?symbol=glosowania&NrKadencji=10&NrPosiedzenia=9&NrGlosowania=38',\n",
       " 'https://www.sejm.gov.pl/sejm9.nsf/agent.xsp?symbol=glosowania&NrKadencji=10&NrPosiedzenia=5&NrGlosowania=27',\n",
       " 'https://www.sejm.gov.pl/sejm9.nsf/agent.xsp?symbol=glosowania&NrKadencji=10&NrPosiedzenia=7&NrGlosowania=15',\n",
       " 'https://www.sejm.gov.pl/sejm9.nsf/agent.xsp?symbol=glosowania&NrKadencji=10&NrPosiedzenia=9&NrGlosowania=26',\n",
       " 'https://www.sejm.gov.pl/sejm9.nsf/agent.xsp?symbol=glosowania&NrKadencji=10&NrPosiedzenia=1&NrGlosowania=108',\n",
       " 'https://www.sejm.gov.pl/sejm9.nsf/agent.xsp?symbol=glosowania&NrKadencji=10&NrPosiedzenia=1&NrGlosowania=133',\n",
       " 'https://www.sejm.gov.pl/sejm9.nsf/agent.xsp?symbol=glosowania&NrKadencji=10&NrPosiedzenia=1&NrGlosowania=92',\n",
       " 'https://www.sejm.gov.pl/sejm9.nsf/agent.xsp?symbol=glosowania&NrKadencji=10&NrPosiedzenia=5&NrGlosowania=1',\n",
       " 'https://www.sejm.gov.pl/sejm9.nsf/agent.xsp?symbol=glosowania&NrKadencji=10&NrPosiedzenia=5&NrGlosowania=19',\n",
       " 'https://www.sejm.gov.pl/sejm9.nsf/agent.xsp?symbol=glosowania&NrKadencji=10&NrPosiedzenia=6&NrGlosowania=2',\n",
       " 'https://www.sejm.gov.pl/sejm9.nsf/agent.xsp?symbol=glosowania&NrKadencji=10&NrPosiedzenia=1&NrGlosowania=125',\n",
       " 'https://www.sejm.gov.pl/sejm9.nsf/agent.xsp?symbol=glosowania&NrKadencji=10&NrPosiedzenia=1&NrGlosowania=27',\n",
       " 'https://www.sejm.gov.pl/sejm9.nsf/agent.xsp?symbol=glosowania&NrKadencji=10&NrPosiedzenia=1&NrGlosowania=144',\n",
       " 'https://www.sejm.gov.pl/sejm9.nsf/agent.xsp?symbol=glosowania&NrKadencji=10&NrPosiedzenia=1&NrGlosowania=47',\n",
       " 'https://www.sejm.gov.pl/sejm9.nsf/agent.xsp?symbol=glosowania&NrKadencji=10&NrPosiedzenia=9&NrGlosowania=10',\n",
       " 'https://www.sejm.gov.pl/sejm9.nsf/agent.xsp?symbol=glosowania&NrKadencji=10&NrPosiedzenia=5&NrGlosowania=13',\n",
       " 'https://www.sejm.gov.pl/sejm9.nsf/agent.xsp?symbol=glosowania&NrKadencji=10&NrPosiedzenia=3&NrGlosowania=1',\n",
       " 'https://www.sejm.gov.pl/sejm9.nsf/agent.xsp?symbol=glosowania&NrKadencji=10&NrPosiedzenia=1&NrGlosowania=62',\n",
       " 'https://www.sejm.gov.pl/sejm9.nsf/agent.xsp?symbol=glosowania&NrKadencji=10&NrPosiedzenia=1&NrGlosowania=83',\n",
       " 'https://www.sejm.gov.pl/sejm9.nsf/agent.xsp?symbol=glosowania&NrKadencji=10&NrPosiedzenia=3&NrGlosowania=3',\n",
       " 'https://www.sejm.gov.pl/sejm9.nsf/agent.xsp?symbol=glosowania&NrKadencji=10&NrPosiedzenia=1&NrGlosowania=68',\n",
       " 'https://www.sejm.gov.pl/sejm9.nsf/agent.xsp?symbol=glosowania&NrKadencji=10&NrPosiedzenia=6&NrGlosowania=13',\n",
       " 'https://www.sejm.gov.pl/sejm9.nsf/agent.xsp?symbol=glosowania&NrKadencji=10&NrPosiedzenia=1&NrGlosowania=141',\n",
       " 'https://www.sejm.gov.pl/sejm9.nsf/agent.xsp?symbol=glosowania&NrKadencji=10&NrPosiedzenia=9&NrGlosowania=4',\n",
       " 'https://www.sejm.gov.pl/sejm9.nsf/agent.xsp?symbol=glosowania&NrKadencji=10&NrPosiedzenia=7&NrGlosowania=1',\n",
       " 'https://www.sejm.gov.pl/sejm9.nsf/agent.xsp?symbol=glosowania&NrKadencji=10&NrPosiedzenia=1&NrGlosowania=66',\n",
       " 'https://www.sejm.gov.pl/sejm9.nsf/agent.xsp?symbol=glosowania&NrKadencji=10&NrPosiedzenia=1&NrGlosowania=78',\n",
       " 'https://www.sejm.gov.pl/sejm9.nsf/agent.xsp?symbol=glosowania&NrKadencji=10&NrPosiedzenia=2&NrGlosowania=17',\n",
       " 'https://www.sejm.gov.pl/sejm9.nsf/agent.xsp?symbol=glosowania&NrKadencji=10&NrPosiedzenia=5&NrGlosowania=6',\n",
       " 'https://www.sejm.gov.pl/sejm9.nsf/agent.xsp?symbol=glosowania&NrKadencji=10&NrPosiedzenia=9&NrGlosowania=37',\n",
       " 'https://www.sejm.gov.pl/sejm9.nsf/agent.xsp?symbol=glosowania&NrKadencji=10&NrPosiedzenia=1&NrGlosowania=25',\n",
       " 'https://www.sejm.gov.pl/sejm9.nsf/agent.xsp?symbol=glosowania&NrKadencji=10&NrPosiedzenia=1&NrGlosowania=20',\n",
       " 'https://www.sejm.gov.pl/sejm9.nsf/agent.xsp?symbol=glosowania&NrKadencji=10&NrPosiedzenia=9&NrGlosowania=21',\n",
       " 'https://www.sejm.gov.pl/sejm9.nsf/agent.xsp?symbol=glosowania&NrKadencji=10&NrPosiedzenia=9&NrGlosowania=35',\n",
       " 'https://www.sejm.gov.pl/sejm9.nsf/agent.xsp?symbol=glosowania&NrKadencji=10&NrPosiedzenia=1&NrGlosowania=21',\n",
       " 'https://www.sejm.gov.pl/sejm9.nsf/agent.xsp?symbol=glosowania&NrKadencji=10&NrPosiedzenia=1&NrGlosowania=34',\n",
       " 'https://www.sejm.gov.pl/sejm9.nsf/agent.xsp?symbol=glosowania&NrKadencji=10&NrPosiedzenia=2&NrGlosowania=20',\n",
       " 'https://www.sejm.gov.pl/sejm9.nsf/agent.xsp?symbol=glosowania&NrKadencji=10&NrPosiedzenia=1&NrGlosowania=52',\n",
       " 'https://www.sejm.gov.pl/sejm9.nsf/agent.xsp?symbol=glosowania&NrKadencji=10&NrPosiedzenia=1&NrGlosowania=113',\n",
       " 'https://www.sejm.gov.pl/sejm9.nsf/agent.xsp?symbol=glosowania&NrKadencji=10&NrPosiedzenia=1&NrGlosowania=107',\n",
       " 'https://www.sejm.gov.pl/sejm9.nsf/agent.xsp?symbol=glosowania&NrKadencji=10&NrPosiedzenia=1&NrGlosowania=145',\n",
       " 'https://www.sejm.gov.pl/sejm9.nsf/agent.xsp?symbol=glosowania&NrKadencji=10&NrPosiedzenia=1&NrGlosowania=49',\n",
       " 'https://www.sejm.gov.pl/sejm9.nsf/agent.xsp?symbol=glosowania&NrKadencji=10&NrPosiedzenia=2&NrGlosowania=8',\n",
       " 'https://www.sejm.gov.pl/sejm9.nsf/agent.xsp?symbol=glosowania&NrKadencji=10&NrPosiedzenia=6&NrGlosowania=6',\n",
       " 'https://www.sejm.gov.pl/sejm9.nsf/agent.xsp?symbol=glosowania&NrKadencji=10&NrPosiedzenia=1&NrGlosowania=140',\n",
       " 'https://www.sejm.gov.pl/sejm9.nsf/agent.xsp?symbol=glosowania&NrKadencji=10&NrPosiedzenia=1&NrGlosowania=37',\n",
       " 'https://www.sejm.gov.pl/sejm9.nsf/agent.xsp?symbol=glosowania&NrKadencji=10&NrPosiedzenia=1&NrGlosowania=79',\n",
       " 'https://www.sejm.gov.pl/sejm9.nsf/agent.xsp?symbol=glosowania&NrKadencji=10&NrPosiedzenia=9&NrGlosowania=23',\n",
       " 'https://www.sejm.gov.pl/sejm9.nsf/agent.xsp?symbol=glosowania&NrKadencji=10&NrPosiedzenia=1&NrGlosowania=89',\n",
       " 'https://www.sejm.gov.pl/sejm9.nsf/agent.xsp?symbol=glosowania&NrKadencji=10&NrPosiedzenia=5&NrGlosowania=5',\n",
       " 'https://www.sejm.gov.pl/sejm9.nsf/agent.xsp?symbol=glosowania&NrKadencji=10&NrPosiedzenia=1&NrGlosowania=127',\n",
       " 'https://www.sejm.gov.pl/sejm9.nsf/agent.xsp?symbol=glosowania&NrKadencji=10&NrPosiedzenia=1&NrGlosowania=35',\n",
       " 'https://www.sejm.gov.pl/sejm9.nsf/agent.xsp?symbol=glosowania&NrKadencji=10&NrPosiedzenia=9&NrGlosowania=32',\n",
       " 'https://www.sejm.gov.pl/sejm9.nsf/agent.xsp?symbol=glosowania&NrKadencji=10&NrPosiedzenia=7&NrGlosowania=8',\n",
       " 'https://www.sejm.gov.pl/sejm9.nsf/agent.xsp?symbol=glosowania&NrKadencji=10&NrPosiedzenia=1&NrGlosowania=10',\n",
       " 'https://www.sejm.gov.pl/sejm9.nsf/agent.xsp?symbol=glosowania&NrKadencji=10&NrPosiedzenia=7&NrGlosowania=7',\n",
       " 'https://www.sejm.gov.pl/sejm9.nsf/agent.xsp?symbol=glosowaniaL&NrKadencji=10&NrPosiedzenia=1&NrGlosowania=1',\n",
       " 'https://www.sejm.gov.pl/sejm9.nsf/agent.xsp?symbol=glosowania&NrKadencji=10&NrPosiedzenia=5&NrGlosowania=28',\n",
       " 'https://www.sejm.gov.pl/sejm9.nsf/agent.xsp?symbol=glosowania&NrKadencji=10&NrPosiedzenia=1&NrGlosowania=91',\n",
       " 'https://www.sejm.gov.pl/sejm9.nsf/agent.xsp?symbol=glosowania&NrKadencji=10&NrPosiedzenia=1&NrGlosowania=67',\n",
       " 'https://www.sejm.gov.pl/sejm9.nsf/agent.xsp?symbol=glosowania&NrKadencji=10&NrPosiedzenia=7&NrGlosowania=3',\n",
       " 'https://www.sejm.gov.pl/sejm9.nsf/agent.xsp?symbol=glosowania&NrKadencji=10&NrPosiedzenia=4&NrGlosowania=5',\n",
       " 'https://www.sejm.gov.pl/sejm9.nsf/agent.xsp?symbol=glosowania&NrKadencji=10&NrPosiedzenia=2&NrGlosowania=9',\n",
       " 'https://www.sejm.gov.pl/sejm9.nsf/agent.xsp?symbol=glosowania&NrKadencji=10&NrPosiedzenia=1&NrGlosowania=100',\n",
       " 'https://www.sejm.gov.pl/sejm9.nsf/agent.xsp?symbol=glosowania&NrKadencji=10&NrPosiedzenia=8&NrGlosowania=19',\n",
       " 'https://www.sejm.gov.pl/sejm9.nsf/agent.xsp?symbol=glosowania&NrKadencji=10&NrPosiedzenia=1&NrGlosowania=102',\n",
       " 'https://www.sejm.gov.pl/sejm9.nsf/agent.xsp?symbol=glosowania&NrKadencji=10&NrPosiedzenia=8&NrGlosowania=13',\n",
       " 'https://www.sejm.gov.pl/sejm9.nsf/agent.xsp?symbol=glosowania&NrKadencji=10&NrPosiedzenia=5&NrGlosowania=8',\n",
       " 'https://www.sejm.gov.pl/sejm9.nsf/agent.xsp?symbol=glosowania&NrKadencji=10&NrPosiedzenia=5&NrGlosowania=7',\n",
       " 'https://www.sejm.gov.pl/sejm9.nsf/agent.xsp?symbol=glosowaniaL&NrKadencji=10&NrPosiedzenia=2&NrGlosowania=11',\n",
       " 'https://www.sejm.gov.pl/sejm9.nsf/agent.xsp?symbol=glosowania&NrKadencji=10&NrPosiedzenia=7&NrGlosowania=17',\n",
       " 'https://www.sejm.gov.pl/sejm9.nsf/agent.xsp?symbol=glosowania&NrKadencji=10&NrPosiedzenia=5&NrGlosowania=23',\n",
       " 'https://www.sejm.gov.pl/sejm9.nsf/agent.xsp?symbol=glosowania&NrKadencji=10&NrPosiedzenia=1&NrGlosowania=56',\n",
       " 'https://www.sejm.gov.pl/sejm9.nsf/agent.xsp?symbol=glosowania&NrKadencji=10&NrPosiedzenia=7&NrGlosowania=20',\n",
       " 'https://www.sejm.gov.pl/sejm9.nsf/agent.xsp?symbol=glosowania&NrKadencji=10&NrPosiedzenia=9&NrGlosowania=13',\n",
       " 'https://www.sejm.gov.pl/sejm9.nsf/agent.xsp?symbol=glosowania&NrKadencji=10&NrPosiedzenia=9&NrGlosowania=40',\n",
       " 'https://www.sejm.gov.pl/sejm9.nsf/agent.xsp?symbol=glosowania&NrKadencji=10&NrPosiedzenia=1&NrGlosowania=45',\n",
       " 'https://www.sejm.gov.pl/sejm9.nsf/agent.xsp?symbol=glosowania&NrKadencji=10&NrPosiedzenia=8&NrGlosowania=8',\n",
       " 'https://www.sejm.gov.pl/sejm9.nsf/agent.xsp?symbol=glosowania&NrKadencji=10&NrPosiedzenia=3&NrGlosowania=11',\n",
       " 'https://www.sejm.gov.pl/sejm9.nsf/agent.xsp?symbol=glosowania&NrKadencji=10&NrPosiedzenia=7&NrGlosowania=19',\n",
       " 'https://www.sejm.gov.pl/sejm9.nsf/agent.xsp?symbol=glosowania&NrKadencji=10&NrPosiedzenia=1&NrGlosowania=85',\n",
       " 'https://www.sejm.gov.pl/sejm9.nsf/agent.xsp?symbol=glosowania&NrKadencji=10&NrPosiedzenia=8&NrGlosowania=1',\n",
       " 'https://www.sejm.gov.pl/sejm9.nsf/agent.xsp?symbol=glosowania&NrKadencji=10&NrPosiedzenia=1&NrGlosowania=61',\n",
       " 'https://www.sejm.gov.pl/sejm9.nsf/agent.xsp?symbol=glosowania&NrKadencji=10&NrPosiedzenia=1&NrGlosowania=23',\n",
       " 'https://www.sejm.gov.pl/sejm9.nsf/agent.xsp?symbol=glosowania&NrKadencji=10&NrPosiedzenia=1&NrGlosowania=44',\n",
       " 'https://www.sejm.gov.pl/sejm9.nsf/agent.xsp?symbol=glosowania&NrKadencji=10&NrPosiedzenia=5&NrGlosowania=17',\n",
       " 'https://www.sejm.gov.pl/sejm9.nsf/agent.xsp?symbol=glosowania&NrKadencji=10&NrPosiedzenia=2&NrGlosowania=15',\n",
       " 'https://www.sejm.gov.pl/sejm9.nsf/agent.xsp?symbol=glosowania&NrKadencji=10&NrPosiedzenia=9&NrGlosowania=18',\n",
       " 'https://www.sejm.gov.pl/sejm9.nsf/agent.xsp?symbol=glosowania&NrKadencji=10&NrPosiedzenia=1&NrGlosowania=138',\n",
       " 'https://www.sejm.gov.pl/sejm9.nsf/agent.xsp?symbol=glosowania&NrKadencji=10&NrPosiedzenia=7&NrGlosowania=22',\n",
       " 'https://www.sejm.gov.pl/sejm9.nsf/agent.xsp?symbol=glosowania&NrKadencji=10&NrPosiedzenia=7&NrGlosowania=4',\n",
       " 'https://www.sejm.gov.pl/sejm9.nsf/agent.xsp?symbol=glosowania&NrKadencji=10&NrPosiedzenia=8&NrGlosowania=18',\n",
       " 'https://www.sejm.gov.pl/sejm9.nsf/agent.xsp?symbol=glosowania&NrKadencji=10&NrPosiedzenia=2&NrGlosowania=28',\n",
       " 'https://www.sejm.gov.pl/sejm9.nsf/agent.xsp?symbol=glosowania&NrKadencji=10&NrPosiedzenia=9&NrGlosowania=14',\n",
       " 'https://www.sejm.gov.pl/sejm9.nsf/agent.xsp?symbol=glosowania&NrKadencji=10&NrPosiedzenia=1&NrGlosowania=82',\n",
       " 'https://www.sejm.gov.pl/sejm9.nsf/agent.xsp?symbol=glosowania&NrKadencji=10&NrPosiedzenia=1&NrGlosowania=96',\n",
       " 'https://www.sejm.gov.pl/sejm9.nsf/agent.xsp?symbol=glosowania&NrKadencji=10&NrPosiedzenia=1&NrGlosowania=64',\n",
       " 'https://www.sejm.gov.pl/sejm9.nsf/agent.xsp?symbol=glosowania&NrKadencji=10&NrPosiedzenia=9&NrGlosowania=29',\n",
       " 'https://www.sejm.gov.pl/sejm9.nsf/agent.xsp?symbol=glosowania&NrKadencji=10&NrPosiedzenia=3&NrGlosowania=5',\n",
       " 'https://www.sejm.gov.pl/sejm9.nsf/agent.xsp?symbol=glosowania&NrKadencji=10&NrPosiedzenia=1&NrGlosowania=116',\n",
       " 'https://www.sejm.gov.pl/sejm9.nsf/agent.xsp?symbol=glosowania&NrKadencji=10&NrPosiedzenia=1&NrGlosowania=58',\n",
       " 'https://www.sejm.gov.pl/sejm9.nsf/agent.xsp?symbol=glosowania&NrKadencji=10&NrPosiedzenia=5&NrGlosowania=26',\n",
       " 'https://www.sejm.gov.pl/sejm9.nsf/agent.xsp?symbol=glosowania&NrKadencji=10&NrPosiedzenia=1&NrGlosowania=33',\n",
       " 'https://www.sejm.gov.pl/sejm9.nsf/agent.xsp?symbol=glosowania&NrKadencji=10&NrPosiedzenia=9&NrGlosowania=30',\n",
       " 'https://www.sejm.gov.pl/sejm9.nsf/agent.xsp?symbol=glosowaniaL&NrKadencji=10&NrPosiedzenia=1&NrGlosowania=13',\n",
       " 'https://www.sejm.gov.pl/sejm9.nsf/agent.xsp?symbol=glosowania&NrKadencji=10&NrPosiedzenia=1&NrGlosowania=124',\n",
       " 'https://www.sejm.gov.pl/sejm9.nsf/agent.xsp?symbol=glosowania&NrKadencji=10&NrPosiedzenia=8&NrGlosowania=21',\n",
       " 'https://www.sejm.gov.pl/sejm9.nsf/agent.xsp?symbol=glosowania&NrKadencji=10&NrPosiedzenia=1&NrGlosowania=112',\n",
       " 'https://www.sejm.gov.pl/sejm9.nsf/agent.xsp?symbol=glosowania&NrKadencji=10&NrPosiedzenia=1&NrGlosowania=22',\n",
       " 'https://www.sejm.gov.pl/sejm9.nsf/agent.xsp?symbol=glosowania&NrKadencji=10&NrPosiedzenia=1&NrGlosowania=43',\n",
       " 'https://www.sejm.gov.pl/sejm9.nsf/agent.xsp?symbol=glosowania&NrKadencji=10&NrPosiedzenia=3&NrGlosowania=14',\n",
       " 'https://www.sejm.gov.pl/sejm9.nsf/agent.xsp?symbol=glosowania&NrKadencji=10&NrPosiedzenia=9&NrGlosowania=8',\n",
       " 'https://www.sejm.gov.pl/sejm9.nsf/agent.xsp?symbol=glosowania&NrKadencji=10&NrPosiedzenia=1&NrGlosowania=75',\n",
       " 'https://www.sejm.gov.pl/sejm9.nsf/agent.xsp?symbol=glosowania&NrKadencji=10&NrPosiedzenia=9&NrGlosowania=39',\n",
       " 'https://www.sejm.gov.pl/sejm9.nsf/agent.xsp?symbol=glosowania&NrKadencji=10&NrPosiedzenia=2&NrGlosowania=25',\n",
       " 'https://www.sejm.gov.pl/sejm9.nsf/agent.xsp?symbol=glosowania&NrKadencji=10&NrPosiedzenia=9&NrGlosowania=9',\n",
       " 'https://www.sejm.gov.pl/sejm9.nsf/agent.xsp?symbol=glosowania&NrKadencji=10&NrPosiedzenia=6&NrGlosowania=12',\n",
       " 'https://www.sejm.gov.pl/sejm9.nsf/agent.xsp?symbol=glosowania&NrKadencji=10&NrPosiedzenia=7&NrGlosowania=2',\n",
       " 'https://www.sejm.gov.pl/sejm9.nsf/agent.xsp?symbol=glosowania&NrKadencji=10&NrPosiedzenia=2&NrGlosowania=13',\n",
       " 'https://www.sejm.gov.pl/sejm9.nsf/agent.xsp?symbol=glosowania&NrKadencji=10&NrPosiedzenia=1&NrGlosowania=99',\n",
       " 'https://www.sejm.gov.pl/sejm9.nsf/agent.xsp?symbol=glosowania&NrKadencji=10&NrPosiedzenia=1&NrGlosowania=14',\n",
       " 'https://www.sejm.gov.pl/sejm9.nsf/agent.xsp?symbol=glosowania&NrKadencji=10&NrPosiedzenia=8&NrGlosowania=7',\n",
       " 'https://www.sejm.gov.pl/sejm9.nsf/agent.xsp?symbol=glosowania&NrKadencji=10&NrPosiedzenia=1&NrGlosowania=11',\n",
       " 'https://www.sejm.gov.pl/sejm9.nsf/agent.xsp?symbol=glosowania&NrKadencji=10&NrPosiedzenia=1&NrGlosowania=123',\n",
       " 'https://www.sejm.gov.pl/sejm9.nsf/agent.xsp?symbol=glosowania&NrKadencji=10&NrPosiedzenia=6&NrGlosowania=19',\n",
       " 'https://www.sejm.gov.pl/sejm9.nsf/agent.xsp?symbol=glosowania&NrKadencji=10&NrPosiedzenia=1&NrGlosowania=53',\n",
       " 'https://www.sejm.gov.pl/sejm9.nsf/agent.xsp?symbol=glosowania&NrKadencji=10&NrPosiedzenia=1&NrGlosowania=105',\n",
       " 'https://www.sejm.gov.pl/sejm9.nsf/agent.xsp?symbol=glosowania&NrKadencji=10&NrPosiedzenia=6&NrGlosowania=15',\n",
       " 'https://www.sejm.gov.pl/sejm9.nsf/agent.xsp?symbol=glosowania&NrKadencji=10&NrPosiedzenia=9&NrGlosowania=31',\n",
       " 'https://www.sejm.gov.pl/sejm9.nsf/agent.xsp?symbol=glosowania&NrKadencji=10&NrPosiedzenia=1&NrGlosowania=15',\n",
       " 'https://www.sejm.gov.pl/sejm9.nsf/agent.xsp?symbol=glosowania&NrKadencji=10&NrPosiedzenia=1&NrGlosowania=50',\n",
       " 'https://www.sejm.gov.pl/sejm9.nsf/agent.xsp?symbol=glosowania&NrKadencji=10&NrPosiedzenia=6&NrGlosowania=16',\n",
       " 'https://www.sejm.gov.pl/sejm9.nsf/agent.xsp?symbol=glosowania&NrKadencji=10&NrPosiedzenia=9&NrGlosowania=15',\n",
       " 'https://www.sejm.gov.pl/sejm9.nsf/agent.xsp?symbol=glosowania&NrKadencji=10&NrPosiedzenia=3&NrGlosowania=9',\n",
       " 'https://www.sejm.gov.pl/sejm9.nsf/agent.xsp?symbol=glosowania&NrKadencji=10&NrPosiedzenia=1&NrGlosowania=109',\n",
       " 'https://www.sejm.gov.pl/sejm9.nsf/agent.xsp?symbol=glosowania&NrKadencji=10&NrPosiedzenia=1&NrGlosowania=130',\n",
       " 'https://www.sejm.gov.pl/sejm9.nsf/agent.xsp?symbol=glosowania&NrKadencji=10&NrPosiedzenia=1&NrGlosowania=63',\n",
       " 'https://www.sejm.gov.pl/sejm9.nsf/agent.xsp?symbol=glosowania&NrKadencji=10&NrPosiedzenia=8&NrGlosowania=11',\n",
       " 'https://www.sejm.gov.pl/sejm9.nsf/agent.xsp?symbol=glosowania&NrKadencji=10&NrPosiedzenia=3&NrGlosowania=2',\n",
       " 'https://www.sejm.gov.pl/sejm9.nsf/agent.xsp?symbol=glosowania&NrKadencji=10&NrPosiedzenia=8&NrGlosowania=16',\n",
       " 'https://www.sejm.gov.pl/sejm9.nsf/agent.xsp?symbol=glosowania&NrKadencji=10&NrPosiedzenia=1&NrGlosowania=106',\n",
       " 'https://www.sejm.gov.pl/sejm9.nsf/agent.xsp?symbol=glosowania&NrKadencji=10&NrPosiedzenia=7&NrGlosowania=11',\n",
       " 'https://www.sejm.gov.pl/sejm9.nsf/agent.xsp?symbol=glosowania&NrKadencji=10&NrPosiedzenia=2&NrGlosowania=2',\n",
       " 'https://www.sejm.gov.pl/sejm9.nsf/agent.xsp?symbol=glosowania&NrKadencji=10&NrPosiedzenia=8&NrGlosowania=6',\n",
       " 'https://www.sejm.gov.pl/sejm9.nsf/agent.xsp?symbol=glosowania&NrKadencji=10&NrPosiedzenia=1&NrGlosowania=26',\n",
       " 'https://www.sejm.gov.pl/sejm9.nsf/agent.xsp?symbol=glosowania&NrKadencji=10&NrPosiedzenia=9&NrGlosowania=5',\n",
       " 'https://www.sejm.gov.pl/sejm9.nsf/agent.xsp?symbol=glosowania&NrKadencji=10&NrPosiedzenia=5&NrGlosowania=16',\n",
       " 'https://www.sejm.gov.pl/sejm9.nsf/agent.xsp?symbol=glosowania&NrKadencji=10&NrPosiedzenia=1&NrGlosowania=39',\n",
       " 'https://www.sejm.gov.pl/sejm9.nsf/agent.xsp?symbol=glosowania&NrKadencji=10&NrPosiedzenia=1&NrGlosowania=51',\n",
       " 'https://www.sejm.gov.pl/sejm9.nsf/agent.xsp?symbol=glosowania&NrKadencji=10&NrPosiedzenia=8&NrGlosowania=2',\n",
       " 'https://www.sejm.gov.pl/sejm9.nsf/agent.xsp?symbol=glosowania&NrKadencji=10&NrPosiedzenia=3&NrGlosowania=13',\n",
       " 'https://www.sejm.gov.pl/sejm9.nsf/agent.xsp?symbol=glosowania&NrKadencji=10&NrPosiedzenia=1&NrGlosowania=101',\n",
       " 'https://www.sejm.gov.pl/sejm9.nsf/agent.xsp?symbol=glosowania&NrKadencji=10&NrPosiedzenia=1&NrGlosowania=95',\n",
       " 'https://www.sejm.gov.pl/sejm9.nsf/agent.xsp?symbol=glosowania&NrKadencji=10&NrPosiedzenia=5&NrGlosowania=12',\n",
       " 'https://www.sejm.gov.pl/sejm9.nsf/agent.xsp?symbol=glosowania&NrKadencji=10&NrPosiedzenia=2&NrGlosowania=16',\n",
       " 'https://www.sejm.gov.pl/sejm9.nsf/agent.xsp?symbol=glosowania&NrKadencji=10&NrPosiedzenia=1&NrGlosowania=90',\n",
       " 'https://www.sejm.gov.pl/sejm9.nsf/agent.xsp?symbol=glosowania&NrKadencji=10&NrPosiedzenia=1&NrGlosowania=139',\n",
       " 'https://www.sejm.gov.pl/sejm9.nsf/agent.xsp?symbol=glosowania&NrKadencji=10&NrPosiedzenia=5&NrGlosowania=10',\n",
       " 'https://www.sejm.gov.pl/sejm9.nsf/agent.xsp?symbol=glosowania&NrKadencji=10&NrPosiedzenia=1&NrGlosowania=69',\n",
       " 'https://www.sejm.gov.pl/sejm9.nsf/agent.xsp?symbol=glosowania&NrKadencji=10&NrPosiedzenia=5&NrGlosowania=15',\n",
       " 'https://www.sejm.gov.pl/sejm9.nsf/agent.xsp?symbol=glosowania&NrKadencji=10&NrPosiedzenia=4&NrGlosowania=4',\n",
       " 'https://www.sejm.gov.pl/sejm9.nsf/agent.xsp?symbol=glosowania&NrKadencji=10&NrPosiedzenia=9&NrGlosowania=1',\n",
       " 'https://www.sejm.gov.pl/sejm9.nsf/agent.xsp?symbol=glosowania&NrKadencji=10&NrPosiedzenia=5&NrGlosowania=2',\n",
       " 'https://www.sejm.gov.pl/sejm9.nsf/agent.xsp?symbol=glosowania&NrKadencji=10&NrPosiedzenia=1&NrGlosowania=71',\n",
       " 'https://www.sejm.gov.pl/sejm9.nsf/agent.xsp?symbol=glosowania&NrKadencji=10&NrPosiedzenia=1&NrGlosowania=24',\n",
       " 'https://www.sejm.gov.pl/sejm9.nsf/agent.xsp?symbol=glosowania&NrKadencji=10&NrPosiedzenia=1&NrGlosowania=131',\n",
       " 'https://www.sejm.gov.pl/sejm9.nsf/agent.xsp?symbol=glosowania&NrKadencji=10&NrPosiedzenia=4&NrGlosowania=7']"
      ]
     },
     "execution_count": 24,
     "metadata": {},
     "output_type": "execute_result"
    }
   ],
   "source": [
    "clean_links_1"
   ]
  },
  {
   "cell_type": "code",
   "execution_count": 25,
   "id": "8d21df13",
   "metadata": {},
   "outputs": [
    {
     "data": {
      "text/plain": [
       "328"
      ]
     },
     "execution_count": 25,
     "metadata": {},
     "output_type": "execute_result"
    }
   ],
   "source": [
    "len(clean_links_1)"
   ]
  },
  {
   "cell_type": "code",
   "execution_count": 26,
   "id": "55811641",
   "metadata": {},
   "outputs": [],
   "source": [
    "with open('clean_links_{k}.pkl', 'wb') as f:\n",
    "    pickle.dump(clean_links_1, f)"
   ]
  },
  {
   "cell_type": "code",
   "execution_count": 27,
   "id": "d0a397cf",
   "metadata": {},
   "outputs": [
    {
     "name": "stderr",
     "output_type": "stream",
     "text": [
      "100%|████████████████████████████████████████████████████████████████████████████████| 328/328 [08:49<00:00,  1.62s/it]\n"
     ]
    }
   ],
   "source": [
    "vote_results_links = []\n",
    "headers = { 'User-Agent': 'Mozilla/5.0 (Windows NT 6.0; WOW64; rv:24.0) Gecko/20100101 Firefox/24.0' }\n",
    "# headers={'User-Agent': 'Chrome/35.0.1916.47'}\n",
    "r = requests.get(url, headers=headers)\n",
    "for url in tqdm(clean_links_1):\n",
    "    response = requests.get(url, headers=headers)\n",
    "    soup = BeautifulSoup(response.content, \"html.parser\")\n",
    "    a = soup.find(\"a\", text=\"Wyniki indywidualne\")\n",
    "    if a:\n",
    "        vote_results_links.append(a['href'])\n",
    "    else:\n",
    "        print('sus url', url)\n",
    "    time.sleep(1)"
   ]
  },
  {
   "cell_type": "code",
   "execution_count": 28,
   "id": "2e72ac08",
   "metadata": {},
   "outputs": [
    {
     "data": {
      "text/plain": [
       "328"
      ]
     },
     "execution_count": 28,
     "metadata": {},
     "output_type": "execute_result"
    }
   ],
   "source": [
    "len(vote_results_links)"
   ]
  },
  {
   "cell_type": "code",
   "execution_count": 29,
   "id": "a0167454",
   "metadata": {},
   "outputs": [],
   "source": [
    "with open('vote_results_links_{k}.pkl', 'wb') as f:\n",
    "    pickle.dump(vote_results_links, f)"
   ]
  },
  {
   "cell_type": "code",
   "execution_count": 4,
   "id": "2bb129ea",
   "metadata": {},
   "outputs": [],
   "source": [
    "vote_results_links = pickle.load(open(f'vote_results_links_{k}.pkl', 'rb'))"
   ]
  },
  {
   "cell_type": "code",
   "execution_count": 5,
   "id": "17df821b",
   "metadata": {},
   "outputs": [
    {
     "data": {
      "text/plain": [
       "9388"
      ]
     },
     "execution_count": 5,
     "metadata": {},
     "output_type": "execute_result"
    }
   ],
   "source": [
    "len(vote_results_links)"
   ]
  },
  {
   "cell_type": "markdown",
   "id": "43746d78",
   "metadata": {},
   "source": [
    "https://www.sejm.gov.pl/sejm9.nsf/agent.xsp?symbol=glosowania&NrKadencji=9&NrPosiedzenia=8&NrGlosowania=6\n",
    "\n",
    "leads to \n",
    "\n",
    "https://orka.sejm.gov.pl/Glos9.nsf/nazwa/8_6/$file/GLOS_8_6.PDF\n",
    "\n",
    "XDD"
   ]
  },
  {
   "cell_type": "code",
   "execution_count": 63,
   "id": "d3d85bdf",
   "metadata": {},
   "outputs": [
    {
     "data": {
      "text/plain": [
       "['http://orka.sejm.gov.pl/Glos10.nsf/dok?OpenAgent&1_132',\n",
       " 'http://orka.sejm.gov.pl/Glos10.nsf/dok?OpenAgent&3_10',\n",
       " 'http://orka.sejm.gov.pl/Glos10.nsf/dok?OpenAgent&2_26',\n",
       " 'http://orka.sejm.gov.pl/Glos10.nsf/dok?OpenAgent&2_18',\n",
       " 'http://orka.sejm.gov.pl/Glos10.nsf/dok?OpenAgent&8_15',\n",
       " 'http://orka.sejm.gov.pl/Glos10.nsf/dok?OpenAgent&1_104',\n",
       " 'http://orka.sejm.gov.pl/Glos10.nsf/dok?OpenAgent&1_16',\n",
       " 'http://orka.sejm.gov.pl/Glos10.nsf/dok?OpenAgent&2_3',\n",
       " 'http://orka.sejm.gov.pl/Glos10.nsf/dok?OpenAgent&5_4',\n",
       " 'http://orka.sejm.gov.pl/Glos10.nsf/dok?OpenAgent&8_12',\n",
       " 'http://orka.sejm.gov.pl/Glos10.nsf/dok?OpenAgent&6_18',\n",
       " 'http://orka.sejm.gov.pl/Glos10.nsf/dok?OpenAgent&2_23',\n",
       " 'http://orka.sejm.gov.pl/Glos10.nsf/dok?OpenAgent&1_135',\n",
       " 'http://orka.sejm.gov.pl/Glos10.nsf/dok?OpenAgent&7_6',\n",
       " 'http://orka.sejm.gov.pl/Glos10.nsf/dok?OpenAgent&2_4',\n",
       " 'http://orka.sejm.gov.pl/Glos10.nsf/dok?OpenAgent&6_17',\n",
       " 'http://orka.sejm.gov.pl/Glos10.nsf/dok?OpenAgent&7_5',\n",
       " 'http://orka.sejm.gov.pl/Glos10.nsf/dok?OpenAgent&1_137',\n",
       " 'http://orka.sejm.gov.pl/Glos10.nsf/dok?OpenAgent&8_10',\n",
       " 'http://orka.sejm.gov.pl/Glos10.nsf/dok?OpenAgent&1_134',\n",
       " 'http://orka.sejm.gov.pl/Glos10.nsf/dok?OpenAgent&9_3',\n",
       " 'http://orka.sejm.gov.pl/Glos10.nsf/dok?OpenAgent&6_3',\n",
       " 'http://orka.sejm.gov.pl/Glos10.nsf/dok?OpenAgent&9_28',\n",
       " 'http://orka.sejm.gov.pl/Glos10.nsf/dok?OpenAgent&9_36',\n",
       " 'http://orka.sejm.gov.pl/Glos10.nsf/dok?OpenAgent&6_7',\n",
       " 'http://orka.sejm.gov.pl/Glos10.nsf/dok?OpenAgent&8_4',\n",
       " 'http://orka.sejm.gov.pl/Glos10.nsf/dok?OpenAgent&1_19',\n",
       " 'http://orka.sejm.gov.pl/Glos10.nsf/dok?OpenAgent&1_118',\n",
       " 'http://orka.sejm.gov.pl/Glos10.nsf/dok?OpenAgent&6_11',\n",
       " 'http://orka.sejm.gov.pl/Glos10.nsf/dok?OpenAgent&1_30',\n",
       " 'http://orka.sejm.gov.pl/Glos10.nsf/dok?OpenAgent&9_12',\n",
       " 'http://orka.sejm.gov.pl/Glos10.nsf/dok?OpenAgent&9_24',\n",
       " 'http://orka.sejm.gov.pl/Glos10.nsf/dok?OpenAgent&2_7',\n",
       " 'http://orka.sejm.gov.pl/Glos10.nsf/dok?OpenAgent&1_97',\n",
       " 'http://orka.sejm.gov.pl/Glos10.nsf/dok?OpenAgent&1_84',\n",
       " 'http://orka.sejm.gov.pl/Glos10.nsf/dok?OpenAgent&7_14',\n",
       " 'http://orka.sejm.gov.pl/Glos10.nsf/dok?OpenAgent&1_8',\n",
       " 'http://orka.sejm.gov.pl/Glos10.nsf/dok?OpenAgent&5_20',\n",
       " 'http://orka.sejm.gov.pl/Glos10.nsf/dok?OpenAgent&1_4',\n",
       " 'http://orka.sejm.gov.pl/Glos10.nsf/dok?OpenAgent&1_122',\n",
       " 'http://orka.sejm.gov.pl/Glos10.nsf/dok?OpenAgent&5_24',\n",
       " 'http://orka.sejm.gov.pl/Glos10.nsf/dok?OpenAgent&1_110',\n",
       " 'http://orka.sejm.gov.pl/Glos10.nsf/dok?OpenAgent&7_18',\n",
       " 'http://orka.sejm.gov.pl/Glos10.nsf/dok?OpenAgent&7_16',\n",
       " 'http://orka.sejm.gov.pl/Glos10.nsf/dok?OpenAgent&8_14',\n",
       " 'http://orka.sejm.gov.pl/Glos10.nsf/dok?OpenAgent&9_27',\n",
       " 'http://orka.sejm.gov.pl/Glos10.nsf/dok?OpenAgent&1_129',\n",
       " 'http://orka.sejm.gov.pl/Glos10.nsf/dok?OpenAgent&6_10',\n",
       " 'http://orka.sejm.gov.pl/Glos10.nsf/dok?OpenAgent&3_6',\n",
       " 'http://orka.sejm.gov.pl/Glos10.nsf/dok?OpenAgent&1_6',\n",
       " 'http://orka.sejm.gov.pl/Glos10.nsf/dok?OpenAgent&1_81',\n",
       " 'http://orka.sejm.gov.pl/Glos10.nsf/dok?OpenAgent&5_14',\n",
       " 'http://orka.sejm.gov.pl/Glos10.nsf/dok?OpenAgent&4_1',\n",
       " 'http://orka.sejm.gov.pl/Glos10.nsf/dok?OpenAgent&2_6',\n",
       " 'http://orka.sejm.gov.pl/Glos10.nsf/dok?OpenAgent&5_11',\n",
       " 'http://orka.sejm.gov.pl/Glos10.nsf/dok?OpenAgent&9_7',\n",
       " 'http://orka.sejm.gov.pl/Glos10.nsf/dok?OpenAgent&6_9',\n",
       " 'http://orka.sejm.gov.pl/Glos10.nsf/dok?OpenAgent&9_33',\n",
       " 'http://orka.sejm.gov.pl/Glos10.nsf/dok?OpenAgent&9_19',\n",
       " 'http://orka.sejm.gov.pl/Glos10.nsf/dok?OpenAgent&7_21',\n",
       " 'http://orka.sejm.gov.pl/Glos10.nsf/dok?OpenAgent&1_86',\n",
       " 'http://orka.sejm.gov.pl/Glos10.nsf/dok?OpenAgent&1_142',\n",
       " 'http://orka.sejm.gov.pl/Glos10.nsf/dok?OpenAgent&8_17',\n",
       " 'http://orka.sejm.gov.pl/Glos10.nsf/dok?OpenAgent&1_42',\n",
       " 'http://orka.sejm.gov.pl/Glos10.nsf/dok?OpenAgent&7_10',\n",
       " 'http://orka.sejm.gov.pl/Glos10.nsf/dok?OpenAgent&1_57',\n",
       " 'http://orka.sejm.gov.pl/Glos10.nsf/dok?OpenAgent&1_40',\n",
       " 'http://orka.sejm.gov.pl/Glos10.nsf/dok?OpenAgent&1_12',\n",
       " 'http://orka.sejm.gov.pl/Glos10.nsf/dok?OpenAgent&1_36',\n",
       " 'http://orka.sejm.gov.pl/Glos10.nsf/dok?OpenAgent&1_74',\n",
       " 'http://orka.sejm.gov.pl/Glos10.nsf/dok?OpenAgent&1_115',\n",
       " 'http://orka.sejm.gov.pl/Glos10.nsf/dok?OpenAgent&6_14',\n",
       " 'http://orka.sejm.gov.pl/Glos10.nsf/dok?OpenAgent&8_3',\n",
       " 'http://orka.sejm.gov.pl/Glos10.nsf/dok?OpenAgent&5_9',\n",
       " 'http://orka.sejm.gov.pl/Glos10.nsf/dok?OpenAgent&2_14',\n",
       " 'http://orka.sejm.gov.pl/Glos10.nsf/dok?OpenAgent&1_121',\n",
       " 'http://orka.sejm.gov.pl/Glos10.nsf/dok?OpenAgent&1_18',\n",
       " 'http://orka.sejm.gov.pl/Glos10.nsf/dok?OpenAgent&4_6',\n",
       " 'http://orka.sejm.gov.pl/Glos10.nsf/dok?OpenAgent&2_22',\n",
       " 'http://orka.sejm.gov.pl/Glos10.nsf/dok?OpenAgent&6_4',\n",
       " 'http://orka.sejm.gov.pl/Glos10.nsf/dok?OpenAgent&6_8',\n",
       " 'http://orka.sejm.gov.pl/Glos10.nsf/dok?OpenAgent&1_5',\n",
       " 'http://orka.sejm.gov.pl/Glos10.nsf/dok?OpenAgent&9_6',\n",
       " 'http://orka.sejm.gov.pl/Glos10.nsf/dok?OpenAgent&1_48',\n",
       " 'http://orka.sejm.gov.pl/Glos10.nsf/dok?OpenAgent&5_22',\n",
       " 'http://orka.sejm.gov.pl/Glos10.nsf/dok?OpenAgent&3_4',\n",
       " 'http://orka.sejm.gov.pl/Glos10.nsf/dok?OpenAgent&3_7',\n",
       " 'http://orka.sejm.gov.pl/Glos10.nsf/dok?OpenAgent&1_2',\n",
       " 'http://orka.sejm.gov.pl/Glos10.nsf/dok?OpenAgent&1_146',\n",
       " 'http://orka.sejm.gov.pl/Glos10.nsf/dok?OpenAgent&1_147',\n",
       " 'http://orka.sejm.gov.pl/Glos10.nsf/dok?OpenAgent&1_128',\n",
       " 'http://orka.sejm.gov.pl/Glos10.nsf/dok?OpenAgent&2_12',\n",
       " 'http://orka.sejm.gov.pl/Glos10.nsf/dok?OpenAgent&7_9',\n",
       " 'http://orka.sejm.gov.pl/Glos10.nsf/dok?OpenAgent&9_2',\n",
       " 'http://orka.sejm.gov.pl/Glos10.nsf/dok?OpenAgent&1_9',\n",
       " 'http://orka.sejm.gov.pl/Glos10.nsf/dok?OpenAgent&1_7',\n",
       " 'http://orka.sejm.gov.pl/Glos10.nsf/dok?OpenAgent&2_1',\n",
       " 'http://orka.sejm.gov.pl/Glos10.nsf/dok?OpenAgent&8_20',\n",
       " 'http://orka.sejm.gov.pl/Glos10.nsf/dok?OpenAgent&1_29',\n",
       " 'http://orka.sejm.gov.pl/Glos10.nsf/dok?OpenAgent&3_15',\n",
       " 'http://orka.sejm.gov.pl/Glos10.nsf/dok?OpenAgent&5_3',\n",
       " 'http://orka.sejm.gov.pl/Glos10.nsf/dok?OpenAgent&9_17',\n",
       " 'http://orka.sejm.gov.pl/Glos10.nsf/dok?OpenAgent&1_55',\n",
       " 'http://orka.sejm.gov.pl/Glos10.nsf/dok?OpenAgent&2_10',\n",
       " 'http://orka.sejm.gov.pl/Glos10.nsf/dok?OpenAgent&8_9',\n",
       " 'http://orka.sejm.gov.pl/Glos10.nsf/dok?OpenAgent&2_27',\n",
       " 'http://orka.sejm.gov.pl/Glos10.nsf/dok?OpenAgent&1_94',\n",
       " 'http://orka.sejm.gov.pl/Glos10.nsf/dok?OpenAgent&5_21',\n",
       " 'http://orka.sejm.gov.pl/Glos10.nsf/dok?OpenAgent&9_25',\n",
       " 'http://orka.sejm.gov.pl/Glos10.nsf/dok?OpenAgent&1_114',\n",
       " 'http://orka.sejm.gov.pl/Glos10.nsf/dok?OpenAgent&3_8',\n",
       " 'http://orka.sejm.gov.pl/Glos10.nsf/dok?OpenAgent&1_65',\n",
       " 'http://orka.sejm.gov.pl/Glos10.nsf/dok?OpenAgent&5_29',\n",
       " 'http://orka.sejm.gov.pl/Glos10.nsf/dok?OpenAgent&1_136',\n",
       " 'http://orka.sejm.gov.pl/Glos10.nsf/dok?OpenAgent&1_98',\n",
       " 'http://orka.sejm.gov.pl/Glos10.nsf/dok?OpenAgent&1_87',\n",
       " 'http://orka.sejm.gov.pl/Glos10.nsf/dok?OpenAgent&1_111',\n",
       " 'http://orka.sejm.gov.pl/Glos10.nsf/dok?OpenAgent&6_5',\n",
       " 'http://orka.sejm.gov.pl/Glos10.nsf/dok?OpenAgent&1_77',\n",
       " 'http://orka.sejm.gov.pl/Glos10.nsf/dok?OpenAgent&1_3',\n",
       " 'http://orka.sejm.gov.pl/Glos10.nsf/dok?OpenAgent&1_17',\n",
       " 'http://orka.sejm.gov.pl/Glos10.nsf/dok?OpenAgent&3_12',\n",
       " 'http://orka.sejm.gov.pl/Glos10.nsf/dok?OpenAgent&1_72',\n",
       " 'http://orka.sejm.gov.pl/Glos10.nsf/dok?OpenAgent&1_73',\n",
       " 'http://orka.sejm.gov.pl/Glos10.nsf/dok?OpenAgent&1_119',\n",
       " 'http://orka.sejm.gov.pl/Glos10.nsf/dok?OpenAgent&1_54',\n",
       " 'http://orka.sejm.gov.pl/Glos10.nsf/dok?OpenAgent&2_19',\n",
       " 'http://orka.sejm.gov.pl/Glos10.nsf/dok?OpenAgent&9_22',\n",
       " 'http://orka.sejm.gov.pl/Glos10.nsf/dok?OpenAgent&9_34',\n",
       " 'http://orka.sejm.gov.pl/Glos10.nsf/dok?OpenAgent&1_93',\n",
       " 'http://orka.sejm.gov.pl/Glos10.nsf/dok?OpenAgent&1_59',\n",
       " 'http://orka.sejm.gov.pl/Glos10.nsf/dok?OpenAgent&5_25',\n",
       " 'http://orka.sejm.gov.pl/Glos10.nsf/dok?OpenAgent&1_120',\n",
       " 'http://orka.sejm.gov.pl/Glos10.nsf/dok?OpenAgent&1_60',\n",
       " 'http://orka.sejm.gov.pl/Glos10.nsf/dok?OpenAgent&1_103',\n",
       " 'http://orka.sejm.gov.pl/Glos10.nsf/dok?OpenAgent&9_11',\n",
       " 'http://orka.sejm.gov.pl/Glos10.nsf/dok?OpenAgent&1_126',\n",
       " 'http://orka.sejm.gov.pl/Glos10.nsf/dok?OpenAgent&1_28',\n",
       " 'http://orka.sejm.gov.pl/Glos10.nsf/dok?OpenAgent&1_31',\n",
       " 'http://orka.sejm.gov.pl/Glos10.nsf/dok?OpenAgent&2_24',\n",
       " 'http://orka.sejm.gov.pl/Glos10.nsf/dok?OpenAgent&2_5',\n",
       " 'http://orka.sejm.gov.pl/Glos10.nsf/dok?OpenAgent&1_76',\n",
       " 'http://orka.sejm.gov.pl/Glos10.nsf/dok?OpenAgent&1_70',\n",
       " 'http://orka.sejm.gov.pl/Glos10.nsf/dok?OpenAgent&7_13',\n",
       " 'http://orka.sejm.gov.pl/Glos10.nsf/dok?OpenAgent&1_88',\n",
       " 'http://orka.sejm.gov.pl/Glos10.nsf/dok?OpenAgent&9_20',\n",
       " 'http://orka.sejm.gov.pl/Glos10.nsf/dok?OpenAgent&9_16',\n",
       " 'http://orka.sejm.gov.pl/Glos10.nsf/dok?OpenAgent&1_117',\n",
       " 'http://orka.sejm.gov.pl/Glos10.nsf/dok?OpenAgent&4_3',\n",
       " 'http://orka.sejm.gov.pl/Glos10.nsf/dok?OpenAgent&1_80',\n",
       " 'http://orka.sejm.gov.pl/Glos10.nsf/dok?OpenAgent&1_32',\n",
       " 'http://orka.sejm.gov.pl/Glos10.nsf/dok?OpenAgent&1_143',\n",
       " 'http://orka.sejm.gov.pl/Glos10.nsf/dok?OpenAgent&1_46',\n",
       " 'http://orka.sejm.gov.pl/Glos10.nsf/dok?OpenAgent&1_38',\n",
       " 'http://orka.sejm.gov.pl/Glos10.nsf/dok?OpenAgent&8_5',\n",
       " 'http://orka.sejm.gov.pl/Glos10.nsf/dok?OpenAgent&1_41',\n",
       " 'http://orka.sejm.gov.pl/Glos10.nsf/dok?OpenAgent&6_1',\n",
       " 'http://orka.sejm.gov.pl/Glos10.nsf/dok?OpenAgent&2_21',\n",
       " 'http://orka.sejm.gov.pl/Glos10.nsf/dok?OpenAgent&4_2',\n",
       " 'http://orka.sejm.gov.pl/Glos10.nsf/dok?OpenAgent&7_12',\n",
       " 'http://orka.sejm.gov.pl/Glos10.nsf/dok?OpenAgent&5_18',\n",
       " 'http://orka.sejm.gov.pl/Glos10.nsf/dok?OpenAgent&9_38',\n",
       " 'http://orka.sejm.gov.pl/Glos10.nsf/dok?OpenAgent&5_27',\n",
       " 'http://orka.sejm.gov.pl/Glos10.nsf/dok?OpenAgent&7_15',\n",
       " 'http://orka.sejm.gov.pl/Glos10.nsf/dok?OpenAgent&9_26',\n",
       " 'http://orka.sejm.gov.pl/Glos10.nsf/dok?OpenAgent&1_108',\n",
       " 'http://orka.sejm.gov.pl/Glos10.nsf/dok?OpenAgent&1_133',\n",
       " 'http://orka.sejm.gov.pl/Glos10.nsf/dok?OpenAgent&1_92',\n",
       " 'http://orka.sejm.gov.pl/Glos10.nsf/dok?OpenAgent&5_1',\n",
       " 'http://orka.sejm.gov.pl/Glos10.nsf/dok?OpenAgent&5_19',\n",
       " 'http://orka.sejm.gov.pl/Glos10.nsf/dok?OpenAgent&6_2',\n",
       " 'http://orka.sejm.gov.pl/Glos10.nsf/dok?OpenAgent&1_125',\n",
       " 'http://orka.sejm.gov.pl/Glos10.nsf/dok?OpenAgent&1_27',\n",
       " 'http://orka.sejm.gov.pl/Glos10.nsf/dok?OpenAgent&1_144',\n",
       " 'http://orka.sejm.gov.pl/Glos10.nsf/dok?OpenAgent&1_47',\n",
       " 'http://orka.sejm.gov.pl/Glos10.nsf/dok?OpenAgent&9_10',\n",
       " 'http://orka.sejm.gov.pl/Glos10.nsf/dok?OpenAgent&5_13',\n",
       " 'http://orka.sejm.gov.pl/Glos10.nsf/dok?OpenAgent&3_1',\n",
       " 'http://orka.sejm.gov.pl/Glos10.nsf/dok?OpenAgent&1_62',\n",
       " 'http://orka.sejm.gov.pl/Glos10.nsf/dok?OpenAgent&1_83',\n",
       " 'http://orka.sejm.gov.pl/Glos10.nsf/dok?OpenAgent&3_3',\n",
       " 'http://orka.sejm.gov.pl/Glos10.nsf/dok?OpenAgent&1_68',\n",
       " 'http://orka.sejm.gov.pl/Glos10.nsf/dok?OpenAgent&6_13',\n",
       " 'http://orka.sejm.gov.pl/Glos10.nsf/dok?OpenAgent&1_141',\n",
       " 'http://orka.sejm.gov.pl/Glos10.nsf/dok?OpenAgent&9_4',\n",
       " 'http://orka.sejm.gov.pl/Glos10.nsf/dok?OpenAgent&7_1',\n",
       " 'http://orka.sejm.gov.pl/Glos10.nsf/dok?OpenAgent&1_66',\n",
       " 'http://orka.sejm.gov.pl/Glos10.nsf/dok?OpenAgent&1_78',\n",
       " 'http://orka.sejm.gov.pl/Glos10.nsf/dok?OpenAgent&2_17',\n",
       " 'http://orka.sejm.gov.pl/Glos10.nsf/dok?OpenAgent&5_6',\n",
       " 'http://orka.sejm.gov.pl/Glos10.nsf/dok?OpenAgent&9_37',\n",
       " 'http://orka.sejm.gov.pl/Glos10.nsf/dok?OpenAgent&1_25',\n",
       " 'http://orka.sejm.gov.pl/Glos10.nsf/dok?OpenAgent&1_20',\n",
       " 'http://orka.sejm.gov.pl/Glos10.nsf/dok?OpenAgent&9_21',\n",
       " 'http://orka.sejm.gov.pl/Glos10.nsf/dok?OpenAgent&9_35',\n",
       " 'http://orka.sejm.gov.pl/Glos10.nsf/dok?OpenAgent&1_21',\n",
       " 'http://orka.sejm.gov.pl/Glos10.nsf/dok?OpenAgent&1_34',\n",
       " 'http://orka.sejm.gov.pl/Glos10.nsf/dok?OpenAgent&2_20',\n",
       " 'http://orka.sejm.gov.pl/Glos10.nsf/dok?OpenAgent&1_52',\n",
       " 'http://orka.sejm.gov.pl/Glos10.nsf/dok?OpenAgent&1_113',\n",
       " 'http://orka.sejm.gov.pl/Glos10.nsf/dok?OpenAgent&1_107',\n",
       " 'http://orka.sejm.gov.pl/Glos10.nsf/dok?OpenAgent&1_145',\n",
       " 'http://orka.sejm.gov.pl/Glos10.nsf/dok?OpenAgent&1_49',\n",
       " 'http://orka.sejm.gov.pl/Glos10.nsf/dok?OpenAgent&2_8',\n",
       " 'http://orka.sejm.gov.pl/Glos10.nsf/dok?OpenAgent&6_6',\n",
       " 'http://orka.sejm.gov.pl/Glos10.nsf/dok?OpenAgent&1_140',\n",
       " 'http://orka.sejm.gov.pl/Glos10.nsf/dok?OpenAgent&1_37',\n",
       " 'http://orka.sejm.gov.pl/Glos10.nsf/dok?OpenAgent&1_79',\n",
       " 'http://orka.sejm.gov.pl/Glos10.nsf/dok?OpenAgent&9_23',\n",
       " 'http://orka.sejm.gov.pl/Glos10.nsf/dok?OpenAgent&1_89',\n",
       " 'http://orka.sejm.gov.pl/Glos10.nsf/dok?OpenAgent&5_5',\n",
       " 'http://orka.sejm.gov.pl/Glos10.nsf/dok?OpenAgent&1_127',\n",
       " 'http://orka.sejm.gov.pl/Glos10.nsf/dok?OpenAgent&1_35',\n",
       " 'http://orka.sejm.gov.pl/Glos10.nsf/dok?OpenAgent&9_32',\n",
       " 'http://orka.sejm.gov.pl/Glos10.nsf/dok?OpenAgent&7_8',\n",
       " 'http://orka.sejm.gov.pl/Glos10.nsf/dok?OpenAgent&1_10',\n",
       " 'http://orka.sejm.gov.pl/Glos10.nsf/dok?OpenAgent&7_7',\n",
       " 'http://orka.sejm.gov.pl/Glos10.nsf/dok?OpenAgent&1_1',\n",
       " 'http://orka.sejm.gov.pl/Glos10.nsf/dok?OpenAgent&5_28',\n",
       " 'http://orka.sejm.gov.pl/Glos10.nsf/dok?OpenAgent&1_91',\n",
       " 'http://orka.sejm.gov.pl/Glos10.nsf/dok?OpenAgent&1_67',\n",
       " 'http://orka.sejm.gov.pl/Glos10.nsf/dok?OpenAgent&7_3',\n",
       " 'http://orka.sejm.gov.pl/Glos10.nsf/dok?OpenAgent&4_5',\n",
       " 'http://orka.sejm.gov.pl/Glos10.nsf/dok?OpenAgent&2_9',\n",
       " 'http://orka.sejm.gov.pl/Glos10.nsf/dok?OpenAgent&1_100',\n",
       " 'http://orka.sejm.gov.pl/Glos10.nsf/dok?OpenAgent&8_19',\n",
       " 'http://orka.sejm.gov.pl/Glos10.nsf/dok?OpenAgent&1_102',\n",
       " 'http://orka.sejm.gov.pl/Glos10.nsf/dok?OpenAgent&8_13',\n",
       " 'http://orka.sejm.gov.pl/Glos10.nsf/dok?OpenAgent&5_8',\n",
       " 'http://orka.sejm.gov.pl/Glos10.nsf/dok?OpenAgent&5_7',\n",
       " 'http://orka.sejm.gov.pl/Glos10.nsf/dok?OpenAgent&2_11',\n",
       " 'http://orka.sejm.gov.pl/Glos10.nsf/dok?OpenAgent&7_17',\n",
       " 'http://orka.sejm.gov.pl/Glos10.nsf/dok?OpenAgent&5_23',\n",
       " 'http://orka.sejm.gov.pl/Glos10.nsf/dok?OpenAgent&1_56',\n",
       " 'http://orka.sejm.gov.pl/Glos10.nsf/dok?OpenAgent&7_20',\n",
       " 'http://orka.sejm.gov.pl/Glos10.nsf/dok?OpenAgent&9_13',\n",
       " 'http://orka.sejm.gov.pl/Glos10.nsf/dok?OpenAgent&9_40',\n",
       " 'http://orka.sejm.gov.pl/Glos10.nsf/dok?OpenAgent&1_45',\n",
       " 'http://orka.sejm.gov.pl/Glos10.nsf/dok?OpenAgent&8_8',\n",
       " 'http://orka.sejm.gov.pl/Glos10.nsf/dok?OpenAgent&3_11',\n",
       " 'http://orka.sejm.gov.pl/Glos10.nsf/dok?OpenAgent&7_19',\n",
       " 'http://orka.sejm.gov.pl/Glos10.nsf/dok?OpenAgent&1_85',\n",
       " 'http://orka.sejm.gov.pl/Glos10.nsf/dok?OpenAgent&8_1',\n",
       " 'http://orka.sejm.gov.pl/Glos10.nsf/dok?OpenAgent&1_61',\n",
       " 'http://orka.sejm.gov.pl/Glos10.nsf/dok?OpenAgent&1_23',\n",
       " 'http://orka.sejm.gov.pl/Glos10.nsf/dok?OpenAgent&1_44',\n",
       " 'http://orka.sejm.gov.pl/Glos10.nsf/dok?OpenAgent&5_17',\n",
       " 'http://orka.sejm.gov.pl/Glos10.nsf/dok?OpenAgent&2_15',\n",
       " 'http://orka.sejm.gov.pl/Glos10.nsf/dok?OpenAgent&9_18',\n",
       " 'http://orka.sejm.gov.pl/Glos10.nsf/dok?OpenAgent&1_138',\n",
       " 'http://orka.sejm.gov.pl/Glos10.nsf/dok?OpenAgent&7_22',\n",
       " 'http://orka.sejm.gov.pl/Glos10.nsf/dok?OpenAgent&7_4',\n",
       " 'http://orka.sejm.gov.pl/Glos10.nsf/dok?OpenAgent&8_18',\n",
       " 'http://orka.sejm.gov.pl/Glos10.nsf/dok?OpenAgent&2_28',\n",
       " 'http://orka.sejm.gov.pl/Glos10.nsf/dok?OpenAgent&9_14',\n",
       " 'http://orka.sejm.gov.pl/Glos10.nsf/dok?OpenAgent&1_82',\n",
       " 'http://orka.sejm.gov.pl/Glos10.nsf/dok?OpenAgent&1_96',\n",
       " 'http://orka.sejm.gov.pl/Glos10.nsf/dok?OpenAgent&1_64',\n",
       " 'http://orka.sejm.gov.pl/Glos10.nsf/dok?OpenAgent&9_29',\n",
       " 'http://orka.sejm.gov.pl/Glos10.nsf/dok?OpenAgent&3_5',\n",
       " 'http://orka.sejm.gov.pl/Glos10.nsf/dok?OpenAgent&1_116',\n",
       " 'http://orka.sejm.gov.pl/Glos10.nsf/dok?OpenAgent&1_58',\n",
       " 'http://orka.sejm.gov.pl/Glos10.nsf/dok?OpenAgent&5_26',\n",
       " 'http://orka.sejm.gov.pl/Glos10.nsf/dok?OpenAgent&1_33',\n",
       " 'http://orka.sejm.gov.pl/Glos10.nsf/dok?OpenAgent&9_30',\n",
       " 'http://orka.sejm.gov.pl/Glos10.nsf/dok?OpenAgent&1_13',\n",
       " 'http://orka.sejm.gov.pl/Glos10.nsf/dok?OpenAgent&1_124',\n",
       " 'http://orka.sejm.gov.pl/Glos10.nsf/dok?OpenAgent&8_21',\n",
       " 'http://orka.sejm.gov.pl/Glos10.nsf/dok?OpenAgent&1_112',\n",
       " 'http://orka.sejm.gov.pl/Glos10.nsf/dok?OpenAgent&1_22',\n",
       " 'http://orka.sejm.gov.pl/Glos10.nsf/dok?OpenAgent&1_43',\n",
       " 'http://orka.sejm.gov.pl/Glos10.nsf/dok?OpenAgent&3_14',\n",
       " 'http://orka.sejm.gov.pl/Glos10.nsf/dok?OpenAgent&9_8',\n",
       " 'http://orka.sejm.gov.pl/Glos10.nsf/dok?OpenAgent&1_75',\n",
       " 'http://orka.sejm.gov.pl/Glos10.nsf/dok?OpenAgent&9_39',\n",
       " 'http://orka.sejm.gov.pl/Glos10.nsf/dok?OpenAgent&2_25',\n",
       " 'http://orka.sejm.gov.pl/Glos10.nsf/dok?OpenAgent&9_9',\n",
       " 'http://orka.sejm.gov.pl/Glos10.nsf/dok?OpenAgent&6_12',\n",
       " 'http://orka.sejm.gov.pl/Glos10.nsf/dok?OpenAgent&7_2',\n",
       " 'http://orka.sejm.gov.pl/Glos10.nsf/dok?OpenAgent&2_13',\n",
       " 'http://orka.sejm.gov.pl/Glos10.nsf/dok?OpenAgent&1_99',\n",
       " 'http://orka.sejm.gov.pl/Glos10.nsf/dok?OpenAgent&1_14',\n",
       " 'http://orka.sejm.gov.pl/Glos10.nsf/dok?OpenAgent&8_7',\n",
       " 'http://orka.sejm.gov.pl/Glos10.nsf/dok?OpenAgent&1_11',\n",
       " 'http://orka.sejm.gov.pl/Glos10.nsf/dok?OpenAgent&1_123',\n",
       " 'http://orka.sejm.gov.pl/Glos10.nsf/dok?OpenAgent&6_19',\n",
       " 'http://orka.sejm.gov.pl/Glos10.nsf/dok?OpenAgent&1_53',\n",
       " 'http://orka.sejm.gov.pl/Glos10.nsf/dok?OpenAgent&1_105',\n",
       " 'http://orka.sejm.gov.pl/Glos10.nsf/dok?OpenAgent&6_15',\n",
       " 'http://orka.sejm.gov.pl/Glos10.nsf/dok?OpenAgent&9_31',\n",
       " 'http://orka.sejm.gov.pl/Glos10.nsf/dok?OpenAgent&1_15',\n",
       " 'http://orka.sejm.gov.pl/Glos10.nsf/dok?OpenAgent&1_50',\n",
       " 'http://orka.sejm.gov.pl/Glos10.nsf/dok?OpenAgent&6_16',\n",
       " 'http://orka.sejm.gov.pl/Glos10.nsf/dok?OpenAgent&9_15',\n",
       " 'http://orka.sejm.gov.pl/Glos10.nsf/dok?OpenAgent&3_9',\n",
       " 'http://orka.sejm.gov.pl/Glos10.nsf/dok?OpenAgent&1_109',\n",
       " 'http://orka.sejm.gov.pl/Glos10.nsf/dok?OpenAgent&1_130',\n",
       " 'http://orka.sejm.gov.pl/Glos10.nsf/dok?OpenAgent&1_63',\n",
       " 'http://orka.sejm.gov.pl/Glos10.nsf/dok?OpenAgent&8_11',\n",
       " 'http://orka.sejm.gov.pl/Glos10.nsf/dok?OpenAgent&3_2',\n",
       " 'http://orka.sejm.gov.pl/Glos10.nsf/dok?OpenAgent&8_16',\n",
       " 'http://orka.sejm.gov.pl/Glos10.nsf/dok?OpenAgent&1_106',\n",
       " 'http://orka.sejm.gov.pl/Glos10.nsf/dok?OpenAgent&7_11',\n",
       " 'http://orka.sejm.gov.pl/Glos10.nsf/dok?OpenAgent&2_2',\n",
       " 'http://orka.sejm.gov.pl/Glos10.nsf/dok?OpenAgent&8_6',\n",
       " 'http://orka.sejm.gov.pl/Glos10.nsf/dok?OpenAgent&1_26',\n",
       " 'http://orka.sejm.gov.pl/Glos10.nsf/dok?OpenAgent&9_5',\n",
       " 'http://orka.sejm.gov.pl/Glos10.nsf/dok?OpenAgent&5_16',\n",
       " 'http://orka.sejm.gov.pl/Glos10.nsf/dok?OpenAgent&1_39',\n",
       " 'http://orka.sejm.gov.pl/Glos10.nsf/dok?OpenAgent&1_51',\n",
       " 'http://orka.sejm.gov.pl/Glos10.nsf/dok?OpenAgent&8_2',\n",
       " 'http://orka.sejm.gov.pl/Glos10.nsf/dok?OpenAgent&3_13',\n",
       " 'http://orka.sejm.gov.pl/Glos10.nsf/dok?OpenAgent&1_101',\n",
       " 'http://orka.sejm.gov.pl/Glos10.nsf/dok?OpenAgent&1_95',\n",
       " 'http://orka.sejm.gov.pl/Glos10.nsf/dok?OpenAgent&5_12',\n",
       " 'http://orka.sejm.gov.pl/Glos10.nsf/dok?OpenAgent&2_16',\n",
       " 'http://orka.sejm.gov.pl/Glos10.nsf/dok?OpenAgent&1_90',\n",
       " 'http://orka.sejm.gov.pl/Glos10.nsf/dok?OpenAgent&1_139',\n",
       " 'http://orka.sejm.gov.pl/Glos10.nsf/dok?OpenAgent&5_10',\n",
       " 'http://orka.sejm.gov.pl/Glos10.nsf/dok?OpenAgent&1_69',\n",
       " 'http://orka.sejm.gov.pl/Glos10.nsf/dok?OpenAgent&5_15',\n",
       " 'http://orka.sejm.gov.pl/Glos10.nsf/dok?OpenAgent&4_4',\n",
       " 'http://orka.sejm.gov.pl/Glos10.nsf/dok?OpenAgent&9_1',\n",
       " 'http://orka.sejm.gov.pl/Glos10.nsf/dok?OpenAgent&5_2',\n",
       " 'http://orka.sejm.gov.pl/Glos10.nsf/dok?OpenAgent&1_71',\n",
       " 'http://orka.sejm.gov.pl/Glos10.nsf/dok?OpenAgent&1_24',\n",
       " 'http://orka.sejm.gov.pl/Glos10.nsf/dok?OpenAgent&1_131',\n",
       " 'http://orka.sejm.gov.pl/Glos10.nsf/dok?OpenAgent&4_7']"
      ]
     },
     "execution_count": 63,
     "metadata": {},
     "output_type": "execute_result"
    }
   ],
   "source": [
    "vote_results_links"
   ]
  },
  {
   "cell_type": "code",
   "execution_count": 61,
   "id": "90da2d3a",
   "metadata": {
    "scrolled": true
   },
   "outputs": [
    {
     "name": "stderr",
     "output_type": "stream",
     "text": [
      " 12%|█████████▎                                                                   | 859/7101 [15:32<1:35:16,  1.09it/s]"
     ]
    },
    {
     "name": "stdout",
     "output_type": "stream",
     "text": [
      "http://orka.sejm.gov.pl/Glos9.nsf/dok?OpenAgent&61_141\n"
     ]
    },
    {
     "name": "stderr",
     "output_type": "stream",
     "text": [
      " 53%|███████████████████████████████████████▏                                  | 3759/7101 [1:33:51<1:17:10,  1.39s/it]"
     ]
    },
    {
     "name": "stdout",
     "output_type": "stream",
     "text": [
      "http://orka.sejm.gov.pl/Glos9.nsf/dok?OpenAgent&31_18\n"
     ]
    },
    {
     "name": "stderr",
     "output_type": "stream",
     "text": [
      " 63%|██████████████████████████████████████████████▍                           | 4454/7101 [1:59:04<1:23:59,  1.90s/it]"
     ]
    },
    {
     "name": "stdout",
     "output_type": "stream",
     "text": [
      "http://orka.sejm.gov.pl/Glos9.nsf/dok?OpenAgent&34_1\n"
     ]
    },
    {
     "name": "stderr",
     "output_type": "stream",
     "text": [
      " 75%|█████████████████████████████████████████████████████████▎                  | 5358/7101 [2:34:01<52:00,  1.79s/it]"
     ]
    },
    {
     "name": "stdout",
     "output_type": "stream",
     "text": [
      "http://orka.sejm.gov.pl/Glos9.nsf/dok?OpenAgent&1_53\n"
     ]
    },
    {
     "name": "stderr",
     "output_type": "stream",
     "text": [
      "100%|████████████████████████████████████████████████████████████████████████████| 7101/7101 [3:53:17<00:00,  1.97s/it]\n"
     ]
    }
   ],
   "source": [
    "# df = pd.DataFrame()\n",
    "\n",
    "headers={'User-Agent': 'Chrome/35.0.1916.47'}\n",
    "# headers = { 'User-Agent': 'Mozilla/5.0 (Windows NT 6.0; WOW64; rv:24.0) Gecko/20100101 Firefox/24.0' }\n",
    "\n",
    "for pdf_url in tqdm(vote_results_links):\n",
    "#     print(pdf_url)\n",
    "    response = requests.get(url=pdf_url, headers=headers, timeout=120)\n",
    "    on_fly_mem_obj = BytesIO(response.content)\n",
    "    doc = fitz.open(stream=on_fly_mem_obj, filetype=\"pdf\")\n",
    "    \n",
    "    all_text = \"\"\n",
    "    for page in doc:\n",
    "        all_text += '\\n' + page.get_text()\n",
    "\n",
    "    parties = re.findall(\"\\n\\w*.*\\(\\d+\\)\", all_text)\n",
    "    if pdf_url == vote_results_links[2287]:\n",
    "        parties.remove('\\n(11)')\n",
    "    clean_parties = [re.sub(\"\\n\", '', party) for party in parties]\n",
    "    clean_parties = [re.sub(\"\\(\\d+\\)\", '', party).strip() for party in clean_parties]\n",
    "\n",
    "    pattern = re.compile(\"\\(\\d+\\)\")\n",
    "    deputies_per_club = [int(pattern.search(party).group(0)[1:-1]) for party in parties]\n",
    "\n",
    "    xs = re.split(\"\\n\\w+.+\\(\\d+\\)\", all_text)\n",
    "    \n",
    "    # for the sake of my mental health I decided to ignore votings like:\n",
    "    # https://orka.sejm.gov.pl/Glos9.nsf/nazwa/47_126/$file/Glos_47_126.pdf\n",
    "    # because they have much different structure than 'normal' votings\n",
    "    # and I have much better things to do\n",
    "    if 'posiedzenie' not in xs[0].lower():\n",
    "        print(pdf_url)\n",
    "        continue\n",
    "\n",
    "    posiedzenie_id = re.findall(\"posiedzenie \\d+\", xs[0].lower())[0]\n",
    "    glosowanie_id = re.findall(\"sowanie nr \\d+\", xs[0])[0]\n",
    "    data_time = re.findall(\"\\d+.\\d+.\\d+\\s\\d+:\\d+:\\d+\", xs[0])[0]\n",
    "    posiedzenie_id = re.findall(\"\\d+\", posiedzenie_id)[0]\n",
    "    glosowanie_id = re.findall(\"\\d+\", glosowanie_id)[0]\n",
    "\n",
    "    for i in range(1, len(xs)):\n",
    "        x = xs[i]\n",
    "        x = re.sub(\"\\n[\\s\\w.]+\\s*-\\s*\\d+\", '', x)\n",
    "#         x = re.sub(r\"\\n\\bPosiedzenie\\b.+\\n\", '', x)\n",
    "#         x = re.sub(r\"\\n\\bPosiedzenie\\b.+\\n.*\\bStrona.*\\n\", '', x)\n",
    "\n",
    "        names = re.split(\"[za|pr\\.|ng\\.|ws\\.]+\", x)\n",
    "        clean_names = []\n",
    "        for name in names:\n",
    "            name = re.sub(\"[\\n\\d]\", '', name)\n",
    "            name = re.sub(\"  \", ' ', name)\n",
    "            name = name.strip()\n",
    "            if len(name) > 0:\n",
    "                clean_names.append(name)\n",
    "\n",
    "        votes = re.findall(\"[za|pr\\.|ng\\.|ws\\.]+\", x)\n",
    "\n",
    "        party = [clean_parties[i - 1]] * deputies_per_club[i - 1]\n",
    "\n",
    "        df_sub = pd.DataFrame({\n",
    "                'kadencja': k,\n",
    "                'posiedzenie': posiedzenie_id,\n",
    "                'numer': glosowanie_id,\n",
    "                'data_godzina': data_time,\n",
    "                'NazwiskoImie': clean_names[0:deputies_per_club[i - 1]], \n",
    "                'Glos': votes[0:deputies_per_club[i - 1]],\n",
    "                'Klub': party\n",
    "        })\n",
    "\n",
    "        df = pd.concat([df, df_sub], ignore_index=True)\n",
    "        \n",
    "    if pdf_url == vote_results_links[2287]:\n",
    "        party = ['Konfederacja'] * 11\n",
    "        clean_names = ['KORWIN-MIKKE JANUSZ', 'BRAUN GRZEGORZ', 'TUDUJ KRZYSZTOF', 'KULESZA JAKUB', \n",
    "                       'SOŚNIERZ DOBROMIR', 'DZIAMBOR ARTUR', 'URBANIAK MICHAŁ', 'WINNICKI ROBERT', \n",
    "                       'BOSAK KRZYSZTOF', 'KAMIŃSKI KRYSTIAN',  'BERKOWICZ KONRAD']\n",
    "        votes = ['za', 'pr.', 'ws.', 'ng.', 'za', 'pr.', 'ws.', 'ng.', 'pr.', 'ws.', 'ng']\n",
    "        df_sub = pd.DataFrame({\n",
    "                'kadencja': k,\n",
    "                'posiedzenie': posiedzenie_id,\n",
    "                'numer': glosowanie_id,\n",
    "                'data_godzina': data_time,\n",
    "                'NazwiskoImie': clean_names, \n",
    "                'Glos': votes,\n",
    "                'Klub': party\n",
    "        })\n",
    "        df = pd.concat([df, df_sub], ignore_index=True)"
   ]
  },
  {
   "cell_type": "code",
   "execution_count": 13,
   "id": "47ff5e0d",
   "metadata": {},
   "outputs": [],
   "source": [
    "df2 = df.astype({\n",
    "                'kadencja': 'int32',\n",
    "                'posiedzenie': 'int32',\n",
    "                'numer': 'int32',\n",
    "                })\n",
    "\n",
    "df2['data_godzina'] = pd.to_datetime(df['data_godzina'], format='mixed')\n",
    "\n",
    "df2['vote_id'] = df2['kadencja'] * 10**6 + df2['posiedzenie'] * 10**3 + df2['numer']"
   ]
  },
  {
   "cell_type": "code",
   "execution_count": 76,
   "id": "7b41f9a7",
   "metadata": {},
   "outputs": [
    {
     "data": {
      "text/plain": [
       "9383"
      ]
     },
     "execution_count": 76,
     "metadata": {},
     "output_type": "execute_result"
    }
   ],
   "source": [
    "df2['vote_id'].unique().size"
   ]
  },
  {
   "cell_type": "code",
   "execution_count": 89,
   "id": "07803e61",
   "metadata": {},
   "outputs": [
    {
     "data": {
      "text/plain": [
       "array(['PiS', 'KO', 'Lewica', 'PSL-Kukiz15', 'Konfederacja', 'niez.',\n",
       "       'KP', 'Polska2050', 'Porozumienie', 'Kukiz15', 'LD', 'PS',\n",
       "       'Wolnościowcy', 'PPS', 'SLD', 'PSL', 'WP'], dtype=object)"
      ]
     },
     "execution_count": 89,
     "metadata": {},
     "output_type": "execute_result"
    }
   ],
   "source": [
    "df2['Klub'].unique()"
   ]
  },
  {
   "cell_type": "code",
   "execution_count": 86,
   "id": "7d4d701f",
   "metadata": {},
   "outputs": [],
   "source": [
    "to_drop = df2[df2['vote_id'] == 9063060].index"
   ]
  },
  {
   "cell_type": "code",
   "execution_count": 87,
   "id": "a1532cd8",
   "metadata": {},
   "outputs": [],
   "source": [
    "df2 = df2.drop(to_drop)"
   ]
  },
  {
   "cell_type": "code",
   "execution_count": 91,
   "id": "3f10f5d6",
   "metadata": {},
   "outputs": [
    {
     "data": {
      "text/plain": [
       "array(['ADAMCZYK ANDRZEJ', 'GOŁOJUCH KAZIMIERZ', 'MACIEREWICZ ANTONI',\n",
       "       'SOIN AGNIESZKA', 'ANDRUSZKIEWICZ ADAM', 'GONCIARZ JAROSŁAW',\n",
       "       'MAKSYMOWICZ WOJCIECH', 'SOŚNIERZ ANDRZEJ', 'ANDZEL WALDEMAR',\n",
       "       'GONTARZ ROBERT', 'MALĄG MARLENA MAGDALENA', 'SÓJKA KATARZYNA',\n",
       "       'ARDANOWSKI JAN KRZYSZTOF', 'GOSEK MARIUSZ', 'MALIK EWA',\n",
       "       'SROKA MAGDALENA', 'ARENT IWONA', 'GOSIEWSKA MAŁGORZATA',\n",
       "       'MAŁECKI JERZY', 'STACHOWIAK-RÓŻECKA MIROSŁAWA', 'AST MAREK',\n",
       "       'GOWIN JAROSŁAW', 'MAŁECKI MACIEJ', 'STEFANIUK DARIUSZ',\n",
       "       'BABALSKI ZBIGNIEW', 'GÓRSKA AGNIESZKA', 'MASŁOWSKA GABRIELA',\n",
       "       'STRZAŁKA BEATA', 'BABINETZ PIOTR', 'GÓRSKI MACIEJ',\n",
       "       'MATERNA JERZY', 'SUSKI MAREK', 'BARTOSIK RYSZARD',\n",
       "       'GRÓBARCZYK MAREK', 'MATEUSIAK-PIELUCHA BEATA', 'SZAŁABAWKA ARTUR',\n",
       "       'BARTUŚ BARBARA', 'GUT-MOSTOWY ANDRZEJ', 'MATUSIAK GRZEGORZ',\n",
       "       'SZARAMA WOJCIECH', 'BASZKO MIECZYSŁAW', 'GWIAZDOWSKI KAZIMIERZ',\n",
       "       'MATUSZEWSKI MAREK', 'SZCZUDŁO ALEKSANDRA', 'BĄK DARIUSZ',\n",
       "       'GWÓŹDŹ MARCIN', 'MATUSZNY KAZIMIERZ', 'SZCZUREK-ŻELAZKO JÓZEFA',\n",
       "       'BIELECKI JERZY', 'HAŁAS TERESA', 'MICHAŁEK IWONA',\n",
       "       'SZEFERNAKER PAWEŁ', 'BŁASZCZAK MARIUSZ', 'HOC CZESŁAW',\n",
       "       'MILCZANOWSKA ANNA', 'SZLACHTA ANDRZEJ', 'BOCHENEK RAFAŁ',\n",
       "       'HOFFMANN ZBIGNIEW GRZEGORZ', 'MILEWSKI DANIEL',\n",
       "       'SZULOWSKI KRZYSZTOF', 'BOROWIAK JOANNA', 'HORAŁA MARCIN',\n",
       "       'MORAWIECKI MATEUSZ', 'SZWED STANISŁAW', 'BORTNICZUK KAMIL',\n",
       "       'HRENIAK PAWEŁ', 'MOSIŃSKI JAN', 'SZYMAŃSKA EWA',\n",
       "       'BORYS-SZOPA BOŻENA', 'JACH MICHAŁ', 'MOSKAL KAZIMIERZ',\n",
       "       'SZYNKOWSKI VEL SĘK SZYMON', 'BUDA WALDEMAR', 'JANCZYK WIESŁAW',\n",
       "       'MRÓWCZYŃSKI ALEKSANDER', 'ŚNIADEK JANUSZ', 'BUKOWIEC STANISŁAW',\n",
       "       'JANOWSKA MAŁGORZATA', 'MULARCZYK ARKADIUSZ', 'ŚNIEŻEK ADAM',\n",
       "       'BURZYŃSKA LIDIA', 'KACZMARCZYK NORBERT', 'MURDZEK WOJCIECH',\n",
       "       'ŚWIAT JACEK', 'CHMIELOWIEC ZBIGNIEW', 'KACZYŃSKI FILIP',\n",
       "       'MÜLLER PIOTR', 'TCHÓRZEWSKI KRZYSZTOF', 'CHOMA KAZIMIERZ',\n",
       "       'KACZYŃSKI JAROSŁAW', 'NOWICKA DANUTA', 'TELUS ROBERT',\n",
       "       'CHOROSIŃSKA DOMINIKA', 'KALETA PIOTR', 'OCIEPA MARCIN',\n",
       "       'TERLECKI RYSZARD', 'CHRZAN TADEUSZ', 'KALETA SEBASTIAN',\n",
       "       'OLEJNICZAK WALDEMAR', 'TOMASZEWSKI WŁODZIMIERZ',\n",
       "       'CICHOLSKA ANNA EWA', 'KAŁUŻNY MARIUSZ', 'OLSZEWSKI DARIUSZ',\n",
       "       'TREPKA MARIUSZ', 'CIEŚLAK MICHAŁ', 'KAMIŃSKI MARIUSZ',\n",
       "       'OSUCH JACEK', 'TUŁAJEW SYLWESTER', 'CYMAŃSKI TADEUSZ',\n",
       "       'KANTHAK JAN', 'OZDOBA JACEK', 'URUSKI PIOTR',\n",
       "       'CZARNECKI KRZYSZTOF', 'KAPINOS FRYDERYK', 'PALUCH ANNA',\n",
       "       'UŚCIŃSKI PIOTR', 'CZARNECKI PRZEMYSŁAW', 'KOŁAKOWSKI LECH',\n",
       "       'PAMUŁA TERESA', 'WARCHOŁ MARCIN', 'CZARNECKI WITOLD',\n",
       "       'KOSSAKOWSKI WOJCIECH', 'PAUL JERZY', 'WARGOCKA TERESA',\n",
       "       'CZARNEK PRZEMYSŁAW', 'KOSZTOWNIAK ANDRZEJ', 'PIECHA BOLESŁAW',\n",
       "       'WARWAS ROBERT', 'CZARTORYSKI ARKADIUSZ', 'KOWALCZYK HENRYK',\n",
       "       'PIECHOWIAK GRZEGORZ', 'WARZECHA JAN', 'CZERWIŃSKA ANITA',\n",
       "       'KOWALSKI JANUSZ', 'PIECZARKA ANNA', 'WASSERMANN MAŁGORZATA',\n",
       "       'CZOCHARA KATARZYNA', 'KOWNACKI BARTOSZ', 'PIONTKOWSKI DARIUSZ',\n",
       "       'WĄSIK MACIEJ', 'DĄBROWSKA-BANASZEK ANNA', 'KOZANECKA EWA',\n",
       "       'PŁAŻYŃSKI KACPER', 'WEBER RAFAŁ', 'DOBRZYŃSKI LESZEK',\n",
       "       'KOZIK KRZYSZTOF JANUSZ', 'PŁONKA ELŻBIETA', 'WESOŁY MAREK',\n",
       "       'DOLATA ZBIGNIEW', 'KRAJEWSKI JAROSŁAW', 'POLACZEK JERZY',\n",
       "       'WICHER PATRYK', 'DORYWALSKI BARTŁOMIEJ', 'KRAJEWSKI WIESŁAW',\n",
       "       'POLAK MAREK', 'WILK JERZY', 'DRABEK PRZEMYSŁAW',\n",
       "       'KRASULSKI LEONARD', 'POLAK PIOTR', 'WITEK ELŻBIETA',\n",
       "       'DUDA ELŻBIETA', 'KRÓL PIOTR', 'POROWSKA VIOLETTA',\n",
       "       'WOJCIECHOWSKI GRZEGORZ', 'DUDA JAN', 'KRUPKA ANNA',\n",
       "       'PORZUCEK MARCIN', 'WOJTYSZEK AGATA KATARZYNA', 'DUSZEK MARCIN',\n",
       "       'KRYJ ANDRZEJ', 'PUDA GRZEGORZ', 'WOŚ MICHAŁ', 'DWORCZYK MICHAŁ',\n",
       "       'KUBIAK MARTA', 'RAU ZBIGNIEW', 'WOŹNIAK GRZEGORZ ADAM',\n",
       "       'DZIEDZICZAK JAN', 'KUBÓW KRZYSZTOF', 'RUSECKA URSZULA',\n",
       "       'WOŹNIAK TADEUSZ', 'DZIUK BARBARA', 'KUCHCIŃSKI MAREK',\n",
       "       'RYCHLIK PAWEŁ', 'WÓJCIK MICHAŁ', 'EMILEWICZ JADWIGA',\n",
       "       'KUROWSKA MARIA', 'RZYMKOWSKI TOMASZ', 'WRÓBLEWSKI BARTŁOMIEJ',\n",
       "       'FILIPIAK EWA', 'KUROWSKI WŁADYSŁAW', 'SAK PIOTR', 'WYPIJ MICHAŁ',\n",
       "       'FOGIEL RADOSŁAW', 'KURZĘPA JACEK', 'SASIN JACEK',\n",
       "       'ZAGÓRSKI MAREK', 'GALEMBA LESZEK', 'KWIECIEŃ ANNA',\n",
       "       'SCHMIDT-RODZIEWICZ ANNA', 'ZAWIŚLAK SŁAWOMIR', 'GAWĘDA ADAM',\n",
       "       'KWITEK MAREK', 'SCHREIBER ŁUKASZ', 'ZIELIŃSKI JAROSŁAW',\n",
       "       'GAWRON ANDRZEJ', 'LATOS TOMASZ', 'SELLIN JAROSŁAW',\n",
       "       'ZIELIŃSKI TOMASZ', 'GAŻA GRZEGORZ', 'LICHOCKA JOANNA',\n",
       "       'SIARKA EDWARD', 'ZIOBRO ZBIGNIEW', 'GEMBICKA ANNA',\n",
       "       'LIPIEC KRZYSZTOF', 'SIARKOWSKA ANNA MARIA', 'ZUBOWSKI WOJCIECH',\n",
       "       'GIRZYŃSKI ZBIGNIEW', 'LIPIŃSKI ADAM', 'SIPIERA ZDZISŁAW',\n",
       "       'ZYSKA IRENEUSZ', 'GIŻYŃSKI SZYMON', 'LISIECKI PAWEŁ',\n",
       "       'SKWAREK SŁAWOMIR', 'ŻALEK JACEK', 'GLENC TERESA',\n",
       "       'LOREK GRZEGORZ', 'SMOLIŃSKI KAZIMIERZ', 'SZUMOWSKI ŁUKASZ',\n",
       "       'GLIŃSKI PIOTR', 'ŁAWNICZAK TOMASZ', 'SOBOLEWSKI KRZYSZTOF',\n",
       "       'WAWRZYK PIOTR', 'GOLIŃSKA MAŁGORZATA', 'MACHAŁEK MARZENA',\n",
       "       'SOBOŃ ARTUR', 'ADAMOWICZ PIOTR', 'HARDIE-DOUGLAS JERZY',\n",
       "       'MYRCHA ARKADIUSZ', 'SŁUGOCKI WALDEMAR', 'ANIŚKO TOMASZ',\n",
       "       'HARTWICH IWONA', 'NAPIERALSKI GRZEGORZ', 'SONIK BOGUSŁAW',\n",
       "       'AUGUSTYN URSZULA', 'HENNIG-KLOSKA PAULINA', 'NEUMANN SŁAWOMIR',\n",
       "       'SOWA MAREK', 'AZIEWICZ TADEUSZ', 'HOK MAREK', 'NIEDZIELA DOROTA',\n",
       "       'STERCZEWSKI FRANCISZEK', 'BOCHENEK MATEUSZ', 'JACHIRA KLAUDIA',\n",
       "       'NIEMCZYK MAŁGORZATA', 'SUCHOŃ MIROSŁAW', 'BOROWCZAK JERZY',\n",
       "       'JANYSKA MARIA MAŁGORZATA', 'NITRAS SŁAWOMIR', 'SZCZERBA MICHAŁ',\n",
       "       'BORYS PIOTR', 'JAROS MICHAŁ', 'NOWACKA BARBARA',\n",
       "       'SZEWIŃSKI ANDRZEJ', 'BUDKA BORYS', 'JAŚKOWIAK JOANNA',\n",
       "       'NOWAK TOMASZ PIOTR', 'SZŁAPKA ADAM', 'CHMIEL MAŁGORZATA',\n",
       "       'JOŃSKI DARIUSZ', 'NYKIEL MIROSŁAWA', 'SZUMILAS KRYSTYNA',\n",
       "       'CICHOŃ JANUSZ', 'KIDAWA-BŁOŃSKA MAŁGORZATA',\n",
       "       'OKŁA-DREWNOWICZ MARZENA', 'SZYMAŃSKI TOMASZ', 'CYRAŃSKI ADAM',\n",
       "       'KIERWIŃSKI MARCIN', 'OLICHWER TOMASZ',\n",
       "       'ŚLEDZIŃSKA-KATARASIŃSKA IWONA', 'CZERNOW ZOFIA',\n",
       "       'KLUZIK-ROSTKOWSKA JOANNA', 'OLSZEWSKI PAWEŁ', 'TOMCZYK CEZARY',\n",
       "       'CZYKWIN EUGENIUSZ', 'KOŁODZIEJ EWA', 'OSOS KATARZYNA',\n",
       "       'TRACZ MAŁGORZATA', 'DOLNIAK BARBARA', 'KONWIŃSKI ZBIGNIEW',\n",
       "       'PAPKE PAWEŁ', 'TRUSKOLASKI KRZYSZTOF', 'DZIKOWSKI WALDY',\n",
       "       'KOSTUŚ TOMASZ', 'PĘPEK MAŁGORZATA', 'TYSZKIEWICZ ROBERT',\n",
       "       'FABISIAK JOANNA', 'KOWAL PAWEŁ', 'PIĄTKOWSKI KRZYSZTOF',\n",
       "       'URBANIAK JAROSŁAW', 'FILIKS MAGDALENA', 'KOZŁOWSKA IWONA MARIA',\n",
       "       'PIECHOTA SŁAWOMIR JAN', 'WAŁĘSA JAROSŁAW', 'FRYDRYCH JOANNA',\n",
       "       'KRAWCZYK MICHAŁ', 'PIEKARSKA KATARZYNA MARIA', 'WASILEWSKA ANNA',\n",
       "       'FRYSZTAK KONRAD', 'KROPIWNICKI ROBERT', 'PLOCKE KAZIMIERZ',\n",
       "       'WCISŁO MARTA', 'GADOWSKI KRZYSZTOF', 'KRÓL WOJCIECH',\n",
       "       'POMASKA AGNIESZKA', 'WIELICHOWSKA MONIKA', 'GAJEWSKA ALEKSANDRA',\n",
       "       'KRZĄKAŁA MAREK', 'PONCYLJUSZ PAWEŁ', 'WILCZYŃSKI RYSZARD',\n",
       "       'GAJEWSKA KINGA', 'KRZYWONOS-STRYCHARSKA HENRYKA', 'PROTAS JACEK',\n",
       "       'WITCZAK MARIUSZ', 'GAPIŃSKA ELŻBIETA', 'LASEK MACIEJ',\n",
       "       'RAŚ IRENEUSZ', 'ZALEWSKI PAWEŁ', 'GASIUK-PIHOWICZ KAMILA',\n",
       "       'LENARTOWICZ GABRIELA', 'ROSA MONIKA', 'ZEMBACZYŃSKI WITOLD',\n",
       "       'GELERT ELŻBIETA', 'LESZCZYNA IZABELA', 'ROSATI DARIUSZ',\n",
       "       'ZIELIŃSKA URSZULA', 'GŁOGOWSKI TOMASZ', 'ŁĄCKI ARTUR',\n",
       "       'RUSIECKI GRZEGORZ', 'ZIENTARSKI PIOTR BENEDYKT', 'GOLBIK MARTA',\n",
       "       'ŁOŚKO MAGDALENA', 'RUTNICKI JAKUB', 'ZIMOCH TOMASZ',\n",
       "       'GRABARCZYK CEZARY', 'MARCHEWKA ARKADIUSZ', 'RZĄSA MAREK',\n",
       "       'ZWIEFKA TADEUSZ', 'GRABCZUK KRZYSZTOF',\n",
       "       'MARCZUŁAJTIS-WALCZAK JAGNA', 'SAŁUGA WOJCIECH', 'LENZ TOMASZ',\n",
       "       'GRABIEC JAN', 'MIESZKOWSKI KRZYSZTOF', 'SCHETYNA GRZEGORZ',\n",
       "       'LUBNAUER KATARZYNA', 'GRAMATYKA MICHAŁ', 'MILLER RAJMUND',\n",
       "       'SIBIŃSKA KRYSTYNA', 'MRZYGŁOCKA IZABELA KATARZYNA',\n",
       "       'GRUPIŃSKI RAFAŁ', 'MISZALSKI ALEKSANDER', 'SIEMONIAK TOMASZ',\n",
       "       'MUCHA JOANNA', 'HAIDAR RIAD', 'MROCZEK CZESŁAW',\n",
       "       'SIENKIEWICZ BARTŁOMIEJ', 'HANAJCZYK AGNIESZKA', 'MUNYAMA KILLION',\n",
       "       'SKOWROŃSKA KRYSTYNA', 'AJCHLER ROMUALD', 'IWANIAK ARKADIUSZ',\n",
       "       'OBAZ ROBERT', 'ŚMISZEK KRZYSZTOF', 'ADAMCZYK RAFAŁ',\n",
       "       'KONIECZNY MACIEJ', 'PAWLICZAK KAROLINA', 'TOMASZEWSKI TADEUSZ',\n",
       "       'BIEJAT MAGDALENA', 'KOPERSKI PRZEMYSŁAW', 'PAWŁOWSKA MONIKA',\n",
       "       'TRELA TOMASZ', 'BUŻ WIESŁAW', 'KOPIEC MACIEJ',\n",
       "       'PROKOP-PACZKOWSKA MAŁGORZATA', 'UEBERHAN KATARZYNA',\n",
       "       'CZARZASTY WŁODZIMIERZ', 'KOTULA KATARZYNA', 'ROZENEK ANDRZEJ',\n",
       "       'WIECZOREK DARIUSZ', 'CZERNIAK JACEK', 'KRETKOWSKA KATARZYNA',\n",
       "       'RUTKA MAREK', 'WOLSKI ZDZISŁAW', 'DYDUCH MAREK', 'KRUTUL PAWEŁ',\n",
       "       'SCHEURING-WIELGUS JOANNA', 'WONTOR BOGUSŁAW',\n",
       "       'DZIEMIANOWICZ-BĄK AGNIESZKA', 'KUCHARSKA-DZIEDZIC ANITA',\n",
       "       'SEKUŁA-SZMAJDZIŃSKA MAŁGORZATA', 'ZANDBERG ADRIAN',\n",
       "       'FALEJ MONIKA', 'KULASEK MARCIN', 'SENYSZYN JOANNA',\n",
       "       'ZAWISZA MARCELINA', 'GAWKOWSKI KRZYSZTOF', 'KWIATKOWSKI ROBERT',\n",
       "       'SOWIŃSKA ANITA', 'ŻUKOWSKA ANNA MARIA', 'GDULA MACIEJ',\n",
       "       'MACIEJEWSKA BEATA', 'SZCZEPAŃSKI WIESŁAW', 'GILL-PIĄTEK HANNA',\n",
       "       'MATYSIAK PAULINA', 'SZEJNA ANDRZEJ', 'GOSEK-POPIOŁEK DARIA',\n",
       "       'NOWICKA WANDA', 'SZOPIŃSKI JAN', 'BARTOSZEWSKI WŁADYSŁAW TEOFIL',\n",
       "       'KRAJEWSKI STEFAN', 'PASZYK KRZYSZTOF', 'TYSZKA STANISŁAW',\n",
       "       'BEJDA PAWEŁ', 'KUKIZ PAWEŁ', 'PROTASIEWICZ JACEK',\n",
       "       'ZGORZELSKI PIOTR', 'BIERNACKI MAREK', 'KURZAWA DARIUSZ',\n",
       "       'RZEPA JAROSŁAW', 'ZIEJEWSKI ZBIGNIEW', 'FEDAK JOLANTA',\n",
       "       'LUBCZYK RADOSŁAW', 'SACHAJKO JAROSŁAW', 'ŻELAZOWSKA BOŻENA',\n",
       "       'GRZYB ANDRZEJ', 'ŁOPATA JAN', 'SIEKIERSKI CZESŁAW',\n",
       "       'ŻUK STANISŁAW', 'KASPRZAK MIECZYSŁAW', 'MALISZEWSKI MIROSŁAW',\n",
       "       'SZRAMKA PAWEŁ', 'SAWICKI MAREK', 'KLIMCZAK DARIUSZ',\n",
       "       'NOWOGÓRSKA URSZULA', 'ŚCIGAJ AGNIESZKA',\n",
       "       'KOSINIAK-KAMYSZ WŁADYSŁAW', 'PASŁAWSKA URSZULA', 'TOMCZAK JACEK',\n",
       "       'BERKOWICZ KONRAD', 'KAMIŃSKI KRYSTIAN', 'SOŚNIERZ DOBROMIR',\n",
       "       'WINNICKI ROBERT', 'BRAUN GRZEGORZ', 'KORWIN-MIKKE JANUSZ',\n",
       "       'TUDUJ KRZYSZTOF', 'BOSAK KRZYSZTOF', 'DZIAMBOR ARTUR',\n",
       "       'KULESZA JAKUB', 'URBANIAK MICHAŁ', 'GALLA RYSZARD',\n",
       "       'GŁUCHOWSKI KRZYSZTOF', 'KOWALCZYK LESZEK', 'ŁAPIAK ALEKSANDRA',\n",
       "       'OŁDAKOWSKI ADAM', 'POGODA SZYMON', 'ROMANOWSKI RAFAŁ',\n",
       "       'SCHMIDT ANNA', 'ZIELIŃSKA ELŻBIETA', 'WOJCIECHOWSKA ANNA',\n",
       "       'AJCHLER ZBIGNIEW', 'MEJZA ŁUKASZ', 'KUROWSKA IWONA',\n",
       "       'ŻMIJAN STANISŁAW', 'TARCZYŃSKI DOMINIK', 'DAJCZAK WŁADYSŁAW',\n",
       "       'LENIART EWA', 'OPIOŁA MAREK'], dtype=object)"
      ]
     },
     "execution_count": 91,
     "metadata": {},
     "output_type": "execute_result"
    }
   ],
   "source": [
    "df2['NazwiskoImie'].unique()"
   ]
  },
  {
   "cell_type": "code",
   "execution_count": 93,
   "id": "86868587",
   "metadata": {},
   "outputs": [],
   "source": [
    "df2 = df2.reset_index(drop=True)"
   ]
  },
  {
   "cell_type": "code",
   "execution_count": 96,
   "id": "88eb5d73",
   "metadata": {},
   "outputs": [],
   "source": [
    "df2 = df2.sort_values('vote_id')"
   ]
  },
  {
   "cell_type": "code",
   "execution_count": 98,
   "id": "ea1a9fdf",
   "metadata": {},
   "outputs": [],
   "source": [
    "df2.to_csv(f'scraped_data/kadencja_{k}.csv', index=False)"
   ]
  },
  {
   "cell_type": "markdown",
   "id": "9cff3374",
   "metadata": {},
   "source": [
    "# term 10"
   ]
  },
  {
   "cell_type": "code",
   "execution_count": 64,
   "id": "54ca2acb",
   "metadata": {},
   "outputs": [],
   "source": [
    "link = ['https://orka.sejm.gov.pl/Glos10.nsf/nazwa/5_2/$file/5_2_20240207_101914.pdf']"
   ]
  },
  {
   "cell_type": "code",
   "execution_count": 74,
   "id": "005c45cf",
   "metadata": {},
   "outputs": [
    {
     "name": "stderr",
     "output_type": "stream",
     "text": [
      "  0%|▎                                                                                 | 1/328 [00:00<01:39,  3.29it/s]"
     ]
    },
    {
     "name": "stdout",
     "output_type": "stream",
     "text": [
      "http://orka.sejm.gov.pl/Glos10.nsf/dok?OpenAgent&1_132\n",
      "{'n', 's', 'nr', 'z', 'g', 'r', 'pr.', 'wan', 'na', 'ng.'}\n"
     ]
    },
    {
     "name": "stderr",
     "output_type": "stream",
     "text": [
      "\r",
      "  1%|▌                                                                                 | 2/328 [00:00<01:30,  3.58it/s]"
     ]
    },
    {
     "name": "stdout",
     "output_type": "stream",
     "text": [
      "http://orka.sejm.gov.pl/Glos10.nsf/dok?OpenAgent&3_10\n",
      "{'n', 's', 'nr', 'z', 'g', 'r', 'wan', 'na', 'za', 'ng.'}\n"
     ]
    },
    {
     "name": "stderr",
     "output_type": "stream",
     "text": [
      "\r",
      "  1%|▊                                                                                 | 3/328 [00:00<01:33,  3.48it/s]"
     ]
    },
    {
     "name": "stdout",
     "output_type": "stream",
     "text": [
      "http://orka.sejm.gov.pl/Glos10.nsf/dok?OpenAgent&2_26\n",
      "{'n', 's', 'nr', 'z', 'g', 'ng.', 'r', 'wan', 'na', 'za', 'ws.'}\n"
     ]
    },
    {
     "name": "stderr",
     "output_type": "stream",
     "text": [
      "\r",
      "  1%|█                                                                                 | 4/328 [00:01<01:34,  3.41it/s]"
     ]
    },
    {
     "name": "stdout",
     "output_type": "stream",
     "text": [
      "http://orka.sejm.gov.pl/Glos10.nsf/dok?OpenAgent&2_18\n",
      "{'n', 's', 'nr', 'z', 'g', 'r', 'wan', 'na', 'za', 'ng.'}\n"
     ]
    },
    {
     "name": "stderr",
     "output_type": "stream",
     "text": [
      "\r",
      "  2%|█▎                                                                                | 5/328 [00:01<01:33,  3.45it/s]"
     ]
    },
    {
     "name": "stdout",
     "output_type": "stream",
     "text": [
      "http://orka.sejm.gov.pl/Glos10.nsf/dok?OpenAgent&8_15\n",
      "{'n', 's', 'nr', 'z', 'g', 'r', 'wan', 'na', 'za', 'ng.'}\n"
     ]
    },
    {
     "name": "stderr",
     "output_type": "stream",
     "text": [
      "\r",
      "  2%|█▌                                                                                | 6/328 [00:01<01:28,  3.62it/s]"
     ]
    },
    {
     "name": "stdout",
     "output_type": "stream",
     "text": [
      "http://orka.sejm.gov.pl/Glos10.nsf/dok?OpenAgent&1_104\n",
      "{'n', 's', 'nr', 'z', 'g', 'ng.', 'r', 'wan', 'na', 'za', 'ws.'}\n"
     ]
    },
    {
     "name": "stderr",
     "output_type": "stream",
     "text": [
      "\r",
      "  2%|█▊                                                                                | 7/328 [00:01<01:29,  3.59it/s]"
     ]
    },
    {
     "name": "stdout",
     "output_type": "stream",
     "text": [
      "http://orka.sejm.gov.pl/Glos10.nsf/dok?OpenAgent&1_16\n",
      "{'n', 's', 'nr', 'z', 'g', 'r', 'pr.', 'wan', 'na', 'za', 'ng.'}\n"
     ]
    },
    {
     "name": "stderr",
     "output_type": "stream",
     "text": [
      "\r",
      "  2%|██                                                                                | 8/328 [00:02<01:27,  3.65it/s]"
     ]
    },
    {
     "name": "stdout",
     "output_type": "stream",
     "text": [
      "http://orka.sejm.gov.pl/Glos10.nsf/dok?OpenAgent&2_3\n",
      "{'n', 's', 'nr', 'z', 'g', 'ng.', 'r', 'wan', 'na', 'za', 'ws.'}\n"
     ]
    },
    {
     "name": "stderr",
     "output_type": "stream",
     "text": [
      "\r",
      "  3%|██▎                                                                               | 9/328 [00:02<01:28,  3.61it/s]"
     ]
    },
    {
     "name": "stdout",
     "output_type": "stream",
     "text": [
      "http://orka.sejm.gov.pl/Glos10.nsf/dok?OpenAgent&5_4\n",
      "{'n', 's', 'nr', 'z', 'g', 'r', 'pr.', 'wan', 'na', 'za', 'ng.'}\n"
     ]
    },
    {
     "name": "stderr",
     "output_type": "stream",
     "text": [
      "\r",
      "  3%|██▍                                                                              | 10/328 [00:02<01:25,  3.72it/s]"
     ]
    },
    {
     "name": "stdout",
     "output_type": "stream",
     "text": [
      "http://orka.sejm.gov.pl/Glos10.nsf/dok?OpenAgent&8_12\n",
      "{'n', 's', 'nr', 'z', 'g', 'r', 'pr.', 'wan', 'na', 'za', 'ng.'}\n"
     ]
    },
    {
     "name": "stderr",
     "output_type": "stream",
     "text": [
      "\r",
      "  3%|██▋                                                                              | 11/328 [00:03<01:44,  3.02it/s]"
     ]
    },
    {
     "name": "stdout",
     "output_type": "stream",
     "text": [
      "http://orka.sejm.gov.pl/Glos10.nsf/dok?OpenAgent&6_18\n",
      "{'n', 's', 'nr', 'z', 'g', 'ng.', 'r', 'wan', 'na', 'za', 'ws.'}\n"
     ]
    },
    {
     "name": "stderr",
     "output_type": "stream",
     "text": [
      "\r",
      "  4%|██▉                                                                              | 12/328 [00:03<01:37,  3.23it/s]"
     ]
    },
    {
     "name": "stdout",
     "output_type": "stream",
     "text": [
      "http://orka.sejm.gov.pl/Glos10.nsf/dok?OpenAgent&2_23\n",
      "{'n', 's', 'nr', 'z', 'g', 'ng.', 'r', 'wan', 'na', 'za', 'ws.'}\n"
     ]
    },
    {
     "name": "stderr",
     "output_type": "stream",
     "text": [
      "\r",
      "  4%|███▏                                                                             | 13/328 [00:03<01:33,  3.38it/s]"
     ]
    },
    {
     "name": "stdout",
     "output_type": "stream",
     "text": [
      "http://orka.sejm.gov.pl/Glos10.nsf/dok?OpenAgent&1_135\n",
      "{'n', 's', 'nr', 'z', 'g', 'r', 'pr.', 'wan', 'na', 'ng.'}\n"
     ]
    },
    {
     "name": "stderr",
     "output_type": "stream",
     "text": [
      "\r",
      "  4%|███▍                                                                             | 14/328 [00:04<01:47,  2.93it/s]"
     ]
    },
    {
     "name": "stdout",
     "output_type": "stream",
     "text": [
      "http://orka.sejm.gov.pl/Glos10.nsf/dok?OpenAgent&7_6\n",
      "{'n', 's', 'nr', 'z', 'g', 'r', 'pr.', 'wan', 'na', 'ng.'}\n"
     ]
    },
    {
     "name": "stderr",
     "output_type": "stream",
     "text": [
      "\r",
      "  5%|███▋                                                                             | 15/328 [00:04<01:49,  2.85it/s]"
     ]
    },
    {
     "name": "stdout",
     "output_type": "stream",
     "text": [
      "http://orka.sejm.gov.pl/Glos10.nsf/dok?OpenAgent&2_4\n",
      "{'n', 's', 'nr', 'z', 'g', 'r', 'wan', 'na', 'za', 'ng.'}\n"
     ]
    },
    {
     "name": "stderr",
     "output_type": "stream",
     "text": [
      "\r",
      "  5%|███▉                                                                             | 16/328 [00:04<01:46,  2.93it/s]"
     ]
    },
    {
     "name": "stdout",
     "output_type": "stream",
     "text": [
      "http://orka.sejm.gov.pl/Glos10.nsf/dok?OpenAgent&6_17\n",
      "{'n', 's', 'nr', 'z', 'g', 'r', 'pr.', 'wan', 'na', 'ng.'}\n"
     ]
    },
    {
     "name": "stderr",
     "output_type": "stream",
     "text": [
      "\r",
      "  5%|████▏                                                                            | 17/328 [00:05<01:42,  3.05it/s]"
     ]
    },
    {
     "name": "stdout",
     "output_type": "stream",
     "text": [
      "http://orka.sejm.gov.pl/Glos10.nsf/dok?OpenAgent&7_5\n",
      "{'n', 's', 'nr', 'z', 'g', 'r', 'wan', 'na', 'za', 'ng.'}\n"
     ]
    },
    {
     "name": "stderr",
     "output_type": "stream",
     "text": [
      "\r",
      "  5%|████▍                                                                            | 18/328 [00:05<01:38,  3.15it/s]"
     ]
    },
    {
     "name": "stdout",
     "output_type": "stream",
     "text": [
      "http://orka.sejm.gov.pl/Glos10.nsf/dok?OpenAgent&1_137\n",
      "{'n', 's', 'nr', 'z', 'g', 'r', 'wan', 'na', 'za', 'ng.'}\n"
     ]
    },
    {
     "name": "stderr",
     "output_type": "stream",
     "text": [
      "\r",
      "  6%|████▋                                                                            | 19/328 [00:05<01:40,  3.07it/s]"
     ]
    },
    {
     "name": "stdout",
     "output_type": "stream",
     "text": [
      "http://orka.sejm.gov.pl/Glos10.nsf/dok?OpenAgent&8_10\n",
      "{'n', 's', 'nr', 'z', 'g', 'r', 'pr.', 'wan', 'na', 'ng.'}\n"
     ]
    },
    {
     "name": "stderr",
     "output_type": "stream",
     "text": [
      "\r",
      "  6%|████▉                                                                            | 20/328 [00:06<01:41,  3.03it/s]"
     ]
    },
    {
     "name": "stdout",
     "output_type": "stream",
     "text": [
      "http://orka.sejm.gov.pl/Glos10.nsf/dok?OpenAgent&1_134\n",
      "{'n', 's', 'nr', 'z', 'g', 'r', 'pr.', 'wan', 'na', 'ng.'}\n"
     ]
    },
    {
     "name": "stderr",
     "output_type": "stream",
     "text": [
      "\r",
      "  6%|█████▏                                                                           | 21/328 [00:06<01:42,  3.00it/s]"
     ]
    },
    {
     "name": "stdout",
     "output_type": "stream",
     "text": [
      "http://orka.sejm.gov.pl/Glos10.nsf/dok?OpenAgent&9_3\n",
      "{'n', 's', 'nr', 'z', 'g', 'r', 'pr.', 'wan', 'na', 'za', 'ng.'}\n"
     ]
    },
    {
     "name": "stderr",
     "output_type": "stream",
     "text": [
      "\r",
      "  7%|█████▍                                                                           | 22/328 [00:06<01:46,  2.88it/s]"
     ]
    },
    {
     "name": "stdout",
     "output_type": "stream",
     "text": [
      "http://orka.sejm.gov.pl/Glos10.nsf/dok?OpenAgent&6_3\n",
      "{'n', 's', 'nr', 'z', 'g', 'r', 'wan', 'na', 'za', 'ng.'}\n"
     ]
    },
    {
     "name": "stderr",
     "output_type": "stream",
     "text": [
      "\r",
      "  7%|█████▋                                                                           | 23/328 [00:07<01:46,  2.88it/s]"
     ]
    },
    {
     "name": "stdout",
     "output_type": "stream",
     "text": [
      "http://orka.sejm.gov.pl/Glos10.nsf/dok?OpenAgent&9_28\n",
      "{'n', 's', 'nr', 'z', 'g', 'r', 'wan', 'na', 'za', 'ng.'}\n"
     ]
    },
    {
     "name": "stderr",
     "output_type": "stream",
     "text": [
      "\r",
      "  7%|█████▉                                                                           | 24/328 [00:07<01:39,  3.05it/s]"
     ]
    },
    {
     "name": "stdout",
     "output_type": "stream",
     "text": [
      "http://orka.sejm.gov.pl/Glos10.nsf/dok?OpenAgent&9_36\n",
      "{'n', 's', 'nr', 'z', 'g', 'r', 'pr.', 'wan', 'na', 'ng.'}\n"
     ]
    },
    {
     "name": "stderr",
     "output_type": "stream",
     "text": [
      "\r",
      "  8%|██████▏                                                                          | 25/328 [00:07<01:35,  3.18it/s]"
     ]
    },
    {
     "name": "stdout",
     "output_type": "stream",
     "text": [
      "http://orka.sejm.gov.pl/Glos10.nsf/dok?OpenAgent&6_7\n",
      "{'n', 's', 'nr', 'z', 'g', 'r', 'wan', 'na', 'za', 'ng.'}\n"
     ]
    },
    {
     "name": "stderr",
     "output_type": "stream",
     "text": [
      "\r",
      "  8%|██████▍                                                                          | 26/328 [00:08<01:48,  2.78it/s]"
     ]
    },
    {
     "name": "stdout",
     "output_type": "stream",
     "text": [
      "http://orka.sejm.gov.pl/Glos10.nsf/dok?OpenAgent&8_4\n",
      "{'n', 's', 'nr', 'z', 'g', 'ng.', 'r', 'wan', 'na', 'za', 'ws.'}\n"
     ]
    },
    {
     "name": "stderr",
     "output_type": "stream",
     "text": [
      "\r",
      "  8%|██████▋                                                                          | 27/328 [00:08<02:06,  2.37it/s]"
     ]
    },
    {
     "name": "stdout",
     "output_type": "stream",
     "text": [
      "http://orka.sejm.gov.pl/Glos10.nsf/dok?OpenAgent&1_19\n",
      "{'n', 's', 'nr', 'z', 'g', 'r', 'pr.', 'wan', 'na', 'ng.'}\n"
     ]
    },
    {
     "name": "stderr",
     "output_type": "stream",
     "text": [
      "\r",
      "  9%|██████▉                                                                          | 28/328 [00:09<01:59,  2.52it/s]"
     ]
    },
    {
     "name": "stdout",
     "output_type": "stream",
     "text": [
      "http://orka.sejm.gov.pl/Glos10.nsf/dok?OpenAgent&1_118\n",
      "{'n', 's', 'nr', 'z', 'g', 'r', 'wan', 'na', 'za', 'ng.'}\n"
     ]
    },
    {
     "name": "stderr",
     "output_type": "stream",
     "text": [
      "\r",
      "  9%|███████▏                                                                         | 29/328 [00:09<02:13,  2.24it/s]"
     ]
    },
    {
     "name": "stdout",
     "output_type": "stream",
     "text": [
      "http://orka.sejm.gov.pl/Glos10.nsf/dok?OpenAgent&6_11\n",
      "{'n', 's', 'nr', 'z', 'g', 'ng.', 'r', 'wan', 'na', 'za', 'ws.'}\n"
     ]
    },
    {
     "name": "stderr",
     "output_type": "stream",
     "text": [
      "\r",
      "  9%|███████▍                                                                         | 30/328 [00:10<02:16,  2.18it/s]"
     ]
    },
    {
     "name": "stdout",
     "output_type": "stream",
     "text": [
      "http://orka.sejm.gov.pl/Glos10.nsf/dok?OpenAgent&1_30\n",
      "{'n', 's', 'nr', 'z', 'g', 'r', 'wan', 'na', 'za', 'ng.'}\n"
     ]
    },
    {
     "name": "stderr",
     "output_type": "stream",
     "text": [
      "\r",
      "  9%|███████▋                                                                         | 31/328 [00:10<02:25,  2.05it/s]"
     ]
    },
    {
     "name": "stdout",
     "output_type": "stream",
     "text": [
      "http://orka.sejm.gov.pl/Glos10.nsf/dok?OpenAgent&9_12\n",
      "{'n', 's', 'nr', 'z', 'g', 'r', 'wan', 'na', 'za', 'ng.'}\n"
     ]
    },
    {
     "name": "stderr",
     "output_type": "stream",
     "text": [
      "\r",
      " 10%|███████▉                                                                         | 32/328 [00:11<02:14,  2.21it/s]"
     ]
    },
    {
     "name": "stdout",
     "output_type": "stream",
     "text": [
      "http://orka.sejm.gov.pl/Glos10.nsf/dok?OpenAgent&9_24\n",
      "{'n', 's', 'nr', 'z', 'g', 'r', 'wan', 'na', 'za', 'ng.'}\n"
     ]
    },
    {
     "name": "stderr",
     "output_type": "stream",
     "text": [
      "\r",
      " 10%|████████▏                                                                        | 33/328 [00:11<02:02,  2.41it/s]"
     ]
    },
    {
     "name": "stdout",
     "output_type": "stream",
     "text": [
      "http://orka.sejm.gov.pl/Glos10.nsf/dok?OpenAgent&2_7\n",
      "{'n', 's', 'nr', 'z', 'g', 'r', 'pr.', 'wan', 'na', 'ng.'}\n"
     ]
    },
    {
     "name": "stderr",
     "output_type": "stream",
     "text": [
      "\r",
      " 10%|████████▍                                                                        | 34/328 [00:11<01:52,  2.62it/s]"
     ]
    },
    {
     "name": "stdout",
     "output_type": "stream",
     "text": [
      "http://orka.sejm.gov.pl/Glos10.nsf/dok?OpenAgent&1_97\n",
      "{'n', 's', 'nr', 'z', 'g', 'r', 'wan', 'na', 'za', 'ng.'}\n"
     ]
    },
    {
     "name": "stderr",
     "output_type": "stream",
     "text": [
      "\r",
      " 11%|████████▋                                                                        | 35/328 [00:12<01:46,  2.76it/s]"
     ]
    },
    {
     "name": "stdout",
     "output_type": "stream",
     "text": [
      "http://orka.sejm.gov.pl/Glos10.nsf/dok?OpenAgent&1_84\n",
      "{'n', 's', 'nr', 'z', 'g', 'ng.', 'pr.', 'wan', 'r', 'na', 'ws.'}\n"
     ]
    },
    {
     "name": "stderr",
     "output_type": "stream",
     "text": [
      "\r",
      " 11%|████████▉                                                                        | 36/328 [00:12<01:37,  2.99it/s]"
     ]
    },
    {
     "name": "stdout",
     "output_type": "stream",
     "text": [
      "http://orka.sejm.gov.pl/Glos10.nsf/dok?OpenAgent&7_14\n",
      "{'n', 's', 'nr', 'z', 'g', 'r', 'wan', 'na', 'za', 'ng.'}\n"
     ]
    },
    {
     "name": "stderr",
     "output_type": "stream",
     "text": [
      "\r",
      " 11%|█████████▏                                                                       | 37/328 [00:12<01:37,  2.99it/s]"
     ]
    },
    {
     "name": "stdout",
     "output_type": "stream",
     "text": [
      "http://orka.sejm.gov.pl/Glos10.nsf/dok?OpenAgent&1_8\n",
      "{'n', 's', 'nr', 'z', 'g', 'ng.', 'pr.', 'wan', 'r', 'na', 'za', 'ws.'}\n"
     ]
    },
    {
     "name": "stderr",
     "output_type": "stream",
     "text": [
      "\r",
      " 12%|█████████▍                                                                       | 38/328 [00:13<01:33,  3.11it/s]"
     ]
    },
    {
     "name": "stdout",
     "output_type": "stream",
     "text": [
      "http://orka.sejm.gov.pl/Glos10.nsf/dok?OpenAgent&5_20\n",
      "{'n', 's', 'nr', 'z', 'g', 'r', 'pr.', 'wan', 'na', 'ng.'}\n"
     ]
    },
    {
     "name": "stderr",
     "output_type": "stream",
     "text": [
      "\r",
      " 12%|█████████▋                                                                       | 39/328 [00:14<02:39,  1.81it/s]"
     ]
    },
    {
     "name": "stdout",
     "output_type": "stream",
     "text": [
      "http://orka.sejm.gov.pl/Glos10.nsf/dok?OpenAgent&1_4\n",
      "{'n', 's', 'nr', 'z', 'g', 'ng.', 'pr.', 'wan', 'r', 'na', 'za', 'ws.'}\n"
     ]
    },
    {
     "name": "stderr",
     "output_type": "stream",
     "text": [
      "\r",
      " 12%|█████████▉                                                                       | 40/328 [00:15<03:31,  1.36it/s]"
     ]
    },
    {
     "name": "stdout",
     "output_type": "stream",
     "text": [
      "http://orka.sejm.gov.pl/Glos10.nsf/dok?OpenAgent&1_122\n",
      "{'n', 's', 'nr', 'z', 'g', 'r', 'pr.', 'wan', 'na', 'ng.'}\n"
     ]
    },
    {
     "name": "stderr",
     "output_type": "stream",
     "text": [
      "\r",
      " 12%|██████████▏                                                                      | 41/328 [00:15<02:54,  1.65it/s]"
     ]
    },
    {
     "name": "stdout",
     "output_type": "stream",
     "text": [
      "http://orka.sejm.gov.pl/Glos10.nsf/dok?OpenAgent&5_24\n",
      "{'n', 's', 'nr', 'z', 'g', 'r', 'pr.', 'wan', 'na', 'ng.'}\n"
     ]
    },
    {
     "name": "stderr",
     "output_type": "stream",
     "text": [
      "\r",
      " 13%|██████████▎                                                                      | 42/328 [00:16<02:48,  1.70it/s]"
     ]
    },
    {
     "name": "stdout",
     "output_type": "stream",
     "text": [
      "http://orka.sejm.gov.pl/Glos10.nsf/dok?OpenAgent&1_110\n",
      "{'n', 's', 'nr', 'z', 'g', 'r', 'wan', 'na', 'za', 'ng.'}\n"
     ]
    },
    {
     "name": "stderr",
     "output_type": "stream",
     "text": [
      "\r",
      " 13%|██████████▌                                                                      | 43/328 [00:16<02:21,  2.01it/s]"
     ]
    },
    {
     "name": "stdout",
     "output_type": "stream",
     "text": [
      "http://orka.sejm.gov.pl/Glos10.nsf/dok?OpenAgent&7_18\n",
      "{'n', 's', 'nr', 'z', 'g', 'r', 'pr.', 'wan', 'na', 'ng.'}\n"
     ]
    },
    {
     "name": "stderr",
     "output_type": "stream",
     "text": [
      "\r",
      " 13%|██████████▊                                                                      | 44/328 [00:16<02:00,  2.37it/s]"
     ]
    },
    {
     "name": "stdout",
     "output_type": "stream",
     "text": [
      "http://orka.sejm.gov.pl/Glos10.nsf/dok?OpenAgent&7_16\n",
      "{'n', 's', 'nr', 'z', 'g', 'r', 'wan', 'na', 'za', 'ng.'}\n"
     ]
    },
    {
     "name": "stderr",
     "output_type": "stream",
     "text": [
      "\r",
      " 14%|███████████                                                                      | 45/328 [00:16<01:44,  2.70it/s]"
     ]
    },
    {
     "name": "stdout",
     "output_type": "stream",
     "text": [
      "http://orka.sejm.gov.pl/Glos10.nsf/dok?OpenAgent&8_14\n",
      "{'n', 's', 'nr', 'z', 'g', 'r', 'wan', 'na', 'za', 'ng.'}\n"
     ]
    },
    {
     "name": "stderr",
     "output_type": "stream",
     "text": [
      "\r",
      " 14%|███████████▎                                                                     | 46/328 [00:17<01:35,  2.94it/s]"
     ]
    },
    {
     "name": "stdout",
     "output_type": "stream",
     "text": [
      "http://orka.sejm.gov.pl/Glos10.nsf/dok?OpenAgent&9_27\n",
      "{'n', 's', 'nr', 'z', 'g', 'r', 'wan', 'na', 'za', 'ng.'}\n"
     ]
    },
    {
     "name": "stderr",
     "output_type": "stream",
     "text": [
      "\r",
      " 14%|███████████▌                                                                     | 47/328 [00:17<01:29,  3.15it/s]"
     ]
    },
    {
     "name": "stdout",
     "output_type": "stream",
     "text": [
      "http://orka.sejm.gov.pl/Glos10.nsf/dok?OpenAgent&1_129\n",
      "{'n', 's', 'nr', 'z', 'g', 'r', 'pr.', 'wan', 'na', 'ng.'}\n"
     ]
    },
    {
     "name": "stderr",
     "output_type": "stream",
     "text": [
      "\r",
      " 15%|███████████▊                                                                     | 48/328 [00:17<01:24,  3.30it/s]"
     ]
    },
    {
     "name": "stdout",
     "output_type": "stream",
     "text": [
      "http://orka.sejm.gov.pl/Glos10.nsf/dok?OpenAgent&6_10\n",
      "{'n', 's', 'nr', 'z', 'g', 'ng.', 'pr.', 'wan', 'r', 'na', 'za', 'ws.'}\n"
     ]
    },
    {
     "name": "stderr",
     "output_type": "stream",
     "text": [
      "\r",
      " 15%|████████████                                                                     | 49/328 [00:17<01:21,  3.41it/s]"
     ]
    },
    {
     "name": "stdout",
     "output_type": "stream",
     "text": [
      "http://orka.sejm.gov.pl/Glos10.nsf/dok?OpenAgent&3_6\n",
      "{'n', 's', 'nr', 'z', 'g', 'ng.', 'pr.', 'wan', 'r', 'na', 'za', 'ws.'}\n"
     ]
    },
    {
     "name": "stderr",
     "output_type": "stream",
     "text": [
      "\r",
      " 15%|████████████▎                                                                    | 50/328 [00:18<01:22,  3.38it/s]"
     ]
    },
    {
     "name": "stdout",
     "output_type": "stream",
     "text": [
      "http://orka.sejm.gov.pl/Glos10.nsf/dok?OpenAgent&1_6\n",
      "{'n', 's', 'nr', 'z', 'g', 'ng.', 'pr.', 'wan', 'r', 'na', 'za', 'ws.'}\n"
     ]
    },
    {
     "name": "stderr",
     "output_type": "stream",
     "text": [
      "\r",
      " 16%|████████████▌                                                                    | 51/328 [00:18<01:18,  3.53it/s]"
     ]
    },
    {
     "name": "stdout",
     "output_type": "stream",
     "text": [
      "http://orka.sejm.gov.pl/Glos10.nsf/dok?OpenAgent&1_81\n",
      "{'n', 's', 'nr', 'z', 'g', 'r', 'wan', 'na', 'za', 'ng.'}\n"
     ]
    },
    {
     "name": "stderr",
     "output_type": "stream",
     "text": [
      "\r",
      " 16%|████████████▊                                                                    | 52/328 [00:18<01:15,  3.65it/s]"
     ]
    },
    {
     "name": "stdout",
     "output_type": "stream",
     "text": [
      "http://orka.sejm.gov.pl/Glos10.nsf/dok?OpenAgent&5_14\n",
      "{'n', 's', 'nr', 'z', 'g', 'r', 'pr.', 'wan', 'na', 'ng.'}\n"
     ]
    },
    {
     "name": "stderr",
     "output_type": "stream",
     "text": [
      "\r",
      " 16%|█████████████                                                                    | 53/328 [00:19<01:20,  3.41it/s]"
     ]
    },
    {
     "name": "stdout",
     "output_type": "stream",
     "text": [
      "http://orka.sejm.gov.pl/Glos10.nsf/dok?OpenAgent&4_1\n",
      "{'n', 's', 'nr', 'z', 'g', 'ng.', 'r', 'wan', 'na', 'za', 'ws.'}\n"
     ]
    },
    {
     "name": "stderr",
     "output_type": "stream",
     "text": [
      "\r",
      " 16%|█████████████▎                                                                   | 54/328 [00:19<01:18,  3.49it/s]"
     ]
    },
    {
     "name": "stdout",
     "output_type": "stream",
     "text": [
      "http://orka.sejm.gov.pl/Glos10.nsf/dok?OpenAgent&2_6\n",
      "{'n', 's', 'nr', 'z', 'g', 'r', 'wan', 'na', 'za', 'ng.'}\n"
     ]
    },
    {
     "name": "stderr",
     "output_type": "stream",
     "text": [
      "\r",
      " 17%|█████████████▌                                                                   | 55/328 [00:19<01:17,  3.50it/s]"
     ]
    },
    {
     "name": "stdout",
     "output_type": "stream",
     "text": [
      "http://orka.sejm.gov.pl/Glos10.nsf/dok?OpenAgent&5_11\n",
      "{'n', 's', 'nr', 'z', 'g', 'r', 'wan', 'na', 'za', 'ng.'}\n"
     ]
    },
    {
     "name": "stderr",
     "output_type": "stream",
     "text": [
      "\r",
      " 17%|█████████████▊                                                                   | 56/328 [00:20<01:34,  2.87it/s]"
     ]
    },
    {
     "name": "stdout",
     "output_type": "stream",
     "text": [
      "http://orka.sejm.gov.pl/Glos10.nsf/dok?OpenAgent&9_7\n",
      "{'n', 's', 'nr', 'z', 'g', 'r', 'wan', 'na', 'za', 'ng.'}\n"
     ]
    },
    {
     "name": "stderr",
     "output_type": "stream",
     "text": [
      "\r",
      " 17%|██████████████                                                                   | 57/328 [00:20<01:28,  3.05it/s]"
     ]
    },
    {
     "name": "stdout",
     "output_type": "stream",
     "text": [
      "http://orka.sejm.gov.pl/Glos10.nsf/dok?OpenAgent&6_9\n",
      "{'n', 's', 'nr', 'z', 'g', 'r', 'wan', 'na', 'za', 'ng.'}\n"
     ]
    },
    {
     "name": "stderr",
     "output_type": "stream",
     "text": [
      "\r",
      " 18%|██████████████▎                                                                  | 58/328 [00:20<01:23,  3.24it/s]"
     ]
    },
    {
     "name": "stdout",
     "output_type": "stream",
     "text": [
      "http://orka.sejm.gov.pl/Glos10.nsf/dok?OpenAgent&9_33\n",
      "{'n', 's', 'nr', 'z', 'g', 'r', 'wan', 'na', 'za', 'ng.'}\n"
     ]
    },
    {
     "name": "stderr",
     "output_type": "stream",
     "text": [
      "\r",
      " 18%|██████████████▌                                                                  | 59/328 [00:20<01:20,  3.35it/s]"
     ]
    },
    {
     "name": "stdout",
     "output_type": "stream",
     "text": [
      "http://orka.sejm.gov.pl/Glos10.nsf/dok?OpenAgent&9_19\n",
      "{'n', 's', 'nr', 'z', 'g', 'ng.', 'r', 'wan', 'na', 'za', 'ws.'}\n"
     ]
    },
    {
     "name": "stderr",
     "output_type": "stream",
     "text": [
      " 18%|██████████████▌                                                                  | 59/328 [00:21<01:37,  2.77it/s]\n"
     ]
    },
    {
     "ename": "KeyboardInterrupt",
     "evalue": "",
     "output_type": "error",
     "traceback": [
      "\u001b[1;31m---------------------------------------------------------------------------\u001b[0m",
      "\u001b[1;31mKeyboardInterrupt\u001b[0m                         Traceback (most recent call last)",
      "\u001b[1;32m<ipython-input-74-6bf34ceeca57>\u001b[0m in \u001b[0;36m<module>\u001b[1;34m\u001b[0m\n\u001b[0;32m      7\u001b[0m \u001b[1;31m# for pdf_url in link:\u001b[0m\u001b[1;33m\u001b[0m\u001b[1;33m\u001b[0m\u001b[1;33m\u001b[0m\u001b[0m\n\u001b[0;32m      8\u001b[0m \u001b[1;31m#     print(pdf_url)\u001b[0m\u001b[1;33m\u001b[0m\u001b[1;33m\u001b[0m\u001b[1;33m\u001b[0m\u001b[0m\n\u001b[1;32m----> 9\u001b[1;33m     \u001b[0mresponse\u001b[0m \u001b[1;33m=\u001b[0m \u001b[0mrequests\u001b[0m\u001b[1;33m.\u001b[0m\u001b[0mget\u001b[0m\u001b[1;33m(\u001b[0m\u001b[0murl\u001b[0m\u001b[1;33m=\u001b[0m\u001b[0mpdf_url\u001b[0m\u001b[1;33m,\u001b[0m \u001b[0mheaders\u001b[0m\u001b[1;33m=\u001b[0m\u001b[0mheaders\u001b[0m\u001b[1;33m,\u001b[0m \u001b[0mtimeout\u001b[0m\u001b[1;33m=\u001b[0m\u001b[1;36m120\u001b[0m\u001b[1;33m)\u001b[0m\u001b[1;33m\u001b[0m\u001b[1;33m\u001b[0m\u001b[0m\n\u001b[0m\u001b[0;32m     10\u001b[0m     \u001b[0mon_fly_mem_obj\u001b[0m \u001b[1;33m=\u001b[0m \u001b[0mBytesIO\u001b[0m\u001b[1;33m(\u001b[0m\u001b[0mresponse\u001b[0m\u001b[1;33m.\u001b[0m\u001b[0mcontent\u001b[0m\u001b[1;33m)\u001b[0m\u001b[1;33m\u001b[0m\u001b[1;33m\u001b[0m\u001b[0m\n\u001b[0;32m     11\u001b[0m     \u001b[0mdoc\u001b[0m \u001b[1;33m=\u001b[0m \u001b[0mfitz\u001b[0m\u001b[1;33m.\u001b[0m\u001b[0mopen\u001b[0m\u001b[1;33m(\u001b[0m\u001b[0mstream\u001b[0m\u001b[1;33m=\u001b[0m\u001b[0mon_fly_mem_obj\u001b[0m\u001b[1;33m,\u001b[0m \u001b[0mfiletype\u001b[0m\u001b[1;33m=\u001b[0m\u001b[1;34m\"pdf\"\u001b[0m\u001b[1;33m)\u001b[0m\u001b[1;33m\u001b[0m\u001b[1;33m\u001b[0m\u001b[0m\n",
      "\u001b[1;32mc:\\users\\kasia\\appdata\\local\\programs\\python\\python39\\lib\\site-packages\\requests\\api.py\u001b[0m in \u001b[0;36mget\u001b[1;34m(url, params, **kwargs)\u001b[0m\n\u001b[0;32m     73\u001b[0m     \"\"\"\n\u001b[0;32m     74\u001b[0m \u001b[1;33m\u001b[0m\u001b[0m\n\u001b[1;32m---> 75\u001b[1;33m     \u001b[1;32mreturn\u001b[0m \u001b[0mrequest\u001b[0m\u001b[1;33m(\u001b[0m\u001b[1;34m'get'\u001b[0m\u001b[1;33m,\u001b[0m \u001b[0murl\u001b[0m\u001b[1;33m,\u001b[0m \u001b[0mparams\u001b[0m\u001b[1;33m=\u001b[0m\u001b[0mparams\u001b[0m\u001b[1;33m,\u001b[0m \u001b[1;33m**\u001b[0m\u001b[0mkwargs\u001b[0m\u001b[1;33m)\u001b[0m\u001b[1;33m\u001b[0m\u001b[1;33m\u001b[0m\u001b[0m\n\u001b[0m\u001b[0;32m     76\u001b[0m \u001b[1;33m\u001b[0m\u001b[0m\n\u001b[0;32m     77\u001b[0m \u001b[1;33m\u001b[0m\u001b[0m\n",
      "\u001b[1;32mc:\\users\\kasia\\appdata\\local\\programs\\python\\python39\\lib\\site-packages\\requests\\api.py\u001b[0m in \u001b[0;36mrequest\u001b[1;34m(method, url, **kwargs)\u001b[0m\n\u001b[0;32m     59\u001b[0m     \u001b[1;31m# cases, and look like a memory leak in others.\u001b[0m\u001b[1;33m\u001b[0m\u001b[1;33m\u001b[0m\u001b[1;33m\u001b[0m\u001b[0m\n\u001b[0;32m     60\u001b[0m     \u001b[1;32mwith\u001b[0m \u001b[0msessions\u001b[0m\u001b[1;33m.\u001b[0m\u001b[0mSession\u001b[0m\u001b[1;33m(\u001b[0m\u001b[1;33m)\u001b[0m \u001b[1;32mas\u001b[0m \u001b[0msession\u001b[0m\u001b[1;33m:\u001b[0m\u001b[1;33m\u001b[0m\u001b[1;33m\u001b[0m\u001b[0m\n\u001b[1;32m---> 61\u001b[1;33m         \u001b[1;32mreturn\u001b[0m \u001b[0msession\u001b[0m\u001b[1;33m.\u001b[0m\u001b[0mrequest\u001b[0m\u001b[1;33m(\u001b[0m\u001b[0mmethod\u001b[0m\u001b[1;33m=\u001b[0m\u001b[0mmethod\u001b[0m\u001b[1;33m,\u001b[0m \u001b[0murl\u001b[0m\u001b[1;33m=\u001b[0m\u001b[0murl\u001b[0m\u001b[1;33m,\u001b[0m \u001b[1;33m**\u001b[0m\u001b[0mkwargs\u001b[0m\u001b[1;33m)\u001b[0m\u001b[1;33m\u001b[0m\u001b[1;33m\u001b[0m\u001b[0m\n\u001b[0m\u001b[0;32m     62\u001b[0m \u001b[1;33m\u001b[0m\u001b[0m\n\u001b[0;32m     63\u001b[0m \u001b[1;33m\u001b[0m\u001b[0m\n",
      "\u001b[1;32mc:\\users\\kasia\\appdata\\local\\programs\\python\\python39\\lib\\site-packages\\requests\\sessions.py\u001b[0m in \u001b[0;36mrequest\u001b[1;34m(self, method, url, params, data, headers, cookies, files, auth, timeout, allow_redirects, proxies, hooks, stream, verify, cert, json)\u001b[0m\n\u001b[0;32m    540\u001b[0m         }\n\u001b[0;32m    541\u001b[0m         \u001b[0msend_kwargs\u001b[0m\u001b[1;33m.\u001b[0m\u001b[0mupdate\u001b[0m\u001b[1;33m(\u001b[0m\u001b[0msettings\u001b[0m\u001b[1;33m)\u001b[0m\u001b[1;33m\u001b[0m\u001b[1;33m\u001b[0m\u001b[0m\n\u001b[1;32m--> 542\u001b[1;33m         \u001b[0mresp\u001b[0m \u001b[1;33m=\u001b[0m \u001b[0mself\u001b[0m\u001b[1;33m.\u001b[0m\u001b[0msend\u001b[0m\u001b[1;33m(\u001b[0m\u001b[0mprep\u001b[0m\u001b[1;33m,\u001b[0m \u001b[1;33m**\u001b[0m\u001b[0msend_kwargs\u001b[0m\u001b[1;33m)\u001b[0m\u001b[1;33m\u001b[0m\u001b[1;33m\u001b[0m\u001b[0m\n\u001b[0m\u001b[0;32m    543\u001b[0m \u001b[1;33m\u001b[0m\u001b[0m\n\u001b[0;32m    544\u001b[0m         \u001b[1;32mreturn\u001b[0m \u001b[0mresp\u001b[0m\u001b[1;33m\u001b[0m\u001b[1;33m\u001b[0m\u001b[0m\n",
      "\u001b[1;32mc:\\users\\kasia\\appdata\\local\\programs\\python\\python39\\lib\\site-packages\\requests\\sessions.py\u001b[0m in \u001b[0;36msend\u001b[1;34m(self, request, **kwargs)\u001b[0m\n\u001b[0;32m    675\u001b[0m             \u001b[1;31m# Redirect resolving generator.\u001b[0m\u001b[1;33m\u001b[0m\u001b[1;33m\u001b[0m\u001b[1;33m\u001b[0m\u001b[0m\n\u001b[0;32m    676\u001b[0m             \u001b[0mgen\u001b[0m \u001b[1;33m=\u001b[0m \u001b[0mself\u001b[0m\u001b[1;33m.\u001b[0m\u001b[0mresolve_redirects\u001b[0m\u001b[1;33m(\u001b[0m\u001b[0mr\u001b[0m\u001b[1;33m,\u001b[0m \u001b[0mrequest\u001b[0m\u001b[1;33m,\u001b[0m \u001b[1;33m**\u001b[0m\u001b[0mkwargs\u001b[0m\u001b[1;33m)\u001b[0m\u001b[1;33m\u001b[0m\u001b[1;33m\u001b[0m\u001b[0m\n\u001b[1;32m--> 677\u001b[1;33m             \u001b[0mhistory\u001b[0m \u001b[1;33m=\u001b[0m \u001b[1;33m[\u001b[0m\u001b[0mresp\u001b[0m \u001b[1;32mfor\u001b[0m \u001b[0mresp\u001b[0m \u001b[1;32min\u001b[0m \u001b[0mgen\u001b[0m\u001b[1;33m]\u001b[0m\u001b[1;33m\u001b[0m\u001b[1;33m\u001b[0m\u001b[0m\n\u001b[0m\u001b[0;32m    678\u001b[0m         \u001b[1;32melse\u001b[0m\u001b[1;33m:\u001b[0m\u001b[1;33m\u001b[0m\u001b[1;33m\u001b[0m\u001b[0m\n\u001b[0;32m    679\u001b[0m             \u001b[0mhistory\u001b[0m \u001b[1;33m=\u001b[0m \u001b[1;33m[\u001b[0m\u001b[1;33m]\u001b[0m\u001b[1;33m\u001b[0m\u001b[1;33m\u001b[0m\u001b[0m\n",
      "\u001b[1;32mc:\\users\\kasia\\appdata\\local\\programs\\python\\python39\\lib\\site-packages\\requests\\sessions.py\u001b[0m in \u001b[0;36m<listcomp>\u001b[1;34m(.0)\u001b[0m\n\u001b[0;32m    675\u001b[0m             \u001b[1;31m# Redirect resolving generator.\u001b[0m\u001b[1;33m\u001b[0m\u001b[1;33m\u001b[0m\u001b[1;33m\u001b[0m\u001b[0m\n\u001b[0;32m    676\u001b[0m             \u001b[0mgen\u001b[0m \u001b[1;33m=\u001b[0m \u001b[0mself\u001b[0m\u001b[1;33m.\u001b[0m\u001b[0mresolve_redirects\u001b[0m\u001b[1;33m(\u001b[0m\u001b[0mr\u001b[0m\u001b[1;33m,\u001b[0m \u001b[0mrequest\u001b[0m\u001b[1;33m,\u001b[0m \u001b[1;33m**\u001b[0m\u001b[0mkwargs\u001b[0m\u001b[1;33m)\u001b[0m\u001b[1;33m\u001b[0m\u001b[1;33m\u001b[0m\u001b[0m\n\u001b[1;32m--> 677\u001b[1;33m             \u001b[0mhistory\u001b[0m \u001b[1;33m=\u001b[0m \u001b[1;33m[\u001b[0m\u001b[0mresp\u001b[0m \u001b[1;32mfor\u001b[0m \u001b[0mresp\u001b[0m \u001b[1;32min\u001b[0m \u001b[0mgen\u001b[0m\u001b[1;33m]\u001b[0m\u001b[1;33m\u001b[0m\u001b[1;33m\u001b[0m\u001b[0m\n\u001b[0m\u001b[0;32m    678\u001b[0m         \u001b[1;32melse\u001b[0m\u001b[1;33m:\u001b[0m\u001b[1;33m\u001b[0m\u001b[1;33m\u001b[0m\u001b[0m\n\u001b[0;32m    679\u001b[0m             \u001b[0mhistory\u001b[0m \u001b[1;33m=\u001b[0m \u001b[1;33m[\u001b[0m\u001b[1;33m]\u001b[0m\u001b[1;33m\u001b[0m\u001b[1;33m\u001b[0m\u001b[0m\n",
      "\u001b[1;32mc:\\users\\kasia\\appdata\\local\\programs\\python\\python39\\lib\\site-packages\\requests\\sessions.py\u001b[0m in \u001b[0;36mresolve_redirects\u001b[1;34m(self, resp, req, stream, timeout, verify, cert, proxies, yield_requests, **adapter_kwargs)\u001b[0m\n\u001b[0;32m    235\u001b[0m             \u001b[1;32melse\u001b[0m\u001b[1;33m:\u001b[0m\u001b[1;33m\u001b[0m\u001b[1;33m\u001b[0m\u001b[0m\n\u001b[0;32m    236\u001b[0m \u001b[1;33m\u001b[0m\u001b[0m\n\u001b[1;32m--> 237\u001b[1;33m                 resp = self.send(\n\u001b[0m\u001b[0;32m    238\u001b[0m                     \u001b[0mreq\u001b[0m\u001b[1;33m,\u001b[0m\u001b[1;33m\u001b[0m\u001b[1;33m\u001b[0m\u001b[0m\n\u001b[0;32m    239\u001b[0m                     \u001b[0mstream\u001b[0m\u001b[1;33m=\u001b[0m\u001b[0mstream\u001b[0m\u001b[1;33m,\u001b[0m\u001b[1;33m\u001b[0m\u001b[1;33m\u001b[0m\u001b[0m\n",
      "\u001b[1;32mc:\\users\\kasia\\appdata\\local\\programs\\python\\python39\\lib\\site-packages\\requests\\sessions.py\u001b[0m in \u001b[0;36msend\u001b[1;34m(self, request, **kwargs)\u001b[0m\n\u001b[0;32m    653\u001b[0m \u001b[1;33m\u001b[0m\u001b[0m\n\u001b[0;32m    654\u001b[0m         \u001b[1;31m# Send the request\u001b[0m\u001b[1;33m\u001b[0m\u001b[1;33m\u001b[0m\u001b[1;33m\u001b[0m\u001b[0m\n\u001b[1;32m--> 655\u001b[1;33m         \u001b[0mr\u001b[0m \u001b[1;33m=\u001b[0m \u001b[0madapter\u001b[0m\u001b[1;33m.\u001b[0m\u001b[0msend\u001b[0m\u001b[1;33m(\u001b[0m\u001b[0mrequest\u001b[0m\u001b[1;33m,\u001b[0m \u001b[1;33m**\u001b[0m\u001b[0mkwargs\u001b[0m\u001b[1;33m)\u001b[0m\u001b[1;33m\u001b[0m\u001b[1;33m\u001b[0m\u001b[0m\n\u001b[0m\u001b[0;32m    656\u001b[0m \u001b[1;33m\u001b[0m\u001b[0m\n\u001b[0;32m    657\u001b[0m         \u001b[1;31m# Total elapsed time of the request (approximately)\u001b[0m\u001b[1;33m\u001b[0m\u001b[1;33m\u001b[0m\u001b[1;33m\u001b[0m\u001b[0m\n",
      "\u001b[1;32mc:\\users\\kasia\\appdata\\local\\programs\\python\\python39\\lib\\site-packages\\requests\\adapters.py\u001b[0m in \u001b[0;36msend\u001b[1;34m(self, request, stream, timeout, verify, cert, proxies)\u001b[0m\n\u001b[0;32m    437\u001b[0m         \u001b[1;32mtry\u001b[0m\u001b[1;33m:\u001b[0m\u001b[1;33m\u001b[0m\u001b[1;33m\u001b[0m\u001b[0m\n\u001b[0;32m    438\u001b[0m             \u001b[1;32mif\u001b[0m \u001b[1;32mnot\u001b[0m \u001b[0mchunked\u001b[0m\u001b[1;33m:\u001b[0m\u001b[1;33m\u001b[0m\u001b[1;33m\u001b[0m\u001b[0m\n\u001b[1;32m--> 439\u001b[1;33m                 resp = conn.urlopen(\n\u001b[0m\u001b[0;32m    440\u001b[0m                     \u001b[0mmethod\u001b[0m\u001b[1;33m=\u001b[0m\u001b[0mrequest\u001b[0m\u001b[1;33m.\u001b[0m\u001b[0mmethod\u001b[0m\u001b[1;33m,\u001b[0m\u001b[1;33m\u001b[0m\u001b[1;33m\u001b[0m\u001b[0m\n\u001b[0;32m    441\u001b[0m                     \u001b[0murl\u001b[0m\u001b[1;33m=\u001b[0m\u001b[0murl\u001b[0m\u001b[1;33m,\u001b[0m\u001b[1;33m\u001b[0m\u001b[1;33m\u001b[0m\u001b[0m\n",
      "\u001b[1;32mc:\\users\\kasia\\appdata\\local\\programs\\python\\python39\\lib\\site-packages\\urllib3\\connectionpool.py\u001b[0m in \u001b[0;36murlopen\u001b[1;34m(self, method, url, body, headers, retries, redirect, assert_same_host, timeout, pool_timeout, release_conn, chunked, body_pos, **response_kw)\u001b[0m\n\u001b[0;32m    697\u001b[0m \u001b[1;33m\u001b[0m\u001b[0m\n\u001b[0;32m    698\u001b[0m             \u001b[1;31m# Make the request on the httplib connection object.\u001b[0m\u001b[1;33m\u001b[0m\u001b[1;33m\u001b[0m\u001b[1;33m\u001b[0m\u001b[0m\n\u001b[1;32m--> 699\u001b[1;33m             httplib_response = self._make_request(\n\u001b[0m\u001b[0;32m    700\u001b[0m                 \u001b[0mconn\u001b[0m\u001b[1;33m,\u001b[0m\u001b[1;33m\u001b[0m\u001b[1;33m\u001b[0m\u001b[0m\n\u001b[0;32m    701\u001b[0m                 \u001b[0mmethod\u001b[0m\u001b[1;33m,\u001b[0m\u001b[1;33m\u001b[0m\u001b[1;33m\u001b[0m\u001b[0m\n",
      "\u001b[1;32mc:\\users\\kasia\\appdata\\local\\programs\\python\\python39\\lib\\site-packages\\urllib3\\connectionpool.py\u001b[0m in \u001b[0;36m_make_request\u001b[1;34m(self, conn, method, url, timeout, chunked, **httplib_request_kw)\u001b[0m\n\u001b[0;32m    443\u001b[0m                     \u001b[1;31m# Python 3 (including for exceptions like SystemExit).\u001b[0m\u001b[1;33m\u001b[0m\u001b[1;33m\u001b[0m\u001b[1;33m\u001b[0m\u001b[0m\n\u001b[0;32m    444\u001b[0m                     \u001b[1;31m# Otherwise it looks like a bug in the code.\u001b[0m\u001b[1;33m\u001b[0m\u001b[1;33m\u001b[0m\u001b[1;33m\u001b[0m\u001b[0m\n\u001b[1;32m--> 445\u001b[1;33m                     \u001b[0msix\u001b[0m\u001b[1;33m.\u001b[0m\u001b[0mraise_from\u001b[0m\u001b[1;33m(\u001b[0m\u001b[0me\u001b[0m\u001b[1;33m,\u001b[0m \u001b[1;32mNone\u001b[0m\u001b[1;33m)\u001b[0m\u001b[1;33m\u001b[0m\u001b[1;33m\u001b[0m\u001b[0m\n\u001b[0m\u001b[0;32m    446\u001b[0m         \u001b[1;32mexcept\u001b[0m \u001b[1;33m(\u001b[0m\u001b[0mSocketTimeout\u001b[0m\u001b[1;33m,\u001b[0m \u001b[0mBaseSSLError\u001b[0m\u001b[1;33m,\u001b[0m \u001b[0mSocketError\u001b[0m\u001b[1;33m)\u001b[0m \u001b[1;32mas\u001b[0m \u001b[0me\u001b[0m\u001b[1;33m:\u001b[0m\u001b[1;33m\u001b[0m\u001b[1;33m\u001b[0m\u001b[0m\n\u001b[0;32m    447\u001b[0m             \u001b[0mself\u001b[0m\u001b[1;33m.\u001b[0m\u001b[0m_raise_timeout\u001b[0m\u001b[1;33m(\u001b[0m\u001b[0merr\u001b[0m\u001b[1;33m=\u001b[0m\u001b[0me\u001b[0m\u001b[1;33m,\u001b[0m \u001b[0murl\u001b[0m\u001b[1;33m=\u001b[0m\u001b[0murl\u001b[0m\u001b[1;33m,\u001b[0m \u001b[0mtimeout_value\u001b[0m\u001b[1;33m=\u001b[0m\u001b[0mread_timeout\u001b[0m\u001b[1;33m)\u001b[0m\u001b[1;33m\u001b[0m\u001b[1;33m\u001b[0m\u001b[0m\n",
      "\u001b[1;32mc:\\users\\kasia\\appdata\\local\\programs\\python\\python39\\lib\\site-packages\\urllib3\\packages\\six.py\u001b[0m in \u001b[0;36mraise_from\u001b[1;34m(value, from_value)\u001b[0m\n",
      "\u001b[1;32mc:\\users\\kasia\\appdata\\local\\programs\\python\\python39\\lib\\site-packages\\urllib3\\connectionpool.py\u001b[0m in \u001b[0;36m_make_request\u001b[1;34m(self, conn, method, url, timeout, chunked, **httplib_request_kw)\u001b[0m\n\u001b[0;32m    438\u001b[0m                 \u001b[1;31m# Python 3\u001b[0m\u001b[1;33m\u001b[0m\u001b[1;33m\u001b[0m\u001b[1;33m\u001b[0m\u001b[0m\n\u001b[0;32m    439\u001b[0m                 \u001b[1;32mtry\u001b[0m\u001b[1;33m:\u001b[0m\u001b[1;33m\u001b[0m\u001b[1;33m\u001b[0m\u001b[0m\n\u001b[1;32m--> 440\u001b[1;33m                     \u001b[0mhttplib_response\u001b[0m \u001b[1;33m=\u001b[0m \u001b[0mconn\u001b[0m\u001b[1;33m.\u001b[0m\u001b[0mgetresponse\u001b[0m\u001b[1;33m(\u001b[0m\u001b[1;33m)\u001b[0m\u001b[1;33m\u001b[0m\u001b[1;33m\u001b[0m\u001b[0m\n\u001b[0m\u001b[0;32m    441\u001b[0m                 \u001b[1;32mexcept\u001b[0m \u001b[0mBaseException\u001b[0m \u001b[1;32mas\u001b[0m \u001b[0me\u001b[0m\u001b[1;33m:\u001b[0m\u001b[1;33m\u001b[0m\u001b[1;33m\u001b[0m\u001b[0m\n\u001b[0;32m    442\u001b[0m                     \u001b[1;31m# Remove the TypeError from the exception chain in\u001b[0m\u001b[1;33m\u001b[0m\u001b[1;33m\u001b[0m\u001b[1;33m\u001b[0m\u001b[0m\n",
      "\u001b[1;32mc:\\users\\kasia\\appdata\\local\\programs\\python\\python39\\lib\\http\\client.py\u001b[0m in \u001b[0;36mgetresponse\u001b[1;34m(self)\u001b[0m\n\u001b[0;32m   1343\u001b[0m         \u001b[1;32mtry\u001b[0m\u001b[1;33m:\u001b[0m\u001b[1;33m\u001b[0m\u001b[1;33m\u001b[0m\u001b[0m\n\u001b[0;32m   1344\u001b[0m             \u001b[1;32mtry\u001b[0m\u001b[1;33m:\u001b[0m\u001b[1;33m\u001b[0m\u001b[1;33m\u001b[0m\u001b[0m\n\u001b[1;32m-> 1345\u001b[1;33m                 \u001b[0mresponse\u001b[0m\u001b[1;33m.\u001b[0m\u001b[0mbegin\u001b[0m\u001b[1;33m(\u001b[0m\u001b[1;33m)\u001b[0m\u001b[1;33m\u001b[0m\u001b[1;33m\u001b[0m\u001b[0m\n\u001b[0m\u001b[0;32m   1346\u001b[0m             \u001b[1;32mexcept\u001b[0m \u001b[0mConnectionError\u001b[0m\u001b[1;33m:\u001b[0m\u001b[1;33m\u001b[0m\u001b[1;33m\u001b[0m\u001b[0m\n\u001b[0;32m   1347\u001b[0m                 \u001b[0mself\u001b[0m\u001b[1;33m.\u001b[0m\u001b[0mclose\u001b[0m\u001b[1;33m(\u001b[0m\u001b[1;33m)\u001b[0m\u001b[1;33m\u001b[0m\u001b[1;33m\u001b[0m\u001b[0m\n",
      "\u001b[1;32mc:\\users\\kasia\\appdata\\local\\programs\\python\\python39\\lib\\http\\client.py\u001b[0m in \u001b[0;36mbegin\u001b[1;34m(self)\u001b[0m\n\u001b[0;32m    305\u001b[0m         \u001b[1;31m# read until we get a non-100 response\u001b[0m\u001b[1;33m\u001b[0m\u001b[1;33m\u001b[0m\u001b[1;33m\u001b[0m\u001b[0m\n\u001b[0;32m    306\u001b[0m         \u001b[1;32mwhile\u001b[0m \u001b[1;32mTrue\u001b[0m\u001b[1;33m:\u001b[0m\u001b[1;33m\u001b[0m\u001b[1;33m\u001b[0m\u001b[0m\n\u001b[1;32m--> 307\u001b[1;33m             \u001b[0mversion\u001b[0m\u001b[1;33m,\u001b[0m \u001b[0mstatus\u001b[0m\u001b[1;33m,\u001b[0m \u001b[0mreason\u001b[0m \u001b[1;33m=\u001b[0m \u001b[0mself\u001b[0m\u001b[1;33m.\u001b[0m\u001b[0m_read_status\u001b[0m\u001b[1;33m(\u001b[0m\u001b[1;33m)\u001b[0m\u001b[1;33m\u001b[0m\u001b[1;33m\u001b[0m\u001b[0m\n\u001b[0m\u001b[0;32m    308\u001b[0m             \u001b[1;32mif\u001b[0m \u001b[0mstatus\u001b[0m \u001b[1;33m!=\u001b[0m \u001b[0mCONTINUE\u001b[0m\u001b[1;33m:\u001b[0m\u001b[1;33m\u001b[0m\u001b[1;33m\u001b[0m\u001b[0m\n\u001b[0;32m    309\u001b[0m                 \u001b[1;32mbreak\u001b[0m\u001b[1;33m\u001b[0m\u001b[1;33m\u001b[0m\u001b[0m\n",
      "\u001b[1;32mc:\\users\\kasia\\appdata\\local\\programs\\python\\python39\\lib\\http\\client.py\u001b[0m in \u001b[0;36m_read_status\u001b[1;34m(self)\u001b[0m\n\u001b[0;32m    266\u001b[0m \u001b[1;33m\u001b[0m\u001b[0m\n\u001b[0;32m    267\u001b[0m     \u001b[1;32mdef\u001b[0m \u001b[0m_read_status\u001b[0m\u001b[1;33m(\u001b[0m\u001b[0mself\u001b[0m\u001b[1;33m)\u001b[0m\u001b[1;33m:\u001b[0m\u001b[1;33m\u001b[0m\u001b[1;33m\u001b[0m\u001b[0m\n\u001b[1;32m--> 268\u001b[1;33m         \u001b[0mline\u001b[0m \u001b[1;33m=\u001b[0m \u001b[0mstr\u001b[0m\u001b[1;33m(\u001b[0m\u001b[0mself\u001b[0m\u001b[1;33m.\u001b[0m\u001b[0mfp\u001b[0m\u001b[1;33m.\u001b[0m\u001b[0mreadline\u001b[0m\u001b[1;33m(\u001b[0m\u001b[0m_MAXLINE\u001b[0m \u001b[1;33m+\u001b[0m \u001b[1;36m1\u001b[0m\u001b[1;33m)\u001b[0m\u001b[1;33m,\u001b[0m \u001b[1;34m\"iso-8859-1\"\u001b[0m\u001b[1;33m)\u001b[0m\u001b[1;33m\u001b[0m\u001b[1;33m\u001b[0m\u001b[0m\n\u001b[0m\u001b[0;32m    269\u001b[0m         \u001b[1;32mif\u001b[0m \u001b[0mlen\u001b[0m\u001b[1;33m(\u001b[0m\u001b[0mline\u001b[0m\u001b[1;33m)\u001b[0m \u001b[1;33m>\u001b[0m \u001b[0m_MAXLINE\u001b[0m\u001b[1;33m:\u001b[0m\u001b[1;33m\u001b[0m\u001b[1;33m\u001b[0m\u001b[0m\n\u001b[0;32m    270\u001b[0m             \u001b[1;32mraise\u001b[0m \u001b[0mLineTooLong\u001b[0m\u001b[1;33m(\u001b[0m\u001b[1;34m\"status line\"\u001b[0m\u001b[1;33m)\u001b[0m\u001b[1;33m\u001b[0m\u001b[1;33m\u001b[0m\u001b[0m\n",
      "\u001b[1;32mc:\\users\\kasia\\appdata\\local\\programs\\python\\python39\\lib\\socket.py\u001b[0m in \u001b[0;36mreadinto\u001b[1;34m(self, b)\u001b[0m\n\u001b[0;32m    702\u001b[0m         \u001b[1;32mwhile\u001b[0m \u001b[1;32mTrue\u001b[0m\u001b[1;33m:\u001b[0m\u001b[1;33m\u001b[0m\u001b[1;33m\u001b[0m\u001b[0m\n\u001b[0;32m    703\u001b[0m             \u001b[1;32mtry\u001b[0m\u001b[1;33m:\u001b[0m\u001b[1;33m\u001b[0m\u001b[1;33m\u001b[0m\u001b[0m\n\u001b[1;32m--> 704\u001b[1;33m                 \u001b[1;32mreturn\u001b[0m \u001b[0mself\u001b[0m\u001b[1;33m.\u001b[0m\u001b[0m_sock\u001b[0m\u001b[1;33m.\u001b[0m\u001b[0mrecv_into\u001b[0m\u001b[1;33m(\u001b[0m\u001b[0mb\u001b[0m\u001b[1;33m)\u001b[0m\u001b[1;33m\u001b[0m\u001b[1;33m\u001b[0m\u001b[0m\n\u001b[0m\u001b[0;32m    705\u001b[0m             \u001b[1;32mexcept\u001b[0m \u001b[0mtimeout\u001b[0m\u001b[1;33m:\u001b[0m\u001b[1;33m\u001b[0m\u001b[1;33m\u001b[0m\u001b[0m\n\u001b[0;32m    706\u001b[0m                 \u001b[0mself\u001b[0m\u001b[1;33m.\u001b[0m\u001b[0m_timeout_occurred\u001b[0m \u001b[1;33m=\u001b[0m \u001b[1;32mTrue\u001b[0m\u001b[1;33m\u001b[0m\u001b[1;33m\u001b[0m\u001b[0m\n",
      "\u001b[1;32mc:\\users\\kasia\\appdata\\local\\programs\\python\\python39\\lib\\ssl.py\u001b[0m in \u001b[0;36mrecv_into\u001b[1;34m(self, buffer, nbytes, flags)\u001b[0m\n\u001b[0;32m   1239\u001b[0m                   \u001b[1;34m\"non-zero flags not allowed in calls to recv_into() on %s\"\u001b[0m \u001b[1;33m%\u001b[0m\u001b[1;33m\u001b[0m\u001b[1;33m\u001b[0m\u001b[0m\n\u001b[0;32m   1240\u001b[0m                   self.__class__)\n\u001b[1;32m-> 1241\u001b[1;33m             \u001b[1;32mreturn\u001b[0m \u001b[0mself\u001b[0m\u001b[1;33m.\u001b[0m\u001b[0mread\u001b[0m\u001b[1;33m(\u001b[0m\u001b[0mnbytes\u001b[0m\u001b[1;33m,\u001b[0m \u001b[0mbuffer\u001b[0m\u001b[1;33m)\u001b[0m\u001b[1;33m\u001b[0m\u001b[1;33m\u001b[0m\u001b[0m\n\u001b[0m\u001b[0;32m   1242\u001b[0m         \u001b[1;32melse\u001b[0m\u001b[1;33m:\u001b[0m\u001b[1;33m\u001b[0m\u001b[1;33m\u001b[0m\u001b[0m\n\u001b[0;32m   1243\u001b[0m             \u001b[1;32mreturn\u001b[0m \u001b[0msuper\u001b[0m\u001b[1;33m(\u001b[0m\u001b[1;33m)\u001b[0m\u001b[1;33m.\u001b[0m\u001b[0mrecv_into\u001b[0m\u001b[1;33m(\u001b[0m\u001b[0mbuffer\u001b[0m\u001b[1;33m,\u001b[0m \u001b[0mnbytes\u001b[0m\u001b[1;33m,\u001b[0m \u001b[0mflags\u001b[0m\u001b[1;33m)\u001b[0m\u001b[1;33m\u001b[0m\u001b[1;33m\u001b[0m\u001b[0m\n",
      "\u001b[1;32mc:\\users\\kasia\\appdata\\local\\programs\\python\\python39\\lib\\ssl.py\u001b[0m in \u001b[0;36mread\u001b[1;34m(self, len, buffer)\u001b[0m\n\u001b[0;32m   1097\u001b[0m         \u001b[1;32mtry\u001b[0m\u001b[1;33m:\u001b[0m\u001b[1;33m\u001b[0m\u001b[1;33m\u001b[0m\u001b[0m\n\u001b[0;32m   1098\u001b[0m             \u001b[1;32mif\u001b[0m \u001b[0mbuffer\u001b[0m \u001b[1;32mis\u001b[0m \u001b[1;32mnot\u001b[0m \u001b[1;32mNone\u001b[0m\u001b[1;33m:\u001b[0m\u001b[1;33m\u001b[0m\u001b[1;33m\u001b[0m\u001b[0m\n\u001b[1;32m-> 1099\u001b[1;33m                 \u001b[1;32mreturn\u001b[0m \u001b[0mself\u001b[0m\u001b[1;33m.\u001b[0m\u001b[0m_sslobj\u001b[0m\u001b[1;33m.\u001b[0m\u001b[0mread\u001b[0m\u001b[1;33m(\u001b[0m\u001b[0mlen\u001b[0m\u001b[1;33m,\u001b[0m \u001b[0mbuffer\u001b[0m\u001b[1;33m)\u001b[0m\u001b[1;33m\u001b[0m\u001b[1;33m\u001b[0m\u001b[0m\n\u001b[0m\u001b[0;32m   1100\u001b[0m             \u001b[1;32melse\u001b[0m\u001b[1;33m:\u001b[0m\u001b[1;33m\u001b[0m\u001b[1;33m\u001b[0m\u001b[0m\n\u001b[0;32m   1101\u001b[0m                 \u001b[1;32mreturn\u001b[0m \u001b[0mself\u001b[0m\u001b[1;33m.\u001b[0m\u001b[0m_sslobj\u001b[0m\u001b[1;33m.\u001b[0m\u001b[0mread\u001b[0m\u001b[1;33m(\u001b[0m\u001b[0mlen\u001b[0m\u001b[1;33m)\u001b[0m\u001b[1;33m\u001b[0m\u001b[1;33m\u001b[0m\u001b[0m\n",
      "\u001b[1;31mKeyboardInterrupt\u001b[0m: "
     ]
    }
   ],
   "source": [
    "df = pd.DataFrame()\n",
    "\n",
    "headers={'User-Agent': 'Chrome/35.0.1916.47'}\n",
    "# headers = { 'User-Agent': 'Mozilla/5.0 (Windows NT 6.0; WOW64; rv:24.0) Gecko/20100101 Firefox/24.0' }\n",
    "\n",
    "for pdf_url in tqdm(vote_results_links):\n",
    "# for pdf_url in link:\n",
    "#     print(pdf_url)\n",
    "    response = requests.get(url=pdf_url, headers=headers, timeout=120)\n",
    "    on_fly_mem_obj = BytesIO(response.content)\n",
    "    doc = fitz.open(stream=on_fly_mem_obj, filetype=\"pdf\")\n",
    "    \n",
    "    all_text = \"\"\n",
    "    for page in doc:\n",
    "        all_text += '\\n' + page.get_text()\n",
    "\n",
    "    parties = re.findall(\"\\n\\w*.*\\(\\d+\\)\", all_text)\n",
    "    clean_parties = [re.sub(\"\\n\", '', party) for party in parties]\n",
    "    clean_parties = [re.sub(\"\\(\\d+\\)\", '', party).strip() for party in clean_parties]\n",
    "\n",
    "    pattern = re.compile(\"\\(\\d+\\)\")\n",
    "    deputies_per_club = [int(pattern.search(party).group(0)[1:-1]) for party in parties]\n",
    "\n",
    "    xs = re.split(\"\\n\\w+.+\\(\\d+\\)\", all_text)\n",
    "    if 'posiedzenie' not in xs[0].lower():\n",
    "        print(pdf_url)\n",
    "        continue\n",
    "\n",
    "    posiedzenie_id = re.findall(\"posiedzenie \\d+\", xs[0].lower())[0]\n",
    "    glosowanie_id = re.findall(\"sowanie nr \\d+\", xs[0])[0]\n",
    "    data_time = re.findall(\"\\d+.\\d+.\\d+\\s\\d+:\\d+:\\d+\", xs[0])[0]\n",
    "    posiedzenie_id = re.findall(\"\\d+\", posiedzenie_id)[0]\n",
    "    glosowanie_id = re.findall(\"\\d+\", glosowanie_id)[0]\n",
    "\n",
    "    for i in range(1, len(xs)):\n",
    "        x = xs[i]\n",
    "        x = re.sub(\"\\n[\\s\\w.]+\\s*-\\s*\\d+\", '', x)\n",
    "#         x = re.sub(r\"\\n\\bPosiedzenie\\b.+\\n\", '', x)\n",
    "#         x = re.sub(r\"\\n\\bPosiedzenie\\b.+\\n.*\\bStrona.*\\n\", '', x)\n",
    "\n",
    "        names = re.split(r\"[za|pr.|ng.|ws.]+\", x)\n",
    "        clean_names = []\n",
    "        for name in names:\n",
    "            name = re.sub(\"[\\n\\d]\", '', name)\n",
    "            name = re.sub(\"  \", ' ', name)\n",
    "            name = name.strip()\n",
    "            if len(name) > 0:\n",
    "                clean_names.append(name)\n",
    "\n",
    "        votes = re.findall(r\"[za|pr.|ng.|ws.]+\", x)\n",
    "        if len(set(votes)) > 4:\n",
    "            print(pdf_url)\n",
    "            print(set(votes))\n",
    "            break\n",
    "        party = [clean_parties[i - 1]] * deputies_per_club[i - 1]\n",
    "\n",
    "        df_sub = pd.DataFrame({\n",
    "                'kadencja': k,\n",
    "                'posiedzenie': posiedzenie_id,\n",
    "                'numer': glosowanie_id,\n",
    "                'data_godzina': data_time,\n",
    "                'NazwiskoImie': clean_names[0:deputies_per_club[i - 1]], \n",
    "                'Glos': votes[0:deputies_per_club[i - 1]],\n",
    "                'Klub': party\n",
    "        })\n",
    "\n",
    "        df = pd.concat([df, df_sub], ignore_index=True)"
   ]
  },
  {
   "cell_type": "code",
   "execution_count": 66,
   "id": "b190f931",
   "metadata": {},
   "outputs": [
    {
     "data": {
      "text/html": [
       "<div>\n",
       "<style scoped>\n",
       "    .dataframe tbody tr th:only-of-type {\n",
       "        vertical-align: middle;\n",
       "    }\n",
       "\n",
       "    .dataframe tbody tr th {\n",
       "        vertical-align: top;\n",
       "    }\n",
       "\n",
       "    .dataframe thead th {\n",
       "        text-align: right;\n",
       "    }\n",
       "</style>\n",
       "<table border=\"1\" class=\"dataframe\">\n",
       "  <thead>\n",
       "    <tr style=\"text-align: right;\">\n",
       "      <th></th>\n",
       "      <th>kadencja</th>\n",
       "      <th>posiedzenie</th>\n",
       "      <th>numer</th>\n",
       "      <th>data_godzina</th>\n",
       "      <th>NazwiskoImie</th>\n",
       "      <th>Glos</th>\n",
       "      <th>Klub</th>\n",
       "    </tr>\n",
       "  </thead>\n",
       "  <tbody>\n",
       "    <tr>\n",
       "      <th>0</th>\n",
       "      <td>10</td>\n",
       "      <td>5</td>\n",
       "      <td>2</td>\n",
       "      <td>2024-02-07 10:19:14</td>\n",
       "      <td>ADAMCZYK ANDRZEJ</td>\n",
       "      <td>za</td>\n",
       "      <td>PiS</td>\n",
       "    </tr>\n",
       "    <tr>\n",
       "      <th>1</th>\n",
       "      <td>10</td>\n",
       "      <td>5</td>\n",
       "      <td>2</td>\n",
       "      <td>2024-02-07 10:19:14</td>\n",
       "      <td>ANDRUSZKIEWICZ ADAM</td>\n",
       "      <td>za</td>\n",
       "      <td>PiS</td>\n",
       "    </tr>\n",
       "    <tr>\n",
       "      <th>2</th>\n",
       "      <td>10</td>\n",
       "      <td>5</td>\n",
       "      <td>2</td>\n",
       "      <td>2024-02-07 10:19:14</td>\n",
       "      <td>ANDZEL WALDEMAR</td>\n",
       "      <td>za</td>\n",
       "      <td>PiS</td>\n",
       "    </tr>\n",
       "    <tr>\n",
       "      <th>3</th>\n",
       "      <td>10</td>\n",
       "      <td>5</td>\n",
       "      <td>2</td>\n",
       "      <td>2024-02-07 10:19:14</td>\n",
       "      <td>ARCISZEWSKA-MIELEWCZYK DOROTA</td>\n",
       "      <td>za</td>\n",
       "      <td>PiS</td>\n",
       "    </tr>\n",
       "    <tr>\n",
       "      <th>4</th>\n",
       "      <td>10</td>\n",
       "      <td>5</td>\n",
       "      <td>2</td>\n",
       "      <td>2024-02-07 10:19:14</td>\n",
       "      <td>ARDANOWSKI JAN KRZYSZTOF</td>\n",
       "      <td>za</td>\n",
       "      <td>PiS</td>\n",
       "    </tr>\n",
       "    <tr>\n",
       "      <th>...</th>\n",
       "      <td>...</td>\n",
       "      <td>...</td>\n",
       "      <td>...</td>\n",
       "      <td>...</td>\n",
       "      <td>...</td>\n",
       "      <td>...</td>\n",
       "      <td>...</td>\n",
       "    </tr>\n",
       "    <tr>\n",
       "      <th>453</th>\n",
       "      <td>10</td>\n",
       "      <td>5</td>\n",
       "      <td>2</td>\n",
       "      <td>2024-02-07 10:19:14</td>\n",
       "      <td>MULAWA KRZYSZTOF</td>\n",
       "      <td>ng.</td>\n",
       "      <td>Konfederacja</td>\n",
       "    </tr>\n",
       "    <tr>\n",
       "      <th>454</th>\n",
       "      <td>10</td>\n",
       "      <td>5</td>\n",
       "      <td>2</td>\n",
       "      <td>2024-02-07 10:19:14</td>\n",
       "      <td>WILK RYSZARD</td>\n",
       "      <td>ng.</td>\n",
       "      <td>Konfederacja</td>\n",
       "    </tr>\n",
       "    <tr>\n",
       "      <th>455</th>\n",
       "      <td>10</td>\n",
       "      <td>5</td>\n",
       "      <td>2</td>\n",
       "      <td>2024-02-07 10:19:14</td>\n",
       "      <td>JAKUBIAK MAREK</td>\n",
       "      <td>za</td>\n",
       "      <td>Kukiz15</td>\n",
       "    </tr>\n",
       "    <tr>\n",
       "      <th>456</th>\n",
       "      <td>10</td>\n",
       "      <td>5</td>\n",
       "      <td>2</td>\n",
       "      <td>2024-02-07 10:19:14</td>\n",
       "      <td>KUKIZ PAWEŁ</td>\n",
       "      <td>za</td>\n",
       "      <td>Kukiz15</td>\n",
       "    </tr>\n",
       "    <tr>\n",
       "      <th>457</th>\n",
       "      <td>10</td>\n",
       "      <td>5</td>\n",
       "      <td>2</td>\n",
       "      <td>2024-02-07 10:19:14</td>\n",
       "      <td>SACHAJKO JAROSŁAW</td>\n",
       "      <td>za</td>\n",
       "      <td>Kukiz15</td>\n",
       "    </tr>\n",
       "  </tbody>\n",
       "</table>\n",
       "<p>458 rows × 7 columns</p>\n",
       "</div>"
      ],
      "text/plain": [
       "     kadencja posiedzenie numer         data_godzina  \\\n",
       "0          10           5     2  2024-02-07 10:19:14   \n",
       "1          10           5     2  2024-02-07 10:19:14   \n",
       "2          10           5     2  2024-02-07 10:19:14   \n",
       "3          10           5     2  2024-02-07 10:19:14   \n",
       "4          10           5     2  2024-02-07 10:19:14   \n",
       "..        ...         ...   ...                  ...   \n",
       "453        10           5     2  2024-02-07 10:19:14   \n",
       "454        10           5     2  2024-02-07 10:19:14   \n",
       "455        10           5     2  2024-02-07 10:19:14   \n",
       "456        10           5     2  2024-02-07 10:19:14   \n",
       "457        10           5     2  2024-02-07 10:19:14   \n",
       "\n",
       "                      NazwiskoImie Glos          Klub  \n",
       "0                 ADAMCZYK ANDRZEJ   za           PiS  \n",
       "1              ANDRUSZKIEWICZ ADAM   za           PiS  \n",
       "2                  ANDZEL WALDEMAR   za           PiS  \n",
       "3    ARCISZEWSKA-MIELEWCZYK DOROTA   za           PiS  \n",
       "4         ARDANOWSKI JAN KRZYSZTOF   za           PiS  \n",
       "..                             ...  ...           ...  \n",
       "453               MULAWA KRZYSZTOF  ng.  Konfederacja  \n",
       "454                   WILK RYSZARD  ng.  Konfederacja  \n",
       "455                 JAKUBIAK MAREK   za       Kukiz15  \n",
       "456                    KUKIZ PAWEŁ   za       Kukiz15  \n",
       "457              SACHAJKO JAROSŁAW   za       Kukiz15  \n",
       "\n",
       "[458 rows x 7 columns]"
      ]
     },
     "execution_count": 66,
     "metadata": {},
     "output_type": "execute_result"
    }
   ],
   "source": [
    "df"
   ]
  },
  {
   "cell_type": "code",
   "execution_count": 67,
   "id": "fcb2f79b",
   "metadata": {},
   "outputs": [],
   "source": [
    "df = df.astype({\n",
    "                'kadencja': 'int32',\n",
    "                'posiedzenie': 'int32',\n",
    "                'numer': 'int32',\n",
    "                })\n",
    "\n",
    "df['data_godzina'] = pd.to_datetime(df['data_godzina'], format='mixed')\n",
    "\n",
    "df['vote_id'] = df['kadencja'] * 10**6 + df['posiedzenie'] * 10**3 + df['numer']"
   ]
  },
  {
   "cell_type": "code",
   "execution_count": 68,
   "id": "2b518937",
   "metadata": {},
   "outputs": [
    {
     "data": {
      "text/plain": [
       "328"
      ]
     },
     "execution_count": 68,
     "metadata": {},
     "output_type": "execute_result"
    }
   ],
   "source": [
    "len(vote_results_links)"
   ]
  },
  {
   "cell_type": "code",
   "execution_count": 69,
   "id": "839a244f",
   "metadata": {},
   "outputs": [
    {
     "data": {
      "text/plain": [
       "1"
      ]
     },
     "execution_count": 69,
     "metadata": {},
     "output_type": "execute_result"
    }
   ],
   "source": [
    "df['vote_id'].unique().size"
   ]
  },
  {
   "cell_type": "code",
   "execution_count": 70,
   "id": "316f58a6",
   "metadata": {},
   "outputs": [
    {
     "data": {
      "text/plain": [
       "array(['za', 'pr.', 'ng.'], dtype=object)"
      ]
     },
     "execution_count": 70,
     "metadata": {},
     "output_type": "execute_result"
    }
   ],
   "source": [
    "df['Glos'].unique()"
   ]
  },
  {
   "cell_type": "code",
   "execution_count": 71,
   "id": "b3233aad",
   "metadata": {},
   "outputs": [
    {
     "data": {
      "text/plain": [
       "array(['PiS', 'KO', 'Polska2050-TD', 'PSL-TD', 'Lewica', 'Konfederacja',\n",
       "       'Kukiz15'], dtype=object)"
      ]
     },
     "execution_count": 71,
     "metadata": {},
     "output_type": "execute_result"
    }
   ],
   "source": [
    "df['Klub'].unique()"
   ]
  },
  {
   "cell_type": "code",
   "execution_count": 72,
   "id": "06a946c1",
   "metadata": {},
   "outputs": [
    {
     "data": {
      "text/plain": [
       "array(['ADAMCZYK ANDRZEJ', 'ANDRUSZKIEWICZ ADAM', 'ANDZEL WALDEMAR',\n",
       "       'ARCISZEWSKA-MIELEWCZYK DOROTA', 'ARDANOWSKI JAN KRZYSZTOF',\n",
       "       'ARENT IWONA EWA', 'AST MAREK', 'BABINETZ PIOTR', 'BALUCH ANNA',\n",
       "       'BARTUŚ BARBARA', 'BŁASZCZAK MARIUSZ', 'BOCHENEK RAFAŁ',\n",
       "       'BOGUCKI JACEK', 'BOGUCKI ZBIGNIEW', 'BOROWIAK JOANNA',\n",
       "       'BORYS-SZOPA BOŻENA', 'BUDA WALDEMAR', 'BURZYŃSKA LIDIA',\n",
       "       'CHOJECKI ARTUR', 'CHOMA KAZIMIERZ BOGUSŁAW',\n",
       "       'CHOROSIŃSKA DOMINIKA', 'CICHOLSKA ANNA EWA', 'CIESZYŃSKI JANUSZ',\n",
       "       'CZARNECKI KRZYSZTOF', 'CZARNECKI WITOLD WOJCIECH',\n",
       "       'CZARTORYSKI ARKADIUSZ', 'CZERWIŃSKA ANITA', 'DAJCZAK WŁADYSŁAW',\n",
       "       'DĄBROWSKA-BANASZEK ANNA', 'DOLATA ZBIGNIEW',\n",
       "       'DORYWALSKI BARTŁOMIEJ', 'DRABEK PRZEMYSŁAW', 'DUDA ELŻBIETA',\n",
       "       'DWORCZYK MICHAŁ PAWEŁ', 'DZIEDZICZAK JAN MICHAŁ',\n",
       "       'FILIPEK-SOBCZAK MAGDALENA', 'GAWRON ANDRZEJ', 'GEMBICKA ANNA',\n",
       "       'GIŻYŃSKI SZYMON', 'GLIŃSKI PIOTR', 'GOLIŃSKA MAŁGORZATA',\n",
       "       'GOŁOJUCH KAZIMIERZ', 'GONTARZ ROBERT', 'GOSEK MARIUSZ',\n",
       "       'GOSIEWSKA MAŁGORZATA', 'GÓRSKA AGNIESZKA', 'GRABOWSKI MARCIN',\n",
       "       'GRÓBARCZYK MAREK', 'GUT-MOSTOWY ANDRZEJ', 'GWIAZDOWSKI KAZIMIERZ',\n",
       "       'GWÓŹDŹ MARCIN', 'HOC CZESŁAW', 'HOFFMANN ZBIGNIEW',\n",
       "       'HORAŁA MARCIN', 'HRENIAK PAWEŁ', 'JABŁOŃSKI PAWEŁ',\n",
       "       'KACZMARCZYK NORBERT JAKUB', 'KACZYŃSKI FILIP',\n",
       "       'KACZYŃSKI JAROSŁAW', 'KALETA PIOTR', 'KALETA SEBASTIAN',\n",
       "       'KANTHAK JAN', 'KAPINOS FRYDERYK SYLWESTER', 'KMITA ŁUKASZ',\n",
       "       'KOC MARIA', 'KOSZTOWNIAK ANDRZEJ', 'KOWALCZYK HENRYK',\n",
       "       'KOWALSKI JANUSZ', 'KOWNACKI BARTOSZ JÓZEF', 'KRAJEWSKI WIESŁAW',\n",
       "       'KRASULSKI LEONARD', 'KRÓL PIOTR', 'KRUPKA ANNA',\n",
       "       'KRYSTIAN MARIUSZ', 'KUBÓW KRZYSZTOF', 'KUCHCIŃSKI MAREK',\n",
       "       'KUROWSKA MARIA', 'KUROWSKI WŁADYSŁAW',\n",
       "       'KUŹMIUK ZBIGNIEW KRZYSZTOF', 'KWIECIEŃ ANNA', 'LENIART EWA',\n",
       "       'LICHOCKA JOANNA', 'LIPIEC KRZYSZTOF', 'LOREK GRZEGORZ',\n",
       "       'MACHAŁEK MARZENA ANNA', 'MACIEREWICZ ANTONI',\n",
       "       'MALĄG MARLENA MAGDALENA', 'MAŁECKI MACIEJ', 'MATECKI DARIUSZ',\n",
       "       'MATERNA JERZY', 'MATUSIAK GRZEGORZ', 'MATUSZEWSKI MAREK',\n",
       "       'MILCZANOWSKA ANNA', 'MILEWSKI DANIEL', 'MORAWIECKI MATEUSZ',\n",
       "       'MOSIŃSKI JAN', 'MOSKAL MICHAŁ', 'MRÓWCZYŃSKI ALEKSANDER MIKOŁAJ',\n",
       "       'MULARCZYK ARKADIUSZ', 'MÜLLER PIOTR', 'OCIEPA MARCIN',\n",
       "       'OSUCH JACEK', 'OZDOBA JACEK', 'PIECHA BOLESŁAW',\n",
       "       'PIECHOWIAK GRZEGORZ', 'PIECZARKA ANNA', 'PIONTKOWSKI DARIUSZ',\n",
       "       'PŁAŻYŃSKI KACPER', 'POGODA SZYMON', 'POLACZEK JERZY',\n",
       "       'POLAK PIOTR', 'PORZUCEK MARCIN', 'PRZYDACZ MARCIN',\n",
       "       'PUDA GRZEGORZ', 'ROMANOWSKI MARCIN', 'RUSECKA URSZULA',\n",
       "       'RYCHLIK PAWEŁ', 'SAŁEK PAWEŁ', 'SASIN JACEK', 'SCHREIBER ŁUKASZ',\n",
       "       'SELLIN JAROSŁAW', 'SEMENIUK-PATKOWSKA OLGA EWA', 'SIARKA EDWARD',\n",
       "       'SKWAREK SŁAWOMIR', 'SMOLIŃSKI KAZIMIERZ', 'SOBOLEWSKI KRZYSZTOF',\n",
       "       'SOIN AGNIESZKA ANNA', 'SÓJKA KATARZYNA',\n",
       "       'STACHOWIAK-RÓŻECKA MIROSŁAWA', 'STEFANIUK DARIUSZ', 'SUSKI MAREK',\n",
       "       'SZAŁABAWKA ARTUR', 'SZARAMA WOJCIECH', 'SZCZUCKI KRZYSZTOF',\n",
       "       'SZCZUREK-ŻELAZKO JÓZEFA', 'SZEFERNAKER PAWEŁ', 'SZROT PAWEŁ',\n",
       "       'SZWED STANISŁAW', 'SZYNKOWSKI VEL SĘK SZYMON', 'ŚCIGAJ AGNIESZKA',\n",
       "       'ŚLIWKA ANDRZEJ', 'ŚWIAT JACEK', 'TELUS ROBERT',\n",
       "       'TERLECKI RYSZARD', 'TUŁAJEW SYLWESTER', 'UŚCIŃSKI PIOTR',\n",
       "       'WARCHOŁ MARCIN', 'WARWAS ROBERT', 'WARZECHA JAN',\n",
       "       'WASSERMANN MAŁGORZATA', 'WEBER RAFAŁ', 'WESOŁY MAREK',\n",
       "       'WICHER PATRYK', 'WIECZOREK JAROSŁAW WIESŁAW', 'WILK TERESA',\n",
       "       'WITEK ELŻBIETA', 'WOJCIECHOWSKA VANHEUKELOM AGNIESZKA',\n",
       "       'WOJTYSZEK AGATA', 'WOŚ MICHAŁ', 'WOŹNIAK GRZEGORZ',\n",
       "       'WOŹNIAK TADEUSZ', 'WÓJCIK MICHAŁ', 'WRÓBLEWSKI BARTŁOMIEJ',\n",
       "       'ZIELIŃSKI JAROSŁAW', 'ZIELIŃSKI TOMASZ',\n",
       "       'ZUBOWSKI WOJCIECH MICHAŁ', 'ZYSKA IRENEUSZ', 'CHRZAN TADEUSZ',\n",
       "       'BARTOSIK RYSZARD', 'BORTNICZUK KAMIL', 'CHMIELOWIEC ZBIGNIEW',\n",
       "       'CIECIÓRA KRZYSZTOF', 'CIEŚLAK MICHAŁ', 'CZARNEK PRZEMYSŁAW',\n",
       "       'CZOCHARA KATARZYNA', 'FOGIEL RADOSŁAW', 'GAŻA GRZEGORZ',\n",
       "       'KAŁUŻNY MARIUSZ', 'KRYJ ANDRZEJ', 'ŁUKASZEWICZ SEBASTIAN',\n",
       "       'MALIK EWA', 'MEJZA ŁUKASZ', 'PAMUŁA TERESA', 'RAU ZBIGNIEW',\n",
       "       'SCHMIDT ANNA', 'TCHÓRZEWSKI KRZYSZTOF', 'URUSKI PIOTR',\n",
       "       'ZAWIŚLAK SŁAWOMIR', 'ZIOBRO ZBIGNIEW', 'ADAMOWICZ PIOTR',\n",
       "       'ARŁUKOWICZ BARTOSZ', 'AUGUSTYN URSZULA', 'BIELAWSKA SYLWIA',\n",
       "       'BLIŹNIUK PAWEŁ', 'BOCHENEK MATEUSZ', 'BORYS PIOTR',\n",
       "       'BOSACKI MARCIN', 'BUDKA BORYS', 'CHMIELEWSKI MAREK JAN',\n",
       "       'CHYBICKA ALICJA', 'CICHOŃ JANUSZ', 'CZERNOW ZOFIA',\n",
       "       'DOLNIAK BARBARA', 'DOWHAN ROBERT', 'FILIKS MAGDALENA',\n",
       "       'FRYDRYCH JOANNA', 'FRYSZTAK KONRAD', 'GABRIEL PATRYK',\n",
       "       'GADOWSKI KRZYSZTOF', 'GAJEWSKA ALEKSANDRA', 'GAJEWSKA KINGA',\n",
       "       'GAPIŃSKA ELŻBIETA', 'GASIUK-PIHOWICZ KAMILA', 'GAWLIK ZDZISŁAW',\n",
       "       'GELERT ELŻBIETA', 'GIERADA ARTUR DANIEL', 'GIERTYCH ROMAN',\n",
       "       'GIZIŃSKI WŁODZISŁAW', 'GŁOGOWSKI TOMASZ', 'GŁOWSKI PIOTR',\n",
       "       'GOLBIK MARTA', 'GORCZYCA STANISŁAW', 'GRABCZUK KRZYSZTOF',\n",
       "       'GRABIEC JAN', 'GROMADZKA MAŁGORZATA', 'GZIK MAREK',\n",
       "       'HABURA KRZYSZTOF', 'HANAJCZYK AGNIESZKA', 'HARTWICH IWONA',\n",
       "       'HOK MAREK TOMASZ', 'HORBATOWSKI ŁUKASZ', 'JACHIRA KLAUDIA',\n",
       "       'JANYSKA MARIA MAŁGORZATA', 'JAROS MICHAŁ', 'JASKULSKI PATRYK',\n",
       "       'JOŃSKI DARIUSZ', 'JÓZEFACIUK MARCIN', 'KANDYBA PIOTR',\n",
       "       'KARNOWSKI JACEK', 'KAROLEWSKA IWONA', 'KIERWIŃSKI MARCIN',\n",
       "       'KIERZEK-KOPERSKA KATARZYNA', 'KLUZIK-ROSTKOWSKA JOANNA',\n",
       "       'KOŁODZIEJ EWA', 'KOŁODZIEJCZAK MAGDALENAMAŁGORZATA',\n",
       "       'KOŁODZIEJCZAK MICHAŁ', 'KONWIŃSKI ZBIGNIEW', 'KOSTUŚ TOMASZ',\n",
       "       'KOWAL PAWEŁ', 'KOZŁOWSKA IWONA MARIA',\n",
       "       'KRAWCZYK IWONA MAŁGORZATA', 'KRAWCZYK MICHAŁ',\n",
       "       'KROPIWNICKI ROBERT', 'KRÓL WOJCIECH', 'KRZĄKAŁA MAREK',\n",
       "       'KRZEMIŃSKI ADAM', 'KRZYWONOS-STRYCHARSKA HENRYKA',\n",
       "       'LACHOWICZ PIOTR', 'LAMCZYK STANISŁAW', 'LASEK MACIEJ',\n",
       "       'LENARTOWICZ GABRIELA', 'LESZCZYNA IZABELA',\n",
       "       'LUBNAUER KATARZYNA ANNA', 'ŁĄCKI ARTUR JAROSŁAW',\n",
       "       'ŁEPKOWSKA-GOŁAŚ ALICJA', 'ŁOBODA DOROTA', 'ŁOŚKO MAGDALENA',\n",
       "       'ŁUCZAK KRYSTIAN', 'MARCHEWKA ARKADIUSZ',\n",
       "       'MARCZUŁAJTIS-WALCZAK JAGNA', 'MAREK DOROTA',\n",
       "       'MATUSIK-LIPIEC KATARZYNA', 'MISZALSKI ALEKSANDER',\n",
       "       'MROCZEK CZESŁAW', 'MRZYGŁOCKA IZABELA KATARZYNA',\n",
       "       'MYRCHA ARKADIUSZ', 'NAPIERALSKI GRZEGORZ BERNARD',\n",
       "       'NIEDZIELA DOROTA', 'NIEDŹWIEDZKI JACEK', 'NIEMCZYK MAŁGORZATA',\n",
       "       'NIEZGODZKA JOLANTA', 'NITRAS SŁAWOMIR', 'NOWACKA BARBARA',\n",
       "       'NOWAK TOMASZ PIOTR', 'NYKIEL MIROSŁAWA',\n",
       "       'OKŁA-DREWNOWICZ MARZENA', 'OLSZEWSKI PAWEŁ', 'OSOS KATARZYNA',\n",
       "       'PAPKE PAWEŁ', 'PAWLICZAK KAROLINA', 'PĘPEK MAŁGORZATA',\n",
       "       'PIEKARSKA KATARZYNA MARIA', 'PIETRZCZYK LUCJAN MAREK',\n",
       "       'PLOCKE KAZIMIERZ', 'POLAK ELŻBIETA ANNA', 'POMASKA AGNIESZKA',\n",
       "       'PROTAS JACEK', 'RAK RENATA', 'ROSA MONIKA', 'RUSIECKI GRZEGORZ',\n",
       "       'RUTNICKI JAKUB', 'RZĄSA MAREK', 'SAŁUGA WOJCIECH',\n",
       "       'SIBIŃSKA KRYSTYNA', 'SIEMASZKO RAFAŁ', 'SIEMONIAK TOMASZ',\n",
       "       'SKOWROŃSKA KRYSTYNA', 'SŁUGOCKI WALDEMAR', 'SMARDUCH WERONIKA',\n",
       "       'SOBOLAK ANNA', 'SOWA MAREK', 'STERCZEWSKI FRANCISZEK',\n",
       "       'SUSKI PAWEŁ', 'SZCZERBA MICHAŁ', 'SZEWIŃSKI ANDRZEJ',\n",
       "       'SZŁAPKA ADAM', 'SZOPIŃSKI HENRYK', 'SZUMILAS KRYSTYNA',\n",
       "       'SZYMAŃSKI TOMASZ', 'ŚCIEBIOROWSKI ŁUKASZ', 'TAJNER APOLONIUSZ',\n",
       "       'TOMCZYK CEZARY', 'TRACZ MAŁGORZATA', 'WAŁĘSA JAROSŁAW',\n",
       "       'WARDZAŁA ROBERT', 'WCISŁO MARTA', 'WIELICHOWSKA MONIKA',\n",
       "       'WIŚNIEWSKA ALEKSANDRA KAROLINA', 'WITCZAK ADRIAN',\n",
       "       'WITCZAK MARIUSZ', 'WOJCIECHOWSKA ANNA', 'WOŁOSZAŃSKI BOGUSŁAW',\n",
       "       'WRÓBEL MACIEJ', 'ZAWIEJA BARTOSZ', 'ZDROJEWSKI BOGDAN ANDRZEJ',\n",
       "       'ZEMBACZYŃSKI WITOLD', 'ZIELIŃSKA URSZULA SARA',\n",
       "       'BOJARSKI KRZYSZTOF', 'DOMAŃSKI ANDRZEJ', 'JAZŁOWIECKA DANUTA',\n",
       "       'MILLER RAJMUND', 'SIENKIEWICZ BARTŁOMIEJ',\n",
       "       'TRUSKOLASKI KRZYSZTOF', 'TUSK DONALD', 'URBANIAK JAROSŁAW',\n",
       "       'WITEK PRZEMYSŁAW', 'BODNAR IZABELA', 'BURKIEWICZ ELŻBIETA',\n",
       "       'CWALINA-ŚLIWOWSKA ŻANETA', 'ĆWIK SŁAWOMIR', 'GOMOŁA ADAM',\n",
       "       'GÓRNIKIEWICZ PIOTR', 'GRAMATYKA MICHAŁ', 'HENNIG-KLOSKA PAULINA',\n",
       "       'HOŁOWNIA SZYMON', 'KASPRZYK RAFAŁ', 'KOBOSKO MICHAŁ',\n",
       "       'KOMAREWICZ RAFAŁ', 'LEO ALEKSANDRA', 'LUBOŃSKI ADAM',\n",
       "       'MUCHA JOANNA', 'NOWAK MAJA EWA', 'OKUŁA BARBARA',\n",
       "       'OLIWIECKA BARBARA', 'OSMALAK ŁUKASZ', 'PIETRYKOWSKI NORBERT',\n",
       "       'ROMOWICZ BARTOSZ', 'SCHÄDLER EWA', 'SKONIECZKA MARCIN',\n",
       "       'STRACH PIOTR PAWEŁ', 'SUCHOŃ MIROSŁAW', 'ŚLIZ PAWEŁ',\n",
       "       'TOMCZAK WIOLETA', 'WNUK KAMIL', 'ZALEWSKI PAWEŁ', 'ZIMOCH TOMASZ',\n",
       "       'BUCZYŃSKA AGNIESZKA', 'PETRU RYSZARD', 'SZYMANOWSKA EWA',\n",
       "       'BARTOSZEWSKI WŁADYSŁAW', 'BEJDA PAWEŁ', 'BIERNACKI MAREK',\n",
       "       'DZIEDZIC ADAM', 'HETMAN KRZYSZTOF', 'KIEPURA HENRYK',\n",
       "       'KLIMCZAK DARIUSZ', 'KŁOPOTEK AGNIESZKA MARIA',\n",
       "       'KOSINIAK-KAMYSZ WŁADYSŁAW', 'KRAJEWSKI STEFAN',\n",
       "       'LUBCZYK RADOSŁAW', 'NOWOGÓRSKA URSZULA', 'ORLIŃSKI MIROSŁAW ADAM',\n",
       "       'PASŁAWSKA URSZULA', 'PASZYK KRZYSZTOF', 'PYRZYK MICHAŁ',\n",
       "       'RAŚ IRENEUSZ', 'RÓŻYŃSKI WIESŁAW', 'RZEPA JAROSŁAW',\n",
       "       'SAMBORSKI TADEUSZ', 'SAWICKI MAREK', 'SIEKIERSKI CZESŁAW',\n",
       "       'SOSNOWSKI ZBIGNIEW', 'SROKA MAGDALENA', 'TOMCZAK JACEK',\n",
       "       'TOMCZYSZYN STANISŁAW', 'ZGORZELSKI PIOTR', 'ZIĘBA-GZIK JOLANTA',\n",
       "       'ŻELAZOWSKA BOŻENA', 'GRZYB ANDRZEJ', 'MALISZEWSKI MIROSŁAW',\n",
       "       'ZIEJEWSKI ZBIGNIEW', 'CZARZASTY WŁODZIMIERZ', 'CZERNIAK JACEK',\n",
       "       'DZIEMIANOWICZ-BĄK AGNIESZKA', 'GAWKOWSKI KRZYSZTOF',\n",
       "       'GOSEK-POPIOŁEK DARIA', 'KONIECZNY MACIEJ', 'KOTULA KATARZYNA',\n",
       "       'KUCHARSKA-DZIEDZIC ANITA', 'KULASEK MARCIN', 'LITEWKA ŁUKASZ',\n",
       "       'MATYSIAK PAULINA', 'NOWICKA WANDA', 'OLKO DOROTA',\n",
       "       'SCHEURING-WIELGUS JOANNA', 'SIKORA ARKADIUSZ',\n",
       "       'SZCZEPAŃSKI WIESŁAW', 'ŚMISZEK KRZYSZTOF', 'TOMASZEWSKI TADEUSZ',\n",
       "       'TRELA TOMASZ', 'UEBERHAN KATARZYNA', 'WICHA JOANNA',\n",
       "       'WIECZOREK DARIUSZ', 'ZANDBERG ADRIAN', 'ZAWISZA MARCELINA',\n",
       "       'ŻUKOWSKA ANNA MARIA', 'SZEJNA ANDRZEJ', 'BERKOWICZ KONRAD',\n",
       "       'BOSAK KRZYSZTOF', 'BRAUN GRZEGORZ', 'FOLTYN BRONISŁAW',\n",
       "       'FRITZ ROMAN', 'MENTZEN SŁAWOMIR', 'PEJO BARTŁOMIEJ',\n",
       "       'PŁACZEK GRZEGORZ ADAM', 'SKALIK WŁODZIMIERZ', 'TUDUJ KRZYSZTOF',\n",
       "       'TUMANOWICZ WITOLD', 'TYSZKA STANISŁAW', 'WAWER MICHAŁ',\n",
       "       'WIPLER PRZEMYSŁAW', 'ZAPAŁOWSKI ANDRZEJ TOMASZ',\n",
       "       'BOSAK KARINA ANNA', 'MULAWA KRZYSZTOF', 'WILK RYSZARD',\n",
       "       'JAKUBIAK MAREK', 'KUKIZ PAWEŁ', 'SACHAJKO JAROSŁAW'], dtype=object)"
      ]
     },
     "execution_count": 72,
     "metadata": {},
     "output_type": "execute_result"
    }
   ],
   "source": [
    "df['NazwiskoImie'].unique()"
   ]
  },
  {
   "cell_type": "code",
   "execution_count": 60,
   "id": "eab35168",
   "metadata": {},
   "outputs": [
    {
     "data": {
      "text/html": [
       "<div>\n",
       "<style scoped>\n",
       "    .dataframe tbody tr th:only-of-type {\n",
       "        vertical-align: middle;\n",
       "    }\n",
       "\n",
       "    .dataframe tbody tr th {\n",
       "        vertical-align: top;\n",
       "    }\n",
       "\n",
       "    .dataframe thead th {\n",
       "        text-align: right;\n",
       "    }\n",
       "</style>\n",
       "<table border=\"1\" class=\"dataframe\">\n",
       "  <thead>\n",
       "    <tr style=\"text-align: right;\">\n",
       "      <th></th>\n",
       "      <th>kadencja</th>\n",
       "      <th>posiedzenie</th>\n",
       "      <th>numer</th>\n",
       "      <th>data_godzina</th>\n",
       "      <th>NazwiskoImie</th>\n",
       "      <th>Glos</th>\n",
       "      <th>Klub</th>\n",
       "      <th>vote_id</th>\n",
       "    </tr>\n",
       "  </thead>\n",
       "  <tbody>\n",
       "    <tr>\n",
       "      <th>99857</th>\n",
       "      <td>10</td>\n",
       "      <td>1</td>\n",
       "      <td>1</td>\n",
       "      <td>2023-11-13 15:17:22</td>\n",
       "      <td>k</td>\n",
       "      <td>ag</td>\n",
       "      <td>KO</td>\n",
       "      <td>10001001</td>\n",
       "    </tr>\n",
       "    <tr>\n",
       "      <th>105795</th>\n",
       "      <td>10</td>\n",
       "      <td>2</td>\n",
       "      <td>11</td>\n",
       "      <td>2024-01-16 19:40:02</td>\n",
       "      <td>Ki</td>\n",
       "      <td>ag</td>\n",
       "      <td>KO</td>\n",
       "      <td>10002011</td>\n",
       "    </tr>\n",
       "  </tbody>\n",
       "</table>\n",
       "</div>"
      ],
      "text/plain": [
       "        kadencja  posiedzenie  numer        data_godzina NazwiskoImie Glos  \\\n",
       "99857         10            1      1 2023-11-13 15:17:22            k   ag   \n",
       "105795        10            2     11 2024-01-16 19:40:02           Ki   ag   \n",
       "\n",
       "       Klub   vote_id  \n",
       "99857    KO  10001001  \n",
       "105795   KO  10002011  "
      ]
     },
     "execution_count": 60,
     "metadata": {},
     "output_type": "execute_result"
    }
   ],
   "source": [
    "df[df['Glos'] == 'ag']"
   ]
  },
  {
   "cell_type": "code",
   "execution_count": 59,
   "id": "926ec281",
   "metadata": {},
   "outputs": [],
   "source": [
    "df = df.sort_values('vote_id')\n",
    "df.to_csv(f'scraped_data/kadencja_{k}.csv', index=False)"
   ]
  },
  {
   "cell_type": "code",
   "execution_count": null,
   "id": "bf2586f5",
   "metadata": {},
   "outputs": [],
   "source": []
  }
 ],
 "metadata": {
  "kernelspec": {
   "display_name": "Python 3",
   "language": "python",
   "name": "python3"
  },
  "language_info": {
   "codemirror_mode": {
    "name": "ipython",
    "version": 3
   },
   "file_extension": ".py",
   "mimetype": "text/x-python",
   "name": "python",
   "nbconvert_exporter": "python",
   "pygments_lexer": "ipython3",
   "version": "3.9.5"
  }
 },
 "nbformat": 4,
 "nbformat_minor": 5
}
