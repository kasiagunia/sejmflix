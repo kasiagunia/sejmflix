{
 "cells": [
  {
   "cell_type": "code",
   "execution_count": 6,
   "id": "5fd54292",
   "metadata": {},
   "outputs": [],
   "source": [
    "import pandas\n",
    "import numpy as np\n",
    "import matplotlib.pyplot as plt\n",
    "import seaborn as sns\n",
    "import pandas as pd\n",
    "import itertools"
   ]
  },
  {
   "cell_type": "code",
   "execution_count": 7,
   "id": "1cab9edf",
   "metadata": {},
   "outputs": [],
   "source": [
    "sns.set_style(\"whitegrid\")\n",
    "plt.rc('text', usetex=True)\n",
    "plt.rc('font', family='serif')"
   ]
  },
  {
   "cell_type": "code",
   "execution_count": 8,
   "id": "0bf0bb78",
   "metadata": {},
   "outputs": [],
   "source": [
    "k = '3'\n",
    "file_path = f\"dQ/dQ_{k}.csv\""
   ]
  },
  {
   "cell_type": "code",
   "execution_count": 9,
   "id": "43c7c395",
   "metadata": {},
   "outputs": [],
   "source": [
    "df = pd.read_csv(file_path) "
   ]
  },
  {
   "cell_type": "code",
   "execution_count": 10,
   "id": "4e91eda2",
   "metadata": {},
   "outputs": [
    {
     "data": {
      "text/html": [
       "<div>\n",
       "<style scoped>\n",
       "    .dataframe tbody tr th:only-of-type {\n",
       "        vertical-align: middle;\n",
       "    }\n",
       "\n",
       "    .dataframe tbody tr th {\n",
       "        vertical-align: top;\n",
       "    }\n",
       "\n",
       "    .dataframe thead th {\n",
       "        text-align: right;\n",
       "    }\n",
       "</style>\n",
       "<table border=\"1\" class=\"dataframe\">\n",
       "  <thead>\n",
       "    <tr style=\"text-align: right;\">\n",
       "      <th></th>\n",
       "      <th>node_id</th>\n",
       "      <th>party</th>\n",
       "      <th>community</th>\n",
       "      <th>min_dQ</th>\n",
       "      <th>max_dQ</th>\n",
       "    </tr>\n",
       "  </thead>\n",
       "  <tbody>\n",
       "    <tr>\n",
       "      <th>0</th>\n",
       "      <td>0</td>\n",
       "      <td>AWS</td>\n",
       "      <td>0</td>\n",
       "      <td>5.203942</td>\n",
       "      <td>5.203942</td>\n",
       "    </tr>\n",
       "    <tr>\n",
       "      <th>1</th>\n",
       "      <td>1</td>\n",
       "      <td>KPN-OP</td>\n",
       "      <td>0</td>\n",
       "      <td>3.667501</td>\n",
       "      <td>3.667501</td>\n",
       "    </tr>\n",
       "    <tr>\n",
       "      <th>2</th>\n",
       "      <td>4</td>\n",
       "      <td>AWS</td>\n",
       "      <td>0</td>\n",
       "      <td>6.667857</td>\n",
       "      <td>6.667857</td>\n",
       "    </tr>\n",
       "    <tr>\n",
       "      <th>3</th>\n",
       "      <td>5</td>\n",
       "      <td>AWS</td>\n",
       "      <td>0</td>\n",
       "      <td>6.639529</td>\n",
       "      <td>6.639529</td>\n",
       "    </tr>\n",
       "    <tr>\n",
       "      <th>4</th>\n",
       "      <td>6</td>\n",
       "      <td>SKL</td>\n",
       "      <td>0</td>\n",
       "      <td>5.637174</td>\n",
       "      <td>5.637174</td>\n",
       "    </tr>\n",
       "    <tr>\n",
       "      <th>...</th>\n",
       "      <td>...</td>\n",
       "      <td>...</td>\n",
       "      <td>...</td>\n",
       "      <td>...</td>\n",
       "      <td>...</td>\n",
       "    </tr>\n",
       "    <tr>\n",
       "      <th>455</th>\n",
       "      <td>449</td>\n",
       "      <td>SLD</td>\n",
       "      <td>1</td>\n",
       "      <td>5.612366</td>\n",
       "      <td>5.612366</td>\n",
       "    </tr>\n",
       "    <tr>\n",
       "      <th>456</th>\n",
       "      <td>450</td>\n",
       "      <td>SLD</td>\n",
       "      <td>1</td>\n",
       "      <td>7.756188</td>\n",
       "      <td>7.756188</td>\n",
       "    </tr>\n",
       "    <tr>\n",
       "      <th>457</th>\n",
       "      <td>454</td>\n",
       "      <td>PSL</td>\n",
       "      <td>1</td>\n",
       "      <td>2.206047</td>\n",
       "      <td>2.206047</td>\n",
       "    </tr>\n",
       "    <tr>\n",
       "      <th>458</th>\n",
       "      <td>456</td>\n",
       "      <td>SLD</td>\n",
       "      <td>1</td>\n",
       "      <td>4.987781</td>\n",
       "      <td>4.987781</td>\n",
       "    </tr>\n",
       "    <tr>\n",
       "      <th>459</th>\n",
       "      <td>457</td>\n",
       "      <td>PSL</td>\n",
       "      <td>1</td>\n",
       "      <td>3.972879</td>\n",
       "      <td>3.972879</td>\n",
       "    </tr>\n",
       "  </tbody>\n",
       "</table>\n",
       "<p>460 rows × 5 columns</p>\n",
       "</div>"
      ],
      "text/plain": [
       "     node_id   party  community    min_dQ    max_dQ\n",
       "0          0     AWS          0  5.203942  5.203942\n",
       "1          1  KPN-OP          0  3.667501  3.667501\n",
       "2          4     AWS          0  6.667857  6.667857\n",
       "3          5     AWS          0  6.639529  6.639529\n",
       "4          6     SKL          0  5.637174  5.637174\n",
       "..       ...     ...        ...       ...       ...\n",
       "455      449     SLD          1  5.612366  5.612366\n",
       "456      450     SLD          1  7.756188  7.756188\n",
       "457      454     PSL          1  2.206047  2.206047\n",
       "458      456     SLD          1  4.987781  4.987781\n",
       "459      457     PSL          1  3.972879  3.972879\n",
       "\n",
       "[460 rows x 5 columns]"
      ]
     },
     "execution_count": 10,
     "metadata": {},
     "output_type": "execute_result"
    }
   ],
   "source": [
    "df"
   ]
  },
  {
   "cell_type": "code",
   "execution_count": 21,
   "id": "992982e1",
   "metadata": {},
   "outputs": [],
   "source": [
    "gov = ['AWS', 'UW']\n",
    "df['if_gov'] = df['party'].isin(gov)"
   ]
  },
  {
   "cell_type": "code",
   "execution_count": 27,
   "id": "5a3705e5",
   "metadata": {},
   "outputs": [],
   "source": [
    "def polarization(df, col='max_dQ'):\n",
    "    \"\"\"polarization = |median(dQ(gov)| + |median(dQ(opp)|\"\"\"\n",
    "    return df.groupby('if_gov', as_index=False)[col].median()[col].sum()  # returns value"
   ]
  },
  {
   "cell_type": "code",
   "execution_count": 28,
   "id": "4c426c5c",
   "metadata": {},
   "outputs": [
    {
     "data": {
      "text/plain": [
       "13.043259929107485"
      ]
     },
     "execution_count": 28,
     "metadata": {},
     "output_type": "execute_result"
    }
   ],
   "source": [
    "polarization(df)"
   ]
  },
  {
   "cell_type": "code",
   "execution_count": 29,
   "id": "98fdf8e5",
   "metadata": {},
   "outputs": [],
   "source": [
    "def Q1(x):\n",
    "    return x.quantile(0.25)\n",
    "\n",
    "def Q3(x):\n",
    "    return x.quantile(0.75)\n",
    "\n",
    "def cohesion(df, col='max_dQ'):\n",
    "    coh_df = df.groupby('if_gov', as_index=False)[col].agg([Q1, Q3])\n",
    "    coh_df['IQR'] = coh_df['Q3'] - coh_df['Q1']\n",
    "    coh_df['cohesion'] = 1 / coh_df['IQR']\n",
    "    return coh_df  # returns df"
   ]
  },
  {
   "cell_type": "code",
   "execution_count": 30,
   "id": "1a9c4a46",
   "metadata": {},
   "outputs": [
    {
     "data": {
      "text/html": [
       "<div>\n",
       "<style scoped>\n",
       "    .dataframe tbody tr th:only-of-type {\n",
       "        vertical-align: middle;\n",
       "    }\n",
       "\n",
       "    .dataframe tbody tr th {\n",
       "        vertical-align: top;\n",
       "    }\n",
       "\n",
       "    .dataframe thead th {\n",
       "        text-align: right;\n",
       "    }\n",
       "</style>\n",
       "<table border=\"1\" class=\"dataframe\">\n",
       "  <thead>\n",
       "    <tr style=\"text-align: right;\">\n",
       "      <th></th>\n",
       "      <th>if_gov</th>\n",
       "      <th>Q1</th>\n",
       "      <th>Q3</th>\n",
       "      <th>IQR</th>\n",
       "    </tr>\n",
       "  </thead>\n",
       "  <tbody>\n",
       "    <tr>\n",
       "      <th>0</th>\n",
       "      <td>False</td>\n",
       "      <td>4.397862</td>\n",
       "      <td>8.079755</td>\n",
       "      <td>3.681892</td>\n",
       "    </tr>\n",
       "    <tr>\n",
       "      <th>1</th>\n",
       "      <td>True</td>\n",
       "      <td>3.872119</td>\n",
       "      <td>6.644950</td>\n",
       "      <td>2.772831</td>\n",
       "    </tr>\n",
       "  </tbody>\n",
       "</table>\n",
       "</div>"
      ],
      "text/plain": [
       "   if_gov        Q1        Q3       IQR\n",
       "0   False  4.397862  8.079755  3.681892\n",
       "1    True  3.872119  6.644950  2.772831"
      ]
     },
     "execution_count": 30,
     "metadata": {},
     "output_type": "execute_result"
    }
   ],
   "source": [
    "cohesion(df)"
   ]
  },
  {
   "cell_type": "markdown",
   "id": "b30135ee",
   "metadata": {},
   "source": [
    "# Safety zone"
   ]
  },
  {
   "cell_type": "code",
   "execution_count": 91,
   "id": "349921be",
   "metadata": {},
   "outputs": [],
   "source": [
    "def safety_zone_dQ(df, col, stab_min=230):\n",
    "    a = df[df['if_gov']][col]\n",
    "    a = np.sort(a)\n",
    "    safe_zone = a[:(len(a) - stab_min)][-1] if a.size > stab_min else 0\n",
    "    return safe_zone"
   ]
  },
  {
   "cell_type": "code",
   "execution_count": 96,
   "id": "36f87f91",
   "metadata": {},
   "outputs": [],
   "source": [
    "safety_zone = safety_zone_dQ(df, 'max_dQ', stab_min=130)"
   ]
  },
  {
   "cell_type": "code",
   "execution_count": 97,
   "id": "8b2a5a2e",
   "metadata": {},
   "outputs": [
    {
     "data": {
      "text/plain": [
       "4.327600879898141"
      ]
     },
     "execution_count": 97,
     "metadata": {},
     "output_type": "execute_result"
    }
   ],
   "source": [
    "safety_zone"
   ]
  },
  {
   "cell_type": "code",
   "execution_count": 101,
   "id": "43dc33a6",
   "metadata": {},
   "outputs": [
    {
     "data": {
      "text/plain": [
       "Text(0, 0.5, 'Noumber of deputies')"
      ]
     },
     "execution_count": 101,
     "metadata": {},
     "output_type": "execute_result"
    },
    {
     "data": {
      "image/png": "[encoded data removed]",
      "text/plain": [
       "<Figure size 432x288 with 1 Axes>"
      ]
     },
     "metadata": {
      "needs_background": "light"
     },
     "output_type": "display_data"
    }
   ],
   "source": [
    "y_max = 100\n",
    "plt.fill_betweenx([0, y_max], safe_zone, alpha=0.2, color='g')\n",
    "sns.histplot(data=df[df['if_gov']], x='max_dQ')\n",
    "plt.xlabel(r'$|dQ| \\times 10^4$')\n",
    "plt.ylabel('Number of deputies')"
   ]
  },
  {
   "cell_type": "code",
   "execution_count": 103,
   "id": "1a343ee0",
   "metadata": {},
   "outputs": [
    {
     "data": {
      "text/plain": [
       "Text(0, 0.5, 'Number of deputies')"
      ]
     },
     "execution_count": 103,
     "metadata": {},
     "output_type": "execute_result"
    },
    {
     "data": {
      "image/png": "[encoded data removed]",
      "text/plain": [
       "<Figure size 432x288 with 1 Axes>"
      ]
     },
     "metadata": {
      "needs_background": "light"
     },
     "output_type": "display_data"
    }
   ],
   "source": [
    "sns.histplot(data=df[df['if_gov']], x='max_dQ')\n",
    "plt.fill_betweenx([0, y_max], safe_zone, alpha=0.2, color='g')\n",
    "plt.xlabel(r'$|dQ| \\times 10^4$')\n",
    "plt.ylabel('Number of deputies')"
   ]
  },
  {
   "cell_type": "code",
   "execution_count": 102,
   "id": "2b235dfc",
   "metadata": {},
   "outputs": [
    {
     "data": {
      "text/plain": [
       "Text(0, 0.5, 'Proportion of deputies')"
      ]
     },
     "execution_count": 102,
     "metadata": {},
     "output_type": "execute_result"
    },
    {
     "data": {
      "image/png": "[encoded data removed]",
      "text/plain": [
       "<Figure size 432x288 with 1 Axes>"
      ]
     },
     "metadata": {
      "needs_background": "light"
     },
     "output_type": "display_data"
    }
   ],
   "source": [
    "sns.ecdfplot(data=df[df['if_gov']], x='max_dQ')\n",
    "plt.fill_betweenx([0, 1], safe_zone, alpha=0.2, color='g')\n",
    "\n",
    "plt.xlabel(r'$|dQ| \\times 10^4$')\n",
    "plt.ylabel('Proportion of deputies')"
   ]
  },
  {
   "cell_type": "markdown",
   "id": "7a1e2aa5",
   "metadata": {},
   "source": [
    "# Split up of of goverment coalittion"
   ]
  },
  {
   "cell_type": "code",
   "execution_count": 118,
   "id": "fb57b26f",
   "metadata": {},
   "outputs": [
    {
     "data": {
      "text/plain": [
       "0.00    0.524021\n",
       "0.01    2.390527\n",
       "0.02    2.480364\n",
       "0.03    2.548195\n",
       "0.04    2.714645\n",
       "          ...   \n",
       "0.96    7.002247\n",
       "0.97    7.013290\n",
       "0.98    7.031012\n",
       "0.99    7.046108\n",
       "1.00    7.079286\n",
       "Name: max_dQ, Length: 101, dtype: float64"
      ]
     },
     "execution_count": 118,
     "metadata": {},
     "output_type": "execute_result"
    }
   ],
   "source": [
    "s = df[df['if_gov']]['max_dQ']\n",
    "s.quantile(np.linspace(0, 1, 101))"
   ]
  },
  {
   "cell_type": "code",
   "execution_count": 120,
   "id": "289a1355",
   "metadata": {},
   "outputs": [
    {
     "data": {
      "text/plain": [
       "<matplotlib.collections.PathCollection at 0x14d54f821c0>"
      ]
     },
     "execution_count": 120,
     "metadata": {},
     "output_type": "execute_result"
    },
    {
     "data": {
      "image/png": "[encoded data removed]",
      "text/plain": [
       "<Figure size 432x288 with 1 Axes>"
      ]
     },
     "metadata": {
      "needs_background": "light"
     },
     "output_type": "display_data"
    }
   ],
   "source": [
    "plt.scatter(np.linspace(0, 1, 101), s.quantile(np.linspace(0, 1, 101)))"
   ]
  },
  {
   "cell_type": "code",
   "execution_count": 122,
   "id": "e55cd9cd",
   "metadata": {},
   "outputs": [
    {
     "data": {
      "text/plain": [
       "<matplotlib.collections.PathCollection at 0x14d5506afa0>"
      ]
     },
     "execution_count": 122,
     "metadata": {},
     "output_type": "execute_result"
    },
    {
     "data": {
      "image/png": "[encoded data removed]",
      "text/plain": [
       "<Figure size 432x288 with 1 Axes>"
      ]
     },
     "metadata": {
      "needs_background": "light"
     },
     "output_type": "display_data"
    }
   ],
   "source": [
    "plt.scatter(s.quantile(np.linspace(0, 1, 51)), np.linspace(0, 1, 51))"
   ]
  },
  {
   "cell_type": "code",
   "execution_count": null,
   "id": "f1fcdc26",
   "metadata": {},
   "outputs": [],
   "source": []
  }
 ],
 "metadata": {
  "kernelspec": {
   "display_name": "Python 3",
   "language": "python",
   "name": "python3"
  },
  "language_info": {
   "codemirror_mode": {
    "name": "ipython",
    "version": 3
   },
   "file_extension": ".py",
   "mimetype": "text/x-python",
   "name": "python",
   "nbconvert_exporter": "python",
   "pygments_lexer": "ipython3",
   "version": "3.9.5"
  }
 },
 "nbformat": 4,
 "nbformat_minor": 5
}
